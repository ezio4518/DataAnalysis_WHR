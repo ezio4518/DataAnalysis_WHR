{
 "cells": [
  {
   "cell_type": "code",
   "execution_count": 29,
   "metadata": {},
   "outputs": [
    {
     "name": "stdout",
     "output_type": "stream",
     "text": [
      "Requirement already satisfied: pandas in c:\\users\\mdguf\\appdata\\local\\programs\\python\\python311\\lib\\site-packages (2.2.3)\n",
      "Requirement already satisfied: plotly in c:\\users\\mdguf\\appdata\\local\\programs\\python\\python311\\lib\\site-packages (6.0.1)\n",
      "Requirement already satisfied: numpy in c:\\users\\mdguf\\appdata\\local\\programs\\python\\python311\\lib\\site-packages (2.1.3)\n",
      "Requirement already satisfied: scikit-learn in c:\\users\\mdguf\\appdata\\local\\programs\\python\\python311\\lib\\site-packages (1.6.1)\n",
      "Requirement already satisfied: python-dateutil>=2.8.2 in c:\\users\\mdguf\\appdata\\roaming\\python\\python311\\site-packages (from pandas) (2.9.0.post0)\n",
      "Requirement already satisfied: pytz>=2020.1 in c:\\users\\mdguf\\appdata\\local\\programs\\python\\python311\\lib\\site-packages (from pandas) (2025.1)\n",
      "Requirement already satisfied: tzdata>=2022.7 in c:\\users\\mdguf\\appdata\\local\\programs\\python\\python311\\lib\\site-packages (from pandas) (2025.1)\n",
      "Requirement already satisfied: narwhals>=1.15.1 in c:\\users\\mdguf\\appdata\\local\\programs\\python\\python311\\lib\\site-packages (from plotly) (1.35.0)\n",
      "Requirement already satisfied: packaging in c:\\users\\mdguf\\appdata\\roaming\\python\\python311\\site-packages (from plotly) (24.2)\n",
      "Requirement already satisfied: scipy>=1.6.0 in c:\\users\\mdguf\\appdata\\local\\programs\\python\\python311\\lib\\site-packages (from scikit-learn) (1.15.2)\n",
      "Requirement already satisfied: joblib>=1.2.0 in c:\\users\\mdguf\\appdata\\local\\programs\\python\\python311\\lib\\site-packages (from scikit-learn) (1.4.2)\n",
      "Requirement already satisfied: threadpoolctl>=3.1.0 in c:\\users\\mdguf\\appdata\\local\\programs\\python\\python311\\lib\\site-packages (from scikit-learn) (3.6.0)\n",
      "Requirement already satisfied: six>=1.5 in c:\\users\\mdguf\\appdata\\roaming\\python\\python311\\site-packages (from python-dateutil>=2.8.2->pandas) (1.17.0)\n",
      "Note: you may need to restart the kernel to use updated packages.\n"
     ]
    },
    {
     "name": "stderr",
     "output_type": "stream",
     "text": [
      "\n",
      "[notice] A new release of pip available: 22.3 -> 25.0.1\n",
      "[notice] To update, run: python.exe -m pip install --upgrade pip\n"
     ]
    }
   ],
   "source": [
    "pip install pandas plotly numpy scikit-learn"
   ]
  },
  {
   "cell_type": "code",
   "execution_count": 31,
   "metadata": {},
   "outputs": [
    {
     "name": "stdout",
     "output_type": "stream",
     "text": [
      "Requirement already satisfied: nbformat in c:\\users\\mdguf\\appdata\\local\\programs\\python\\python311\\lib\\site-packages (5.10.4)\n",
      "Requirement already satisfied: statsmodels in c:\\users\\mdguf\\appdata\\local\\programs\\python\\python311\\lib\\site-packages (0.14.4)\n",
      "Requirement already satisfied: fastjsonschema>=2.15 in c:\\users\\mdguf\\appdata\\local\\programs\\python\\python311\\lib\\site-packages (from nbformat) (2.21.1)\n",
      "Requirement already satisfied: jsonschema>=2.6 in c:\\users\\mdguf\\appdata\\local\\programs\\python\\python311\\lib\\site-packages (from nbformat) (4.23.0)\n",
      "Requirement already satisfied: jupyter-core!=5.0.*,>=4.12 in c:\\users\\mdguf\\appdata\\roaming\\python\\python311\\site-packages (from nbformat) (5.7.2)\n",
      "Requirement already satisfied: traitlets>=5.1 in c:\\users\\mdguf\\appdata\\roaming\\python\\python311\\site-packages (from nbformat) (5.14.3)\n",
      "Requirement already satisfied: numpy<3,>=1.22.3 in c:\\users\\mdguf\\appdata\\local\\programs\\python\\python311\\lib\\site-packages (from statsmodels) (2.1.3)\n",
      "Requirement already satisfied: scipy!=1.9.2,>=1.8 in c:\\users\\mdguf\\appdata\\local\\programs\\python\\python311\\lib\\site-packages (from statsmodels) (1.15.2)\n",
      "Requirement already satisfied: pandas!=2.1.0,>=1.4 in c:\\users\\mdguf\\appdata\\local\\programs\\python\\python311\\lib\\site-packages (from statsmodels) (2.2.3)\n",
      "Requirement already satisfied: patsy>=0.5.6 in c:\\users\\mdguf\\appdata\\local\\programs\\python\\python311\\lib\\site-packages (from statsmodels) (1.0.1)\n",
      "Requirement already satisfied: packaging>=21.3 in c:\\users\\mdguf\\appdata\\roaming\\python\\python311\\site-packages (from statsmodels) (24.2)\n",
      "Requirement already satisfied: attrs>=22.2.0 in c:\\users\\mdguf\\appdata\\local\\programs\\python\\python311\\lib\\site-packages (from jsonschema>=2.6->nbformat) (25.3.0)\n",
      "Requirement already satisfied: jsonschema-specifications>=2023.03.6 in c:\\users\\mdguf\\appdata\\local\\programs\\python\\python311\\lib\\site-packages (from jsonschema>=2.6->nbformat) (2024.10.1)\n",
      "Requirement already satisfied: referencing>=0.28.4 in c:\\users\\mdguf\\appdata\\local\\programs\\python\\python311\\lib\\site-packages (from jsonschema>=2.6->nbformat) (0.36.2)\n",
      "Requirement already satisfied: rpds-py>=0.7.1 in c:\\users\\mdguf\\appdata\\local\\programs\\python\\python311\\lib\\site-packages (from jsonschema>=2.6->nbformat) (0.24.0)\n",
      "Requirement already satisfied: platformdirs>=2.5 in c:\\users\\mdguf\\appdata\\roaming\\python\\python311\\site-packages (from jupyter-core!=5.0.*,>=4.12->nbformat) (4.3.6)\n",
      "Requirement already satisfied: pywin32>=300 in c:\\users\\mdguf\\appdata\\roaming\\python\\python311\\site-packages (from jupyter-core!=5.0.*,>=4.12->nbformat) (310)\n",
      "Requirement already satisfied: python-dateutil>=2.8.2 in c:\\users\\mdguf\\appdata\\roaming\\python\\python311\\site-packages (from pandas!=2.1.0,>=1.4->statsmodels) (2.9.0.post0)\n",
      "Requirement already satisfied: pytz>=2020.1 in c:\\users\\mdguf\\appdata\\local\\programs\\python\\python311\\lib\\site-packages (from pandas!=2.1.0,>=1.4->statsmodels) (2025.1)\n",
      "Requirement already satisfied: tzdata>=2022.7 in c:\\users\\mdguf\\appdata\\local\\programs\\python\\python311\\lib\\site-packages (from pandas!=2.1.0,>=1.4->statsmodels) (2025.1)\n",
      "Requirement already satisfied: six>=1.5 in c:\\users\\mdguf\\appdata\\roaming\\python\\python311\\site-packages (from python-dateutil>=2.8.2->pandas!=2.1.0,>=1.4->statsmodels) (1.17.0)\n",
      "Requirement already satisfied: typing-extensions>=4.4.0 in c:\\users\\mdguf\\appdata\\roaming\\python\\python311\\site-packages (from referencing>=0.28.4->jsonschema>=2.6->nbformat) (4.12.2)\n",
      "Note: you may need to restart the kernel to use updated packages.\n"
     ]
    },
    {
     "name": "stderr",
     "output_type": "stream",
     "text": [
      "\n",
      "[notice] A new release of pip available: 22.3 -> 25.0.1\n",
      "[notice] To update, run: python.exe -m pip install --upgrade pip\n"
     ]
    }
   ],
   "source": [
    "pip install nbformat statsmodels"
   ]
  },
  {
   "cell_type": "code",
   "execution_count": 32,
   "metadata": {},
   "outputs": [],
   "source": [
    "import pandas as pd\n",
    "import plotly.graph_objects as go\n",
    "import plotly.express as px\n",
    "from plotly.subplots import make_subplots\n",
    "import nbformat\n"
   ]
  },
  {
   "cell_type": "markdown",
   "metadata": {},
   "source": [
    "## Import Data"
   ]
  },
  {
   "cell_type": "code",
   "execution_count": 33,
   "metadata": {},
   "outputs": [],
   "source": [
    "df_2015 = pd.read_csv(\"data/2015.csv\")\n",
    "df_2016 = pd.read_csv(\"data/2016.csv\")\n",
    "df_2017 = pd.read_csv(\"data/2017.csv\")\n",
    "df_2018 = pd.read_csv(\"data/2018.csv\")\n",
    "df_2019 = pd.read_csv(\"data/2019.csv\")"
   ]
  },
  {
   "cell_type": "markdown",
   "metadata": {},
   "source": [
    "## Preprocess Data"
   ]
  },
  {
   "cell_type": "code",
   "execution_count": 34,
   "metadata": {},
   "outputs": [],
   "source": [
    "## Lowercase all country names\n",
    "df_2015.Country = df_2015.Country.str.lower()\n",
    "df_2016.Country = df_2016.Country.str.lower()\n",
    "df_2017.Country = df_2017.Country.str.lower()\n",
    "df_2018['Country or region'] = df_2018['Country or region'].str.lower()\n",
    "df_2019['Country or region'] = df_2019['Country or region'].str.lower()"
   ]
  },
  {
   "cell_type": "code",
   "execution_count": 35,
   "metadata": {},
   "outputs": [],
   "source": [
    "df_2018.dropna(inplace=True)"
   ]
  },
  {
   "cell_type": "code",
   "execution_count": 36,
   "metadata": {},
   "outputs": [
    {
     "name": "stdout",
     "output_type": "stream",
     "text": [
      "140\n"
     ]
    }
   ],
   "source": [
    "countries = {}\n",
    "li = list(df_2015['Country']) + list(df_2016['Country']) + list(df_2017['Country']) + list(df_2018['Country or region']) + list(df_2019['Country or region'])\n",
    "\n",
    "for country in li:\n",
    "    if country not in countries:\n",
    "        countries[country] = 1\n",
    "    else:\n",
    "        countries[country] += 1\n",
    "\n",
    "country_list = [x for x in countries.keys() if countries[x] == 5]\n",
    "rejects = [x for x in countries.keys() if countries[x] < 5]\n",
    "print(len(country_list))\n"
   ]
  },
  {
   "cell_type": "code",
   "execution_count": 37,
   "metadata": {},
   "outputs": [
    {
     "name": "stdout",
     "output_type": "stream",
     "text": [
      "Angola (4)\n",
      "Belize (3)\n",
      "Central african republic (4)\n",
      "Comoros (3)\n",
      "Djibouti (1)\n",
      "Gambia (1)\n",
      "Hong kong (4)\n",
      "Hong kong s.a.r., china (1)\n",
      "Laos (4)\n",
      "Lesotho (4)\n",
      "Macedonia (4)\n",
      "Mozambique (4)\n",
      "Namibia (4)\n",
      "North cyprus (3)\n",
      "North macedonia (1)\n",
      "Northern cyprus (2)\n",
      "Oman (1)\n",
      "Puerto rico (1)\n",
      "Somalia (4)\n",
      "Somaliland region (2)\n",
      "South sudan (4)\n",
      "Sudan (4)\n",
      "Suriname (2)\n",
      "Swaziland (2)\n",
      "Taiwan (4)\n",
      "Taiwan province of china (1)\n",
      "Trinidad & tobago (2)\n",
      "Trinidad and tobago (3)\n",
      "United arab emirates (4)\n"
     ]
    }
   ],
   "source": [
    "## Print the Rejects\n",
    "rejects.sort()\n",
    "for country in rejects:\n",
    "    print(f\"{country.capitalize()} ({countries[country]})\")"
   ]
  },
  {
   "cell_type": "code",
   "execution_count": 38,
   "metadata": {},
   "outputs": [],
   "source": [
    "## Remove countries that are not present in all years\n",
    "df_2015.drop(['Standard Error', 'Dystopia Residual', 'Region'], axis=1, inplace=True)\n",
    "df_2015.drop(df_2015[df_2015['Country'].isin(rejects)].index, inplace=True)\n",
    "df_2016.drop(['Lower Confidence Interval', 'Upper Confidence Interval', 'Dystopia Residual', 'Region'], axis=1, inplace=True)\n",
    "df_2016.drop(df_2016[df_2016['Country'].isin(rejects)].index, inplace=True)\n",
    "df_2017.drop(['Whisker.high', 'Whisker.low', 'Dystopia.Residual'], axis=1, inplace=True)\n",
    "df_2017.drop(df_2017[df_2017['Country'].isin(rejects)].index, inplace=True)\n",
    "df_2018.drop(df_2018[df_2018['Country or region'].isin(rejects)].index, inplace=True)\n",
    "df_2019.drop(df_2019[df_2019['Country or region'].isin(rejects)].index, inplace=True)"
   ]
  },
  {
   "cell_type": "code",
   "execution_count": 39,
   "metadata": {},
   "outputs": [],
   "source": [
    "## ReArrange Columns\n",
    "df_2015 = df_2015[['Country', 'Happiness Rank', 'Happiness Score', 'Economy (GDP per Capita)', 'Family', 'Health (Life Expectancy)', 'Freedom', 'Trust (Government Corruption)', 'Generosity']]\n",
    "df_2016 = df_2016[['Country', 'Happiness Rank', 'Happiness Score', 'Economy (GDP per Capita)', 'Family', 'Health (Life Expectancy)', 'Freedom', 'Trust (Government Corruption)', 'Generosity']]\n",
    "df_2017 = df_2017[['Country', 'Happiness.Rank', 'Happiness.Score', 'Economy..GDP.per.Capita.', 'Family', 'Health..Life.Expectancy.', 'Freedom', 'Trust..Government.Corruption.', 'Generosity']]\n",
    "df_2018 = df_2018[['Country or region', 'Overall rank', 'Score', 'GDP per capita', 'Social support', 'Healthy life expectancy', 'Freedom to make life choices', 'Perceptions of corruption', 'Generosity']]\n",
    "df_2019 = df_2019[['Country or region', 'Overall rank', 'Score', 'GDP per capita', 'Social support', 'Healthy life expectancy', 'Freedom to make life choices', 'Perceptions of corruption', 'Generosity']]\n",
    "\n",
    "\n",
    "## Rename Columns\n",
    "for df in [df_2015, df_2016, df_2017, df_2018, df_2019]:\n",
    "    df.columns = ['Country', 'Rank', 'Score', 'GDPPC', 'Family', 'Health', 'Freedom', 'Trust', 'Generosity']\n",
    "\n",
    "## Reset Index\n",
    "for df in [df_2015, df_2016, df_2017, df_2018, df_2019]:\n",
    "    df.reset_index(drop=True, inplace=True)"
   ]
  },
  {
   "cell_type": "code",
   "execution_count": 40,
   "metadata": {},
   "outputs": [
    {
     "data": {
      "text/html": [
       "<div>\n",
       "<style scoped>\n",
       "    .dataframe tbody tr th:only-of-type {\n",
       "        vertical-align: middle;\n",
       "    }\n",
       "\n",
       "    .dataframe tbody tr th {\n",
       "        vertical-align: top;\n",
       "    }\n",
       "\n",
       "    .dataframe thead th {\n",
       "        text-align: right;\n",
       "    }\n",
       "</style>\n",
       "<table border=\"1\" class=\"dataframe\">\n",
       "  <thead>\n",
       "    <tr style=\"text-align: right;\">\n",
       "      <th></th>\n",
       "      <th>Country</th>\n",
       "      <th>Rank</th>\n",
       "      <th>Score</th>\n",
       "      <th>GDPPC</th>\n",
       "      <th>Family</th>\n",
       "      <th>Health</th>\n",
       "      <th>Freedom</th>\n",
       "      <th>Trust</th>\n",
       "      <th>Generosity</th>\n",
       "    </tr>\n",
       "  </thead>\n",
       "  <tbody>\n",
       "    <tr>\n",
       "      <th>0</th>\n",
       "      <td>switzerland</td>\n",
       "      <td>1</td>\n",
       "      <td>7.587</td>\n",
       "      <td>1.39651</td>\n",
       "      <td>1.34951</td>\n",
       "      <td>0.94143</td>\n",
       "      <td>0.66557</td>\n",
       "      <td>0.41978</td>\n",
       "      <td>0.29678</td>\n",
       "    </tr>\n",
       "    <tr>\n",
       "      <th>1</th>\n",
       "      <td>iceland</td>\n",
       "      <td>2</td>\n",
       "      <td>7.561</td>\n",
       "      <td>1.30232</td>\n",
       "      <td>1.40223</td>\n",
       "      <td>0.94784</td>\n",
       "      <td>0.62877</td>\n",
       "      <td>0.14145</td>\n",
       "      <td>0.43630</td>\n",
       "    </tr>\n",
       "    <tr>\n",
       "      <th>2</th>\n",
       "      <td>denmark</td>\n",
       "      <td>3</td>\n",
       "      <td>7.527</td>\n",
       "      <td>1.32548</td>\n",
       "      <td>1.36058</td>\n",
       "      <td>0.87464</td>\n",
       "      <td>0.64938</td>\n",
       "      <td>0.48357</td>\n",
       "      <td>0.34139</td>\n",
       "    </tr>\n",
       "    <tr>\n",
       "      <th>3</th>\n",
       "      <td>norway</td>\n",
       "      <td>4</td>\n",
       "      <td>7.522</td>\n",
       "      <td>1.45900</td>\n",
       "      <td>1.33095</td>\n",
       "      <td>0.88521</td>\n",
       "      <td>0.66973</td>\n",
       "      <td>0.36503</td>\n",
       "      <td>0.34699</td>\n",
       "    </tr>\n",
       "    <tr>\n",
       "      <th>4</th>\n",
       "      <td>canada</td>\n",
       "      <td>5</td>\n",
       "      <td>7.427</td>\n",
       "      <td>1.32629</td>\n",
       "      <td>1.32261</td>\n",
       "      <td>0.90563</td>\n",
       "      <td>0.63297</td>\n",
       "      <td>0.32957</td>\n",
       "      <td>0.45811</td>\n",
       "    </tr>\n",
       "  </tbody>\n",
       "</table>\n",
       "</div>"
      ],
      "text/plain": [
       "       Country  Rank  Score    GDPPC   Family   Health  Freedom    Trust  \\\n",
       "0  switzerland     1  7.587  1.39651  1.34951  0.94143  0.66557  0.41978   \n",
       "1      iceland     2  7.561  1.30232  1.40223  0.94784  0.62877  0.14145   \n",
       "2      denmark     3  7.527  1.32548  1.36058  0.87464  0.64938  0.48357   \n",
       "3       norway     4  7.522  1.45900  1.33095  0.88521  0.66973  0.36503   \n",
       "4       canada     5  7.427  1.32629  1.32261  0.90563  0.63297  0.32957   \n",
       "\n",
       "   Generosity  \n",
       "0     0.29678  \n",
       "1     0.43630  \n",
       "2     0.34139  \n",
       "3     0.34699  \n",
       "4     0.45811  "
      ]
     },
     "execution_count": 40,
     "metadata": {},
     "output_type": "execute_result"
    }
   ],
   "source": [
    "df_2015.head()"
   ]
  },
  {
   "cell_type": "code",
   "execution_count": 41,
   "metadata": {},
   "outputs": [
    {
     "data": {
      "text/html": [
       "<div>\n",
       "<style scoped>\n",
       "    .dataframe tbody tr th:only-of-type {\n",
       "        vertical-align: middle;\n",
       "    }\n",
       "\n",
       "    .dataframe tbody tr th {\n",
       "        vertical-align: top;\n",
       "    }\n",
       "\n",
       "    .dataframe thead th {\n",
       "        text-align: right;\n",
       "    }\n",
       "</style>\n",
       "<table border=\"1\" class=\"dataframe\">\n",
       "  <thead>\n",
       "    <tr style=\"text-align: right;\">\n",
       "      <th></th>\n",
       "      <th>Country</th>\n",
       "      <th>Rank</th>\n",
       "      <th>Score</th>\n",
       "      <th>GDPPC</th>\n",
       "      <th>Family</th>\n",
       "      <th>Health</th>\n",
       "      <th>Freedom</th>\n",
       "      <th>Trust</th>\n",
       "      <th>Generosity</th>\n",
       "    </tr>\n",
       "  </thead>\n",
       "  <tbody>\n",
       "    <tr>\n",
       "      <th>0</th>\n",
       "      <td>denmark</td>\n",
       "      <td>1</td>\n",
       "      <td>7.526</td>\n",
       "      <td>1.44178</td>\n",
       "      <td>1.16374</td>\n",
       "      <td>0.79504</td>\n",
       "      <td>0.57941</td>\n",
       "      <td>0.44453</td>\n",
       "      <td>0.36171</td>\n",
       "    </tr>\n",
       "    <tr>\n",
       "      <th>1</th>\n",
       "      <td>switzerland</td>\n",
       "      <td>2</td>\n",
       "      <td>7.509</td>\n",
       "      <td>1.52733</td>\n",
       "      <td>1.14524</td>\n",
       "      <td>0.86303</td>\n",
       "      <td>0.58557</td>\n",
       "      <td>0.41203</td>\n",
       "      <td>0.28083</td>\n",
       "    </tr>\n",
       "    <tr>\n",
       "      <th>2</th>\n",
       "      <td>iceland</td>\n",
       "      <td>3</td>\n",
       "      <td>7.501</td>\n",
       "      <td>1.42666</td>\n",
       "      <td>1.18326</td>\n",
       "      <td>0.86733</td>\n",
       "      <td>0.56624</td>\n",
       "      <td>0.14975</td>\n",
       "      <td>0.47678</td>\n",
       "    </tr>\n",
       "    <tr>\n",
       "      <th>3</th>\n",
       "      <td>norway</td>\n",
       "      <td>4</td>\n",
       "      <td>7.498</td>\n",
       "      <td>1.57744</td>\n",
       "      <td>1.12690</td>\n",
       "      <td>0.79579</td>\n",
       "      <td>0.59609</td>\n",
       "      <td>0.35776</td>\n",
       "      <td>0.37895</td>\n",
       "    </tr>\n",
       "    <tr>\n",
       "      <th>4</th>\n",
       "      <td>finland</td>\n",
       "      <td>5</td>\n",
       "      <td>7.413</td>\n",
       "      <td>1.40598</td>\n",
       "      <td>1.13464</td>\n",
       "      <td>0.81091</td>\n",
       "      <td>0.57104</td>\n",
       "      <td>0.41004</td>\n",
       "      <td>0.25492</td>\n",
       "    </tr>\n",
       "  </tbody>\n",
       "</table>\n",
       "</div>"
      ],
      "text/plain": [
       "       Country  Rank  Score    GDPPC   Family   Health  Freedom    Trust  \\\n",
       "0      denmark     1  7.526  1.44178  1.16374  0.79504  0.57941  0.44453   \n",
       "1  switzerland     2  7.509  1.52733  1.14524  0.86303  0.58557  0.41203   \n",
       "2      iceland     3  7.501  1.42666  1.18326  0.86733  0.56624  0.14975   \n",
       "3       norway     4  7.498  1.57744  1.12690  0.79579  0.59609  0.35776   \n",
       "4      finland     5  7.413  1.40598  1.13464  0.81091  0.57104  0.41004   \n",
       "\n",
       "   Generosity  \n",
       "0     0.36171  \n",
       "1     0.28083  \n",
       "2     0.47678  \n",
       "3     0.37895  \n",
       "4     0.25492  "
      ]
     },
     "execution_count": 41,
     "metadata": {},
     "output_type": "execute_result"
    }
   ],
   "source": [
    "df_2016.head()"
   ]
  },
  {
   "cell_type": "code",
   "execution_count": 42,
   "metadata": {},
   "outputs": [
    {
     "data": {
      "text/html": [
       "<div>\n",
       "<style scoped>\n",
       "    .dataframe tbody tr th:only-of-type {\n",
       "        vertical-align: middle;\n",
       "    }\n",
       "\n",
       "    .dataframe tbody tr th {\n",
       "        vertical-align: top;\n",
       "    }\n",
       "\n",
       "    .dataframe thead th {\n",
       "        text-align: right;\n",
       "    }\n",
       "</style>\n",
       "<table border=\"1\" class=\"dataframe\">\n",
       "  <thead>\n",
       "    <tr style=\"text-align: right;\">\n",
       "      <th></th>\n",
       "      <th>Country</th>\n",
       "      <th>Rank</th>\n",
       "      <th>Score</th>\n",
       "      <th>GDPPC</th>\n",
       "      <th>Family</th>\n",
       "      <th>Health</th>\n",
       "      <th>Freedom</th>\n",
       "      <th>Trust</th>\n",
       "      <th>Generosity</th>\n",
       "    </tr>\n",
       "  </thead>\n",
       "  <tbody>\n",
       "    <tr>\n",
       "      <th>0</th>\n",
       "      <td>norway</td>\n",
       "      <td>1</td>\n",
       "      <td>7.537</td>\n",
       "      <td>1.616463</td>\n",
       "      <td>1.533524</td>\n",
       "      <td>0.796667</td>\n",
       "      <td>0.635423</td>\n",
       "      <td>0.315964</td>\n",
       "      <td>0.362012</td>\n",
       "    </tr>\n",
       "    <tr>\n",
       "      <th>1</th>\n",
       "      <td>denmark</td>\n",
       "      <td>2</td>\n",
       "      <td>7.522</td>\n",
       "      <td>1.482383</td>\n",
       "      <td>1.551122</td>\n",
       "      <td>0.792566</td>\n",
       "      <td>0.626007</td>\n",
       "      <td>0.400770</td>\n",
       "      <td>0.355280</td>\n",
       "    </tr>\n",
       "    <tr>\n",
       "      <th>2</th>\n",
       "      <td>iceland</td>\n",
       "      <td>3</td>\n",
       "      <td>7.504</td>\n",
       "      <td>1.480633</td>\n",
       "      <td>1.610574</td>\n",
       "      <td>0.833552</td>\n",
       "      <td>0.627163</td>\n",
       "      <td>0.153527</td>\n",
       "      <td>0.475540</td>\n",
       "    </tr>\n",
       "    <tr>\n",
       "      <th>3</th>\n",
       "      <td>switzerland</td>\n",
       "      <td>4</td>\n",
       "      <td>7.494</td>\n",
       "      <td>1.564980</td>\n",
       "      <td>1.516912</td>\n",
       "      <td>0.858131</td>\n",
       "      <td>0.620071</td>\n",
       "      <td>0.367007</td>\n",
       "      <td>0.290549</td>\n",
       "    </tr>\n",
       "    <tr>\n",
       "      <th>4</th>\n",
       "      <td>finland</td>\n",
       "      <td>5</td>\n",
       "      <td>7.469</td>\n",
       "      <td>1.443572</td>\n",
       "      <td>1.540247</td>\n",
       "      <td>0.809158</td>\n",
       "      <td>0.617951</td>\n",
       "      <td>0.382612</td>\n",
       "      <td>0.245483</td>\n",
       "    </tr>\n",
       "  </tbody>\n",
       "</table>\n",
       "</div>"
      ],
      "text/plain": [
       "       Country  Rank  Score     GDPPC    Family    Health   Freedom     Trust  \\\n",
       "0       norway     1  7.537  1.616463  1.533524  0.796667  0.635423  0.315964   \n",
       "1      denmark     2  7.522  1.482383  1.551122  0.792566  0.626007  0.400770   \n",
       "2      iceland     3  7.504  1.480633  1.610574  0.833552  0.627163  0.153527   \n",
       "3  switzerland     4  7.494  1.564980  1.516912  0.858131  0.620071  0.367007   \n",
       "4      finland     5  7.469  1.443572  1.540247  0.809158  0.617951  0.382612   \n",
       "\n",
       "   Generosity  \n",
       "0    0.362012  \n",
       "1    0.355280  \n",
       "2    0.475540  \n",
       "3    0.290549  \n",
       "4    0.245483  "
      ]
     },
     "execution_count": 42,
     "metadata": {},
     "output_type": "execute_result"
    }
   ],
   "source": [
    "df_2017.head()"
   ]
  },
  {
   "cell_type": "code",
   "execution_count": 43,
   "metadata": {},
   "outputs": [
    {
     "data": {
      "text/html": [
       "<div>\n",
       "<style scoped>\n",
       "    .dataframe tbody tr th:only-of-type {\n",
       "        vertical-align: middle;\n",
       "    }\n",
       "\n",
       "    .dataframe tbody tr th {\n",
       "        vertical-align: top;\n",
       "    }\n",
       "\n",
       "    .dataframe thead th {\n",
       "        text-align: right;\n",
       "    }\n",
       "</style>\n",
       "<table border=\"1\" class=\"dataframe\">\n",
       "  <thead>\n",
       "    <tr style=\"text-align: right;\">\n",
       "      <th></th>\n",
       "      <th>Country</th>\n",
       "      <th>Rank</th>\n",
       "      <th>Score</th>\n",
       "      <th>GDPPC</th>\n",
       "      <th>Family</th>\n",
       "      <th>Health</th>\n",
       "      <th>Freedom</th>\n",
       "      <th>Trust</th>\n",
       "      <th>Generosity</th>\n",
       "    </tr>\n",
       "  </thead>\n",
       "  <tbody>\n",
       "    <tr>\n",
       "      <th>0</th>\n",
       "      <td>finland</td>\n",
       "      <td>1</td>\n",
       "      <td>7.632</td>\n",
       "      <td>1.305</td>\n",
       "      <td>1.592</td>\n",
       "      <td>0.874</td>\n",
       "      <td>0.681</td>\n",
       "      <td>0.393</td>\n",
       "      <td>0.202</td>\n",
       "    </tr>\n",
       "    <tr>\n",
       "      <th>1</th>\n",
       "      <td>norway</td>\n",
       "      <td>2</td>\n",
       "      <td>7.594</td>\n",
       "      <td>1.456</td>\n",
       "      <td>1.582</td>\n",
       "      <td>0.861</td>\n",
       "      <td>0.686</td>\n",
       "      <td>0.340</td>\n",
       "      <td>0.286</td>\n",
       "    </tr>\n",
       "    <tr>\n",
       "      <th>2</th>\n",
       "      <td>denmark</td>\n",
       "      <td>3</td>\n",
       "      <td>7.555</td>\n",
       "      <td>1.351</td>\n",
       "      <td>1.590</td>\n",
       "      <td>0.868</td>\n",
       "      <td>0.683</td>\n",
       "      <td>0.408</td>\n",
       "      <td>0.284</td>\n",
       "    </tr>\n",
       "    <tr>\n",
       "      <th>3</th>\n",
       "      <td>iceland</td>\n",
       "      <td>4</td>\n",
       "      <td>7.495</td>\n",
       "      <td>1.343</td>\n",
       "      <td>1.644</td>\n",
       "      <td>0.914</td>\n",
       "      <td>0.677</td>\n",
       "      <td>0.138</td>\n",
       "      <td>0.353</td>\n",
       "    </tr>\n",
       "    <tr>\n",
       "      <th>4</th>\n",
       "      <td>switzerland</td>\n",
       "      <td>5</td>\n",
       "      <td>7.487</td>\n",
       "      <td>1.420</td>\n",
       "      <td>1.549</td>\n",
       "      <td>0.927</td>\n",
       "      <td>0.660</td>\n",
       "      <td>0.357</td>\n",
       "      <td>0.256</td>\n",
       "    </tr>\n",
       "    <tr>\n",
       "      <th>...</th>\n",
       "      <td>...</td>\n",
       "      <td>...</td>\n",
       "      <td>...</td>\n",
       "      <td>...</td>\n",
       "      <td>...</td>\n",
       "      <td>...</td>\n",
       "      <td>...</td>\n",
       "      <td>...</td>\n",
       "      <td>...</td>\n",
       "    </tr>\n",
       "    <tr>\n",
       "      <th>135</th>\n",
       "      <td>syria</td>\n",
       "      <td>150</td>\n",
       "      <td>3.462</td>\n",
       "      <td>0.689</td>\n",
       "      <td>0.382</td>\n",
       "      <td>0.539</td>\n",
       "      <td>0.088</td>\n",
       "      <td>0.144</td>\n",
       "      <td>0.376</td>\n",
       "    </tr>\n",
       "    <tr>\n",
       "      <th>136</th>\n",
       "      <td>rwanda</td>\n",
       "      <td>151</td>\n",
       "      <td>3.408</td>\n",
       "      <td>0.332</td>\n",
       "      <td>0.896</td>\n",
       "      <td>0.400</td>\n",
       "      <td>0.636</td>\n",
       "      <td>0.444</td>\n",
       "      <td>0.200</td>\n",
       "    </tr>\n",
       "    <tr>\n",
       "      <th>137</th>\n",
       "      <td>yemen</td>\n",
       "      <td>152</td>\n",
       "      <td>3.355</td>\n",
       "      <td>0.442</td>\n",
       "      <td>1.073</td>\n",
       "      <td>0.343</td>\n",
       "      <td>0.244</td>\n",
       "      <td>0.064</td>\n",
       "      <td>0.083</td>\n",
       "    </tr>\n",
       "    <tr>\n",
       "      <th>138</th>\n",
       "      <td>tanzania</td>\n",
       "      <td>153</td>\n",
       "      <td>3.303</td>\n",
       "      <td>0.455</td>\n",
       "      <td>0.991</td>\n",
       "      <td>0.381</td>\n",
       "      <td>0.481</td>\n",
       "      <td>0.097</td>\n",
       "      <td>0.270</td>\n",
       "    </tr>\n",
       "    <tr>\n",
       "      <th>139</th>\n",
       "      <td>burundi</td>\n",
       "      <td>156</td>\n",
       "      <td>2.905</td>\n",
       "      <td>0.091</td>\n",
       "      <td>0.627</td>\n",
       "      <td>0.145</td>\n",
       "      <td>0.065</td>\n",
       "      <td>0.076</td>\n",
       "      <td>0.149</td>\n",
       "    </tr>\n",
       "  </tbody>\n",
       "</table>\n",
       "<p>140 rows × 9 columns</p>\n",
       "</div>"
      ],
      "text/plain": [
       "         Country  Rank  Score  GDPPC  Family  Health  Freedom  Trust  \\\n",
       "0        finland     1  7.632  1.305   1.592   0.874    0.681  0.393   \n",
       "1         norway     2  7.594  1.456   1.582   0.861    0.686  0.340   \n",
       "2        denmark     3  7.555  1.351   1.590   0.868    0.683  0.408   \n",
       "3        iceland     4  7.495  1.343   1.644   0.914    0.677  0.138   \n",
       "4    switzerland     5  7.487  1.420   1.549   0.927    0.660  0.357   \n",
       "..           ...   ...    ...    ...     ...     ...      ...    ...   \n",
       "135        syria   150  3.462  0.689   0.382   0.539    0.088  0.144   \n",
       "136       rwanda   151  3.408  0.332   0.896   0.400    0.636  0.444   \n",
       "137        yemen   152  3.355  0.442   1.073   0.343    0.244  0.064   \n",
       "138     tanzania   153  3.303  0.455   0.991   0.381    0.481  0.097   \n",
       "139      burundi   156  2.905  0.091   0.627   0.145    0.065  0.076   \n",
       "\n",
       "     Generosity  \n",
       "0         0.202  \n",
       "1         0.286  \n",
       "2         0.284  \n",
       "3         0.353  \n",
       "4         0.256  \n",
       "..          ...  \n",
       "135       0.376  \n",
       "136       0.200  \n",
       "137       0.083  \n",
       "138       0.270  \n",
       "139       0.149  \n",
       "\n",
       "[140 rows x 9 columns]"
      ]
     },
     "execution_count": 43,
     "metadata": {},
     "output_type": "execute_result"
    }
   ],
   "source": [
    "df_2018"
   ]
  },
  {
   "cell_type": "code",
   "execution_count": 44,
   "metadata": {},
   "outputs": [
    {
     "data": {
      "text/html": [
       "<div>\n",
       "<style scoped>\n",
       "    .dataframe tbody tr th:only-of-type {\n",
       "        vertical-align: middle;\n",
       "    }\n",
       "\n",
       "    .dataframe tbody tr th {\n",
       "        vertical-align: top;\n",
       "    }\n",
       "\n",
       "    .dataframe thead th {\n",
       "        text-align: right;\n",
       "    }\n",
       "</style>\n",
       "<table border=\"1\" class=\"dataframe\">\n",
       "  <thead>\n",
       "    <tr style=\"text-align: right;\">\n",
       "      <th></th>\n",
       "      <th>Country</th>\n",
       "      <th>Rank</th>\n",
       "      <th>Score</th>\n",
       "      <th>GDPPC</th>\n",
       "      <th>Family</th>\n",
       "      <th>Health</th>\n",
       "      <th>Freedom</th>\n",
       "      <th>Trust</th>\n",
       "      <th>Generosity</th>\n",
       "    </tr>\n",
       "  </thead>\n",
       "  <tbody>\n",
       "    <tr>\n",
       "      <th>0</th>\n",
       "      <td>finland</td>\n",
       "      <td>1</td>\n",
       "      <td>7.769</td>\n",
       "      <td>1.340</td>\n",
       "      <td>1.587</td>\n",
       "      <td>0.986</td>\n",
       "      <td>0.596</td>\n",
       "      <td>0.393</td>\n",
       "      <td>0.153</td>\n",
       "    </tr>\n",
       "    <tr>\n",
       "      <th>1</th>\n",
       "      <td>denmark</td>\n",
       "      <td>2</td>\n",
       "      <td>7.600</td>\n",
       "      <td>1.383</td>\n",
       "      <td>1.573</td>\n",
       "      <td>0.996</td>\n",
       "      <td>0.592</td>\n",
       "      <td>0.410</td>\n",
       "      <td>0.252</td>\n",
       "    </tr>\n",
       "    <tr>\n",
       "      <th>2</th>\n",
       "      <td>norway</td>\n",
       "      <td>3</td>\n",
       "      <td>7.554</td>\n",
       "      <td>1.488</td>\n",
       "      <td>1.582</td>\n",
       "      <td>1.028</td>\n",
       "      <td>0.603</td>\n",
       "      <td>0.341</td>\n",
       "      <td>0.271</td>\n",
       "    </tr>\n",
       "    <tr>\n",
       "      <th>3</th>\n",
       "      <td>iceland</td>\n",
       "      <td>4</td>\n",
       "      <td>7.494</td>\n",
       "      <td>1.380</td>\n",
       "      <td>1.624</td>\n",
       "      <td>1.026</td>\n",
       "      <td>0.591</td>\n",
       "      <td>0.118</td>\n",
       "      <td>0.354</td>\n",
       "    </tr>\n",
       "    <tr>\n",
       "      <th>4</th>\n",
       "      <td>netherlands</td>\n",
       "      <td>5</td>\n",
       "      <td>7.488</td>\n",
       "      <td>1.396</td>\n",
       "      <td>1.522</td>\n",
       "      <td>0.999</td>\n",
       "      <td>0.557</td>\n",
       "      <td>0.298</td>\n",
       "      <td>0.322</td>\n",
       "    </tr>\n",
       "    <tr>\n",
       "      <th>...</th>\n",
       "      <td>...</td>\n",
       "      <td>...</td>\n",
       "      <td>...</td>\n",
       "      <td>...</td>\n",
       "      <td>...</td>\n",
       "      <td>...</td>\n",
       "      <td>...</td>\n",
       "      <td>...</td>\n",
       "      <td>...</td>\n",
       "    </tr>\n",
       "    <tr>\n",
       "      <th>135</th>\n",
       "      <td>malawi</td>\n",
       "      <td>150</td>\n",
       "      <td>3.410</td>\n",
       "      <td>0.191</td>\n",
       "      <td>0.560</td>\n",
       "      <td>0.495</td>\n",
       "      <td>0.443</td>\n",
       "      <td>0.089</td>\n",
       "      <td>0.218</td>\n",
       "    </tr>\n",
       "    <tr>\n",
       "      <th>136</th>\n",
       "      <td>yemen</td>\n",
       "      <td>151</td>\n",
       "      <td>3.380</td>\n",
       "      <td>0.287</td>\n",
       "      <td>1.163</td>\n",
       "      <td>0.463</td>\n",
       "      <td>0.143</td>\n",
       "      <td>0.077</td>\n",
       "      <td>0.108</td>\n",
       "    </tr>\n",
       "    <tr>\n",
       "      <th>137</th>\n",
       "      <td>rwanda</td>\n",
       "      <td>152</td>\n",
       "      <td>3.334</td>\n",
       "      <td>0.359</td>\n",
       "      <td>0.711</td>\n",
       "      <td>0.614</td>\n",
       "      <td>0.555</td>\n",
       "      <td>0.411</td>\n",
       "      <td>0.217</td>\n",
       "    </tr>\n",
       "    <tr>\n",
       "      <th>138</th>\n",
       "      <td>tanzania</td>\n",
       "      <td>153</td>\n",
       "      <td>3.231</td>\n",
       "      <td>0.476</td>\n",
       "      <td>0.885</td>\n",
       "      <td>0.499</td>\n",
       "      <td>0.417</td>\n",
       "      <td>0.147</td>\n",
       "      <td>0.276</td>\n",
       "    </tr>\n",
       "    <tr>\n",
       "      <th>139</th>\n",
       "      <td>afghanistan</td>\n",
       "      <td>154</td>\n",
       "      <td>3.203</td>\n",
       "      <td>0.350</td>\n",
       "      <td>0.517</td>\n",
       "      <td>0.361</td>\n",
       "      <td>0.000</td>\n",
       "      <td>0.025</td>\n",
       "      <td>0.158</td>\n",
       "    </tr>\n",
       "  </tbody>\n",
       "</table>\n",
       "<p>140 rows × 9 columns</p>\n",
       "</div>"
      ],
      "text/plain": [
       "         Country  Rank  Score  GDPPC  Family  Health  Freedom  Trust  \\\n",
       "0        finland     1  7.769  1.340   1.587   0.986    0.596  0.393   \n",
       "1        denmark     2  7.600  1.383   1.573   0.996    0.592  0.410   \n",
       "2         norway     3  7.554  1.488   1.582   1.028    0.603  0.341   \n",
       "3        iceland     4  7.494  1.380   1.624   1.026    0.591  0.118   \n",
       "4    netherlands     5  7.488  1.396   1.522   0.999    0.557  0.298   \n",
       "..           ...   ...    ...    ...     ...     ...      ...    ...   \n",
       "135       malawi   150  3.410  0.191   0.560   0.495    0.443  0.089   \n",
       "136        yemen   151  3.380  0.287   1.163   0.463    0.143  0.077   \n",
       "137       rwanda   152  3.334  0.359   0.711   0.614    0.555  0.411   \n",
       "138     tanzania   153  3.231  0.476   0.885   0.499    0.417  0.147   \n",
       "139  afghanistan   154  3.203  0.350   0.517   0.361    0.000  0.025   \n",
       "\n",
       "     Generosity  \n",
       "0         0.153  \n",
       "1         0.252  \n",
       "2         0.271  \n",
       "3         0.354  \n",
       "4         0.322  \n",
       "..          ...  \n",
       "135       0.218  \n",
       "136       0.108  \n",
       "137       0.217  \n",
       "138       0.276  \n",
       "139       0.158  \n",
       "\n",
       "[140 rows x 9 columns]"
      ]
     },
     "execution_count": 44,
     "metadata": {},
     "output_type": "execute_result"
    }
   ],
   "source": [
    "df_2019"
   ]
  },
  {
   "cell_type": "code",
   "execution_count": 45,
   "metadata": {},
   "outputs": [
    {
     "data": {
      "application/vnd.plotly.v1+json": {
       "config": {
        "plotlyServerURL": "https://plot.ly"
       },
       "data": [
        {
         "mode": "markers",
         "name": "2015",
         "type": "scatter",
         "x": [
          "switzerland",
          "iceland",
          "denmark",
          "norway",
          "canada",
          "finland",
          "netherlands",
          "sweden",
          "new zealand",
          "australia",
          "israel",
          "costa rica",
          "austria",
          "mexico",
          "united states",
          "brazil",
          "luxembourg",
          "ireland",
          "belgium",
          "united kingdom",
          "venezuela",
          "singapore",
          "panama",
          "germany",
          "chile",
          "qatar",
          "france",
          "argentina",
          "czech republic",
          "uruguay",
          "colombia",
          "thailand",
          "saudi arabia",
          "spain",
          "malta",
          "kuwait",
          "el salvador",
          "guatemala",
          "uzbekistan",
          "slovakia",
          "japan",
          "south korea",
          "ecuador",
          "bahrain",
          "italy",
          "bolivia",
          "moldova",
          "paraguay",
          "kazakhstan",
          "slovenia",
          "lithuania",
          "nicaragua",
          "peru",
          "belarus",
          "poland",
          "malaysia",
          "croatia",
          "libya",
          "russia",
          "jamaica",
          "cyprus",
          "algeria",
          "kosovo",
          "turkmenistan",
          "mauritius",
          "estonia",
          "indonesia",
          "vietnam",
          "turkey",
          "kyrgyzstan",
          "nigeria",
          "bhutan",
          "azerbaijan",
          "pakistan",
          "jordan",
          "montenegro",
          "china",
          "zambia",
          "romania",
          "serbia",
          "portugal",
          "latvia",
          "philippines",
          "morocco",
          "albania",
          "bosnia and herzegovina",
          "dominican republic",
          "mongolia",
          "greece",
          "lebanon",
          "hungary",
          "honduras",
          "tajikistan",
          "tunisia",
          "palestinian territories",
          "bangladesh",
          "iran",
          "ukraine",
          "iraq",
          "south africa",
          "ghana",
          "zimbabwe",
          "liberia",
          "india",
          "haiti",
          "congo (kinshasa)",
          "nepal",
          "ethiopia",
          "sierra leone",
          "mauritania",
          "kenya",
          "armenia",
          "botswana",
          "myanmar",
          "georgia",
          "malawi",
          "sri lanka",
          "cameroon",
          "bulgaria",
          "egypt",
          "yemen",
          "mali",
          "congo (brazzaville)",
          "uganda",
          "senegal",
          "gabon",
          "niger",
          "cambodia",
          "tanzania",
          "madagascar",
          "chad",
          "guinea",
          "ivory coast",
          "burkina faso",
          "afghanistan",
          "rwanda",
          "benin",
          "syria",
          "burundi",
          "togo"
         ],
         "y": [
          7.587,
          7.561,
          7.527,
          7.522,
          7.427,
          7.406,
          7.378,
          7.364,
          7.286,
          7.284,
          7.278,
          7.226,
          7.2,
          7.187,
          7.119,
          6.983,
          6.946,
          6.94,
          6.937,
          6.867,
          6.81,
          6.798,
          6.786,
          6.75,
          6.67,
          6.611,
          6.575,
          6.574,
          6.505,
          6.485,
          6.477,
          6.455,
          6.411,
          6.329,
          6.302,
          6.295,
          6.13,
          6.123,
          6.003,
          5.995,
          5.987,
          5.984,
          5.975,
          5.96,
          5.948,
          5.89,
          5.889,
          5.878,
          5.855,
          5.848,
          5.833,
          5.828,
          5.824,
          5.813,
          5.791,
          5.77,
          5.759,
          5.754,
          5.716,
          5.709,
          5.689,
          5.605,
          5.589,
          5.548,
          5.477,
          5.429,
          5.399,
          5.36,
          5.332,
          5.286,
          5.268,
          5.253,
          5.212,
          5.194,
          5.192,
          5.192,
          5.14,
          5.129,
          5.124,
          5.123,
          5.102,
          5.098,
          5.073,
          5.013,
          4.959,
          4.949,
          4.885,
          4.874,
          4.857,
          4.839,
          4.8,
          4.788,
          4.786,
          4.739,
          4.715,
          4.694,
          4.686,
          4.681,
          4.677,
          4.642,
          4.633,
          4.61,
          4.571,
          4.565,
          4.518,
          4.517,
          4.514,
          4.512,
          4.507,
          4.436,
          4.419,
          4.35,
          4.332,
          4.307,
          4.297,
          4.292,
          4.271,
          4.252,
          4.218,
          4.194,
          4.077,
          3.995,
          3.989,
          3.931,
          3.904,
          3.896,
          3.845,
          3.819,
          3.781,
          3.681,
          3.667,
          3.656,
          3.655,
          3.587,
          3.575,
          3.465,
          3.34,
          3.006,
          2.905,
          2.839
         ]
        },
        {
         "mode": "markers",
         "name": "2016",
         "type": "scatter",
         "x": [
          "denmark",
          "switzerland",
          "iceland",
          "norway",
          "finland",
          "canada",
          "netherlands",
          "new zealand",
          "australia",
          "sweden",
          "israel",
          "austria",
          "united states",
          "costa rica",
          "germany",
          "brazil",
          "belgium",
          "ireland",
          "luxembourg",
          "mexico",
          "singapore",
          "united kingdom",
          "chile",
          "panama",
          "argentina",
          "czech republic",
          "uruguay",
          "malta",
          "colombia",
          "france",
          "thailand",
          "saudi arabia",
          "qatar",
          "spain",
          "algeria",
          "guatemala",
          "kuwait",
          "bahrain",
          "venezuela",
          "slovakia",
          "el salvador",
          "malaysia",
          "nicaragua",
          "uzbekistan",
          "italy",
          "ecuador",
          "japan",
          "kazakhstan",
          "moldova",
          "russia",
          "poland",
          "south korea",
          "bolivia",
          "lithuania",
          "belarus",
          "slovenia",
          "peru",
          "turkmenistan",
          "mauritius",
          "libya",
          "latvia",
          "cyprus",
          "paraguay",
          "romania",
          "estonia",
          "jamaica",
          "croatia",
          "kosovo",
          "turkey",
          "indonesia",
          "jordan",
          "azerbaijan",
          "philippines",
          "china",
          "bhutan",
          "kyrgyzstan",
          "serbia",
          "bosnia and herzegovina",
          "montenegro",
          "dominican republic",
          "morocco",
          "hungary",
          "pakistan",
          "lebanon",
          "portugal",
          "vietnam",
          "tunisia",
          "greece",
          "tajikistan",
          "mongolia",
          "nigeria",
          "honduras",
          "iran",
          "zambia",
          "nepal",
          "palestinian territories",
          "albania",
          "bangladesh",
          "sierra leone",
          "iraq",
          "cameroon",
          "ethiopia",
          "south africa",
          "sri lanka",
          "india",
          "myanmar",
          "egypt",
          "armenia",
          "kenya",
          "ukraine",
          "ghana",
          "congo (kinshasa)",
          "georgia",
          "congo (brazzaville)",
          "senegal",
          "bulgaria",
          "mauritania",
          "zimbabwe",
          "malawi",
          "gabon",
          "mali",
          "haiti",
          "botswana",
          "ivory coast",
          "cambodia",
          "niger",
          "chad",
          "burkina faso",
          "uganda",
          "yemen",
          "madagascar",
          "tanzania",
          "liberia",
          "guinea",
          "rwanda",
          "benin",
          "afghanistan",
          "togo",
          "syria",
          "burundi"
         ],
         "y": [
          7.526,
          7.509,
          7.501,
          7.498,
          7.413,
          7.404,
          7.339,
          7.334,
          7.313,
          7.291,
          7.267,
          7.119,
          7.104,
          7.087,
          6.994,
          6.952,
          6.929,
          6.907,
          6.871,
          6.778,
          6.739,
          6.725,
          6.705,
          6.701,
          6.65,
          6.596,
          6.545,
          6.488,
          6.481,
          6.478,
          6.474,
          6.379,
          6.375,
          6.361,
          6.355,
          6.324,
          6.239,
          6.218,
          6.084,
          6.078,
          6.068,
          6.005,
          5.992,
          5.987,
          5.977,
          5.976,
          5.921,
          5.919,
          5.897,
          5.856,
          5.835,
          5.835,
          5.822,
          5.813,
          5.802,
          5.768,
          5.743,
          5.658,
          5.648,
          5.615,
          5.56,
          5.546,
          5.538,
          5.528,
          5.517,
          5.51,
          5.488,
          5.401,
          5.389,
          5.314,
          5.303,
          5.291,
          5.279,
          5.245,
          5.196,
          5.185,
          5.177,
          5.163,
          5.161,
          5.155,
          5.151,
          5.145,
          5.132,
          5.129,
          5.123,
          5.061,
          5.045,
          5.033,
          4.996,
          4.907,
          4.875,
          4.871,
          4.813,
          4.795,
          4.793,
          4.754,
          4.655,
          4.643,
          4.635,
          4.575,
          4.513,
          4.508,
          4.459,
          4.415,
          4.404,
          4.395,
          4.362,
          4.36,
          4.356,
          4.324,
          4.276,
          4.272,
          4.252,
          4.236,
          4.219,
          4.217,
          4.201,
          4.193,
          4.156,
          4.121,
          4.073,
          4.028,
          3.974,
          3.916,
          3.907,
          3.856,
          3.763,
          3.739,
          3.739,
          3.724,
          3.695,
          3.666,
          3.622,
          3.607,
          3.515,
          3.484,
          3.36,
          3.303,
          3.069,
          2.905
         ]
        },
        {
         "mode": "markers",
         "name": "2017",
         "type": "scatter",
         "x": [
          "norway",
          "denmark",
          "iceland",
          "switzerland",
          "finland",
          "netherlands",
          "canada",
          "new zealand",
          "sweden",
          "australia",
          "israel",
          "costa rica",
          "austria",
          "united states",
          "ireland",
          "germany",
          "belgium",
          "luxembourg",
          "united kingdom",
          "chile",
          "brazil",
          "czech republic",
          "argentina",
          "mexico",
          "singapore",
          "malta",
          "uruguay",
          "guatemala",
          "panama",
          "france",
          "thailand",
          "spain",
          "qatar",
          "colombia",
          "saudi arabia",
          "kuwait",
          "slovakia",
          "bahrain",
          "malaysia",
          "nicaragua",
          "ecuador",
          "el salvador",
          "poland",
          "uzbekistan",
          "italy",
          "russia",
          "japan",
          "lithuania",
          "algeria",
          "latvia",
          "south korea",
          "moldova",
          "romania",
          "bolivia",
          "turkmenistan",
          "kazakhstan",
          "slovenia",
          "peru",
          "mauritius",
          "cyprus",
          "estonia",
          "belarus",
          "libya",
          "turkey",
          "paraguay",
          "philippines",
          "serbia",
          "jordan",
          "hungary",
          "jamaica",
          "croatia",
          "kosovo",
          "china",
          "pakistan",
          "indonesia",
          "venezuela",
          "montenegro",
          "morocco",
          "azerbaijan",
          "dominican republic",
          "greece",
          "lebanon",
          "portugal",
          "bosnia and herzegovina",
          "honduras",
          "vietnam",
          "nigeria",
          "tajikistan",
          "bhutan",
          "kyrgyzstan",
          "nepal",
          "mongolia",
          "south africa",
          "tunisia",
          "palestinian territories",
          "egypt",
          "bulgaria",
          "sierra leone",
          "cameroon",
          "iran",
          "albania",
          "bangladesh",
          "kenya",
          "myanmar",
          "senegal",
          "zambia",
          "iraq",
          "gabon",
          "ethiopia",
          "sri lanka",
          "armenia",
          "india",
          "mauritania",
          "congo (brazzaville)",
          "georgia",
          "congo (kinshasa)",
          "mali",
          "ivory coast",
          "cambodia",
          "ghana",
          "ukraine",
          "uganda",
          "burkina faso",
          "niger",
          "malawi",
          "chad",
          "zimbabwe",
          "afghanistan",
          "botswana",
          "benin",
          "madagascar",
          "haiti",
          "yemen",
          "liberia",
          "guinea",
          "togo",
          "rwanda",
          "syria",
          "tanzania",
          "burundi"
         ],
         "y": [
          7.53700017929077,
          7.52199983596802,
          7.50400018692017,
          7.49399995803833,
          7.4689998626709,
          7.3769998550415,
          7.31599998474121,
          7.31400012969971,
          7.28399991989136,
          7.28399991989136,
          7.21299982070923,
          7.0789999961853,
          7.00600004196167,
          6.99300003051758,
          6.97700023651123,
          6.95100021362305,
          6.89099979400635,
          6.86299991607666,
          6.71400022506714,
          6.65199995040894,
          6.63500022888184,
          6.60900020599365,
          6.59899997711182,
          6.57800006866455,
          6.57200002670288,
          6.52699995040894,
          6.4539999961853,
          6.4539999961853,
          6.4520001411438,
          6.44199991226196,
          6.42399978637695,
          6.40299987792969,
          6.375,
          6.35699987411499,
          6.3439998626709,
          6.10500001907349,
          6.09800004959106,
          6.08699989318848,
          6.08400011062622,
          6.07100009918213,
          6.00799989700317,
          6.00299978256226,
          5.97300004959106,
          5.97100019454956,
          5.96400022506714,
          5.96299982070923,
          5.92000007629395,
          5.90199995040894,
          5.87200021743774,
          5.84999990463257,
          5.83799982070923,
          5.83799982070923,
          5.82499980926514,
          5.82299995422363,
          5.82200002670288,
          5.81899976730347,
          5.75799989700317,
          5.71500015258789,
          5.62900018692017,
          5.62099981307983,
          5.61100006103516,
          5.56899976730347,
          5.52500009536743,
          5.5,
          5.49300003051758,
          5.42999982833862,
          5.39499998092651,
          5.33599996566772,
          5.32399988174438,
          5.31099987030029,
          5.29300022125244,
          5.27899980545044,
          5.27299976348877,
          5.26900005340576,
          5.26200008392334,
          5.25,
          5.23699998855591,
          5.2350001335144,
          5.23400020599365,
          5.23000001907349,
          5.22700023651123,
          5.22499990463257,
          5.19500017166138,
          5.18200016021729,
          5.18100023269653,
          5.07399988174438,
          5.07399988174438,
          5.04099988937378,
          5.01100015640259,
          5.00400018692017,
          4.96199989318848,
          4.95499992370605,
          4.8289999961853,
          4.80499982833862,
          4.77500009536743,
          4.7350001335144,
          4.71400022506714,
          4.70900011062622,
          4.69500017166138,
          4.69199991226196,
          4.64400005340576,
          4.60799980163574,
          4.55299997329712,
          4.54500007629395,
          4.53499984741211,
          4.51399993896484,
          4.49700021743774,
          4.46500015258789,
          4.46000003814697,
          4.44000005722046,
          4.37599992752075,
          4.31500005722046,
          4.29199981689453,
          4.29099988937378,
          4.28599977493286,
          4.28000020980835,
          4.19000005722046,
          4.17999982833862,
          4.16800022125244,
          4.11999988555908,
          4.09600019454956,
          4.08099985122681,
          4.03200006484985,
          4.02799987792969,
          3.97000002861023,
          3.93600010871887,
          3.875,
          3.79399991035461,
          3.76600003242493,
          3.65700006484985,
          3.64400005340576,
          3.6029999256134,
          3.59299993515015,
          3.53299999237061,
          3.50699996948242,
          3.49499988555908,
          3.47099995613098,
          3.46199989318848,
          3.34899997711182,
          2.90499997138977
         ]
        },
        {
         "mode": "markers",
         "name": "2019",
         "type": "scatter",
         "x": [
          "finland",
          "norway",
          "denmark",
          "iceland",
          "switzerland",
          "netherlands",
          "canada",
          "new zealand",
          "sweden",
          "australia",
          "united kingdom",
          "austria",
          "costa rica",
          "ireland",
          "germany",
          "belgium",
          "luxembourg",
          "united states",
          "israel",
          "czech republic",
          "malta",
          "france",
          "mexico",
          "chile",
          "panama",
          "brazil",
          "argentina",
          "guatemala",
          "uruguay",
          "qatar",
          "saudi arabia",
          "singapore",
          "malaysia",
          "spain",
          "colombia",
          "slovakia",
          "el salvador",
          "nicaragua",
          "poland",
          "bahrain",
          "uzbekistan",
          "kuwait",
          "thailand",
          "italy",
          "ecuador",
          "lithuania",
          "slovenia",
          "romania",
          "latvia",
          "japan",
          "mauritius",
          "jamaica",
          "south korea",
          "russia",
          "kazakhstan",
          "cyprus",
          "bolivia",
          "estonia",
          "paraguay",
          "peru",
          "kosovo",
          "moldova",
          "turkmenistan",
          "hungary",
          "libya",
          "philippines",
          "honduras",
          "belarus",
          "turkey",
          "pakistan",
          "portugal",
          "serbia",
          "greece",
          "lebanon",
          "montenegro",
          "croatia",
          "dominican republic",
          "algeria",
          "morocco",
          "china",
          "azerbaijan",
          "tajikistan",
          "jordan",
          "nigeria",
          "kyrgyzstan",
          "bosnia and herzegovina",
          "mongolia",
          "vietnam",
          "indonesia",
          "bhutan",
          "cameroon",
          "bulgaria",
          "nepal",
          "venezuela",
          "gabon",
          "palestinian territories",
          "south africa",
          "iran",
          "ivory coast",
          "ghana",
          "senegal",
          "tunisia",
          "albania",
          "sierra leone",
          "congo (brazzaville)",
          "bangladesh",
          "sri lanka",
          "iraq",
          "mali",
          "cambodia",
          "burkina faso",
          "egypt",
          "kenya",
          "zambia",
          "mauritania",
          "ethiopia",
          "georgia",
          "armenia",
          "myanmar",
          "chad",
          "congo (kinshasa)",
          "india",
          "niger",
          "uganda",
          "benin",
          "ukraine",
          "togo",
          "guinea",
          "madagascar",
          "zimbabwe",
          "afghanistan",
          "botswana",
          "malawi",
          "haiti",
          "liberia",
          "syria",
          "rwanda",
          "yemen",
          "tanzania",
          "burundi"
         ],
         "y": [
          7.769,
          7.6,
          7.554,
          7.494,
          7.488,
          7.48,
          7.343,
          7.307,
          7.278,
          7.246,
          7.228,
          7.167,
          7.139,
          7.09,
          7.054,
          7.021,
          6.985,
          6.923,
          6.892,
          6.852,
          6.726,
          6.595,
          6.592,
          6.444,
          6.436,
          6.375,
          6.374,
          6.354,
          6.321,
          6.3,
          6.293,
          6.262,
          6.253,
          6.223,
          6.199,
          6.198,
          6.182,
          6.174,
          6.149,
          6.125,
          6.118,
          6.105,
          6.1,
          6.086,
          6.07,
          6.046,
          6.028,
          6.021,
          6.008,
          5.94,
          5.895,
          5.893,
          5.89,
          5.888,
          5.886,
          5.86,
          5.809,
          5.779,
          5.758,
          5.743,
          5.697,
          5.693,
          5.653,
          5.648,
          5.631,
          5.603,
          5.529,
          5.525,
          5.523,
          5.467,
          5.432,
          5.425,
          5.386,
          5.373,
          5.339,
          5.323,
          5.287,
          5.285,
          5.265,
          5.261,
          5.247,
          5.211,
          5.208,
          5.208,
          5.197,
          5.192,
          5.191,
          5.175,
          5.082,
          5.044,
          5.011,
          4.996,
          4.944,
          4.913,
          4.906,
          4.883,
          4.812,
          4.799,
          4.722,
          4.719,
          4.707,
          4.7,
          4.696,
          4.681,
          4.628,
          4.587,
          4.559,
          4.548,
          4.534,
          4.519,
          4.509,
          4.49,
          4.461,
          4.456,
          4.437,
          4.418,
          4.39,
          4.374,
          4.366,
          4.36,
          4.35,
          4.332,
          4.286,
          4.189,
          4.166,
          4.107,
          4.085,
          4.015,
          3.975,
          3.933,
          3.775,
          3.663,
          3.597,
          3.488,
          3.462,
          3.41,
          3.38,
          3.334,
          3.231,
          3.203
         ]
        },
        {
         "mode": "markers",
         "name": "2018",
         "type": "scatter",
         "x": [
          "finland",
          "denmark",
          "norway",
          "iceland",
          "netherlands",
          "switzerland",
          "sweden",
          "new zealand",
          "canada",
          "austria",
          "australia",
          "costa rica",
          "israel",
          "luxembourg",
          "united kingdom",
          "ireland",
          "germany",
          "belgium",
          "united states",
          "czech republic",
          "malta",
          "mexico",
          "france",
          "chile",
          "guatemala",
          "saudi arabia",
          "qatar",
          "spain",
          "panama",
          "brazil",
          "uruguay",
          "singapore",
          "el salvador",
          "italy",
          "bahrain",
          "slovakia",
          "poland",
          "uzbekistan",
          "lithuania",
          "colombia",
          "slovenia",
          "nicaragua",
          "kosovo",
          "argentina",
          "romania",
          "cyprus",
          "ecuador",
          "kuwait",
          "thailand",
          "latvia",
          "south korea",
          "estonia",
          "jamaica",
          "mauritius",
          "japan",
          "honduras",
          "kazakhstan",
          "bolivia",
          "hungary",
          "paraguay",
          "peru",
          "portugal",
          "pakistan",
          "russia",
          "philippines",
          "serbia",
          "moldova",
          "libya",
          "montenegro",
          "tajikistan",
          "croatia",
          "dominican republic",
          "bosnia and herzegovina",
          "turkey",
          "malaysia",
          "belarus",
          "greece",
          "mongolia",
          "nigeria",
          "kyrgyzstan",
          "turkmenistan",
          "algeria",
          "morocco",
          "azerbaijan",
          "lebanon",
          "indonesia",
          "china",
          "vietnam",
          "bhutan",
          "cameroon",
          "bulgaria",
          "ghana",
          "ivory coast",
          "nepal",
          "jordan",
          "benin",
          "congo (brazzaville)",
          "gabon",
          "south africa",
          "albania",
          "venezuela",
          "cambodia",
          "palestinian territories",
          "senegal",
          "niger",
          "burkina faso",
          "armenia",
          "iran",
          "guinea",
          "georgia",
          "kenya",
          "mauritania",
          "tunisia",
          "bangladesh",
          "iraq",
          "congo (kinshasa)",
          "mali",
          "sierra leone",
          "sri lanka",
          "myanmar",
          "chad",
          "ukraine",
          "ethiopia",
          "uganda",
          "egypt",
          "zambia",
          "togo",
          "india",
          "liberia",
          "madagascar",
          "burundi",
          "zimbabwe",
          "haiti",
          "botswana",
          "syria",
          "malawi",
          "yemen",
          "rwanda",
          "tanzania",
          "afghanistan"
         ],
         "y": [
          7.632,
          7.594,
          7.555,
          7.495,
          7.487,
          7.441,
          7.328,
          7.324,
          7.314,
          7.272,
          7.19,
          7.139,
          7.072,
          6.977,
          6.965,
          6.927,
          6.91,
          6.886,
          6.814,
          6.711,
          6.627,
          6.489,
          6.488,
          6.476,
          6.43,
          6.419,
          6.388,
          6.382,
          6.379,
          6.374,
          6.371,
          6.343,
          6.322,
          6.31,
          6.26,
          6.173,
          6.167,
          6.141,
          6.123,
          6.105,
          6.096,
          6.083,
          6.072,
          6,
          5.973,
          5.952,
          5.948,
          5.945,
          5.933,
          5.915,
          5.891,
          5.89,
          5.875,
          5.81,
          5.79,
          5.762,
          5.752,
          5.739,
          5.681,
          5.663,
          5.662,
          5.64,
          5.636,
          5.62,
          5.566,
          5.524,
          5.504,
          5.483,
          5.483,
          5.472,
          5.41,
          5.398,
          5.358,
          5.358,
          5.347,
          5.321,
          5.302,
          5.295,
          5.254,
          5.246,
          5.201,
          5.199,
          5.161,
          5.155,
          5.131,
          5.129,
          5.125,
          5.103,
          5.093,
          5.082,
          4.975,
          4.933,
          4.88,
          4.806,
          4.758,
          4.743,
          4.724,
          4.707,
          4.671,
          4.657,
          4.631,
          4.592,
          4.586,
          4.571,
          4.559,
          4.5,
          4.471,
          4.456,
          4.447,
          4.433,
          4.424,
          4.419,
          4.41,
          4.377,
          4.356,
          4.35,
          4.34,
          4.321,
          4.308,
          4.301,
          4.245,
          4.19,
          4.166,
          4.161,
          4.141,
          4.103,
          3.999,
          3.964,
          3.774,
          3.692,
          3.632,
          3.59,
          3.587,
          3.582,
          3.495,
          3.462,
          3.408,
          3.355,
          3.303,
          2.905
         ]
        }
       ],
       "layout": {
        "height": 800,
        "template": {
         "data": {
          "bar": [
           {
            "error_x": {
             "color": "#2a3f5f"
            },
            "error_y": {
             "color": "#2a3f5f"
            },
            "marker": {
             "line": {
              "color": "#E5ECF6",
              "width": 0.5
             },
             "pattern": {
              "fillmode": "overlay",
              "size": 10,
              "solidity": 0.2
             }
            },
            "type": "bar"
           }
          ],
          "barpolar": [
           {
            "marker": {
             "line": {
              "color": "#E5ECF6",
              "width": 0.5
             },
             "pattern": {
              "fillmode": "overlay",
              "size": 10,
              "solidity": 0.2
             }
            },
            "type": "barpolar"
           }
          ],
          "carpet": [
           {
            "aaxis": {
             "endlinecolor": "#2a3f5f",
             "gridcolor": "white",
             "linecolor": "white",
             "minorgridcolor": "white",
             "startlinecolor": "#2a3f5f"
            },
            "baxis": {
             "endlinecolor": "#2a3f5f",
             "gridcolor": "white",
             "linecolor": "white",
             "minorgridcolor": "white",
             "startlinecolor": "#2a3f5f"
            },
            "type": "carpet"
           }
          ],
          "choropleth": [
           {
            "colorbar": {
             "outlinewidth": 0,
             "ticks": ""
            },
            "type": "choropleth"
           }
          ],
          "contour": [
           {
            "colorbar": {
             "outlinewidth": 0,
             "ticks": ""
            },
            "colorscale": [
             [
              0,
              "#0d0887"
             ],
             [
              0.1111111111111111,
              "#46039f"
             ],
             [
              0.2222222222222222,
              "#7201a8"
             ],
             [
              0.3333333333333333,
              "#9c179e"
             ],
             [
              0.4444444444444444,
              "#bd3786"
             ],
             [
              0.5555555555555556,
              "#d8576b"
             ],
             [
              0.6666666666666666,
              "#ed7953"
             ],
             [
              0.7777777777777778,
              "#fb9f3a"
             ],
             [
              0.8888888888888888,
              "#fdca26"
             ],
             [
              1,
              "#f0f921"
             ]
            ],
            "type": "contour"
           }
          ],
          "contourcarpet": [
           {
            "colorbar": {
             "outlinewidth": 0,
             "ticks": ""
            },
            "type": "contourcarpet"
           }
          ],
          "heatmap": [
           {
            "colorbar": {
             "outlinewidth": 0,
             "ticks": ""
            },
            "colorscale": [
             [
              0,
              "#0d0887"
             ],
             [
              0.1111111111111111,
              "#46039f"
             ],
             [
              0.2222222222222222,
              "#7201a8"
             ],
             [
              0.3333333333333333,
              "#9c179e"
             ],
             [
              0.4444444444444444,
              "#bd3786"
             ],
             [
              0.5555555555555556,
              "#d8576b"
             ],
             [
              0.6666666666666666,
              "#ed7953"
             ],
             [
              0.7777777777777778,
              "#fb9f3a"
             ],
             [
              0.8888888888888888,
              "#fdca26"
             ],
             [
              1,
              "#f0f921"
             ]
            ],
            "type": "heatmap"
           }
          ],
          "histogram": [
           {
            "marker": {
             "pattern": {
              "fillmode": "overlay",
              "size": 10,
              "solidity": 0.2
             }
            },
            "type": "histogram"
           }
          ],
          "histogram2d": [
           {
            "colorbar": {
             "outlinewidth": 0,
             "ticks": ""
            },
            "colorscale": [
             [
              0,
              "#0d0887"
             ],
             [
              0.1111111111111111,
              "#46039f"
             ],
             [
              0.2222222222222222,
              "#7201a8"
             ],
             [
              0.3333333333333333,
              "#9c179e"
             ],
             [
              0.4444444444444444,
              "#bd3786"
             ],
             [
              0.5555555555555556,
              "#d8576b"
             ],
             [
              0.6666666666666666,
              "#ed7953"
             ],
             [
              0.7777777777777778,
              "#fb9f3a"
             ],
             [
              0.8888888888888888,
              "#fdca26"
             ],
             [
              1,
              "#f0f921"
             ]
            ],
            "type": "histogram2d"
           }
          ],
          "histogram2dcontour": [
           {
            "colorbar": {
             "outlinewidth": 0,
             "ticks": ""
            },
            "colorscale": [
             [
              0,
              "#0d0887"
             ],
             [
              0.1111111111111111,
              "#46039f"
             ],
             [
              0.2222222222222222,
              "#7201a8"
             ],
             [
              0.3333333333333333,
              "#9c179e"
             ],
             [
              0.4444444444444444,
              "#bd3786"
             ],
             [
              0.5555555555555556,
              "#d8576b"
             ],
             [
              0.6666666666666666,
              "#ed7953"
             ],
             [
              0.7777777777777778,
              "#fb9f3a"
             ],
             [
              0.8888888888888888,
              "#fdca26"
             ],
             [
              1,
              "#f0f921"
             ]
            ],
            "type": "histogram2dcontour"
           }
          ],
          "mesh3d": [
           {
            "colorbar": {
             "outlinewidth": 0,
             "ticks": ""
            },
            "type": "mesh3d"
           }
          ],
          "parcoords": [
           {
            "line": {
             "colorbar": {
              "outlinewidth": 0,
              "ticks": ""
             }
            },
            "type": "parcoords"
           }
          ],
          "pie": [
           {
            "automargin": true,
            "type": "pie"
           }
          ],
          "scatter": [
           {
            "fillpattern": {
             "fillmode": "overlay",
             "size": 10,
             "solidity": 0.2
            },
            "type": "scatter"
           }
          ],
          "scatter3d": [
           {
            "line": {
             "colorbar": {
              "outlinewidth": 0,
              "ticks": ""
             }
            },
            "marker": {
             "colorbar": {
              "outlinewidth": 0,
              "ticks": ""
             }
            },
            "type": "scatter3d"
           }
          ],
          "scattercarpet": [
           {
            "marker": {
             "colorbar": {
              "outlinewidth": 0,
              "ticks": ""
             }
            },
            "type": "scattercarpet"
           }
          ],
          "scattergeo": [
           {
            "marker": {
             "colorbar": {
              "outlinewidth": 0,
              "ticks": ""
             }
            },
            "type": "scattergeo"
           }
          ],
          "scattergl": [
           {
            "marker": {
             "colorbar": {
              "outlinewidth": 0,
              "ticks": ""
             }
            },
            "type": "scattergl"
           }
          ],
          "scattermap": [
           {
            "marker": {
             "colorbar": {
              "outlinewidth": 0,
              "ticks": ""
             }
            },
            "type": "scattermap"
           }
          ],
          "scattermapbox": [
           {
            "marker": {
             "colorbar": {
              "outlinewidth": 0,
              "ticks": ""
             }
            },
            "type": "scattermapbox"
           }
          ],
          "scatterpolar": [
           {
            "marker": {
             "colorbar": {
              "outlinewidth": 0,
              "ticks": ""
             }
            },
            "type": "scatterpolar"
           }
          ],
          "scatterpolargl": [
           {
            "marker": {
             "colorbar": {
              "outlinewidth": 0,
              "ticks": ""
             }
            },
            "type": "scatterpolargl"
           }
          ],
          "scatterternary": [
           {
            "marker": {
             "colorbar": {
              "outlinewidth": 0,
              "ticks": ""
             }
            },
            "type": "scatterternary"
           }
          ],
          "surface": [
           {
            "colorbar": {
             "outlinewidth": 0,
             "ticks": ""
            },
            "colorscale": [
             [
              0,
              "#0d0887"
             ],
             [
              0.1111111111111111,
              "#46039f"
             ],
             [
              0.2222222222222222,
              "#7201a8"
             ],
             [
              0.3333333333333333,
              "#9c179e"
             ],
             [
              0.4444444444444444,
              "#bd3786"
             ],
             [
              0.5555555555555556,
              "#d8576b"
             ],
             [
              0.6666666666666666,
              "#ed7953"
             ],
             [
              0.7777777777777778,
              "#fb9f3a"
             ],
             [
              0.8888888888888888,
              "#fdca26"
             ],
             [
              1,
              "#f0f921"
             ]
            ],
            "type": "surface"
           }
          ],
          "table": [
           {
            "cells": {
             "fill": {
              "color": "#EBF0F8"
             },
             "line": {
              "color": "white"
             }
            },
            "header": {
             "fill": {
              "color": "#C8D4E3"
             },
             "line": {
              "color": "white"
             }
            },
            "type": "table"
           }
          ]
         },
         "layout": {
          "annotationdefaults": {
           "arrowcolor": "#2a3f5f",
           "arrowhead": 0,
           "arrowwidth": 1
          },
          "autotypenumbers": "strict",
          "coloraxis": {
           "colorbar": {
            "outlinewidth": 0,
            "ticks": ""
           }
          },
          "colorscale": {
           "diverging": [
            [
             0,
             "#8e0152"
            ],
            [
             0.1,
             "#c51b7d"
            ],
            [
             0.2,
             "#de77ae"
            ],
            [
             0.3,
             "#f1b6da"
            ],
            [
             0.4,
             "#fde0ef"
            ],
            [
             0.5,
             "#f7f7f7"
            ],
            [
             0.6,
             "#e6f5d0"
            ],
            [
             0.7,
             "#b8e186"
            ],
            [
             0.8,
             "#7fbc41"
            ],
            [
             0.9,
             "#4d9221"
            ],
            [
             1,
             "#276419"
            ]
           ],
           "sequential": [
            [
             0,
             "#0d0887"
            ],
            [
             0.1111111111111111,
             "#46039f"
            ],
            [
             0.2222222222222222,
             "#7201a8"
            ],
            [
             0.3333333333333333,
             "#9c179e"
            ],
            [
             0.4444444444444444,
             "#bd3786"
            ],
            [
             0.5555555555555556,
             "#d8576b"
            ],
            [
             0.6666666666666666,
             "#ed7953"
            ],
            [
             0.7777777777777778,
             "#fb9f3a"
            ],
            [
             0.8888888888888888,
             "#fdca26"
            ],
            [
             1,
             "#f0f921"
            ]
           ],
           "sequentialminus": [
            [
             0,
             "#0d0887"
            ],
            [
             0.1111111111111111,
             "#46039f"
            ],
            [
             0.2222222222222222,
             "#7201a8"
            ],
            [
             0.3333333333333333,
             "#9c179e"
            ],
            [
             0.4444444444444444,
             "#bd3786"
            ],
            [
             0.5555555555555556,
             "#d8576b"
            ],
            [
             0.6666666666666666,
             "#ed7953"
            ],
            [
             0.7777777777777778,
             "#fb9f3a"
            ],
            [
             0.8888888888888888,
             "#fdca26"
            ],
            [
             1,
             "#f0f921"
            ]
           ]
          },
          "colorway": [
           "#636efa",
           "#EF553B",
           "#00cc96",
           "#ab63fa",
           "#FFA15A",
           "#19d3f3",
           "#FF6692",
           "#B6E880",
           "#FF97FF",
           "#FECB52"
          ],
          "font": {
           "color": "#2a3f5f"
          },
          "geo": {
           "bgcolor": "white",
           "lakecolor": "white",
           "landcolor": "#E5ECF6",
           "showlakes": true,
           "showland": true,
           "subunitcolor": "white"
          },
          "hoverlabel": {
           "align": "left"
          },
          "hovermode": "closest",
          "mapbox": {
           "style": "light"
          },
          "paper_bgcolor": "white",
          "plot_bgcolor": "#E5ECF6",
          "polar": {
           "angularaxis": {
            "gridcolor": "white",
            "linecolor": "white",
            "ticks": ""
           },
           "bgcolor": "#E5ECF6",
           "radialaxis": {
            "gridcolor": "white",
            "linecolor": "white",
            "ticks": ""
           }
          },
          "scene": {
           "xaxis": {
            "backgroundcolor": "#E5ECF6",
            "gridcolor": "white",
            "gridwidth": 2,
            "linecolor": "white",
            "showbackground": true,
            "ticks": "",
            "zerolinecolor": "white"
           },
           "yaxis": {
            "backgroundcolor": "#E5ECF6",
            "gridcolor": "white",
            "gridwidth": 2,
            "linecolor": "white",
            "showbackground": true,
            "ticks": "",
            "zerolinecolor": "white"
           },
           "zaxis": {
            "backgroundcolor": "#E5ECF6",
            "gridcolor": "white",
            "gridwidth": 2,
            "linecolor": "white",
            "showbackground": true,
            "ticks": "",
            "zerolinecolor": "white"
           }
          },
          "shapedefaults": {
           "line": {
            "color": "#2a3f5f"
           }
          },
          "ternary": {
           "aaxis": {
            "gridcolor": "white",
            "linecolor": "white",
            "ticks": ""
           },
           "baxis": {
            "gridcolor": "white",
            "linecolor": "white",
            "ticks": ""
           },
           "bgcolor": "#E5ECF6",
           "caxis": {
            "gridcolor": "white",
            "linecolor": "white",
            "ticks": ""
           }
          },
          "title": {
           "x": 0.05
          },
          "xaxis": {
           "automargin": true,
           "gridcolor": "white",
           "linecolor": "white",
           "ticks": "",
           "title": {
            "standoff": 15
           },
           "zerolinecolor": "white",
           "zerolinewidth": 2
          },
          "yaxis": {
           "automargin": true,
           "gridcolor": "white",
           "linecolor": "white",
           "ticks": "",
           "title": {
            "standoff": 15
           },
           "zerolinecolor": "white",
           "zerolinewidth": 2
          }
         }
        },
        "title": {
         "text": "Happiness Score by Country"
        },
        "width": 1400,
        "xaxis": {
         "title": {
          "text": "Country"
         }
        },
        "yaxis": {
         "title": {
          "text": "Happiness Score"
         }
        }
       }
      }
     },
     "metadata": {},
     "output_type": "display_data"
    }
   ],
   "source": [
    "fig = go.Figure()\n",
    "fig.add_trace(go.Scatter(x=list(df_2015.Country), y=list(df_2015[\"Score\"]), mode='markers', name='2015'))\n",
    "fig.add_trace(go.Scatter(x=list(df_2016.Country), y=list(df_2016[\"Score\"]), mode='markers', name='2016'))\n",
    "fig.add_trace(go.Scatter(x=list(df_2017.Country), y=list(df_2017[\"Score\"]), mode='markers', name='2017'))\n",
    "fig.add_trace(go.Scatter(x=list(df_2018.Country), y=list(df_2019[\"Score\"]), mode='markers', name='2019'))\n",
    "fig.add_trace(go.Scatter(x=list(df_2019.Country), y=list(df_2018[\"Score\"]), mode='markers', name='2018'))\n",
    "fig.update_layout(title='Happiness Score by Country', xaxis_title='Country', yaxis_title='Happiness Score', width=1400, height=800)"
   ]
  },
  {
   "cell_type": "code",
   "execution_count": 46,
   "metadata": {},
   "outputs": [
    {
     "data": {
      "application/vnd.plotly.v1+json": {
       "config": {
        "plotlyServerURL": "https://plot.ly"
       },
       "data": [
        {
         "coloraxis": "coloraxis",
         "geo": "geo",
         "hovertemplate": "<b>%{hovertext}</b><br><br>Year=2015<br>Country=%{location}<br>Score=%{z}<extra></extra>",
         "hovertext": [
          "switzerland",
          "iceland",
          "denmark",
          "norway",
          "canada",
          "finland",
          "netherlands",
          "sweden",
          "new zealand",
          "australia",
          "israel",
          "costa rica",
          "austria",
          "mexico",
          "united states",
          "brazil",
          "luxembourg",
          "ireland",
          "belgium",
          "united kingdom",
          "venezuela",
          "singapore",
          "panama",
          "germany",
          "chile",
          "qatar",
          "france",
          "argentina",
          "czech republic",
          "uruguay",
          "colombia",
          "thailand",
          "saudi arabia",
          "spain",
          "malta",
          "kuwait",
          "el salvador",
          "guatemala",
          "uzbekistan",
          "slovakia",
          "japan",
          "south korea",
          "ecuador",
          "bahrain",
          "italy",
          "bolivia",
          "moldova",
          "paraguay",
          "kazakhstan",
          "slovenia",
          "lithuania",
          "nicaragua",
          "peru",
          "belarus",
          "poland",
          "malaysia",
          "croatia",
          "libya",
          "russia",
          "jamaica",
          "cyprus",
          "algeria",
          "kosovo",
          "turkmenistan",
          "mauritius",
          "estonia",
          "indonesia",
          "vietnam",
          "turkey",
          "kyrgyzstan",
          "nigeria",
          "bhutan",
          "azerbaijan",
          "pakistan",
          "jordan",
          "montenegro",
          "china",
          "zambia",
          "romania",
          "serbia",
          "portugal",
          "latvia",
          "philippines",
          "morocco",
          "albania",
          "bosnia and herzegovina",
          "dominican republic",
          "mongolia",
          "greece",
          "lebanon",
          "hungary",
          "honduras",
          "tajikistan",
          "tunisia",
          "palestinian territories",
          "bangladesh",
          "iran",
          "ukraine",
          "iraq",
          "south africa",
          "ghana",
          "zimbabwe",
          "liberia",
          "india",
          "haiti",
          "congo (kinshasa)",
          "nepal",
          "ethiopia",
          "sierra leone",
          "mauritania",
          "kenya",
          "armenia",
          "botswana",
          "myanmar",
          "georgia",
          "malawi",
          "sri lanka",
          "cameroon",
          "bulgaria",
          "egypt",
          "yemen",
          "mali",
          "congo (brazzaville)",
          "uganda",
          "senegal",
          "gabon",
          "niger",
          "cambodia",
          "tanzania",
          "madagascar",
          "chad",
          "guinea",
          "ivory coast",
          "burkina faso",
          "afghanistan",
          "rwanda",
          "benin",
          "syria",
          "burundi",
          "togo"
         ],
         "locationmode": "country names",
         "locations": [
          "switzerland",
          "iceland",
          "denmark",
          "norway",
          "canada",
          "finland",
          "netherlands",
          "sweden",
          "new zealand",
          "australia",
          "israel",
          "costa rica",
          "austria",
          "mexico",
          "united states",
          "brazil",
          "luxembourg",
          "ireland",
          "belgium",
          "united kingdom",
          "venezuela",
          "singapore",
          "panama",
          "germany",
          "chile",
          "qatar",
          "france",
          "argentina",
          "czech republic",
          "uruguay",
          "colombia",
          "thailand",
          "saudi arabia",
          "spain",
          "malta",
          "kuwait",
          "el salvador",
          "guatemala",
          "uzbekistan",
          "slovakia",
          "japan",
          "south korea",
          "ecuador",
          "bahrain",
          "italy",
          "bolivia",
          "moldova",
          "paraguay",
          "kazakhstan",
          "slovenia",
          "lithuania",
          "nicaragua",
          "peru",
          "belarus",
          "poland",
          "malaysia",
          "croatia",
          "libya",
          "russia",
          "jamaica",
          "cyprus",
          "algeria",
          "kosovo",
          "turkmenistan",
          "mauritius",
          "estonia",
          "indonesia",
          "vietnam",
          "turkey",
          "kyrgyzstan",
          "nigeria",
          "bhutan",
          "azerbaijan",
          "pakistan",
          "jordan",
          "montenegro",
          "china",
          "zambia",
          "romania",
          "serbia",
          "portugal",
          "latvia",
          "philippines",
          "morocco",
          "albania",
          "bosnia and herzegovina",
          "dominican republic",
          "mongolia",
          "greece",
          "lebanon",
          "hungary",
          "honduras",
          "tajikistan",
          "tunisia",
          "palestinian territories",
          "bangladesh",
          "iran",
          "ukraine",
          "iraq",
          "south africa",
          "ghana",
          "zimbabwe",
          "liberia",
          "india",
          "haiti",
          "congo (kinshasa)",
          "nepal",
          "ethiopia",
          "sierra leone",
          "mauritania",
          "kenya",
          "armenia",
          "botswana",
          "myanmar",
          "georgia",
          "malawi",
          "sri lanka",
          "cameroon",
          "bulgaria",
          "egypt",
          "yemen",
          "mali",
          "congo (brazzaville)",
          "uganda",
          "senegal",
          "gabon",
          "niger",
          "cambodia",
          "tanzania",
          "madagascar",
          "chad",
          "guinea",
          "ivory coast",
          "burkina faso",
          "afghanistan",
          "rwanda",
          "benin",
          "syria",
          "burundi",
          "togo"
         ],
         "name": "",
         "type": "choropleth",
         "z": {
          "bdata": "DAIrhxZZHkBYObTIdj4eQM/3U+OlGx5ASgwCK4cWHkBoke18P7UdQDm0yHa+nx1AUI2XbhKDHUDb+X5qvHQdQL6fGi/dJB1AiUFg5dAiHUDpJjEIrBwdQIGVQ4ts5xxAzczMzMzMHEBzaJHtfL8cQGDl0CLbeRxAO99PjZfuG0BiEFg5tMgbQMP1KFyPwhtAc2iR7Xy/G0ArhxbZzncbQD0K16NwPRtA/tR46SYxG0C+nxov3SQbQAAAAAAAABtArkfhehSuGkCLbOf7qXEaQM3MzMzMTBpAsp3vp8ZLGkCF61G4HgUaQHE9Ctej8BlAnMQgsHLoGUBSuB6F69EZQL6fGi/dpBlAN4lBYOVQGUBoke18PzUZQK5H4XoULhlAhetRuB6FGEDLoUW2830YQFCNl24SAxhAexSuR+H6F0Cmm8QgsPIXQFYOLbKd7xdAZmZmZmbmF0DXo3A9CtcXQJhuEoPAyhdAj8L1KFyPF0B1kxgEVo4XQFCNl24SgxdA7FG4HoVrF0AxCKwcWmQXQKJFtvP9VBdAHVpkO99PF0Cyne+nxksXQI2XbhKDQBdARIts5/spF0AUrkfhehQXQPCnxks3CRdAarx0kxgEF0B3vp8aL90WQLx0kxgE1hZAqMZLN4nBFkDsUbgehWsWQEJg5dAiWxZA/tR46SYxFkCcxCCwcugVQJ7vp8ZLtxVAf2q8dJOYFUBxPQrXo3AVQIcW2c73UxVAvp8aL90kFUDfT42XbhIVQFCNl24SAxVADAIrhxbZFEAtsp3vp8YUQPhT46WbxBRA+FPjpZvEFECPwvUoXI8UQGq8dJMYhBRA5dAi2/l+FEDLoUW2830UQJzEILByaBRAMQisHFpkFECYbhKDwEoUQFpkO99PDRRAvHSTGATWE0Cyne+nxssTQArXo3A9ihNA5dAi2/l+E0AhsHJokW0TQEJg5dAiWxNAMzMzMzMzE0D0/dR46SYTQL6fGi/dJBNA2/l+arz0EkBcj8L1KNwSQC2yne+nxhJAWDm0yHa+EkDTTWIQWLkSQGiR7Xw/tRJAxSCwcmiREkDVeOkmMYgSQHE9CtejcBJAYhBYObRIEkDD9Shcj0ISQN9PjZduEhJAxSCwcmgREkB1kxgEVg4SQD81XrpJDBJAukkMAisHEkBYObTIdr4RQJMYBFYOrRFAZmZmZmZmEUCHFtnO91MRQO58PzVeOhFA46WbxCAwEUBeukkMAisRQC/dJAaBFRFANV66SQwCEUCsHFpkO98QQC2yne+nxhBAAiuHFtlOEED2KFyPwvUPQLbz/dR46Q9AppvEILByD0AIrBxaZDsPQF66SQwCKw9Aw/UoXI/CDkBaZDvfT40OQHNoke18Pw5AppvEILByDUC8dJMYBFYNQHNoke18Pw1APQrXo3A9DUAZBFYOLbIMQJqZmZmZmQxAuB6F61G4C0C4HoXrUbgKQD81XrpJDAhAPQrXo3A9B0CDwMqhRbYGQA==",
          "dtype": "f8"
         }
        }
       ],
       "frames": [
        {
         "data": [
          {
           "coloraxis": "coloraxis",
           "geo": "geo",
           "hovertemplate": "<b>%{hovertext}</b><br><br>Year=2015<br>Country=%{location}<br>Score=%{z}<extra></extra>",
           "hovertext": [
            "switzerland",
            "iceland",
            "denmark",
            "norway",
            "canada",
            "finland",
            "netherlands",
            "sweden",
            "new zealand",
            "australia",
            "israel",
            "costa rica",
            "austria",
            "mexico",
            "united states",
            "brazil",
            "luxembourg",
            "ireland",
            "belgium",
            "united kingdom",
            "venezuela",
            "singapore",
            "panama",
            "germany",
            "chile",
            "qatar",
            "france",
            "argentina",
            "czech republic",
            "uruguay",
            "colombia",
            "thailand",
            "saudi arabia",
            "spain",
            "malta",
            "kuwait",
            "el salvador",
            "guatemala",
            "uzbekistan",
            "slovakia",
            "japan",
            "south korea",
            "ecuador",
            "bahrain",
            "italy",
            "bolivia",
            "moldova",
            "paraguay",
            "kazakhstan",
            "slovenia",
            "lithuania",
            "nicaragua",
            "peru",
            "belarus",
            "poland",
            "malaysia",
            "croatia",
            "libya",
            "russia",
            "jamaica",
            "cyprus",
            "algeria",
            "kosovo",
            "turkmenistan",
            "mauritius",
            "estonia",
            "indonesia",
            "vietnam",
            "turkey",
            "kyrgyzstan",
            "nigeria",
            "bhutan",
            "azerbaijan",
            "pakistan",
            "jordan",
            "montenegro",
            "china",
            "zambia",
            "romania",
            "serbia",
            "portugal",
            "latvia",
            "philippines",
            "morocco",
            "albania",
            "bosnia and herzegovina",
            "dominican republic",
            "mongolia",
            "greece",
            "lebanon",
            "hungary",
            "honduras",
            "tajikistan",
            "tunisia",
            "palestinian territories",
            "bangladesh",
            "iran",
            "ukraine",
            "iraq",
            "south africa",
            "ghana",
            "zimbabwe",
            "liberia",
            "india",
            "haiti",
            "congo (kinshasa)",
            "nepal",
            "ethiopia",
            "sierra leone",
            "mauritania",
            "kenya",
            "armenia",
            "botswana",
            "myanmar",
            "georgia",
            "malawi",
            "sri lanka",
            "cameroon",
            "bulgaria",
            "egypt",
            "yemen",
            "mali",
            "congo (brazzaville)",
            "uganda",
            "senegal",
            "gabon",
            "niger",
            "cambodia",
            "tanzania",
            "madagascar",
            "chad",
            "guinea",
            "ivory coast",
            "burkina faso",
            "afghanistan",
            "rwanda",
            "benin",
            "syria",
            "burundi",
            "togo"
           ],
           "locationmode": "country names",
           "locations": [
            "switzerland",
            "iceland",
            "denmark",
            "norway",
            "canada",
            "finland",
            "netherlands",
            "sweden",
            "new zealand",
            "australia",
            "israel",
            "costa rica",
            "austria",
            "mexico",
            "united states",
            "brazil",
            "luxembourg",
            "ireland",
            "belgium",
            "united kingdom",
            "venezuela",
            "singapore",
            "panama",
            "germany",
            "chile",
            "qatar",
            "france",
            "argentina",
            "czech republic",
            "uruguay",
            "colombia",
            "thailand",
            "saudi arabia",
            "spain",
            "malta",
            "kuwait",
            "el salvador",
            "guatemala",
            "uzbekistan",
            "slovakia",
            "japan",
            "south korea",
            "ecuador",
            "bahrain",
            "italy",
            "bolivia",
            "moldova",
            "paraguay",
            "kazakhstan",
            "slovenia",
            "lithuania",
            "nicaragua",
            "peru",
            "belarus",
            "poland",
            "malaysia",
            "croatia",
            "libya",
            "russia",
            "jamaica",
            "cyprus",
            "algeria",
            "kosovo",
            "turkmenistan",
            "mauritius",
            "estonia",
            "indonesia",
            "vietnam",
            "turkey",
            "kyrgyzstan",
            "nigeria",
            "bhutan",
            "azerbaijan",
            "pakistan",
            "jordan",
            "montenegro",
            "china",
            "zambia",
            "romania",
            "serbia",
            "portugal",
            "latvia",
            "philippines",
            "morocco",
            "albania",
            "bosnia and herzegovina",
            "dominican republic",
            "mongolia",
            "greece",
            "lebanon",
            "hungary",
            "honduras",
            "tajikistan",
            "tunisia",
            "palestinian territories",
            "bangladesh",
            "iran",
            "ukraine",
            "iraq",
            "south africa",
            "ghana",
            "zimbabwe",
            "liberia",
            "india",
            "haiti",
            "congo (kinshasa)",
            "nepal",
            "ethiopia",
            "sierra leone",
            "mauritania",
            "kenya",
            "armenia",
            "botswana",
            "myanmar",
            "georgia",
            "malawi",
            "sri lanka",
            "cameroon",
            "bulgaria",
            "egypt",
            "yemen",
            "mali",
            "congo (brazzaville)",
            "uganda",
            "senegal",
            "gabon",
            "niger",
            "cambodia",
            "tanzania",
            "madagascar",
            "chad",
            "guinea",
            "ivory coast",
            "burkina faso",
            "afghanistan",
            "rwanda",
            "benin",
            "syria",
            "burundi",
            "togo"
           ],
           "name": "",
           "type": "choropleth",
           "z": {
            "bdata": "DAIrhxZZHkBYObTIdj4eQM/3U+OlGx5ASgwCK4cWHkBoke18P7UdQDm0yHa+nx1AUI2XbhKDHUDb+X5qvHQdQL6fGi/dJB1AiUFg5dAiHUDpJjEIrBwdQIGVQ4ts5xxAzczMzMzMHEBzaJHtfL8cQGDl0CLbeRxAO99PjZfuG0BiEFg5tMgbQMP1KFyPwhtAc2iR7Xy/G0ArhxbZzncbQD0K16NwPRtA/tR46SYxG0C+nxov3SQbQAAAAAAAABtArkfhehSuGkCLbOf7qXEaQM3MzMzMTBpAsp3vp8ZLGkCF61G4HgUaQHE9Ctej8BlAnMQgsHLoGUBSuB6F69EZQL6fGi/dpBlAN4lBYOVQGUBoke18PzUZQK5H4XoULhlAhetRuB6FGEDLoUW2830YQFCNl24SAxhAexSuR+H6F0Cmm8QgsPIXQFYOLbKd7xdAZmZmZmbmF0DXo3A9CtcXQJhuEoPAyhdAj8L1KFyPF0B1kxgEVo4XQFCNl24SgxdA7FG4HoVrF0AxCKwcWmQXQKJFtvP9VBdAHVpkO99PF0Cyne+nxksXQI2XbhKDQBdARIts5/spF0AUrkfhehQXQPCnxks3CRdAarx0kxgEF0B3vp8aL90WQLx0kxgE1hZAqMZLN4nBFkDsUbgehWsWQEJg5dAiWxZA/tR46SYxFkCcxCCwcugVQJ7vp8ZLtxVAf2q8dJOYFUBxPQrXo3AVQIcW2c73UxVAvp8aL90kFUDfT42XbhIVQFCNl24SAxVADAIrhxbZFEAtsp3vp8YUQPhT46WbxBRA+FPjpZvEFECPwvUoXI8UQGq8dJMYhBRA5dAi2/l+FEDLoUW2830UQJzEILByaBRAMQisHFpkFECYbhKDwEoUQFpkO99PDRRAvHSTGATWE0Cyne+nxssTQArXo3A9ihNA5dAi2/l+E0AhsHJokW0TQEJg5dAiWxNAMzMzMzMzE0D0/dR46SYTQL6fGi/dJBNA2/l+arz0EkBcj8L1KNwSQC2yne+nxhJAWDm0yHa+EkDTTWIQWLkSQGiR7Xw/tRJAxSCwcmiREkDVeOkmMYgSQHE9CtejcBJAYhBYObRIEkDD9Shcj0ISQN9PjZduEhJAxSCwcmgREkB1kxgEVg4SQD81XrpJDBJAukkMAisHEkBYObTIdr4RQJMYBFYOrRFAZmZmZmZmEUCHFtnO91MRQO58PzVeOhFA46WbxCAwEUBeukkMAisRQC/dJAaBFRFANV66SQwCEUCsHFpkO98QQC2yne+nxhBAAiuHFtlOEED2KFyPwvUPQLbz/dR46Q9AppvEILByD0AIrBxaZDsPQF66SQwCKw9Aw/UoXI/CDkBaZDvfT40OQHNoke18Pw5AppvEILByDUC8dJMYBFYNQHNoke18Pw1APQrXo3A9DUAZBFYOLbIMQJqZmZmZmQxAuB6F61G4C0C4HoXrUbgKQD81XrpJDAhAPQrXo3A9B0CDwMqhRbYGQA==",
            "dtype": "f8"
           }
          }
         ],
         "name": "2015"
        },
        {
         "data": [
          {
           "coloraxis": "coloraxis",
           "geo": "geo",
           "hovertemplate": "<b>%{hovertext}</b><br><br>Year=2016<br>Country=%{location}<br>Score=%{z}<extra></extra>",
           "hovertext": [
            "denmark",
            "switzerland",
            "iceland",
            "norway",
            "finland",
            "canada",
            "netherlands",
            "new zealand",
            "australia",
            "sweden",
            "israel",
            "austria",
            "united states",
            "costa rica",
            "germany",
            "brazil",
            "belgium",
            "ireland",
            "luxembourg",
            "mexico",
            "singapore",
            "united kingdom",
            "chile",
            "panama",
            "argentina",
            "czech republic",
            "uruguay",
            "malta",
            "colombia",
            "france",
            "thailand",
            "saudi arabia",
            "qatar",
            "spain",
            "algeria",
            "guatemala",
            "kuwait",
            "bahrain",
            "venezuela",
            "slovakia",
            "el salvador",
            "malaysia",
            "nicaragua",
            "uzbekistan",
            "italy",
            "ecuador",
            "japan",
            "kazakhstan",
            "moldova",
            "russia",
            "poland",
            "south korea",
            "bolivia",
            "lithuania",
            "belarus",
            "slovenia",
            "peru",
            "turkmenistan",
            "mauritius",
            "libya",
            "latvia",
            "cyprus",
            "paraguay",
            "romania",
            "estonia",
            "jamaica",
            "croatia",
            "kosovo",
            "turkey",
            "indonesia",
            "jordan",
            "azerbaijan",
            "philippines",
            "china",
            "bhutan",
            "kyrgyzstan",
            "serbia",
            "bosnia and herzegovina",
            "montenegro",
            "dominican republic",
            "morocco",
            "hungary",
            "pakistan",
            "lebanon",
            "portugal",
            "vietnam",
            "tunisia",
            "greece",
            "tajikistan",
            "mongolia",
            "nigeria",
            "honduras",
            "iran",
            "zambia",
            "nepal",
            "palestinian territories",
            "albania",
            "bangladesh",
            "sierra leone",
            "iraq",
            "cameroon",
            "ethiopia",
            "south africa",
            "sri lanka",
            "india",
            "myanmar",
            "egypt",
            "armenia",
            "kenya",
            "ukraine",
            "ghana",
            "congo (kinshasa)",
            "georgia",
            "congo (brazzaville)",
            "senegal",
            "bulgaria",
            "mauritania",
            "zimbabwe",
            "malawi",
            "gabon",
            "mali",
            "haiti",
            "botswana",
            "ivory coast",
            "cambodia",
            "niger",
            "chad",
            "burkina faso",
            "uganda",
            "yemen",
            "madagascar",
            "tanzania",
            "liberia",
            "guinea",
            "rwanda",
            "benin",
            "afghanistan",
            "togo",
            "syria",
            "burundi"
           ],
           "locationmode": "country names",
           "locations": [
            "denmark",
            "switzerland",
            "iceland",
            "norway",
            "finland",
            "canada",
            "netherlands",
            "new zealand",
            "australia",
            "sweden",
            "israel",
            "austria",
            "united states",
            "costa rica",
            "germany",
            "brazil",
            "belgium",
            "ireland",
            "luxembourg",
            "mexico",
            "singapore",
            "united kingdom",
            "chile",
            "panama",
            "argentina",
            "czech republic",
            "uruguay",
            "malta",
            "colombia",
            "france",
            "thailand",
            "saudi arabia",
            "qatar",
            "spain",
            "algeria",
            "guatemala",
            "kuwait",
            "bahrain",
            "venezuela",
            "slovakia",
            "el salvador",
            "malaysia",
            "nicaragua",
            "uzbekistan",
            "italy",
            "ecuador",
            "japan",
            "kazakhstan",
            "moldova",
            "russia",
            "poland",
            "south korea",
            "bolivia",
            "lithuania",
            "belarus",
            "slovenia",
            "peru",
            "turkmenistan",
            "mauritius",
            "libya",
            "latvia",
            "cyprus",
            "paraguay",
            "romania",
            "estonia",
            "jamaica",
            "croatia",
            "kosovo",
            "turkey",
            "indonesia",
            "jordan",
            "azerbaijan",
            "philippines",
            "china",
            "bhutan",
            "kyrgyzstan",
            "serbia",
            "bosnia and herzegovina",
            "montenegro",
            "dominican republic",
            "morocco",
            "hungary",
            "pakistan",
            "lebanon",
            "portugal",
            "vietnam",
            "tunisia",
            "greece",
            "tajikistan",
            "mongolia",
            "nigeria",
            "honduras",
            "iran",
            "zambia",
            "nepal",
            "palestinian territories",
            "albania",
            "bangladesh",
            "sierra leone",
            "iraq",
            "cameroon",
            "ethiopia",
            "south africa",
            "sri lanka",
            "india",
            "myanmar",
            "egypt",
            "armenia",
            "kenya",
            "ukraine",
            "ghana",
            "congo (kinshasa)",
            "georgia",
            "congo (brazzaville)",
            "senegal",
            "bulgaria",
            "mauritania",
            "zimbabwe",
            "malawi",
            "gabon",
            "mali",
            "haiti",
            "botswana",
            "ivory coast",
            "cambodia",
            "niger",
            "chad",
            "burkina faso",
            "uganda",
            "yemen",
            "madagascar",
            "tanzania",
            "liberia",
            "guinea",
            "rwanda",
            "benin",
            "afghanistan",
            "togo",
            "syria",
            "burundi"
           ],
           "name": "",
           "type": "choropleth",
           "z": {
            "bdata": "tMh2vp8aHkDwp8ZLNwkeQBsv3SQGAR5Ay6FFtvP9HUD0/dR46aYdQARWDi2ynR1AQmDl0CJbHUC8dJMYBFYdQI2XbhKDQB1ARIts5/spHUDFILByaBEdQGDl0CLbeRxA0SLb+X5qHEAMAiuHFlkcQGDl0CLb+RtAAiuHFtnOG0Ce76fGS7cbQFTjpZvEoBtAlkOLbOd7G0DpJjEIrBwbQNv5fmq89BpAZmZmZmbmGkBSuB6F69EaQOf7qfHSzRpAmpmZmZmZGkD8qfHSTWIaQK5H4XoULhpAwcqhRbbzGUAGgZVDi+wZQLbz/dR46RlATDeJQWDlGUBqvHSTGIQZQAAAAAAAgBlAi2zn+6lxGUDsUbgehWsZQLKd76fGSxlA2/l+arz0GECsHFpkO98YQLx0kxgEVhhAHVpkO99PGEASg8DKoUUYQIXrUbgeBRhAK4cW2c73F0Cmm8QgsPIXQJzEILBy6BdAgZVDi2znF0DJdr6fGq8XQJMYBFYOrRdASgwCK4eWF0AGgZVDi2wXQNejcD0KVxdA16NwPQpXF0B9PzVeukkXQI2XbhKDQBdAaJHtfD81F0DfT42XbhIXQEa28/3U+BZAbxKDwMqhFkBkO99PjZcWQPYoXI/CdRZAPQrXo3A9FkDJdr6fGi8WQPT91HjpJhZA6SYxCKwcFkDFILByaBEWQArXo3A9ChZAwcqhRbbzFUC0yHa+n5oVQHWTGARWjhVAqMZLN4lBFUCDwMqhRTYVQESLbOf7KRVABFYOLbIdFUB7FK5H4foUQGIQWDm0yBRAPQrXo3C9FEBoke18P7UUQPT91HjpphRAvp8aL92kFEAfhetRuJ4UQLTIdr6fmhRAFK5H4XqUFEC6SQwCK4cUQGq8dJMYhBRAy6FFtvN9FEBYObTIdj4UQK5H4XoULhRAbxKDwMohFECWQ4ts5/sTQFTjpZvEoBNAAAAAAACAE0CWQ4ts53sTQI2XbhKDQBNArkfhehQuE0B56SYxCCwTQGq8dJMYBBNAH4XrUbieEkDfT42XbpISQArXo3A9ihJAzczMzMxMEkBaZDvfTw0SQNV46SYxCBJAvHSTGATWEUApXI/C9agRQARWDi2ynRFAFK5H4XqUEUCmm8QgsHIRQHE9CtejcBFABoGVQ4tsEUCyne+nxksRQLTIdr6fGhFASgwCK4cWEUA1XrpJDAIRQIts5/up8RBAx0s3iUHgEECR7Xw/Nd4QQOf7qfHSzRBAEoPAyqHFEEA5tMh2vp8QQJZDi2znexBAmG4Sg8BKEEDpJjEIrBwQQJhuEoPAyg9AhxbZzvdTD0Coxks3iUEPQAwCK4cW2Q5AtMh2vp8aDkC28/3UeOkNQLbz/dR46Q1AmG4Sg8DKDUCPwvUoXI8NQIcW2c73Uw1AYOXQItv5DEBCYOXQItsMQB+F61G4HgxArBxaZDvfC0DhehSuR+EKQAaBlUOLbApAWmQ730+NCEA9CtejcD0HQA==",
            "dtype": "f8"
           }
          }
         ],
         "name": "2016"
        },
        {
         "data": [
          {
           "coloraxis": "coloraxis",
           "geo": "geo",
           "hovertemplate": "<b>%{hovertext}</b><br><br>Year=2017<br>Country=%{location}<br>Score=%{z}<extra></extra>",
           "hovertext": [
            "norway",
            "denmark",
            "iceland",
            "switzerland",
            "finland",
            "netherlands",
            "canada",
            "new zealand",
            "sweden",
            "australia",
            "israel",
            "costa rica",
            "austria",
            "united states",
            "ireland",
            "germany",
            "belgium",
            "luxembourg",
            "united kingdom",
            "chile",
            "brazil",
            "czech republic",
            "argentina",
            "mexico",
            "singapore",
            "malta",
            "uruguay",
            "guatemala",
            "panama",
            "france",
            "thailand",
            "spain",
            "qatar",
            "colombia",
            "saudi arabia",
            "kuwait",
            "slovakia",
            "bahrain",
            "malaysia",
            "nicaragua",
            "ecuador",
            "el salvador",
            "poland",
            "uzbekistan",
            "italy",
            "russia",
            "japan",
            "lithuania",
            "algeria",
            "latvia",
            "south korea",
            "moldova",
            "romania",
            "bolivia",
            "turkmenistan",
            "kazakhstan",
            "slovenia",
            "peru",
            "mauritius",
            "cyprus",
            "estonia",
            "belarus",
            "libya",
            "turkey",
            "paraguay",
            "philippines",
            "serbia",
            "jordan",
            "hungary",
            "jamaica",
            "croatia",
            "kosovo",
            "china",
            "pakistan",
            "indonesia",
            "venezuela",
            "montenegro",
            "morocco",
            "azerbaijan",
            "dominican republic",
            "greece",
            "lebanon",
            "portugal",
            "bosnia and herzegovina",
            "honduras",
            "vietnam",
            "nigeria",
            "tajikistan",
            "bhutan",
            "kyrgyzstan",
            "nepal",
            "mongolia",
            "south africa",
            "tunisia",
            "palestinian territories",
            "egypt",
            "bulgaria",
            "sierra leone",
            "cameroon",
            "iran",
            "albania",
            "bangladesh",
            "kenya",
            "myanmar",
            "senegal",
            "zambia",
            "iraq",
            "gabon",
            "ethiopia",
            "sri lanka",
            "armenia",
            "india",
            "mauritania",
            "congo (brazzaville)",
            "georgia",
            "congo (kinshasa)",
            "mali",
            "ivory coast",
            "cambodia",
            "ghana",
            "ukraine",
            "uganda",
            "burkina faso",
            "niger",
            "malawi",
            "chad",
            "zimbabwe",
            "afghanistan",
            "botswana",
            "benin",
            "madagascar",
            "haiti",
            "yemen",
            "liberia",
            "guinea",
            "togo",
            "rwanda",
            "syria",
            "tanzania",
            "burundi"
           ],
           "locationmode": "country names",
           "locations": [
            "norway",
            "denmark",
            "iceland",
            "switzerland",
            "finland",
            "netherlands",
            "canada",
            "new zealand",
            "sweden",
            "australia",
            "israel",
            "costa rica",
            "austria",
            "united states",
            "ireland",
            "germany",
            "belgium",
            "luxembourg",
            "united kingdom",
            "chile",
            "brazil",
            "czech republic",
            "argentina",
            "mexico",
            "singapore",
            "malta",
            "uruguay",
            "guatemala",
            "panama",
            "france",
            "thailand",
            "spain",
            "qatar",
            "colombia",
            "saudi arabia",
            "kuwait",
            "slovakia",
            "bahrain",
            "malaysia",
            "nicaragua",
            "ecuador",
            "el salvador",
            "poland",
            "uzbekistan",
            "italy",
            "russia",
            "japan",
            "lithuania",
            "algeria",
            "latvia",
            "south korea",
            "moldova",
            "romania",
            "bolivia",
            "turkmenistan",
            "kazakhstan",
            "slovenia",
            "peru",
            "mauritius",
            "cyprus",
            "estonia",
            "belarus",
            "libya",
            "turkey",
            "paraguay",
            "philippines",
            "serbia",
            "jordan",
            "hungary",
            "jamaica",
            "croatia",
            "kosovo",
            "china",
            "pakistan",
            "indonesia",
            "venezuela",
            "montenegro",
            "morocco",
            "azerbaijan",
            "dominican republic",
            "greece",
            "lebanon",
            "portugal",
            "bosnia and herzegovina",
            "honduras",
            "vietnam",
            "nigeria",
            "tajikistan",
            "bhutan",
            "kyrgyzstan",
            "nepal",
            "mongolia",
            "south africa",
            "tunisia",
            "palestinian territories",
            "egypt",
            "bulgaria",
            "sierra leone",
            "cameroon",
            "iran",
            "albania",
            "bangladesh",
            "kenya",
            "myanmar",
            "senegal",
            "zambia",
            "iraq",
            "gabon",
            "ethiopia",
            "sri lanka",
            "armenia",
            "india",
            "mauritania",
            "congo (brazzaville)",
            "georgia",
            "congo (kinshasa)",
            "mali",
            "ivory coast",
            "cambodia",
            "ghana",
            "ukraine",
            "uganda",
            "burkina faso",
            "niger",
            "malawi",
            "chad",
            "zimbabwe",
            "afghanistan",
            "botswana",
            "benin",
            "madagascar",
            "haiti",
            "yemen",
            "liberia",
            "guinea",
            "togo",
            "rwanda",
            "syria",
            "tanzania",
            "burundi"
           ],
           "name": "",
           "type": "choropleth",
           "z": {
            "bdata": "/v//X+MlHkADAAAghxYeQAQAAKAYBB5AAAAAINv5HUACAACAQeAdQPz//z8Mgh1A////f5VDHUADAABAiUEdQAMAAODQIh1AAwAA4NAiHUACAACgHNocQP3//1/lUBxAAAAA4CQGHEACAAAA1fgbQP///79y6BtABAAAANPNG0ADAABAYpAbQAAAAEC2cxtAAQAA4CLbGkAFAADgpZsaQAUAAIA9ihpA/f//v51vGkAEAABAYGUaQP///z/fTxpA////X7pJGkAFAADgpRsaQP3//1/l0BlA/f//X+XQGUABAAAg2c4ZQP3//5+bxBlA/P///yyyGUADAAAArJwZQAAAAAAAgBlAAAAAYJFtGUACAACAQWAZQAQAACCFaxhA+///H1pkGEAEAACAFlkYQP///x8EVhhAAQAAQLRIGED8//8fMQgYQAUAAGASAxhA+///H1rkF0D////fTeIXQAEAAOAi2xdAAgAAoBzaF0AFAACAFK4XQAUAAOClmxdA+///n+18F0ACAABgZmYXQAIAAKAcWhdAAgAAoBxaF0AEAADAzEwXQP3//3/AShdA////X7pJF0AEAADgp0YXQPz//x8xCBdA/////yjcFkAEAACgGIQWQPz//1/nexZABAAAAKpxFkAEAADgp0YWQP7//5+ZGRZAAAAAAAAAFkACAAAA1fgVQP3//99RuBVA/P//33qUFUD7//9fEFgVQPv//5/GSxVA/f//v3Y+FUD+//8/CCwVQAEAACCyHRVAAQAAQI0XFUD+//+/dBMVQAAAAMBJDBVAAAAAAAAAFUACAAAgsPIUQPv//9+j8BRA/f//v53vFEAEAAAghesUQP///79y6BRAAgAAYGbmFEADAAAgrscUQAUAAEBeuhRA/P//H1i5FED7//+fxksUQPv//5/GSxRAAQAA4PspFEACAACgQwsUQAQAAKAYBBRABAAAgBbZE0D7//9/69ETQP3//1/lUBNA/f//31E4E0D+//+fmRkTQPv//9+j8BJAAQAA4CLbEkD///8fBNYSQAMAACCuxxJA/f//n5vEEkD+//+/dJMSQP7//3+XbhJAAQAAoEU2EkAFAACAFC4SQAEAAADXIxJA/P///1UOEkD7//+f7fwRQP////8o3BFA/f//PwrXEUABAABgj8IRQP7//x8GgRFAAQAAYI9CEUD/////ASsRQAEAAOD7KRFA////H90kEUAAAABguB4RQAEAAGCPwhBA/f//31G4EED+//8/CKwQQP7//z/hehBA////301iEEAEAACg8VIQQPz//5/EIBBAAwAAAKwcEEABAABgj8IPQPv//5/tfA9AAAAAAAAAD0D2//+fHFoOQAcAAKDEIA5A+P//P4lBDUD8//9/6SYNQPn//5/x0gxACAAAwHa+DEAKAACAlUMMQPz///9VDgxA+///f8L1C0D9//+fm8QLQAgAAAAtsgtACAAAgMDKCkD///+fcD0HQA==",
            "dtype": "f8"
           }
          }
         ],
         "name": "2017"
        },
        {
         "data": [
          {
           "coloraxis": "coloraxis",
           "geo": "geo",
           "hovertemplate": "<b>%{hovertext}</b><br><br>Year=2018<br>Country=%{location}<br>Score=%{z}<extra></extra>",
           "hovertext": [
            "finland",
            "norway",
            "denmark",
            "iceland",
            "switzerland",
            "netherlands",
            "canada",
            "new zealand",
            "sweden",
            "australia",
            "united kingdom",
            "austria",
            "costa rica",
            "ireland",
            "germany",
            "belgium",
            "luxembourg",
            "united states",
            "israel",
            "czech republic",
            "malta",
            "france",
            "mexico",
            "chile",
            "panama",
            "brazil",
            "argentina",
            "guatemala",
            "uruguay",
            "qatar",
            "saudi arabia",
            "singapore",
            "malaysia",
            "spain",
            "colombia",
            "slovakia",
            "el salvador",
            "nicaragua",
            "poland",
            "bahrain",
            "uzbekistan",
            "kuwait",
            "thailand",
            "italy",
            "ecuador",
            "lithuania",
            "slovenia",
            "romania",
            "latvia",
            "japan",
            "mauritius",
            "jamaica",
            "south korea",
            "russia",
            "kazakhstan",
            "cyprus",
            "bolivia",
            "estonia",
            "paraguay",
            "peru",
            "kosovo",
            "moldova",
            "turkmenistan",
            "hungary",
            "libya",
            "philippines",
            "honduras",
            "belarus",
            "turkey",
            "pakistan",
            "portugal",
            "serbia",
            "greece",
            "lebanon",
            "montenegro",
            "croatia",
            "dominican republic",
            "algeria",
            "morocco",
            "china",
            "azerbaijan",
            "tajikistan",
            "jordan",
            "nigeria",
            "kyrgyzstan",
            "bosnia and herzegovina",
            "mongolia",
            "vietnam",
            "indonesia",
            "bhutan",
            "cameroon",
            "bulgaria",
            "nepal",
            "venezuela",
            "gabon",
            "palestinian territories",
            "south africa",
            "iran",
            "ivory coast",
            "ghana",
            "senegal",
            "tunisia",
            "albania",
            "sierra leone",
            "congo (brazzaville)",
            "bangladesh",
            "sri lanka",
            "iraq",
            "mali",
            "cambodia",
            "burkina faso",
            "egypt",
            "kenya",
            "zambia",
            "mauritania",
            "ethiopia",
            "georgia",
            "armenia",
            "myanmar",
            "chad",
            "congo (kinshasa)",
            "india",
            "niger",
            "uganda",
            "benin",
            "ukraine",
            "togo",
            "guinea",
            "madagascar",
            "zimbabwe",
            "afghanistan",
            "botswana",
            "malawi",
            "haiti",
            "liberia",
            "syria",
            "rwanda",
            "yemen",
            "tanzania",
            "burundi"
           ],
           "locationmode": "country names",
           "locations": [
            "finland",
            "norway",
            "denmark",
            "iceland",
            "switzerland",
            "netherlands",
            "canada",
            "new zealand",
            "sweden",
            "australia",
            "united kingdom",
            "austria",
            "costa rica",
            "ireland",
            "germany",
            "belgium",
            "luxembourg",
            "united states",
            "israel",
            "czech republic",
            "malta",
            "france",
            "mexico",
            "chile",
            "panama",
            "brazil",
            "argentina",
            "guatemala",
            "uruguay",
            "qatar",
            "saudi arabia",
            "singapore",
            "malaysia",
            "spain",
            "colombia",
            "slovakia",
            "el salvador",
            "nicaragua",
            "poland",
            "bahrain",
            "uzbekistan",
            "kuwait",
            "thailand",
            "italy",
            "ecuador",
            "lithuania",
            "slovenia",
            "romania",
            "latvia",
            "japan",
            "mauritius",
            "jamaica",
            "south korea",
            "russia",
            "kazakhstan",
            "cyprus",
            "bolivia",
            "estonia",
            "paraguay",
            "peru",
            "kosovo",
            "moldova",
            "turkmenistan",
            "hungary",
            "libya",
            "philippines",
            "honduras",
            "belarus",
            "turkey",
            "pakistan",
            "portugal",
            "serbia",
            "greece",
            "lebanon",
            "montenegro",
            "croatia",
            "dominican republic",
            "algeria",
            "morocco",
            "china",
            "azerbaijan",
            "tajikistan",
            "jordan",
            "nigeria",
            "kyrgyzstan",
            "bosnia and herzegovina",
            "mongolia",
            "vietnam",
            "indonesia",
            "bhutan",
            "cameroon",
            "bulgaria",
            "nepal",
            "venezuela",
            "gabon",
            "palestinian territories",
            "south africa",
            "iran",
            "ivory coast",
            "ghana",
            "senegal",
            "tunisia",
            "albania",
            "sierra leone",
            "congo (brazzaville)",
            "bangladesh",
            "sri lanka",
            "iraq",
            "mali",
            "cambodia",
            "burkina faso",
            "egypt",
            "kenya",
            "zambia",
            "mauritania",
            "ethiopia",
            "georgia",
            "armenia",
            "myanmar",
            "chad",
            "congo (kinshasa)",
            "india",
            "niger",
            "uganda",
            "benin",
            "ukraine",
            "togo",
            "guinea",
            "madagascar",
            "zimbabwe",
            "afghanistan",
            "botswana",
            "malawi",
            "haiti",
            "liberia",
            "syria",
            "rwanda",
            "yemen",
            "tanzania",
            "burundi"
           ],
           "name": "",
           "type": "choropleth",
           "z": {
            "bdata": "ukkMAiuHHkDHSzeJQWAeQLgehetROB5AexSuR+H6HUCmm8QgsPIdQN0kBoGVwx1AHVpkO99PHUCyne+nxksdQKjGSzeJQR1ASgwCK4cWHUDD9Shcj8IcQHWTGARWjhxAfT81XrpJHECcxCCwcugbQFyPwvUo3BtAaJHtfD+1G0CkcD0K16MbQCUGgZVDixtAqMZLN4lBG0Dy0k1iENgaQDVeukkMghpA2/l+arz0GUDByqFFtvMZQIGVQ4ts5xlAuB6F61G4GUCTGARWDq0ZQFpkO99PjRlAukkMAiuHGUBqvHSTGIQZQOXQItv5fhlAlkOLbOd7GUCsHFpkO18ZQH0/NV66SRlAPQrXo3A9GUAK16NwPQoZQP7UeOkmsRhAXrpJDAKrGECq8dJNYpAYQMuhRbbzfRhA7FG4HoVrGED8qfHSTWIYQKJFtvP9VBhAfT81XrpJGEAAAAAAAAAYQDEIrBxa5BdAAiuHFtnOF0CYbhKDwMoXQEjhehSuxxdACKwcWmS7F0ApXI/C9agXQKrx0k1ikBdAj8L1KFyPF0AAAAAAAIAXQD0K16NwPRdAKVyPwvUoF0A/NV66SQwXQDVeukkMAhdA2/l+arz0FkDTTWIQWLkWQPT91HjpphZA2c73U+OlFkCPwvUoXI8WQCUGgZVDixZAexSuR+F6FkDdJAaBlUMWQH9qvHSTGBZAarx0kxgEFkA730+Nl+4VQDvfT42X7hVAF9nO91PjFUCkcD0K16MVQGQ730+NlxVAO99PjZduFUA730+Nl24VQBfZzvdTYxVAYhBYObRIFUBoke18PzUVQK5H4XoULhVAarx0kxgEFUCWQ4ts5/sUQOf7qfHSzRRAsp3vp8bLFEC+nxov3aQUQB+F61G4nhRAoBov3SSGFEBqvHSTGIQUQAAAAAAAgBRAtvP91HhpFECsHFpkO18UQIcW2c73UxRAZmZmZmbmE0AIrBxaZLsTQIXrUbgehRNA001iEFg5E0DVeOkmMQgTQEa28/3U+BJATDeJQWDlEkCHFtnO99MSQMl2vp8arxJAVOOlm8SgEkCgGi/dJIYSQJHtfD81XhJA8tJNYhBYEkBiEFg5tEgSQCPb+X5qPBJAAAAAAAAAEkD8qfHSTeIRQG3n+6nx0hFAfT81XrrJEUAIrBxaZLsRQBkEVg4tshFAkxgEVg6tEUCkcD0K16MRQDVeukkMghFABoGVQ4tsEUBmZmZmZmYRQFyPwvUoXBFAYhBYObRIEUAIrBxaZDsRQE5iEFg5NBFAexSuR+H6EEDD9Shcj8IQQESLbOf7qRBAvp8aL92kEECq8dJNYpAQQLbz/dR4aRBAy6FFtvP9D0CDwMqhRbYPQP7UeOkmMQ5A8KfGSzeJDUB1kxgEVg4NQLgehetRuAxAGQRWDi2yDEAOLbKd76cMQPYoXI/C9QtAGQRWDi2yC0DdJAaBlUMLQNejcD0K1wpABoGVQ4tsCkA9CtejcD0HQA==",
            "dtype": "f8"
           }
          }
         ],
         "name": "2018"
        },
        {
         "data": [
          {
           "coloraxis": "coloraxis",
           "geo": "geo",
           "hovertemplate": "<b>%{hovertext}</b><br><br>Year=2019<br>Country=%{location}<br>Score=%{z}<extra></extra>",
           "hovertext": [
            "finland",
            "denmark",
            "norway",
            "iceland",
            "netherlands",
            "switzerland",
            "sweden",
            "new zealand",
            "canada",
            "austria",
            "australia",
            "costa rica",
            "israel",
            "luxembourg",
            "united kingdom",
            "ireland",
            "germany",
            "belgium",
            "united states",
            "czech republic",
            "malta",
            "mexico",
            "france",
            "chile",
            "guatemala",
            "saudi arabia",
            "qatar",
            "spain",
            "panama",
            "brazil",
            "uruguay",
            "singapore",
            "el salvador",
            "italy",
            "bahrain",
            "slovakia",
            "poland",
            "uzbekistan",
            "lithuania",
            "colombia",
            "slovenia",
            "nicaragua",
            "kosovo",
            "argentina",
            "romania",
            "cyprus",
            "ecuador",
            "kuwait",
            "thailand",
            "latvia",
            "south korea",
            "estonia",
            "jamaica",
            "mauritius",
            "japan",
            "honduras",
            "kazakhstan",
            "bolivia",
            "hungary",
            "paraguay",
            "peru",
            "portugal",
            "pakistan",
            "russia",
            "philippines",
            "serbia",
            "moldova",
            "libya",
            "montenegro",
            "tajikistan",
            "croatia",
            "dominican republic",
            "bosnia and herzegovina",
            "turkey",
            "malaysia",
            "belarus",
            "greece",
            "mongolia",
            "nigeria",
            "kyrgyzstan",
            "turkmenistan",
            "algeria",
            "morocco",
            "azerbaijan",
            "lebanon",
            "indonesia",
            "china",
            "vietnam",
            "bhutan",
            "cameroon",
            "bulgaria",
            "ghana",
            "ivory coast",
            "nepal",
            "jordan",
            "benin",
            "congo (brazzaville)",
            "gabon",
            "south africa",
            "albania",
            "venezuela",
            "cambodia",
            "palestinian territories",
            "senegal",
            "niger",
            "burkina faso",
            "armenia",
            "iran",
            "guinea",
            "georgia",
            "kenya",
            "mauritania",
            "tunisia",
            "bangladesh",
            "iraq",
            "congo (kinshasa)",
            "mali",
            "sierra leone",
            "sri lanka",
            "myanmar",
            "chad",
            "ukraine",
            "ethiopia",
            "uganda",
            "egypt",
            "zambia",
            "togo",
            "india",
            "liberia",
            "madagascar",
            "burundi",
            "zimbabwe",
            "haiti",
            "botswana",
            "syria",
            "malawi",
            "yemen",
            "rwanda",
            "tanzania",
            "afghanistan"
           ],
           "locationmode": "country names",
           "locations": [
            "finland",
            "denmark",
            "norway",
            "iceland",
            "netherlands",
            "switzerland",
            "sweden",
            "new zealand",
            "canada",
            "austria",
            "australia",
            "costa rica",
            "israel",
            "luxembourg",
            "united kingdom",
            "ireland",
            "germany",
            "belgium",
            "united states",
            "czech republic",
            "malta",
            "mexico",
            "france",
            "chile",
            "guatemala",
            "saudi arabia",
            "qatar",
            "spain",
            "panama",
            "brazil",
            "uruguay",
            "singapore",
            "el salvador",
            "italy",
            "bahrain",
            "slovakia",
            "poland",
            "uzbekistan",
            "lithuania",
            "colombia",
            "slovenia",
            "nicaragua",
            "kosovo",
            "argentina",
            "romania",
            "cyprus",
            "ecuador",
            "kuwait",
            "thailand",
            "latvia",
            "south korea",
            "estonia",
            "jamaica",
            "mauritius",
            "japan",
            "honduras",
            "kazakhstan",
            "bolivia",
            "hungary",
            "paraguay",
            "peru",
            "portugal",
            "pakistan",
            "russia",
            "philippines",
            "serbia",
            "moldova",
            "libya",
            "montenegro",
            "tajikistan",
            "croatia",
            "dominican republic",
            "bosnia and herzegovina",
            "turkey",
            "malaysia",
            "belarus",
            "greece",
            "mongolia",
            "nigeria",
            "kyrgyzstan",
            "turkmenistan",
            "algeria",
            "morocco",
            "azerbaijan",
            "lebanon",
            "indonesia",
            "china",
            "vietnam",
            "bhutan",
            "cameroon",
            "bulgaria",
            "ghana",
            "ivory coast",
            "nepal",
            "jordan",
            "benin",
            "congo (brazzaville)",
            "gabon",
            "south africa",
            "albania",
            "venezuela",
            "cambodia",
            "palestinian territories",
            "senegal",
            "niger",
            "burkina faso",
            "armenia",
            "iran",
            "guinea",
            "georgia",
            "kenya",
            "mauritania",
            "tunisia",
            "bangladesh",
            "iraq",
            "congo (kinshasa)",
            "mali",
            "sierra leone",
            "sri lanka",
            "myanmar",
            "chad",
            "ukraine",
            "ethiopia",
            "uganda",
            "egypt",
            "zambia",
            "togo",
            "india",
            "liberia",
            "madagascar",
            "burundi",
            "zimbabwe",
            "haiti",
            "botswana",
            "syria",
            "malawi",
            "yemen",
            "rwanda",
            "tanzania",
            "afghanistan"
           ],
           "name": "",
           "type": "choropleth",
           "z": {
            "bdata": "+n5qvHQTH0BmZmZmZmYeQJ7vp8ZLNx5AYOXQItv5HUDByqFFtvMdQOxRuB6F6x1ArBxaZDtfHUDufD81XjodQOkmMQisHB1AlkOLbOf7HEC28/3UeOkcQF66SQwCqxxAdZMYBFaOHEBcj8L1KFwcQJ7vp8ZLNxxAL90kBoEVHEBxPQrXo/AbQP7UeOkmsRtAxSCwcmiRG0CcxCCwcmgbQIGVQ4ts5xpA4XoUrkdhGkCR7Xw/NV4aQC2yne+nxhlAWDm0yHa+GUAAAAAAAIAZQOXQItv5fhlA0SLb+X5qGUBiEFg5tEgZQDMzMzMzMxlAeekmMQgsGUA/NV66SQwZQFCNl24SAxlAMQisHFrkGECyne+nxssYQJhuEoPAyhhA7nw/NV66GEAZBFYOLbIYQH9qvHSTmBhAAAAAAACAGEBGtvP91HgYQOxRuB6FaxhAZmZmZmZmGEDy0k1iEFgYQEjhehSuRxhAyXa+nxovGEDpJjEIrBwYQC/dJAaBFRhA1XjpJjEIGEDD9Shcj8IXQBSuR+F6lBdA30+Nl26SF0CPwvUoXI8XQFpkO99PjRdAJQaBlUOLF0BxPQrXo3AXQCPb+X5qPBdABFYOLbIdF0DVeOkmMQgXQEa28/3U+BZAfT81XrrJFkASg8DKocUWQOkmMQisnBZAZDvfT42XFkCgGi/dJIYWQLbz/dR4aRZABFYOLbIdFkCamZmZmRkWQGQ730+NFxZAke18PzXeFUDufD81XroVQDMzMzMzsxVAJQaBlUOLFUDLoUW2830VQEJg5dAiWxVAmG4Sg8BKFUDZzvdT4yUVQKRwPQrXIxVAj8L1KFwPFUAlBoGVQwsVQLByaJHt/BRA8tJNYhDYFECiRbbz/dQUQKJFtvP91BRAfT81XrrJFED4U+Olm8QUQN0kBoGVwxRAMzMzMzOzFECHFtnO91MUQJMYBFYOLRRAJQaBlUMLFECWQ4ts5/sTQC2yne+nxhNA9P3UeOmmE0A5tMh2vp8TQNV46SYxiBNAc2iR7Xw/E0AZBFYOLTITQBfZzvdT4xJAx0s3iUHgEkCHFtnO99MSQM3MzMzMzBJAYhBYObTIEkDTTWIQWLkSQFCNl24SgxJADAIrhxZZEkAj2/l+ajwSQP7UeOkmMRJAiUFg5dAiEkD6fmq8dBMSQPCnxks3CRJA9ihcj8L1EUDy0k1iENgRQG3n+6nx0hFAc2iR7Xy/EUB56SYxCKwRQI/C9ShcjxFA5dAi2/l+EUAQWDm0yHYRQHE9CtejcBFAZmZmZmZmEUCHFtnO91MRQL6fGi/dJBFAqMZLN4nBEEBEi2zn+6kQQCGwcmiRbRBA16NwPQpXEECPwvUoXA8QQM3MzMzMzA9AEFg5tMh2D0AzMzMzMzMOQOf7qfHSTQ1ALbKd76fGDECBlUOLbOcLQBkEVg4tsgtASOF6FK5HC0AK16NwPQoLQHnpJjEIrApADAIrhxbZCUA5tMh2vp8JQA==",
            "dtype": "f8"
           }
          }
         ],
         "name": "2019"
        }
       ],
       "layout": {
        "coloraxis": {
         "cmax": 7.769,
         "cmin": 2.839,
         "colorbar": {
          "title": {
           "text": "Score"
          }
         },
         "colorscale": [
          [
           0,
           "red"
          ],
          [
           0.5,
           "yellow"
          ],
          [
           1,
           "green"
          ]
         ]
        },
        "geo": {
         "center": {},
         "domain": {
          "x": [
           0,
           1
          ],
          "y": [
           0,
           1
          ]
         },
         "landcolor": "lightgray",
         "oceancolor": "lightblue",
         "projection": {
          "type": "natural earth"
         },
         "showcoastlines": true,
         "showcountries": true,
         "showland": true,
         "showocean": true
        },
        "height": 700,
        "legend": {
         "tracegroupgap": 0
        },
        "sliders": [
         {
          "active": 0,
          "currentvalue": {
           "prefix": "Year="
          },
          "len": 0.9,
          "pad": {
           "b": 10,
           "t": 60
          },
          "steps": [
           {
            "args": [
             [
              "2015"
             ],
             {
              "frame": {
               "duration": 0,
               "redraw": true
              },
              "fromcurrent": true,
              "mode": "immediate",
              "transition": {
               "duration": 0,
               "easing": "linear"
              }
             }
            ],
            "label": "2015",
            "method": "animate"
           },
           {
            "args": [
             [
              "2016"
             ],
             {
              "frame": {
               "duration": 0,
               "redraw": true
              },
              "fromcurrent": true,
              "mode": "immediate",
              "transition": {
               "duration": 0,
               "easing": "linear"
              }
             }
            ],
            "label": "2016",
            "method": "animate"
           },
           {
            "args": [
             [
              "2017"
             ],
             {
              "frame": {
               "duration": 0,
               "redraw": true
              },
              "fromcurrent": true,
              "mode": "immediate",
              "transition": {
               "duration": 0,
               "easing": "linear"
              }
             }
            ],
            "label": "2017",
            "method": "animate"
           },
           {
            "args": [
             [
              "2018"
             ],
             {
              "frame": {
               "duration": 0,
               "redraw": true
              },
              "fromcurrent": true,
              "mode": "immediate",
              "transition": {
               "duration": 0,
               "easing": "linear"
              }
             }
            ],
            "label": "2018",
            "method": "animate"
           },
           {
            "args": [
             [
              "2019"
             ],
             {
              "frame": {
               "duration": 0,
               "redraw": true
              },
              "fromcurrent": true,
              "mode": "immediate",
              "transition": {
               "duration": 0,
               "easing": "linear"
              }
             }
            ],
            "label": "2019",
            "method": "animate"
           }
          ],
          "x": 0.1,
          "xanchor": "left",
          "y": 0,
          "yanchor": "top"
         }
        ],
        "template": {
         "data": {
          "bar": [
           {
            "error_x": {
             "color": "#2a3f5f"
            },
            "error_y": {
             "color": "#2a3f5f"
            },
            "marker": {
             "line": {
              "color": "#E5ECF6",
              "width": 0.5
             },
             "pattern": {
              "fillmode": "overlay",
              "size": 10,
              "solidity": 0.2
             }
            },
            "type": "bar"
           }
          ],
          "barpolar": [
           {
            "marker": {
             "line": {
              "color": "#E5ECF6",
              "width": 0.5
             },
             "pattern": {
              "fillmode": "overlay",
              "size": 10,
              "solidity": 0.2
             }
            },
            "type": "barpolar"
           }
          ],
          "carpet": [
           {
            "aaxis": {
             "endlinecolor": "#2a3f5f",
             "gridcolor": "white",
             "linecolor": "white",
             "minorgridcolor": "white",
             "startlinecolor": "#2a3f5f"
            },
            "baxis": {
             "endlinecolor": "#2a3f5f",
             "gridcolor": "white",
             "linecolor": "white",
             "minorgridcolor": "white",
             "startlinecolor": "#2a3f5f"
            },
            "type": "carpet"
           }
          ],
          "choropleth": [
           {
            "colorbar": {
             "outlinewidth": 0,
             "ticks": ""
            },
            "type": "choropleth"
           }
          ],
          "contour": [
           {
            "colorbar": {
             "outlinewidth": 0,
             "ticks": ""
            },
            "colorscale": [
             [
              0,
              "#0d0887"
             ],
             [
              0.1111111111111111,
              "#46039f"
             ],
             [
              0.2222222222222222,
              "#7201a8"
             ],
             [
              0.3333333333333333,
              "#9c179e"
             ],
             [
              0.4444444444444444,
              "#bd3786"
             ],
             [
              0.5555555555555556,
              "#d8576b"
             ],
             [
              0.6666666666666666,
              "#ed7953"
             ],
             [
              0.7777777777777778,
              "#fb9f3a"
             ],
             [
              0.8888888888888888,
              "#fdca26"
             ],
             [
              1,
              "#f0f921"
             ]
            ],
            "type": "contour"
           }
          ],
          "contourcarpet": [
           {
            "colorbar": {
             "outlinewidth": 0,
             "ticks": ""
            },
            "type": "contourcarpet"
           }
          ],
          "heatmap": [
           {
            "colorbar": {
             "outlinewidth": 0,
             "ticks": ""
            },
            "colorscale": [
             [
              0,
              "#0d0887"
             ],
             [
              0.1111111111111111,
              "#46039f"
             ],
             [
              0.2222222222222222,
              "#7201a8"
             ],
             [
              0.3333333333333333,
              "#9c179e"
             ],
             [
              0.4444444444444444,
              "#bd3786"
             ],
             [
              0.5555555555555556,
              "#d8576b"
             ],
             [
              0.6666666666666666,
              "#ed7953"
             ],
             [
              0.7777777777777778,
              "#fb9f3a"
             ],
             [
              0.8888888888888888,
              "#fdca26"
             ],
             [
              1,
              "#f0f921"
             ]
            ],
            "type": "heatmap"
           }
          ],
          "histogram": [
           {
            "marker": {
             "pattern": {
              "fillmode": "overlay",
              "size": 10,
              "solidity": 0.2
             }
            },
            "type": "histogram"
           }
          ],
          "histogram2d": [
           {
            "colorbar": {
             "outlinewidth": 0,
             "ticks": ""
            },
            "colorscale": [
             [
              0,
              "#0d0887"
             ],
             [
              0.1111111111111111,
              "#46039f"
             ],
             [
              0.2222222222222222,
              "#7201a8"
             ],
             [
              0.3333333333333333,
              "#9c179e"
             ],
             [
              0.4444444444444444,
              "#bd3786"
             ],
             [
              0.5555555555555556,
              "#d8576b"
             ],
             [
              0.6666666666666666,
              "#ed7953"
             ],
             [
              0.7777777777777778,
              "#fb9f3a"
             ],
             [
              0.8888888888888888,
              "#fdca26"
             ],
             [
              1,
              "#f0f921"
             ]
            ],
            "type": "histogram2d"
           }
          ],
          "histogram2dcontour": [
           {
            "colorbar": {
             "outlinewidth": 0,
             "ticks": ""
            },
            "colorscale": [
             [
              0,
              "#0d0887"
             ],
             [
              0.1111111111111111,
              "#46039f"
             ],
             [
              0.2222222222222222,
              "#7201a8"
             ],
             [
              0.3333333333333333,
              "#9c179e"
             ],
             [
              0.4444444444444444,
              "#bd3786"
             ],
             [
              0.5555555555555556,
              "#d8576b"
             ],
             [
              0.6666666666666666,
              "#ed7953"
             ],
             [
              0.7777777777777778,
              "#fb9f3a"
             ],
             [
              0.8888888888888888,
              "#fdca26"
             ],
             [
              1,
              "#f0f921"
             ]
            ],
            "type": "histogram2dcontour"
           }
          ],
          "mesh3d": [
           {
            "colorbar": {
             "outlinewidth": 0,
             "ticks": ""
            },
            "type": "mesh3d"
           }
          ],
          "parcoords": [
           {
            "line": {
             "colorbar": {
              "outlinewidth": 0,
              "ticks": ""
             }
            },
            "type": "parcoords"
           }
          ],
          "pie": [
           {
            "automargin": true,
            "type": "pie"
           }
          ],
          "scatter": [
           {
            "fillpattern": {
             "fillmode": "overlay",
             "size": 10,
             "solidity": 0.2
            },
            "type": "scatter"
           }
          ],
          "scatter3d": [
           {
            "line": {
             "colorbar": {
              "outlinewidth": 0,
              "ticks": ""
             }
            },
            "marker": {
             "colorbar": {
              "outlinewidth": 0,
              "ticks": ""
             }
            },
            "type": "scatter3d"
           }
          ],
          "scattercarpet": [
           {
            "marker": {
             "colorbar": {
              "outlinewidth": 0,
              "ticks": ""
             }
            },
            "type": "scattercarpet"
           }
          ],
          "scattergeo": [
           {
            "marker": {
             "colorbar": {
              "outlinewidth": 0,
              "ticks": ""
             }
            },
            "type": "scattergeo"
           }
          ],
          "scattergl": [
           {
            "marker": {
             "colorbar": {
              "outlinewidth": 0,
              "ticks": ""
             }
            },
            "type": "scattergl"
           }
          ],
          "scattermap": [
           {
            "marker": {
             "colorbar": {
              "outlinewidth": 0,
              "ticks": ""
             }
            },
            "type": "scattermap"
           }
          ],
          "scattermapbox": [
           {
            "marker": {
             "colorbar": {
              "outlinewidth": 0,
              "ticks": ""
             }
            },
            "type": "scattermapbox"
           }
          ],
          "scatterpolar": [
           {
            "marker": {
             "colorbar": {
              "outlinewidth": 0,
              "ticks": ""
             }
            },
            "type": "scatterpolar"
           }
          ],
          "scatterpolargl": [
           {
            "marker": {
             "colorbar": {
              "outlinewidth": 0,
              "ticks": ""
             }
            },
            "type": "scatterpolargl"
           }
          ],
          "scatterternary": [
           {
            "marker": {
             "colorbar": {
              "outlinewidth": 0,
              "ticks": ""
             }
            },
            "type": "scatterternary"
           }
          ],
          "surface": [
           {
            "colorbar": {
             "outlinewidth": 0,
             "ticks": ""
            },
            "colorscale": [
             [
              0,
              "#0d0887"
             ],
             [
              0.1111111111111111,
              "#46039f"
             ],
             [
              0.2222222222222222,
              "#7201a8"
             ],
             [
              0.3333333333333333,
              "#9c179e"
             ],
             [
              0.4444444444444444,
              "#bd3786"
             ],
             [
              0.5555555555555556,
              "#d8576b"
             ],
             [
              0.6666666666666666,
              "#ed7953"
             ],
             [
              0.7777777777777778,
              "#fb9f3a"
             ],
             [
              0.8888888888888888,
              "#fdca26"
             ],
             [
              1,
              "#f0f921"
             ]
            ],
            "type": "surface"
           }
          ],
          "table": [
           {
            "cells": {
             "fill": {
              "color": "#EBF0F8"
             },
             "line": {
              "color": "white"
             }
            },
            "header": {
             "fill": {
              "color": "#C8D4E3"
             },
             "line": {
              "color": "white"
             }
            },
            "type": "table"
           }
          ]
         },
         "layout": {
          "annotationdefaults": {
           "arrowcolor": "#2a3f5f",
           "arrowhead": 0,
           "arrowwidth": 1
          },
          "autotypenumbers": "strict",
          "coloraxis": {
           "colorbar": {
            "outlinewidth": 0,
            "ticks": ""
           }
          },
          "colorscale": {
           "diverging": [
            [
             0,
             "#8e0152"
            ],
            [
             0.1,
             "#c51b7d"
            ],
            [
             0.2,
             "#de77ae"
            ],
            [
             0.3,
             "#f1b6da"
            ],
            [
             0.4,
             "#fde0ef"
            ],
            [
             0.5,
             "#f7f7f7"
            ],
            [
             0.6,
             "#e6f5d0"
            ],
            [
             0.7,
             "#b8e186"
            ],
            [
             0.8,
             "#7fbc41"
            ],
            [
             0.9,
             "#4d9221"
            ],
            [
             1,
             "#276419"
            ]
           ],
           "sequential": [
            [
             0,
             "#0d0887"
            ],
            [
             0.1111111111111111,
             "#46039f"
            ],
            [
             0.2222222222222222,
             "#7201a8"
            ],
            [
             0.3333333333333333,
             "#9c179e"
            ],
            [
             0.4444444444444444,
             "#bd3786"
            ],
            [
             0.5555555555555556,
             "#d8576b"
            ],
            [
             0.6666666666666666,
             "#ed7953"
            ],
            [
             0.7777777777777778,
             "#fb9f3a"
            ],
            [
             0.8888888888888888,
             "#fdca26"
            ],
            [
             1,
             "#f0f921"
            ]
           ],
           "sequentialminus": [
            [
             0,
             "#0d0887"
            ],
            [
             0.1111111111111111,
             "#46039f"
            ],
            [
             0.2222222222222222,
             "#7201a8"
            ],
            [
             0.3333333333333333,
             "#9c179e"
            ],
            [
             0.4444444444444444,
             "#bd3786"
            ],
            [
             0.5555555555555556,
             "#d8576b"
            ],
            [
             0.6666666666666666,
             "#ed7953"
            ],
            [
             0.7777777777777778,
             "#fb9f3a"
            ],
            [
             0.8888888888888888,
             "#fdca26"
            ],
            [
             1,
             "#f0f921"
            ]
           ]
          },
          "colorway": [
           "#636efa",
           "#EF553B",
           "#00cc96",
           "#ab63fa",
           "#FFA15A",
           "#19d3f3",
           "#FF6692",
           "#B6E880",
           "#FF97FF",
           "#FECB52"
          ],
          "font": {
           "color": "#2a3f5f"
          },
          "geo": {
           "bgcolor": "white",
           "lakecolor": "white",
           "landcolor": "#E5ECF6",
           "showlakes": true,
           "showland": true,
           "subunitcolor": "white"
          },
          "hoverlabel": {
           "align": "left"
          },
          "hovermode": "closest",
          "mapbox": {
           "style": "light"
          },
          "paper_bgcolor": "white",
          "plot_bgcolor": "#E5ECF6",
          "polar": {
           "angularaxis": {
            "gridcolor": "white",
            "linecolor": "white",
            "ticks": ""
           },
           "bgcolor": "#E5ECF6",
           "radialaxis": {
            "gridcolor": "white",
            "linecolor": "white",
            "ticks": ""
           }
          },
          "scene": {
           "xaxis": {
            "backgroundcolor": "#E5ECF6",
            "gridcolor": "white",
            "gridwidth": 2,
            "linecolor": "white",
            "showbackground": true,
            "ticks": "",
            "zerolinecolor": "white"
           },
           "yaxis": {
            "backgroundcolor": "#E5ECF6",
            "gridcolor": "white",
            "gridwidth": 2,
            "linecolor": "white",
            "showbackground": true,
            "ticks": "",
            "zerolinecolor": "white"
           },
           "zaxis": {
            "backgroundcolor": "#E5ECF6",
            "gridcolor": "white",
            "gridwidth": 2,
            "linecolor": "white",
            "showbackground": true,
            "ticks": "",
            "zerolinecolor": "white"
           }
          },
          "shapedefaults": {
           "line": {
            "color": "#2a3f5f"
           }
          },
          "ternary": {
           "aaxis": {
            "gridcolor": "white",
            "linecolor": "white",
            "ticks": ""
           },
           "baxis": {
            "gridcolor": "white",
            "linecolor": "white",
            "ticks": ""
           },
           "bgcolor": "#E5ECF6",
           "caxis": {
            "gridcolor": "white",
            "linecolor": "white",
            "ticks": ""
           }
          },
          "title": {
           "x": 0.05
          },
          "xaxis": {
           "automargin": true,
           "gridcolor": "white",
           "linecolor": "white",
           "ticks": "",
           "title": {
            "standoff": 15
           },
           "zerolinecolor": "white",
           "zerolinewidth": 2
          },
          "yaxis": {
           "automargin": true,
           "gridcolor": "white",
           "linecolor": "white",
           "ticks": "",
           "title": {
            "standoff": 15
           },
           "zerolinecolor": "white",
           "zerolinewidth": 2
          }
         }
        },
        "title": {
         "text": "Happiness Score by Country"
        },
        "updatemenus": [
         {
          "buttons": [
           {
            "args": [
             null,
             {
              "frame": {
               "duration": 500,
               "redraw": true
              },
              "fromcurrent": true,
              "mode": "immediate",
              "transition": {
               "duration": 500,
               "easing": "linear"
              }
             }
            ],
            "label": "&#9654;",
            "method": "animate"
           },
           {
            "args": [
             [
              null
             ],
             {
              "frame": {
               "duration": 0,
               "redraw": true
              },
              "fromcurrent": true,
              "mode": "immediate",
              "transition": {
               "duration": 0,
               "easing": "linear"
              }
             }
            ],
            "label": "&#9724;",
            "method": "animate"
           }
          ],
          "direction": "left",
          "pad": {
           "r": 10,
           "t": 70
          },
          "showactive": false,
          "type": "buttons",
          "x": 0.1,
          "xanchor": "right",
          "y": 0,
          "yanchor": "top"
         }
        ],
        "width": 1400
       }
      }
     },
     "metadata": {},
     "output_type": "display_data"
    }
   ],
   "source": [
    "# Map years to dataframes\n",
    "dfs = {2015: df_2015, 2016: df_2016, 2017: df_2017, 2018: df_2018, 2019: df_2019}\n",
    "\n",
    "# Create new dataframes with a 'Year' column and concatenate them\n",
    "df_new = pd.concat([df.assign(Year=year) for year, df in dfs.items()])\n",
    "\n",
    "# Create the choropleth map\n",
    "fig = px.choropleth(df_new, \n",
    "                    locations=\"Country\", \n",
    "                    locationmode='country names', \n",
    "                    color=\"Score\",\n",
    "                    hover_name=\"Country\", \n",
    "                    animation_frame=\"Year\", \n",
    "                    color_continuous_scale=[\"red\", \"yellow\", \"green\"],\n",
    "                    title='Happiness Score by Country', \n",
    "                    range_color=[df_new.Score.min(), df_new.Score.max()])\n",
    "fig.update_layout(width=1400, height=700, updatemenus=[], geo=dict(showocean=True, oceancolor=\"lightblue\"))\n",
    "fig.update_geos(projection_type=\"natural earth\", showcountries=True, showcoastlines=True, showland=True, landcolor=\"lightgray\")\n",
    "fig.show()"
   ]
  },
  {
   "cell_type": "code",
   "execution_count": 47,
   "metadata": {},
   "outputs": [],
   "source": [
    "## Correlation Matrix\n",
    "def getConvoMatrix(df):\n",
    "    size = df.shape[1]\n",
    "    \n",
    "    cont = []\n",
    "    \n",
    "    for i in range(0, size):\n",
    "        here = []\n",
    "        for j in range(0, size):\n",
    "            here.append(-1)\n",
    "        cont.append(here)\n",
    "    \n",
    "    # for each feature in one axis.\n",
    "    for i in range(0, size):\n",
    "        for j in range(0, size):\n",
    "            x_sum = 0\n",
    "            y_sum = 0\n",
    "            xy_sum = 0\n",
    "            x_sq_sum = 0\n",
    "            y_sq_sum = 0\n",
    "            \n",
    "            for k in range(0, df.shape[0]):\n",
    "                x_sum += df.iloc[k, i]\n",
    "                y_sum += df.iloc[k, j]\n",
    "                xy_sum += df.iloc[k, i] * df.iloc[k, j]\n",
    "                x_sq_sum += df.iloc[k, i] ** 2\n",
    "                y_sq_sum += df.iloc[k, j] ** 2\n",
    "            \n",
    "            numerator = (df.shape[0] * xy_sum) - (x_sum * y_sum)\n",
    "            denominator = ((df.shape[0] * x_sq_sum - (x_sum ** 2)) * (df.shape[0] * y_sq_sum - (y_sum ** 2))) ** 0.5\n",
    "            \n",
    "            cont[i][j] = numerator / denominator\n",
    "    \n",
    "    return cont"
   ]
  },
  {
   "cell_type": "code",
   "execution_count": 48,
   "metadata": {},
   "outputs": [],
   "source": [
    "cols = ['Score', 'GDPPC', 'Family', 'Health', 'Freedom', 'Trust', 'Generosity']\n",
    "df_range = [pd.DataFrame(getConvoMatrix(df_2015[cols])), pd.DataFrame(getConvoMatrix(df_2016[cols])), pd.DataFrame(getConvoMatrix(df_2017[cols])), pd.DataFrame(getConvoMatrix(df_2018[cols])), pd.DataFrame(getConvoMatrix(df_2019[cols]))]\n",
    "for df in df_range:\n",
    "    df.columns = cols\n",
    "    df.index = cols"
   ]
  },
  {
   "cell_type": "code",
   "execution_count": 49,
   "metadata": {},
   "outputs": [
    {
     "data": {
      "application/vnd.plotly.v1+json": {
       "config": {
        "plotlyServerURL": "https://plot.ly"
       },
       "data": [
        {
         "colorscale": [
          [
           0,
           "rgb(255,245,240)"
          ],
          [
           0.125,
           "rgb(254,224,210)"
          ],
          [
           0.25,
           "rgb(252,187,161)"
          ],
          [
           0.375,
           "rgb(252,146,114)"
          ],
          [
           0.5,
           "rgb(251,106,74)"
          ],
          [
           0.625,
           "rgb(239,59,44)"
          ],
          [
           0.75,
           "rgb(203,24,29)"
          ],
          [
           0.875,
           "rgb(165,15,21)"
          ],
          [
           1,
           "rgb(103,0,13)"
          ]
         ],
         "hoverongaps": false,
         "type": "heatmap",
         "x": [
          "Score",
          "GDPPC",
          "Family",
          "Health",
          "Freedom",
          "Trust",
          "Generosity"
         ],
         "xaxis": "x",
         "y": [
          "Score",
          "GDPPC",
          "Family",
          "Health",
          "Freedom",
          "Trust",
          "Generosity"
         ],
         "yaxis": "y",
         "z": {
          "bdata": "AAAAAAAA8D/BgJFDhBDpP39wJqIy/ec/HyfUOLPT5z9b8qbLVf/hPx3MgGO34to/5+MMCDE/xz/BgJFDhBDpPwAAAAAAAPA/fMg/5e3u5D//T0RZhz/qP/BR63/4l9Y/INgaNfWA1j8XhPBJJJqRv39wJqIy/ec/fMg/5e3u5D8AAAAAAADwP6FFo9V9auE/JbRhSYEV4D8iPzYWxnHOPzVBCwOfFLg/HyfUOLPT5z//T0RZhz/qP6FFo9V9auE/AAAAAAAA8D8v+zGIQBHVP4P8iaPF3dA/sII7Ck6stT9b8qbLVf/hP/BR63/4l9Y/JbRhSYEV4D8v+zGIQBHVPwAAAAAAAPA/ckm7U2sF4D/ulZnxAi3XPx3MgGO34to/INgaNfWA1j8iPzYWxnHOP4P8iaPF3dA/ckm7U2sF4D8AAAAAAADwP/DGv8ltEtA/5+MMCDE/xz8XhPBJJJqRvzVBCwOfFLg/sII7Ck6stT/ulZnxAi3XP/DGv8ltEtA/AAAAAAAA8D8=",
          "dtype": "f8",
          "shape": "7, 7"
         },
         "zmax": 1,
         "zmin": -0.2
        },
        {
         "colorscale": [
          [
           0,
           "rgb(255,245,240)"
          ],
          [
           0.125,
           "rgb(254,224,210)"
          ],
          [
           0.25,
           "rgb(252,187,161)"
          ],
          [
           0.375,
           "rgb(252,146,114)"
          ],
          [
           0.5,
           "rgb(251,106,74)"
          ],
          [
           0.625,
           "rgb(239,59,44)"
          ],
          [
           0.75,
           "rgb(203,24,29)"
          ],
          [
           0.875,
           "rgb(165,15,21)"
          ],
          [
           1,
           "rgb(103,0,13)"
          ]
         ],
         "hoverongaps": false,
         "type": "heatmap",
         "x": [
          "Score",
          "GDPPC",
          "Family",
          "Health",
          "Freedom",
          "Trust",
          "Generosity"
         ],
         "xaxis": "x2",
         "y": [
          "Score",
          "GDPPC",
          "Family",
          "Health",
          "Freedom",
          "Trust",
          "Generosity"
         ],
         "yaxis": "y2",
         "z": {
          "bdata": "AAAAAAAA8D+So5i+gu/pPwcIcIYd+ec/SkNll4f26D9re0gLnLjhPx3tJSolK9w/X+xbjlANxD+So5i+gu/pPwAAAAAAAPA/k5iNfUQ35T9/MjpIFt/qP79GhRBJ9tc/wADs6S6Y1z8sJVkD/MuSvwcIcIYd+ec/k5iNfUQ35T8AAAAAAADwPyzoRVdyXuI/ETFRErqz3z+6tpkdFcPQPzIL+N3ufbk/SkNll4f26D9/MjpIFt/qPyzoRVdyXuI/AAAAAAAA8D/GqRmqBSDVP8fOYkuut9I/cO7UWWDvsD9re0gLnLjhP79GhRBJ9tc/ETFRErqz3z/GqRmqBSDVPwAAAAAAAPA/JTFnASrP4D8xZVoawYrXPx3tJSolK9w/wADs6S6Y1z+6tpkdFcPQP8fOYkuut9I/JTFnASrP4D8AAAAAAADwPwb5rAB8z9E/X+xbjlANxD8sJVkD/MuSvzIL+N3ufbk/cO7UWWDvsD8xZVoawYrXPwb5rAB8z9E/AAAAAAAA8D8=",
          "dtype": "f8",
          "shape": "7, 7"
         },
         "zmax": 1,
         "zmin": -0.2
        },
        {
         "colorscale": [
          [
           0,
           "rgb(255,245,240)"
          ],
          [
           0.125,
           "rgb(254,224,210)"
          ],
          [
           0.25,
           "rgb(252,187,161)"
          ],
          [
           0.375,
           "rgb(252,146,114)"
          ],
          [
           0.5,
           "rgb(251,106,74)"
          ],
          [
           0.625,
           "rgb(239,59,44)"
          ],
          [
           0.75,
           "rgb(203,24,29)"
          ],
          [
           0.875,
           "rgb(165,15,21)"
          ],
          [
           1,
           "rgb(103,0,13)"
          ]
         ],
         "hoverongaps": false,
         "type": "heatmap",
         "x": [
          "Score",
          "GDPPC",
          "Family",
          "Health",
          "Freedom",
          "Trust",
          "Generosity"
         ],
         "xaxis": "x3",
         "y": [
          "Score",
          "GDPPC",
          "Family",
          "Health",
          "Freedom",
          "Trust",
          "Generosity"
         ],
         "yaxis": "y3",
         "z": {
          "bdata": "AAAAAAAA8D9diARzdkHqPxlmHkj8P+g/yASD4goO6T84yVFhWfbhP1F8cp2A2tw/pEwPOoUGwj9diARzdkHqPwAAAAAAAPA/vOBfi59Q5T8uAIduPdzqP5NN3a1AwNg/Ik8PTfb02D+5W2g8uXCivxlmHkj8P+g/vOBfi59Q5T8AAAAAAADwP4NftduxEuM/JMM+Gi/k3T/FQiwE+jTRP6t1k30eH7E/yASD4goO6T8uAIduPdzqP4NftduxEuM/AAAAAAAA8D+DqxydSb/VP0sMhHhvcNM/x2jdR+VHoT84yVFhWfbhP5NN3a1AwNg/JMM+Gi/k3T+DqxydSb/VPwAAAAAAAPA/D9U4a7BB4D/PUmVZvQfUP1F8cp2A2tw/Ik8PTfb02D/FQiwE+jTRP0sMhHhvcNM/D9U4a7BB4D8AAAAAAADwP/EPoYS6GtI/pEwPOoUGwj+5W2g8uXCiv6t1k30eH7E/x2jdR+VHoT/PUmVZvQfUP/EPoYS6GtI/AAAAAAAA8D8=",
          "dtype": "f8",
          "shape": "7, 7"
         },
         "zmax": 1,
         "zmin": -0.2
        },
        {
         "colorscale": [
          [
           0,
           "rgb(255,245,240)"
          ],
          [
           0.125,
           "rgb(254,224,210)"
          ],
          [
           0.25,
           "rgb(252,187,161)"
          ],
          [
           0.375,
           "rgb(252,146,114)"
          ],
          [
           0.5,
           "rgb(251,106,74)"
          ],
          [
           0.625,
           "rgb(239,59,44)"
          ],
          [
           0.75,
           "rgb(203,24,29)"
          ],
          [
           0.875,
           "rgb(165,15,21)"
          ],
          [
           1,
           "rgb(103,0,13)"
          ]
         ],
         "hoverongaps": false,
         "type": "heatmap",
         "x": [
          "Score",
          "GDPPC",
          "Family",
          "Health",
          "Freedom",
          "Trust",
          "Generosity"
         ],
         "xaxis": "x4",
         "y": [
          "Score",
          "GDPPC",
          "Family",
          "Health",
          "Freedom",
          "Trust",
          "Generosity"
         ],
         "yaxis": "y4",
         "z": {
          "bdata": "AAAAAAAA8D/NJsYWSAnqP1p1BfSC1Og/ff1Uu4HJ6D9/wGYn2b/hP3oZkb7xD9w/eaX1aNeJwT/NJsYWSAnqPwAAAAAAAPA/epEnvJm65j/VWILKVmTrP44dGOG1Ttk/GgnguBih1z8st132vXdov1p1BfSC1Og/epEnvJm65j8AAAAAAADwPxfc4MVvXOU/xrd0ufZZ3D/hfDJ/xILQP/uMn+YlxKk/ff1Uu4HJ6D/VWILKVmTrPxfc4MVvXOU/AAAAAAAA8D9wYtqFvYnXP84qMu3GTdY/Vcf/A76agz9/wGYn2b/hP44dGOG1Ttk/xrd0ufZZ3D9wYtqFvYnXPwAAAAAAAPA/7T3fbeB43j98aGzqolnTP3oZkb7xD9w/GgnguBih1z/hfDJ/xILQP84qMu3GTdY/7T3fbeB43j8AAAAAAADwP1iZeCcSqNY/eaX1aNeJwT8st132vXdov/uMn+YlxKk/Vcf/A76agz98aGzqolnTP1iZeCcSqNY/AAAAAAAA8D8=",
          "dtype": "f8",
          "shape": "7, 7"
         },
         "zmax": 1,
         "zmin": -0.2
        },
        {
         "colorscale": [
          [
           0,
           "rgb(255,245,240)"
          ],
          [
           0.125,
           "rgb(254,224,210)"
          ],
          [
           0.25,
           "rgb(252,187,161)"
          ],
          [
           0.375,
           "rgb(252,146,114)"
          ],
          [
           0.5,
           "rgb(251,106,74)"
          ],
          [
           0.625,
           "rgb(239,59,44)"
          ],
          [
           0.75,
           "rgb(203,24,29)"
          ],
          [
           0.875,
           "rgb(165,15,21)"
          ],
          [
           1,
           "rgb(103,0,13)"
          ]
         ],
         "hoverongaps": false,
         "type": "heatmap",
         "x": [
          "Score",
          "GDPPC",
          "Family",
          "Health",
          "Freedom",
          "Trust",
          "Generosity"
         ],
         "xaxis": "x5",
         "y": [
          "Score",
          "GDPPC",
          "Family",
          "Health",
          "Freedom",
          "Trust",
          "Generosity"
         ],
         "yaxis": "y5",
         "z": {
          "bdata": "AAAAAAAA8D/0zZi8My/pPzPGMGNkr+g/O97NtLnw6D8WItA1q9/hP3AmqlwyANs/7m/gGunwtD/0zZi8My/pPwAAAAAAAPA/y/6HBYeV5z/TDMtrFR3rP+R4W8m5Z9g/UKuCRbbf1T/YRf8euT2zvzPGMGNkr+g/y/6HBYeV5z8AAAAAAADwPycEWeWsVuc/eJH47qh83D+gIGeJhIPLPwlWN39QtYm/O97NtLnw6D/TDMtrFR3rPycEWeWsVuc/AAAAAAAA8D872CCKTGPaP1IoeYHj59U/EA626Hl8rb8WItA1q9/hP+R4W8m5Z9g/eJH47qh83D872CCKTGPaPwAAAAAAAPA/fKJuME0w3D8DsMksOXXSP3AmqlwyANs/UKuCRbbf1T+gIGeJhIPLP1IoeYHj59U/fKJuME0w3D8AAAAAAADwP9cCXsEOkdQ/7m/gGunwtD/YRf8euT2zvwlWN39QtYm/EA626Hl8rb8DsMksOXXSP9cCXsEOkdQ/AAAAAAAA8D8=",
          "dtype": "f8",
          "shape": "7, 7"
         },
         "zmax": 1,
         "zmin": -0.2
        }
       ],
       "layout": {
        "annotations": [
         {
          "font": {
           "size": 16
          },
          "showarrow": false,
          "text": "2015",
          "x": 0.14444444444444446,
          "xanchor": "center",
          "xref": "paper",
          "y": 1,
          "yanchor": "bottom",
          "yref": "paper"
         },
         {
          "font": {
           "size": 16
          },
          "showarrow": false,
          "text": "2016",
          "x": 0.5,
          "xanchor": "center",
          "xref": "paper",
          "y": 1,
          "yanchor": "bottom",
          "yref": "paper"
         },
         {
          "font": {
           "size": 16
          },
          "showarrow": false,
          "text": "2017",
          "x": 0.8555555555555556,
          "xanchor": "center",
          "xref": "paper",
          "y": 1,
          "yanchor": "bottom",
          "yref": "paper"
         },
         {
          "font": {
           "size": 16
          },
          "showarrow": false,
          "text": "2018",
          "x": 0.14444444444444446,
          "xanchor": "center",
          "xref": "paper",
          "y": 0.45,
          "yanchor": "bottom",
          "yref": "paper"
         },
         {
          "font": {
           "size": 16
          },
          "showarrow": false,
          "text": "2019",
          "x": 0.5,
          "xanchor": "center",
          "xref": "paper",
          "y": 0.45,
          "yanchor": "bottom",
          "yref": "paper"
         }
        ],
        "height": 1000,
        "template": {
         "data": {
          "bar": [
           {
            "error_x": {
             "color": "#2a3f5f"
            },
            "error_y": {
             "color": "#2a3f5f"
            },
            "marker": {
             "line": {
              "color": "#E5ECF6",
              "width": 0.5
             },
             "pattern": {
              "fillmode": "overlay",
              "size": 10,
              "solidity": 0.2
             }
            },
            "type": "bar"
           }
          ],
          "barpolar": [
           {
            "marker": {
             "line": {
              "color": "#E5ECF6",
              "width": 0.5
             },
             "pattern": {
              "fillmode": "overlay",
              "size": 10,
              "solidity": 0.2
             }
            },
            "type": "barpolar"
           }
          ],
          "carpet": [
           {
            "aaxis": {
             "endlinecolor": "#2a3f5f",
             "gridcolor": "white",
             "linecolor": "white",
             "minorgridcolor": "white",
             "startlinecolor": "#2a3f5f"
            },
            "baxis": {
             "endlinecolor": "#2a3f5f",
             "gridcolor": "white",
             "linecolor": "white",
             "minorgridcolor": "white",
             "startlinecolor": "#2a3f5f"
            },
            "type": "carpet"
           }
          ],
          "choropleth": [
           {
            "colorbar": {
             "outlinewidth": 0,
             "ticks": ""
            },
            "type": "choropleth"
           }
          ],
          "contour": [
           {
            "colorbar": {
             "outlinewidth": 0,
             "ticks": ""
            },
            "colorscale": [
             [
              0,
              "#0d0887"
             ],
             [
              0.1111111111111111,
              "#46039f"
             ],
             [
              0.2222222222222222,
              "#7201a8"
             ],
             [
              0.3333333333333333,
              "#9c179e"
             ],
             [
              0.4444444444444444,
              "#bd3786"
             ],
             [
              0.5555555555555556,
              "#d8576b"
             ],
             [
              0.6666666666666666,
              "#ed7953"
             ],
             [
              0.7777777777777778,
              "#fb9f3a"
             ],
             [
              0.8888888888888888,
              "#fdca26"
             ],
             [
              1,
              "#f0f921"
             ]
            ],
            "type": "contour"
           }
          ],
          "contourcarpet": [
           {
            "colorbar": {
             "outlinewidth": 0,
             "ticks": ""
            },
            "type": "contourcarpet"
           }
          ],
          "heatmap": [
           {
            "colorbar": {
             "outlinewidth": 0,
             "ticks": ""
            },
            "colorscale": [
             [
              0,
              "#0d0887"
             ],
             [
              0.1111111111111111,
              "#46039f"
             ],
             [
              0.2222222222222222,
              "#7201a8"
             ],
             [
              0.3333333333333333,
              "#9c179e"
             ],
             [
              0.4444444444444444,
              "#bd3786"
             ],
             [
              0.5555555555555556,
              "#d8576b"
             ],
             [
              0.6666666666666666,
              "#ed7953"
             ],
             [
              0.7777777777777778,
              "#fb9f3a"
             ],
             [
              0.8888888888888888,
              "#fdca26"
             ],
             [
              1,
              "#f0f921"
             ]
            ],
            "type": "heatmap"
           }
          ],
          "histogram": [
           {
            "marker": {
             "pattern": {
              "fillmode": "overlay",
              "size": 10,
              "solidity": 0.2
             }
            },
            "type": "histogram"
           }
          ],
          "histogram2d": [
           {
            "colorbar": {
             "outlinewidth": 0,
             "ticks": ""
            },
            "colorscale": [
             [
              0,
              "#0d0887"
             ],
             [
              0.1111111111111111,
              "#46039f"
             ],
             [
              0.2222222222222222,
              "#7201a8"
             ],
             [
              0.3333333333333333,
              "#9c179e"
             ],
             [
              0.4444444444444444,
              "#bd3786"
             ],
             [
              0.5555555555555556,
              "#d8576b"
             ],
             [
              0.6666666666666666,
              "#ed7953"
             ],
             [
              0.7777777777777778,
              "#fb9f3a"
             ],
             [
              0.8888888888888888,
              "#fdca26"
             ],
             [
              1,
              "#f0f921"
             ]
            ],
            "type": "histogram2d"
           }
          ],
          "histogram2dcontour": [
           {
            "colorbar": {
             "outlinewidth": 0,
             "ticks": ""
            },
            "colorscale": [
             [
              0,
              "#0d0887"
             ],
             [
              0.1111111111111111,
              "#46039f"
             ],
             [
              0.2222222222222222,
              "#7201a8"
             ],
             [
              0.3333333333333333,
              "#9c179e"
             ],
             [
              0.4444444444444444,
              "#bd3786"
             ],
             [
              0.5555555555555556,
              "#d8576b"
             ],
             [
              0.6666666666666666,
              "#ed7953"
             ],
             [
              0.7777777777777778,
              "#fb9f3a"
             ],
             [
              0.8888888888888888,
              "#fdca26"
             ],
             [
              1,
              "#f0f921"
             ]
            ],
            "type": "histogram2dcontour"
           }
          ],
          "mesh3d": [
           {
            "colorbar": {
             "outlinewidth": 0,
             "ticks": ""
            },
            "type": "mesh3d"
           }
          ],
          "parcoords": [
           {
            "line": {
             "colorbar": {
              "outlinewidth": 0,
              "ticks": ""
             }
            },
            "type": "parcoords"
           }
          ],
          "pie": [
           {
            "automargin": true,
            "type": "pie"
           }
          ],
          "scatter": [
           {
            "fillpattern": {
             "fillmode": "overlay",
             "size": 10,
             "solidity": 0.2
            },
            "type": "scatter"
           }
          ],
          "scatter3d": [
           {
            "line": {
             "colorbar": {
              "outlinewidth": 0,
              "ticks": ""
             }
            },
            "marker": {
             "colorbar": {
              "outlinewidth": 0,
              "ticks": ""
             }
            },
            "type": "scatter3d"
           }
          ],
          "scattercarpet": [
           {
            "marker": {
             "colorbar": {
              "outlinewidth": 0,
              "ticks": ""
             }
            },
            "type": "scattercarpet"
           }
          ],
          "scattergeo": [
           {
            "marker": {
             "colorbar": {
              "outlinewidth": 0,
              "ticks": ""
             }
            },
            "type": "scattergeo"
           }
          ],
          "scattergl": [
           {
            "marker": {
             "colorbar": {
              "outlinewidth": 0,
              "ticks": ""
             }
            },
            "type": "scattergl"
           }
          ],
          "scattermap": [
           {
            "marker": {
             "colorbar": {
              "outlinewidth": 0,
              "ticks": ""
             }
            },
            "type": "scattermap"
           }
          ],
          "scattermapbox": [
           {
            "marker": {
             "colorbar": {
              "outlinewidth": 0,
              "ticks": ""
             }
            },
            "type": "scattermapbox"
           }
          ],
          "scatterpolar": [
           {
            "marker": {
             "colorbar": {
              "outlinewidth": 0,
              "ticks": ""
             }
            },
            "type": "scatterpolar"
           }
          ],
          "scatterpolargl": [
           {
            "marker": {
             "colorbar": {
              "outlinewidth": 0,
              "ticks": ""
             }
            },
            "type": "scatterpolargl"
           }
          ],
          "scatterternary": [
           {
            "marker": {
             "colorbar": {
              "outlinewidth": 0,
              "ticks": ""
             }
            },
            "type": "scatterternary"
           }
          ],
          "surface": [
           {
            "colorbar": {
             "outlinewidth": 0,
             "ticks": ""
            },
            "colorscale": [
             [
              0,
              "#0d0887"
             ],
             [
              0.1111111111111111,
              "#46039f"
             ],
             [
              0.2222222222222222,
              "#7201a8"
             ],
             [
              0.3333333333333333,
              "#9c179e"
             ],
             [
              0.4444444444444444,
              "#bd3786"
             ],
             [
              0.5555555555555556,
              "#d8576b"
             ],
             [
              0.6666666666666666,
              "#ed7953"
             ],
             [
              0.7777777777777778,
              "#fb9f3a"
             ],
             [
              0.8888888888888888,
              "#fdca26"
             ],
             [
              1,
              "#f0f921"
             ]
            ],
            "type": "surface"
           }
          ],
          "table": [
           {
            "cells": {
             "fill": {
              "color": "#EBF0F8"
             },
             "line": {
              "color": "white"
             }
            },
            "header": {
             "fill": {
              "color": "#C8D4E3"
             },
             "line": {
              "color": "white"
             }
            },
            "type": "table"
           }
          ]
         },
         "layout": {
          "annotationdefaults": {
           "arrowcolor": "#2a3f5f",
           "arrowhead": 0,
           "arrowwidth": 1
          },
          "autotypenumbers": "strict",
          "coloraxis": {
           "colorbar": {
            "outlinewidth": 0,
            "ticks": ""
           }
          },
          "colorscale": {
           "diverging": [
            [
             0,
             "#8e0152"
            ],
            [
             0.1,
             "#c51b7d"
            ],
            [
             0.2,
             "#de77ae"
            ],
            [
             0.3,
             "#f1b6da"
            ],
            [
             0.4,
             "#fde0ef"
            ],
            [
             0.5,
             "#f7f7f7"
            ],
            [
             0.6,
             "#e6f5d0"
            ],
            [
             0.7,
             "#b8e186"
            ],
            [
             0.8,
             "#7fbc41"
            ],
            [
             0.9,
             "#4d9221"
            ],
            [
             1,
             "#276419"
            ]
           ],
           "sequential": [
            [
             0,
             "#0d0887"
            ],
            [
             0.1111111111111111,
             "#46039f"
            ],
            [
             0.2222222222222222,
             "#7201a8"
            ],
            [
             0.3333333333333333,
             "#9c179e"
            ],
            [
             0.4444444444444444,
             "#bd3786"
            ],
            [
             0.5555555555555556,
             "#d8576b"
            ],
            [
             0.6666666666666666,
             "#ed7953"
            ],
            [
             0.7777777777777778,
             "#fb9f3a"
            ],
            [
             0.8888888888888888,
             "#fdca26"
            ],
            [
             1,
             "#f0f921"
            ]
           ],
           "sequentialminus": [
            [
             0,
             "#0d0887"
            ],
            [
             0.1111111111111111,
             "#46039f"
            ],
            [
             0.2222222222222222,
             "#7201a8"
            ],
            [
             0.3333333333333333,
             "#9c179e"
            ],
            [
             0.4444444444444444,
             "#bd3786"
            ],
            [
             0.5555555555555556,
             "#d8576b"
            ],
            [
             0.6666666666666666,
             "#ed7953"
            ],
            [
             0.7777777777777778,
             "#fb9f3a"
            ],
            [
             0.8888888888888888,
             "#fdca26"
            ],
            [
             1,
             "#f0f921"
            ]
           ]
          },
          "colorway": [
           "#636efa",
           "#EF553B",
           "#00cc96",
           "#ab63fa",
           "#FFA15A",
           "#19d3f3",
           "#FF6692",
           "#B6E880",
           "#FF97FF",
           "#FECB52"
          ],
          "font": {
           "color": "#2a3f5f"
          },
          "geo": {
           "bgcolor": "white",
           "lakecolor": "white",
           "landcolor": "#E5ECF6",
           "showlakes": true,
           "showland": true,
           "subunitcolor": "white"
          },
          "hoverlabel": {
           "align": "left"
          },
          "hovermode": "closest",
          "mapbox": {
           "style": "light"
          },
          "paper_bgcolor": "white",
          "plot_bgcolor": "#E5ECF6",
          "polar": {
           "angularaxis": {
            "gridcolor": "white",
            "linecolor": "white",
            "ticks": ""
           },
           "bgcolor": "#E5ECF6",
           "radialaxis": {
            "gridcolor": "white",
            "linecolor": "white",
            "ticks": ""
           }
          },
          "scene": {
           "xaxis": {
            "backgroundcolor": "#E5ECF6",
            "gridcolor": "white",
            "gridwidth": 2,
            "linecolor": "white",
            "showbackground": true,
            "ticks": "",
            "zerolinecolor": "white"
           },
           "yaxis": {
            "backgroundcolor": "#E5ECF6",
            "gridcolor": "white",
            "gridwidth": 2,
            "linecolor": "white",
            "showbackground": true,
            "ticks": "",
            "zerolinecolor": "white"
           },
           "zaxis": {
            "backgroundcolor": "#E5ECF6",
            "gridcolor": "white",
            "gridwidth": 2,
            "linecolor": "white",
            "showbackground": true,
            "ticks": "",
            "zerolinecolor": "white"
           }
          },
          "shapedefaults": {
           "line": {
            "color": "#2a3f5f"
           }
          },
          "ternary": {
           "aaxis": {
            "gridcolor": "white",
            "linecolor": "white",
            "ticks": ""
           },
           "baxis": {
            "gridcolor": "white",
            "linecolor": "white",
            "ticks": ""
           },
           "bgcolor": "#E5ECF6",
           "caxis": {
            "gridcolor": "white",
            "linecolor": "white",
            "ticks": ""
           }
          },
          "title": {
           "x": 0.05
          },
          "xaxis": {
           "automargin": true,
           "gridcolor": "white",
           "linecolor": "white",
           "ticks": "",
           "title": {
            "standoff": 15
           },
           "zerolinecolor": "white",
           "zerolinewidth": 2
          },
          "yaxis": {
           "automargin": true,
           "gridcolor": "white",
           "linecolor": "white",
           "ticks": "",
           "title": {
            "standoff": 15
           },
           "zerolinecolor": "white",
           "zerolinewidth": 2
          }
         }
        },
        "title": {
         "text": "Correlation Matrices",
         "x": 0.5
        },
        "xaxis": {
         "anchor": "y",
         "domain": [
          0,
          0.2888888888888889
         ]
        },
        "xaxis2": {
         "anchor": "y2",
         "domain": [
          0.35555555555555557,
          0.6444444444444445
         ]
        },
        "xaxis3": {
         "anchor": "y3",
         "domain": [
          0.7111111111111111,
          1
         ]
        },
        "xaxis4": {
         "anchor": "y4",
         "domain": [
          0,
          0.2888888888888889
         ]
        },
        "xaxis5": {
         "anchor": "y5",
         "domain": [
          0.35555555555555557,
          0.6444444444444445
         ]
        },
        "xaxis6": {
         "anchor": "y6",
         "domain": [
          0.7111111111111111,
          1
         ]
        },
        "yaxis": {
         "anchor": "x",
         "domain": [
          0.55,
          1
         ]
        },
        "yaxis2": {
         "anchor": "x2",
         "domain": [
          0.55,
          1
         ]
        },
        "yaxis3": {
         "anchor": "x3",
         "domain": [
          0.55,
          1
         ]
        },
        "yaxis4": {
         "anchor": "x4",
         "domain": [
          0,
          0.45
         ]
        },
        "yaxis5": {
         "anchor": "x5",
         "domain": [
          0,
          0.45
         ]
        },
        "yaxis6": {
         "anchor": "x6",
         "domain": [
          0,
          0.45
         ]
        }
       }
      }
     },
     "metadata": {},
     "output_type": "display_data"
    }
   ],
   "source": [
    "fig = make_subplots(rows=2, cols=3, subplot_titles=('2015', '2016', '2017', '2018', '2019'), vertical_spacing=0.1)\n",
    "\n",
    "i = 1\n",
    "j = 1\n",
    "\n",
    "for corr in df_range:\n",
    "    fig.add_trace(go.Heatmap(z=corr, x=corr.columns, y=corr.columns, hoverongaps = False, zmin=-0.2, zmax=1, colorscale='Reds'), row=i, col=j)\n",
    "    j += 1\n",
    "    if j == 4:\n",
    "        j = 1\n",
    "        i += 1\n",
    "fig.update_layout(title='Correlation Matrices', height=1000, title_x=0.5)\n",
    "fig.show()"
   ]
  },
  {
   "cell_type": "markdown",
   "metadata": {},
   "source": [
    "## Visualize GDP vs Happiness Score"
   ]
  },
  {
   "cell_type": "code",
   "execution_count": 50,
   "metadata": {},
   "outputs": [
    {
     "data": {
      "application/vnd.plotly.v1+json": {
       "config": {
        "plotlyServerURL": "https://plot.ly"
       },
       "data": [
        {
         "colorscale": [
          [
           0,
           "rgb(247,252,245)"
          ],
          [
           0.125,
           "rgb(229,245,224)"
          ],
          [
           0.25,
           "rgb(199,233,192)"
          ],
          [
           0.375,
           "rgb(161,217,155)"
          ],
          [
           0.5,
           "rgb(116,196,118)"
          ],
          [
           0.625,
           "rgb(65,171,93)"
          ],
          [
           0.75,
           "rgb(35,139,69)"
          ],
          [
           0.875,
           "rgb(0,109,44)"
          ],
          [
           1,
           "rgb(0,68,27)"
          ]
         ],
         "hoverongaps": false,
         "type": "heatmap",
         "x": [
          "Score",
          "GDPPC"
         ],
         "xaxis": "x",
         "y": [
          "Score",
          "GDPPC"
         ],
         "yaxis": "y",
         "z": {
          "bdata": "AAAAAAAA8D/BgJFDhBDpP8GAkUOEEOk/AAAAAAAA8D8=",
          "dtype": "f8",
          "shape": "2, 2"
         },
         "zmax": 0.85,
         "zmin": 0.75
        },
        {
         "colorscale": [
          [
           0,
           "rgb(247,252,245)"
          ],
          [
           0.125,
           "rgb(229,245,224)"
          ],
          [
           0.25,
           "rgb(199,233,192)"
          ],
          [
           0.375,
           "rgb(161,217,155)"
          ],
          [
           0.5,
           "rgb(116,196,118)"
          ],
          [
           0.625,
           "rgb(65,171,93)"
          ],
          [
           0.75,
           "rgb(35,139,69)"
          ],
          [
           0.875,
           "rgb(0,109,44)"
          ],
          [
           1,
           "rgb(0,68,27)"
          ]
         ],
         "hoverongaps": false,
         "type": "heatmap",
         "x": [
          "Score",
          "GDPPC"
         ],
         "xaxis": "x2",
         "y": [
          "Score",
          "GDPPC"
         ],
         "yaxis": "y2",
         "z": {
          "bdata": "AAAAAAAA8D+So5i+gu/pP5KjmL6C7+k/AAAAAAAA8D8=",
          "dtype": "f8",
          "shape": "2, 2"
         },
         "zmax": 0.85,
         "zmin": 0.75
        },
        {
         "colorscale": [
          [
           0,
           "rgb(247,252,245)"
          ],
          [
           0.125,
           "rgb(229,245,224)"
          ],
          [
           0.25,
           "rgb(199,233,192)"
          ],
          [
           0.375,
           "rgb(161,217,155)"
          ],
          [
           0.5,
           "rgb(116,196,118)"
          ],
          [
           0.625,
           "rgb(65,171,93)"
          ],
          [
           0.75,
           "rgb(35,139,69)"
          ],
          [
           0.875,
           "rgb(0,109,44)"
          ],
          [
           1,
           "rgb(0,68,27)"
          ]
         ],
         "hoverongaps": false,
         "type": "heatmap",
         "x": [
          "Score",
          "GDPPC"
         ],
         "xaxis": "x3",
         "y": [
          "Score",
          "GDPPC"
         ],
         "yaxis": "y3",
         "z": {
          "bdata": "AAAAAAAA8D9diARzdkHqP12IBHN2Qeo/AAAAAAAA8D8=",
          "dtype": "f8",
          "shape": "2, 2"
         },
         "zmax": 0.85,
         "zmin": 0.75
        },
        {
         "colorscale": [
          [
           0,
           "rgb(247,252,245)"
          ],
          [
           0.125,
           "rgb(229,245,224)"
          ],
          [
           0.25,
           "rgb(199,233,192)"
          ],
          [
           0.375,
           "rgb(161,217,155)"
          ],
          [
           0.5,
           "rgb(116,196,118)"
          ],
          [
           0.625,
           "rgb(65,171,93)"
          ],
          [
           0.75,
           "rgb(35,139,69)"
          ],
          [
           0.875,
           "rgb(0,109,44)"
          ],
          [
           1,
           "rgb(0,68,27)"
          ]
         ],
         "hoverongaps": false,
         "type": "heatmap",
         "x": [
          "Score",
          "GDPPC"
         ],
         "xaxis": "x4",
         "y": [
          "Score",
          "GDPPC"
         ],
         "yaxis": "y4",
         "z": {
          "bdata": "AAAAAAAA8D/NJsYWSAnqP80mxhZICeo/AAAAAAAA8D8=",
          "dtype": "f8",
          "shape": "2, 2"
         },
         "zmax": 0.85,
         "zmin": 0.75
        },
        {
         "colorscale": [
          [
           0,
           "rgb(247,252,245)"
          ],
          [
           0.125,
           "rgb(229,245,224)"
          ],
          [
           0.25,
           "rgb(199,233,192)"
          ],
          [
           0.375,
           "rgb(161,217,155)"
          ],
          [
           0.5,
           "rgb(116,196,118)"
          ],
          [
           0.625,
           "rgb(65,171,93)"
          ],
          [
           0.75,
           "rgb(35,139,69)"
          ],
          [
           0.875,
           "rgb(0,109,44)"
          ],
          [
           1,
           "rgb(0,68,27)"
          ]
         ],
         "hoverongaps": false,
         "type": "heatmap",
         "x": [
          "Score",
          "GDPPC"
         ],
         "xaxis": "x5",
         "y": [
          "Score",
          "GDPPC"
         ],
         "yaxis": "y5",
         "z": {
          "bdata": "AAAAAAAA8D/0zZi8My/pP/TNmLwzL+k/AAAAAAAA8D8=",
          "dtype": "f8",
          "shape": "2, 2"
         },
         "zmax": 0.85,
         "zmin": 0.75
        }
       ],
       "layout": {
        "annotations": [
         {
          "font": {
           "size": 16
          },
          "showarrow": false,
          "text": "2015",
          "x": 0.14444444444444446,
          "xanchor": "center",
          "xref": "paper",
          "y": 1,
          "yanchor": "bottom",
          "yref": "paper"
         },
         {
          "font": {
           "size": 16
          },
          "showarrow": false,
          "text": "2016",
          "x": 0.5,
          "xanchor": "center",
          "xref": "paper",
          "y": 1,
          "yanchor": "bottom",
          "yref": "paper"
         },
         {
          "font": {
           "size": 16
          },
          "showarrow": false,
          "text": "2017",
          "x": 0.8555555555555556,
          "xanchor": "center",
          "xref": "paper",
          "y": 1,
          "yanchor": "bottom",
          "yref": "paper"
         },
         {
          "font": {
           "size": 16
          },
          "showarrow": false,
          "text": "2018",
          "x": 0.14444444444444446,
          "xanchor": "center",
          "xref": "paper",
          "y": 0.45,
          "yanchor": "bottom",
          "yref": "paper"
         },
         {
          "font": {
           "size": 16
          },
          "showarrow": false,
          "text": "2019",
          "x": 0.5,
          "xanchor": "center",
          "xref": "paper",
          "y": 0.45,
          "yanchor": "bottom",
          "yref": "paper"
         }
        ],
        "height": 1000,
        "template": {
         "data": {
          "bar": [
           {
            "error_x": {
             "color": "#2a3f5f"
            },
            "error_y": {
             "color": "#2a3f5f"
            },
            "marker": {
             "line": {
              "color": "#E5ECF6",
              "width": 0.5
             },
             "pattern": {
              "fillmode": "overlay",
              "size": 10,
              "solidity": 0.2
             }
            },
            "type": "bar"
           }
          ],
          "barpolar": [
           {
            "marker": {
             "line": {
              "color": "#E5ECF6",
              "width": 0.5
             },
             "pattern": {
              "fillmode": "overlay",
              "size": 10,
              "solidity": 0.2
             }
            },
            "type": "barpolar"
           }
          ],
          "carpet": [
           {
            "aaxis": {
             "endlinecolor": "#2a3f5f",
             "gridcolor": "white",
             "linecolor": "white",
             "minorgridcolor": "white",
             "startlinecolor": "#2a3f5f"
            },
            "baxis": {
             "endlinecolor": "#2a3f5f",
             "gridcolor": "white",
             "linecolor": "white",
             "minorgridcolor": "white",
             "startlinecolor": "#2a3f5f"
            },
            "type": "carpet"
           }
          ],
          "choropleth": [
           {
            "colorbar": {
             "outlinewidth": 0,
             "ticks": ""
            },
            "type": "choropleth"
           }
          ],
          "contour": [
           {
            "colorbar": {
             "outlinewidth": 0,
             "ticks": ""
            },
            "colorscale": [
             [
              0,
              "#0d0887"
             ],
             [
              0.1111111111111111,
              "#46039f"
             ],
             [
              0.2222222222222222,
              "#7201a8"
             ],
             [
              0.3333333333333333,
              "#9c179e"
             ],
             [
              0.4444444444444444,
              "#bd3786"
             ],
             [
              0.5555555555555556,
              "#d8576b"
             ],
             [
              0.6666666666666666,
              "#ed7953"
             ],
             [
              0.7777777777777778,
              "#fb9f3a"
             ],
             [
              0.8888888888888888,
              "#fdca26"
             ],
             [
              1,
              "#f0f921"
             ]
            ],
            "type": "contour"
           }
          ],
          "contourcarpet": [
           {
            "colorbar": {
             "outlinewidth": 0,
             "ticks": ""
            },
            "type": "contourcarpet"
           }
          ],
          "heatmap": [
           {
            "colorbar": {
             "outlinewidth": 0,
             "ticks": ""
            },
            "colorscale": [
             [
              0,
              "#0d0887"
             ],
             [
              0.1111111111111111,
              "#46039f"
             ],
             [
              0.2222222222222222,
              "#7201a8"
             ],
             [
              0.3333333333333333,
              "#9c179e"
             ],
             [
              0.4444444444444444,
              "#bd3786"
             ],
             [
              0.5555555555555556,
              "#d8576b"
             ],
             [
              0.6666666666666666,
              "#ed7953"
             ],
             [
              0.7777777777777778,
              "#fb9f3a"
             ],
             [
              0.8888888888888888,
              "#fdca26"
             ],
             [
              1,
              "#f0f921"
             ]
            ],
            "type": "heatmap"
           }
          ],
          "histogram": [
           {
            "marker": {
             "pattern": {
              "fillmode": "overlay",
              "size": 10,
              "solidity": 0.2
             }
            },
            "type": "histogram"
           }
          ],
          "histogram2d": [
           {
            "colorbar": {
             "outlinewidth": 0,
             "ticks": ""
            },
            "colorscale": [
             [
              0,
              "#0d0887"
             ],
             [
              0.1111111111111111,
              "#46039f"
             ],
             [
              0.2222222222222222,
              "#7201a8"
             ],
             [
              0.3333333333333333,
              "#9c179e"
             ],
             [
              0.4444444444444444,
              "#bd3786"
             ],
             [
              0.5555555555555556,
              "#d8576b"
             ],
             [
              0.6666666666666666,
              "#ed7953"
             ],
             [
              0.7777777777777778,
              "#fb9f3a"
             ],
             [
              0.8888888888888888,
              "#fdca26"
             ],
             [
              1,
              "#f0f921"
             ]
            ],
            "type": "histogram2d"
           }
          ],
          "histogram2dcontour": [
           {
            "colorbar": {
             "outlinewidth": 0,
             "ticks": ""
            },
            "colorscale": [
             [
              0,
              "#0d0887"
             ],
             [
              0.1111111111111111,
              "#46039f"
             ],
             [
              0.2222222222222222,
              "#7201a8"
             ],
             [
              0.3333333333333333,
              "#9c179e"
             ],
             [
              0.4444444444444444,
              "#bd3786"
             ],
             [
              0.5555555555555556,
              "#d8576b"
             ],
             [
              0.6666666666666666,
              "#ed7953"
             ],
             [
              0.7777777777777778,
              "#fb9f3a"
             ],
             [
              0.8888888888888888,
              "#fdca26"
             ],
             [
              1,
              "#f0f921"
             ]
            ],
            "type": "histogram2dcontour"
           }
          ],
          "mesh3d": [
           {
            "colorbar": {
             "outlinewidth": 0,
             "ticks": ""
            },
            "type": "mesh3d"
           }
          ],
          "parcoords": [
           {
            "line": {
             "colorbar": {
              "outlinewidth": 0,
              "ticks": ""
             }
            },
            "type": "parcoords"
           }
          ],
          "pie": [
           {
            "automargin": true,
            "type": "pie"
           }
          ],
          "scatter": [
           {
            "fillpattern": {
             "fillmode": "overlay",
             "size": 10,
             "solidity": 0.2
            },
            "type": "scatter"
           }
          ],
          "scatter3d": [
           {
            "line": {
             "colorbar": {
              "outlinewidth": 0,
              "ticks": ""
             }
            },
            "marker": {
             "colorbar": {
              "outlinewidth": 0,
              "ticks": ""
             }
            },
            "type": "scatter3d"
           }
          ],
          "scattercarpet": [
           {
            "marker": {
             "colorbar": {
              "outlinewidth": 0,
              "ticks": ""
             }
            },
            "type": "scattercarpet"
           }
          ],
          "scattergeo": [
           {
            "marker": {
             "colorbar": {
              "outlinewidth": 0,
              "ticks": ""
             }
            },
            "type": "scattergeo"
           }
          ],
          "scattergl": [
           {
            "marker": {
             "colorbar": {
              "outlinewidth": 0,
              "ticks": ""
             }
            },
            "type": "scattergl"
           }
          ],
          "scattermap": [
           {
            "marker": {
             "colorbar": {
              "outlinewidth": 0,
              "ticks": ""
             }
            },
            "type": "scattermap"
           }
          ],
          "scattermapbox": [
           {
            "marker": {
             "colorbar": {
              "outlinewidth": 0,
              "ticks": ""
             }
            },
            "type": "scattermapbox"
           }
          ],
          "scatterpolar": [
           {
            "marker": {
             "colorbar": {
              "outlinewidth": 0,
              "ticks": ""
             }
            },
            "type": "scatterpolar"
           }
          ],
          "scatterpolargl": [
           {
            "marker": {
             "colorbar": {
              "outlinewidth": 0,
              "ticks": ""
             }
            },
            "type": "scatterpolargl"
           }
          ],
          "scatterternary": [
           {
            "marker": {
             "colorbar": {
              "outlinewidth": 0,
              "ticks": ""
             }
            },
            "type": "scatterternary"
           }
          ],
          "surface": [
           {
            "colorbar": {
             "outlinewidth": 0,
             "ticks": ""
            },
            "colorscale": [
             [
              0,
              "#0d0887"
             ],
             [
              0.1111111111111111,
              "#46039f"
             ],
             [
              0.2222222222222222,
              "#7201a8"
             ],
             [
              0.3333333333333333,
              "#9c179e"
             ],
             [
              0.4444444444444444,
              "#bd3786"
             ],
             [
              0.5555555555555556,
              "#d8576b"
             ],
             [
              0.6666666666666666,
              "#ed7953"
             ],
             [
              0.7777777777777778,
              "#fb9f3a"
             ],
             [
              0.8888888888888888,
              "#fdca26"
             ],
             [
              1,
              "#f0f921"
             ]
            ],
            "type": "surface"
           }
          ],
          "table": [
           {
            "cells": {
             "fill": {
              "color": "#EBF0F8"
             },
             "line": {
              "color": "white"
             }
            },
            "header": {
             "fill": {
              "color": "#C8D4E3"
             },
             "line": {
              "color": "white"
             }
            },
            "type": "table"
           }
          ]
         },
         "layout": {
          "annotationdefaults": {
           "arrowcolor": "#2a3f5f",
           "arrowhead": 0,
           "arrowwidth": 1
          },
          "autotypenumbers": "strict",
          "coloraxis": {
           "colorbar": {
            "outlinewidth": 0,
            "ticks": ""
           }
          },
          "colorscale": {
           "diverging": [
            [
             0,
             "#8e0152"
            ],
            [
             0.1,
             "#c51b7d"
            ],
            [
             0.2,
             "#de77ae"
            ],
            [
             0.3,
             "#f1b6da"
            ],
            [
             0.4,
             "#fde0ef"
            ],
            [
             0.5,
             "#f7f7f7"
            ],
            [
             0.6,
             "#e6f5d0"
            ],
            [
             0.7,
             "#b8e186"
            ],
            [
             0.8,
             "#7fbc41"
            ],
            [
             0.9,
             "#4d9221"
            ],
            [
             1,
             "#276419"
            ]
           ],
           "sequential": [
            [
             0,
             "#0d0887"
            ],
            [
             0.1111111111111111,
             "#46039f"
            ],
            [
             0.2222222222222222,
             "#7201a8"
            ],
            [
             0.3333333333333333,
             "#9c179e"
            ],
            [
             0.4444444444444444,
             "#bd3786"
            ],
            [
             0.5555555555555556,
             "#d8576b"
            ],
            [
             0.6666666666666666,
             "#ed7953"
            ],
            [
             0.7777777777777778,
             "#fb9f3a"
            ],
            [
             0.8888888888888888,
             "#fdca26"
            ],
            [
             1,
             "#f0f921"
            ]
           ],
           "sequentialminus": [
            [
             0,
             "#0d0887"
            ],
            [
             0.1111111111111111,
             "#46039f"
            ],
            [
             0.2222222222222222,
             "#7201a8"
            ],
            [
             0.3333333333333333,
             "#9c179e"
            ],
            [
             0.4444444444444444,
             "#bd3786"
            ],
            [
             0.5555555555555556,
             "#d8576b"
            ],
            [
             0.6666666666666666,
             "#ed7953"
            ],
            [
             0.7777777777777778,
             "#fb9f3a"
            ],
            [
             0.8888888888888888,
             "#fdca26"
            ],
            [
             1,
             "#f0f921"
            ]
           ]
          },
          "colorway": [
           "#636efa",
           "#EF553B",
           "#00cc96",
           "#ab63fa",
           "#FFA15A",
           "#19d3f3",
           "#FF6692",
           "#B6E880",
           "#FF97FF",
           "#FECB52"
          ],
          "font": {
           "color": "#2a3f5f"
          },
          "geo": {
           "bgcolor": "white",
           "lakecolor": "white",
           "landcolor": "#E5ECF6",
           "showlakes": true,
           "showland": true,
           "subunitcolor": "white"
          },
          "hoverlabel": {
           "align": "left"
          },
          "hovermode": "closest",
          "mapbox": {
           "style": "light"
          },
          "paper_bgcolor": "white",
          "plot_bgcolor": "#E5ECF6",
          "polar": {
           "angularaxis": {
            "gridcolor": "white",
            "linecolor": "white",
            "ticks": ""
           },
           "bgcolor": "#E5ECF6",
           "radialaxis": {
            "gridcolor": "white",
            "linecolor": "white",
            "ticks": ""
           }
          },
          "scene": {
           "xaxis": {
            "backgroundcolor": "#E5ECF6",
            "gridcolor": "white",
            "gridwidth": 2,
            "linecolor": "white",
            "showbackground": true,
            "ticks": "",
            "zerolinecolor": "white"
           },
           "yaxis": {
            "backgroundcolor": "#E5ECF6",
            "gridcolor": "white",
            "gridwidth": 2,
            "linecolor": "white",
            "showbackground": true,
            "ticks": "",
            "zerolinecolor": "white"
           },
           "zaxis": {
            "backgroundcolor": "#E5ECF6",
            "gridcolor": "white",
            "gridwidth": 2,
            "linecolor": "white",
            "showbackground": true,
            "ticks": "",
            "zerolinecolor": "white"
           }
          },
          "shapedefaults": {
           "line": {
            "color": "#2a3f5f"
           }
          },
          "ternary": {
           "aaxis": {
            "gridcolor": "white",
            "linecolor": "white",
            "ticks": ""
           },
           "baxis": {
            "gridcolor": "white",
            "linecolor": "white",
            "ticks": ""
           },
           "bgcolor": "#E5ECF6",
           "caxis": {
            "gridcolor": "white",
            "linecolor": "white",
            "ticks": ""
           }
          },
          "title": {
           "x": 0.05
          },
          "xaxis": {
           "automargin": true,
           "gridcolor": "white",
           "linecolor": "white",
           "ticks": "",
           "title": {
            "standoff": 15
           },
           "zerolinecolor": "white",
           "zerolinewidth": 2
          },
          "yaxis": {
           "automargin": true,
           "gridcolor": "white",
           "linecolor": "white",
           "ticks": "",
           "title": {
            "standoff": 15
           },
           "zerolinecolor": "white",
           "zerolinewidth": 2
          }
         }
        },
        "title": {
         "text": "Correlation Matrices",
         "x": 0.5
        },
        "xaxis": {
         "anchor": "y",
         "domain": [
          0,
          0.2888888888888889
         ]
        },
        "xaxis2": {
         "anchor": "y2",
         "domain": [
          0.35555555555555557,
          0.6444444444444445
         ]
        },
        "xaxis3": {
         "anchor": "y3",
         "domain": [
          0.7111111111111111,
          1
         ]
        },
        "xaxis4": {
         "anchor": "y4",
         "domain": [
          0,
          0.2888888888888889
         ]
        },
        "xaxis5": {
         "anchor": "y5",
         "domain": [
          0.35555555555555557,
          0.6444444444444445
         ]
        },
        "xaxis6": {
         "anchor": "y6",
         "domain": [
          0.7111111111111111,
          1
         ]
        },
        "yaxis": {
         "anchor": "x",
         "domain": [
          0.55,
          1
         ]
        },
        "yaxis2": {
         "anchor": "x2",
         "domain": [
          0.55,
          1
         ]
        },
        "yaxis3": {
         "anchor": "x3",
         "domain": [
          0.55,
          1
         ]
        },
        "yaxis4": {
         "anchor": "x4",
         "domain": [
          0,
          0.45
         ]
        },
        "yaxis5": {
         "anchor": "x5",
         "domain": [
          0,
          0.45
         ]
        },
        "yaxis6": {
         "anchor": "x6",
         "domain": [
          0,
          0.45
         ]
        }
       }
      }
     },
     "metadata": {},
     "output_type": "display_data"
    }
   ],
   "source": [
    "df_range = [x.iloc[0:2, 0:2] for x in df_range]\n",
    "\n",
    "fig = make_subplots(rows=2, cols=3, subplot_titles=('2015', '2016', '2017', '2018', '2019'), vertical_spacing=0.1)\n",
    "\n",
    "i = 1\n",
    "j = 1\n",
    "\n",
    "for corr in df_range:\n",
    "    fig.add_trace(go.Heatmap(z=corr, x=corr.columns, y=corr.columns, hoverongaps = False, zmin=0.75, zmax=0.85, colorscale='Greens'), row=i, col=j)\n",
    "    j += 1\n",
    "    if j == 4:\n",
    "        j = 1\n",
    "        i += 1\n",
    "fig.update_layout(title='Correlation Matrices', height=1000, title_x=0.5)\n",
    "fig.show()"
   ]
  },
  {
   "cell_type": "code",
   "execution_count": 51,
   "metadata": {},
   "outputs": [
    {
     "data": {
      "application/vnd.plotly.v1+json": {
       "config": {
        "plotlyServerURL": "https://plot.ly"
       },
       "data": [
        {
         "mode": "lines+markers",
         "name": "2015",
         "type": "scatter",
         "x": [
          "Switzerland",
          "Iceland",
          "Denmark",
          "Norway",
          "Canada",
          "Finland",
          "Netherlands",
          "Sweden",
          "New zealand",
          "Australia",
          "Israel",
          "Costa rica",
          "Austria",
          "Mexico",
          "United states",
          "Brazil",
          "Luxembourg",
          "Ireland",
          "Belgium",
          "United kingdom",
          "Venezuela",
          "Singapore",
          "Panama",
          "Germany",
          "Chile",
          "Qatar",
          "France",
          "Argentina",
          "Czech republic",
          "Uruguay",
          "Colombia",
          "Thailand",
          "Saudi arabia",
          "Spain",
          "Malta",
          "Kuwait",
          "El salvador",
          "Guatemala",
          "Uzbekistan",
          "Slovakia",
          "Japan",
          "South korea",
          "Ecuador",
          "Bahrain",
          "Italy",
          "Bolivia",
          "Moldova",
          "Paraguay",
          "Kazakhstan",
          "Slovenia",
          "Lithuania",
          "Nicaragua",
          "Peru",
          "Belarus",
          "Poland",
          "Malaysia",
          "Croatia",
          "Libya",
          "Russia",
          "Jamaica",
          "Cyprus",
          "Algeria",
          "Kosovo",
          "Turkmenistan",
          "Mauritius",
          "Estonia",
          "Indonesia",
          "Vietnam",
          "Turkey",
          "Kyrgyzstan",
          "Nigeria",
          "Bhutan",
          "Azerbaijan",
          "Pakistan",
          "Jordan",
          "Montenegro",
          "China",
          "Zambia",
          "Romania",
          "Serbia",
          "Portugal",
          "Latvia",
          "Philippines",
          "Morocco",
          "Albania",
          "Bosnia and herzegovina",
          "Dominican republic",
          "Mongolia",
          "Greece",
          "Lebanon",
          "Hungary",
          "Honduras",
          "Tajikistan",
          "Tunisia",
          "Palestinian territories",
          "Bangladesh",
          "Iran",
          "Ukraine",
          "Iraq",
          "South africa"
         ],
         "xaxis": "x",
         "y": [
          1.39651,
          1.30232,
          1.32548,
          1.459,
          1.32629,
          1.29025,
          1.32944,
          1.33171,
          1.25018,
          1.33358,
          1.22857,
          0.95578,
          1.33723,
          1.02054,
          1.39451,
          0.98124,
          1.56391,
          1.33596,
          1.30782,
          1.26637,
          1.04424,
          1.52186,
          1.06353,
          1.32792,
          1.10715,
          1.69042,
          1.27778,
          1.05351,
          1.17898,
          1.06166,
          0.91861,
          0.9669,
          1.39541,
          1.23011,
          1.2074,
          1.55422,
          0.76454,
          0.74553,
          0.63244,
          1.16891,
          1.27074,
          1.24461,
          0.86402,
          1.32376,
          1.25114,
          0.68133,
          0.59448,
          0.75985,
          1.12254,
          1.18498,
          1.14723,
          0.59325,
          0.90019,
          1.03192,
          1.12555,
          1.12486,
          1.08254,
          1.13145,
          1.13764,
          0.81038,
          1.20813,
          0.93929,
          0.80148,
          0.95847,
          1.00761,
          1.15174,
          0.82827,
          0.63216,
          1.06098,
          0.47428,
          0.65435,
          0.77042,
          1.02389,
          0.59543,
          0.90198,
          0.97438,
          0.89012,
          0.47038,
          1.04345,
          0.92053,
          1.15991,
          1.11312,
          0.70532,
          0.73479,
          0.87867,
          0.83223,
          0.89537,
          0.82819,
          1.15406,
          1.02564,
          1.12094,
          0.59532,
          0.39047,
          0.88113,
          0.59867,
          0.39753,
          1.0088,
          0.79907,
          0.98549,
          0.92049
         ],
         "yaxis": "y"
        },
        {
         "mode": "lines+markers",
         "name": "2016",
         "type": "scatter",
         "x": [
          "Denmark",
          "Switzerland",
          "Iceland",
          "Norway",
          "Finland",
          "Canada",
          "Netherlands",
          "New zealand",
          "Australia",
          "Sweden",
          "Israel",
          "Austria",
          "United states",
          "Costa rica",
          "Germany",
          "Brazil",
          "Belgium",
          "Ireland",
          "Luxembourg",
          "Mexico",
          "Singapore",
          "United kingdom",
          "Chile",
          "Panama",
          "Argentina",
          "Czech republic",
          "Uruguay",
          "Malta",
          "Colombia",
          "France",
          "Thailand",
          "Saudi arabia",
          "Qatar",
          "Spain",
          "Algeria",
          "Guatemala",
          "Kuwait",
          "Bahrain",
          "Venezuela",
          "Slovakia",
          "El salvador",
          "Malaysia",
          "Nicaragua",
          "Uzbekistan",
          "Italy",
          "Ecuador",
          "Japan",
          "Kazakhstan",
          "Moldova",
          "Russia",
          "Poland",
          "South korea",
          "Bolivia",
          "Lithuania",
          "Belarus",
          "Slovenia",
          "Peru",
          "Turkmenistan",
          "Mauritius",
          "Libya",
          "Latvia",
          "Cyprus",
          "Paraguay",
          "Romania",
          "Estonia",
          "Jamaica",
          "Croatia",
          "Kosovo",
          "Turkey",
          "Indonesia",
          "Jordan",
          "Azerbaijan",
          "Philippines",
          "China",
          "Bhutan",
          "Kyrgyzstan",
          "Serbia",
          "Bosnia and herzegovina",
          "Montenegro",
          "Dominican republic",
          "Morocco",
          "Hungary",
          "Pakistan",
          "Lebanon",
          "Portugal",
          "Vietnam",
          "Tunisia",
          "Greece",
          "Tajikistan",
          "Mongolia",
          "Nigeria",
          "Honduras",
          "Iran",
          "Zambia",
          "Nepal",
          "Palestinian territories",
          "Albania",
          "Bangladesh",
          "Sierra leone",
          "Iraq"
         ],
         "xaxis": "x2",
         "y": [
          1.44178,
          1.52733,
          1.42666,
          1.57744,
          1.40598,
          1.44015,
          1.46468,
          1.36066,
          1.44443,
          1.45181,
          1.33766,
          1.45038,
          1.50796,
          1.06879,
          1.44787,
          1.08754,
          1.42539,
          1.48341,
          1.69752,
          1.11508,
          1.64555,
          1.40283,
          1.2167,
          1.18306,
          1.15137,
          1.30915,
          1.18157,
          1.30782,
          1.03032,
          1.39488,
          1.0893,
          1.48953,
          1.82427,
          1.34253,
          1.05266,
          0.83454,
          1.61714,
          1.44024,
          1.13367,
          1.27973,
          0.8737,
          1.25142,
          0.69384,
          0.73591,
          1.35495,
          0.97306,
          1.38007,
          1.22943,
          0.69177,
          1.23228,
          1.24585,
          1.35948,
          0.79422,
          1.2692,
          1.13062,
          1.29947,
          0.99602,
          1.08017,
          1.14372,
          1.06688,
          1.21788,
          1.31857,
          0.89373,
          1.1697,
          1.27964,
          0.89333,
          1.18649,
          0.90145,
          1.16492,
          0.95104,
          0.99673,
          1.12373,
          0.81217,
          1.0278,
          0.8527,
          0.56044,
          1.03437,
          0.93383,
          1.07838,
          1.02787,
          0.84058,
          1.24142,
          0.68816,
          1.12268,
          1.27607,
          0.74037,
          0.97724,
          1.24886,
          0.48835,
          0.98853,
          0.75216,
          0.69429,
          1.11758,
          0.61202,
          0.44626,
          0.67024,
          0.9553,
          0.54177,
          0.36485,
          1.07474
         ],
         "yaxis": "y2"
        },
        {
         "mode": "lines+markers",
         "name": "2017",
         "type": "scatter",
         "x": [
          "Norway",
          "Denmark",
          "Iceland",
          "Switzerland",
          "Finland",
          "Netherlands",
          "Canada",
          "New zealand",
          "Sweden",
          "Australia",
          "Israel",
          "Costa rica",
          "Austria",
          "United states",
          "Ireland",
          "Germany",
          "Belgium",
          "Luxembourg",
          "United kingdom",
          "Chile",
          "Brazil",
          "Czech republic",
          "Argentina",
          "Mexico",
          "Singapore",
          "Malta",
          "Uruguay",
          "Guatemala",
          "Panama",
          "France",
          "Thailand",
          "Spain",
          "Qatar",
          "Colombia",
          "Saudi arabia",
          "Kuwait",
          "Slovakia",
          "Bahrain",
          "Malaysia",
          "Nicaragua",
          "Ecuador",
          "El salvador",
          "Poland",
          "Uzbekistan",
          "Italy",
          "Russia",
          "Japan",
          "Lithuania",
          "Algeria",
          "Latvia",
          "South korea",
          "Moldova",
          "Romania",
          "Bolivia",
          "Turkmenistan",
          "Kazakhstan",
          "Slovenia",
          "Peru",
          "Mauritius",
          "Cyprus",
          "Estonia",
          "Belarus",
          "Libya",
          "Turkey",
          "Paraguay",
          "Philippines",
          "Serbia",
          "Jordan",
          "Hungary",
          "Jamaica",
          "Croatia",
          "Kosovo",
          "China",
          "Pakistan",
          "Indonesia",
          "Venezuela",
          "Montenegro",
          "Morocco",
          "Azerbaijan",
          "Dominican republic",
          "Greece",
          "Lebanon",
          "Portugal",
          "Bosnia and herzegovina",
          "Honduras",
          "Vietnam",
          "Nigeria",
          "Tajikistan",
          "Bhutan",
          "Kyrgyzstan",
          "Nepal",
          "Mongolia",
          "South africa",
          "Tunisia",
          "Palestinian territories",
          "Egypt",
          "Bulgaria",
          "Sierra leone",
          "Cameroon",
          "Iran"
         ],
         "xaxis": "x3",
         "y": [
          1.61646318435669,
          1.48238301277161,
          1.480633020401,
          1.56497955322266,
          1.44357192516327,
          1.50394463539124,
          1.47920441627502,
          1.40570604801178,
          1.49438726902008,
          1.484414935112,
          1.37538242340088,
          1.10970628261566,
          1.48709726333618,
          1.54625928401947,
          1.53570663928986,
          1.48792338371277,
          1.46378076076508,
          1.74194359779358,
          1.44163393974304,
          1.25278460979462,
          1.10735321044922,
          1.35268235206604,
          1.18529546260834,
          1.15318381786346,
          1.69227766990662,
          1.34327983856201,
          1.21755969524384,
          0.872001945972443,
          1.23374843597412,
          1.43092346191406,
          1.12786877155304,
          1.38439786434174,
          1.87076568603516,
          1.07062232494354,
          1.53062355518341,
          1.63295245170593,
          1.32539355754852,
          1.48841226100922,
          1.29121541976929,
          0.737299203872681,
          1.00082039833069,
          0.909784495830536,
          1.29178786277771,
          0.786441087722778,
          1.39506661891937,
          1.28177809715271,
          1.41691517829895,
          1.31458234786987,
          1.09186446666718,
          1.26074862480164,
          1.40167844295502,
          0.728870630264282,
          1.21768391132355,
          0.833756566047668,
          1.13077676296234,
          1.28455626964569,
          1.3412059545517,
          1.03522527217865,
          1.18939554691315,
          1.35593807697296,
          1.32087934017181,
          1.15655755996704,
          1.10180306434631,
          1.19827437400818,
          0.932537317276001,
          0.85769921541214,
          1.06931757926941,
          0.991012394428253,
          1.2860119342804,
          0.925579309463501,
          1.22255623340607,
          0.951484382152557,
          1.08116579055786,
          0.72688353061676,
          0.995538592338562,
          1.12843120098114,
          1.12112903594971,
          0.878114581108093,
          1.15360176563263,
          1.07937383651733,
          1.28948748111725,
          1.07498753070831,
          1.3151752948761,
          0.982409417629242,
          0.730573117733002,
          0.788547575473785,
          0.783756256103516,
          0.524713635444641,
          0.885416388511658,
          0.596220076084137,
          0.479820191860199,
          1.02723586559296,
          1.05469870567322,
          1.00726580619812,
          0.716249227523804,
          0.989701807498932,
          1.1614590883255,
          0.36842092871666,
          0.564305365085602,
          1.15687310695648
         ],
         "yaxis": "y3"
        },
        {
         "mode": "lines+markers",
         "name": "2018",
         "type": "scatter",
         "x": [
          "Finland",
          "Norway",
          "Denmark",
          "Iceland",
          "Switzerland",
          "Netherlands",
          "Canada",
          "New zealand",
          "Sweden",
          "Australia",
          "United kingdom",
          "Austria",
          "Costa rica",
          "Ireland",
          "Germany",
          "Belgium",
          "Luxembourg",
          "United states",
          "Israel",
          "Czech republic",
          "Malta",
          "France",
          "Mexico",
          "Chile",
          "Panama",
          "Brazil",
          "Argentina",
          "Guatemala",
          "Uruguay",
          "Qatar",
          "Saudi arabia",
          "Singapore",
          "Malaysia",
          "Spain",
          "Colombia",
          "Slovakia",
          "El salvador",
          "Nicaragua",
          "Poland",
          "Bahrain",
          "Uzbekistan",
          "Kuwait",
          "Thailand",
          "Italy",
          "Ecuador",
          "Lithuania",
          "Slovenia",
          "Romania",
          "Latvia",
          "Japan",
          "Mauritius",
          "Jamaica",
          "South korea",
          "Russia",
          "Kazakhstan",
          "Cyprus",
          "Bolivia",
          "Estonia",
          "Paraguay",
          "Peru",
          "Kosovo",
          "Moldova",
          "Turkmenistan",
          "Hungary",
          "Libya",
          "Philippines",
          "Honduras",
          "Belarus",
          "Turkey",
          "Pakistan",
          "Portugal",
          "Serbia",
          "Greece",
          "Lebanon",
          "Montenegro",
          "Croatia",
          "Dominican republic",
          "Algeria",
          "Morocco",
          "China",
          "Azerbaijan",
          "Tajikistan",
          "Jordan",
          "Nigeria",
          "Kyrgyzstan",
          "Bosnia and herzegovina",
          "Mongolia",
          "Vietnam",
          "Indonesia",
          "Bhutan",
          "Cameroon",
          "Bulgaria",
          "Nepal",
          "Venezuela",
          "Gabon",
          "Palestinian territories",
          "South africa",
          "Iran",
          "Ivory coast",
          "Ghana"
         ],
         "xaxis": "x4",
         "y": [
          1.305,
          1.456,
          1.351,
          1.343,
          1.42,
          1.361,
          1.33,
          1.268,
          1.355,
          1.34,
          1.244,
          1.341,
          1.01,
          1.448,
          1.34,
          1.324,
          1.576,
          1.398,
          1.301,
          1.233,
          1.27,
          1.293,
          1.038,
          1.131,
          1.112,
          0.986,
          1.073,
          0.781,
          1.093,
          1.649,
          1.379,
          1.529,
          1.161,
          1.251,
          0.96,
          1.21,
          0.806,
          0.668,
          1.176,
          1.338,
          0.719,
          1.474,
          1.016,
          1.264,
          0.889,
          1.197,
          1.219,
          1.116,
          1.148,
          1.294,
          1.09,
          0.819,
          1.266,
          1.151,
          1.143,
          1.229,
          0.751,
          1.2,
          0.835,
          0.934,
          0.855,
          0.657,
          1.016,
          1.171,
          0.985,
          0.775,
          0.62,
          1.039,
          1.148,
          0.652,
          1.188,
          0.975,
          1.154,
          0.965,
          1.017,
          1.115,
          0.982,
          0.979,
          0.779,
          0.989,
          1.024,
          0.474,
          0.822,
          0.689,
          0.53,
          0.915,
          0.914,
          0.715,
          0.899,
          0.796,
          0.535,
          1.054,
          0.425,
          0.996,
          1.036,
          0.642,
          0.94,
          1.059,
          0.541,
          0.592
         ],
         "yaxis": "y4"
        },
        {
         "mode": "lines+markers",
         "name": "2019",
         "type": "scatter",
         "x": [
          "Finland",
          "Denmark",
          "Norway",
          "Iceland",
          "Netherlands",
          "Switzerland",
          "Sweden",
          "New zealand",
          "Canada",
          "Austria",
          "Australia",
          "Costa rica",
          "Israel",
          "Luxembourg",
          "United kingdom",
          "Ireland",
          "Germany",
          "Belgium",
          "United states",
          "Czech republic",
          "Malta",
          "Mexico",
          "France",
          "Chile",
          "Guatemala",
          "Saudi arabia",
          "Qatar",
          "Spain",
          "Panama",
          "Brazil",
          "Uruguay",
          "Singapore",
          "El salvador",
          "Italy",
          "Bahrain",
          "Slovakia",
          "Poland",
          "Uzbekistan",
          "Lithuania",
          "Colombia",
          "Slovenia",
          "Nicaragua",
          "Kosovo",
          "Argentina",
          "Romania",
          "Cyprus",
          "Ecuador",
          "Kuwait",
          "Thailand",
          "Latvia",
          "South korea",
          "Estonia",
          "Jamaica",
          "Mauritius",
          "Japan",
          "Honduras",
          "Kazakhstan",
          "Bolivia",
          "Hungary",
          "Paraguay",
          "Peru",
          "Portugal",
          "Pakistan",
          "Russia",
          "Philippines",
          "Serbia",
          "Moldova",
          "Libya",
          "Montenegro",
          "Tajikistan",
          "Croatia",
          "Dominican republic",
          "Bosnia and herzegovina",
          "Turkey",
          "Malaysia",
          "Belarus",
          "Greece",
          "Mongolia",
          "Nigeria",
          "Kyrgyzstan",
          "Turkmenistan",
          "Algeria",
          "Morocco",
          "Azerbaijan",
          "Lebanon",
          "Indonesia",
          "China",
          "Vietnam",
          "Bhutan",
          "Cameroon",
          "Bulgaria",
          "Ghana",
          "Ivory coast",
          "Nepal",
          "Jordan",
          "Benin",
          "Congo (brazzaville)",
          "Gabon",
          "South africa",
          "Albania"
         ],
         "xaxis": "x5",
         "y": [
          1.34,
          1.383,
          1.488,
          1.38,
          1.396,
          1.452,
          1.387,
          1.303,
          1.365,
          1.376,
          1.372,
          1.034,
          1.276,
          1.609,
          1.333,
          1.499,
          1.373,
          1.356,
          1.433,
          1.269,
          1.3,
          1.07,
          1.324,
          1.159,
          0.8,
          1.403,
          1.684,
          1.286,
          1.149,
          1.004,
          1.124,
          1.572,
          0.794,
          1.294,
          1.362,
          1.246,
          1.206,
          0.745,
          1.238,
          0.985,
          1.258,
          0.694,
          0.882,
          1.092,
          1.162,
          1.263,
          0.912,
          1.5,
          1.05,
          1.187,
          1.301,
          1.237,
          0.831,
          1.12,
          1.327,
          0.642,
          1.173,
          0.776,
          1.201,
          0.855,
          0.96,
          1.221,
          0.677,
          1.183,
          0.807,
          1.004,
          0.685,
          1.044,
          1.051,
          0.493,
          1.155,
          1.015,
          0.945,
          1.183,
          1.221,
          1.067,
          1.181,
          0.948,
          0.696,
          0.551,
          1.052,
          1.002,
          0.801,
          1.043,
          0.987,
          0.931,
          1.029,
          0.741,
          0.813,
          0.549,
          1.092,
          0.611,
          0.569,
          0.446,
          0.837,
          0.393,
          0.673,
          1.057,
          0.96,
          0.947
         ],
         "yaxis": "y5"
        }
       ],
       "layout": {
        "annotations": [
         {
          "font": {
           "size": 16
          },
          "showarrow": false,
          "text": "2015",
          "x": 0.5,
          "xanchor": "center",
          "xref": "paper",
          "y": 1,
          "yanchor": "bottom",
          "yref": "paper"
         },
         {
          "font": {
           "size": 16
          },
          "showarrow": false,
          "text": "2016",
          "x": 0.5,
          "xanchor": "center",
          "xref": "paper",
          "y": 0.79,
          "yanchor": "bottom",
          "yref": "paper"
         },
         {
          "font": {
           "size": 16
          },
          "showarrow": false,
          "text": "2017",
          "x": 0.5,
          "xanchor": "center",
          "xref": "paper",
          "y": 0.5800000000000001,
          "yanchor": "bottom",
          "yref": "paper"
         },
         {
          "font": {
           "size": 16
          },
          "showarrow": false,
          "text": "2018",
          "x": 0.5,
          "xanchor": "center",
          "xref": "paper",
          "y": 0.37,
          "yanchor": "bottom",
          "yref": "paper"
         },
         {
          "font": {
           "size": 16
          },
          "showarrow": false,
          "text": "2019",
          "x": 0.5,
          "xanchor": "center",
          "xref": "paper",
          "y": 0.16,
          "yanchor": "bottom",
          "yref": "paper"
         }
        ],
        "height": 1000,
        "template": {
         "data": {
          "bar": [
           {
            "error_x": {
             "color": "#2a3f5f"
            },
            "error_y": {
             "color": "#2a3f5f"
            },
            "marker": {
             "line": {
              "color": "#E5ECF6",
              "width": 0.5
             },
             "pattern": {
              "fillmode": "overlay",
              "size": 10,
              "solidity": 0.2
             }
            },
            "type": "bar"
           }
          ],
          "barpolar": [
           {
            "marker": {
             "line": {
              "color": "#E5ECF6",
              "width": 0.5
             },
             "pattern": {
              "fillmode": "overlay",
              "size": 10,
              "solidity": 0.2
             }
            },
            "type": "barpolar"
           }
          ],
          "carpet": [
           {
            "aaxis": {
             "endlinecolor": "#2a3f5f",
             "gridcolor": "white",
             "linecolor": "white",
             "minorgridcolor": "white",
             "startlinecolor": "#2a3f5f"
            },
            "baxis": {
             "endlinecolor": "#2a3f5f",
             "gridcolor": "white",
             "linecolor": "white",
             "minorgridcolor": "white",
             "startlinecolor": "#2a3f5f"
            },
            "type": "carpet"
           }
          ],
          "choropleth": [
           {
            "colorbar": {
             "outlinewidth": 0,
             "ticks": ""
            },
            "type": "choropleth"
           }
          ],
          "contour": [
           {
            "colorbar": {
             "outlinewidth": 0,
             "ticks": ""
            },
            "colorscale": [
             [
              0,
              "#0d0887"
             ],
             [
              0.1111111111111111,
              "#46039f"
             ],
             [
              0.2222222222222222,
              "#7201a8"
             ],
             [
              0.3333333333333333,
              "#9c179e"
             ],
             [
              0.4444444444444444,
              "#bd3786"
             ],
             [
              0.5555555555555556,
              "#d8576b"
             ],
             [
              0.6666666666666666,
              "#ed7953"
             ],
             [
              0.7777777777777778,
              "#fb9f3a"
             ],
             [
              0.8888888888888888,
              "#fdca26"
             ],
             [
              1,
              "#f0f921"
             ]
            ],
            "type": "contour"
           }
          ],
          "contourcarpet": [
           {
            "colorbar": {
             "outlinewidth": 0,
             "ticks": ""
            },
            "type": "contourcarpet"
           }
          ],
          "heatmap": [
           {
            "colorbar": {
             "outlinewidth": 0,
             "ticks": ""
            },
            "colorscale": [
             [
              0,
              "#0d0887"
             ],
             [
              0.1111111111111111,
              "#46039f"
             ],
             [
              0.2222222222222222,
              "#7201a8"
             ],
             [
              0.3333333333333333,
              "#9c179e"
             ],
             [
              0.4444444444444444,
              "#bd3786"
             ],
             [
              0.5555555555555556,
              "#d8576b"
             ],
             [
              0.6666666666666666,
              "#ed7953"
             ],
             [
              0.7777777777777778,
              "#fb9f3a"
             ],
             [
              0.8888888888888888,
              "#fdca26"
             ],
             [
              1,
              "#f0f921"
             ]
            ],
            "type": "heatmap"
           }
          ],
          "histogram": [
           {
            "marker": {
             "pattern": {
              "fillmode": "overlay",
              "size": 10,
              "solidity": 0.2
             }
            },
            "type": "histogram"
           }
          ],
          "histogram2d": [
           {
            "colorbar": {
             "outlinewidth": 0,
             "ticks": ""
            },
            "colorscale": [
             [
              0,
              "#0d0887"
             ],
             [
              0.1111111111111111,
              "#46039f"
             ],
             [
              0.2222222222222222,
              "#7201a8"
             ],
             [
              0.3333333333333333,
              "#9c179e"
             ],
             [
              0.4444444444444444,
              "#bd3786"
             ],
             [
              0.5555555555555556,
              "#d8576b"
             ],
             [
              0.6666666666666666,
              "#ed7953"
             ],
             [
              0.7777777777777778,
              "#fb9f3a"
             ],
             [
              0.8888888888888888,
              "#fdca26"
             ],
             [
              1,
              "#f0f921"
             ]
            ],
            "type": "histogram2d"
           }
          ],
          "histogram2dcontour": [
           {
            "colorbar": {
             "outlinewidth": 0,
             "ticks": ""
            },
            "colorscale": [
             [
              0,
              "#0d0887"
             ],
             [
              0.1111111111111111,
              "#46039f"
             ],
             [
              0.2222222222222222,
              "#7201a8"
             ],
             [
              0.3333333333333333,
              "#9c179e"
             ],
             [
              0.4444444444444444,
              "#bd3786"
             ],
             [
              0.5555555555555556,
              "#d8576b"
             ],
             [
              0.6666666666666666,
              "#ed7953"
             ],
             [
              0.7777777777777778,
              "#fb9f3a"
             ],
             [
              0.8888888888888888,
              "#fdca26"
             ],
             [
              1,
              "#f0f921"
             ]
            ],
            "type": "histogram2dcontour"
           }
          ],
          "mesh3d": [
           {
            "colorbar": {
             "outlinewidth": 0,
             "ticks": ""
            },
            "type": "mesh3d"
           }
          ],
          "parcoords": [
           {
            "line": {
             "colorbar": {
              "outlinewidth": 0,
              "ticks": ""
             }
            },
            "type": "parcoords"
           }
          ],
          "pie": [
           {
            "automargin": true,
            "type": "pie"
           }
          ],
          "scatter": [
           {
            "fillpattern": {
             "fillmode": "overlay",
             "size": 10,
             "solidity": 0.2
            },
            "type": "scatter"
           }
          ],
          "scatter3d": [
           {
            "line": {
             "colorbar": {
              "outlinewidth": 0,
              "ticks": ""
             }
            },
            "marker": {
             "colorbar": {
              "outlinewidth": 0,
              "ticks": ""
             }
            },
            "type": "scatter3d"
           }
          ],
          "scattercarpet": [
           {
            "marker": {
             "colorbar": {
              "outlinewidth": 0,
              "ticks": ""
             }
            },
            "type": "scattercarpet"
           }
          ],
          "scattergeo": [
           {
            "marker": {
             "colorbar": {
              "outlinewidth": 0,
              "ticks": ""
             }
            },
            "type": "scattergeo"
           }
          ],
          "scattergl": [
           {
            "marker": {
             "colorbar": {
              "outlinewidth": 0,
              "ticks": ""
             }
            },
            "type": "scattergl"
           }
          ],
          "scattermap": [
           {
            "marker": {
             "colorbar": {
              "outlinewidth": 0,
              "ticks": ""
             }
            },
            "type": "scattermap"
           }
          ],
          "scattermapbox": [
           {
            "marker": {
             "colorbar": {
              "outlinewidth": 0,
              "ticks": ""
             }
            },
            "type": "scattermapbox"
           }
          ],
          "scatterpolar": [
           {
            "marker": {
             "colorbar": {
              "outlinewidth": 0,
              "ticks": ""
             }
            },
            "type": "scatterpolar"
           }
          ],
          "scatterpolargl": [
           {
            "marker": {
             "colorbar": {
              "outlinewidth": 0,
              "ticks": ""
             }
            },
            "type": "scatterpolargl"
           }
          ],
          "scatterternary": [
           {
            "marker": {
             "colorbar": {
              "outlinewidth": 0,
              "ticks": ""
             }
            },
            "type": "scatterternary"
           }
          ],
          "surface": [
           {
            "colorbar": {
             "outlinewidth": 0,
             "ticks": ""
            },
            "colorscale": [
             [
              0,
              "#0d0887"
             ],
             [
              0.1111111111111111,
              "#46039f"
             ],
             [
              0.2222222222222222,
              "#7201a8"
             ],
             [
              0.3333333333333333,
              "#9c179e"
             ],
             [
              0.4444444444444444,
              "#bd3786"
             ],
             [
              0.5555555555555556,
              "#d8576b"
             ],
             [
              0.6666666666666666,
              "#ed7953"
             ],
             [
              0.7777777777777778,
              "#fb9f3a"
             ],
             [
              0.8888888888888888,
              "#fdca26"
             ],
             [
              1,
              "#f0f921"
             ]
            ],
            "type": "surface"
           }
          ],
          "table": [
           {
            "cells": {
             "fill": {
              "color": "#EBF0F8"
             },
             "line": {
              "color": "white"
             }
            },
            "header": {
             "fill": {
              "color": "#C8D4E3"
             },
             "line": {
              "color": "white"
             }
            },
            "type": "table"
           }
          ]
         },
         "layout": {
          "annotationdefaults": {
           "arrowcolor": "#2a3f5f",
           "arrowhead": 0,
           "arrowwidth": 1
          },
          "autotypenumbers": "strict",
          "coloraxis": {
           "colorbar": {
            "outlinewidth": 0,
            "ticks": ""
           }
          },
          "colorscale": {
           "diverging": [
            [
             0,
             "#8e0152"
            ],
            [
             0.1,
             "#c51b7d"
            ],
            [
             0.2,
             "#de77ae"
            ],
            [
             0.3,
             "#f1b6da"
            ],
            [
             0.4,
             "#fde0ef"
            ],
            [
             0.5,
             "#f7f7f7"
            ],
            [
             0.6,
             "#e6f5d0"
            ],
            [
             0.7,
             "#b8e186"
            ],
            [
             0.8,
             "#7fbc41"
            ],
            [
             0.9,
             "#4d9221"
            ],
            [
             1,
             "#276419"
            ]
           ],
           "sequential": [
            [
             0,
             "#0d0887"
            ],
            [
             0.1111111111111111,
             "#46039f"
            ],
            [
             0.2222222222222222,
             "#7201a8"
            ],
            [
             0.3333333333333333,
             "#9c179e"
            ],
            [
             0.4444444444444444,
             "#bd3786"
            ],
            [
             0.5555555555555556,
             "#d8576b"
            ],
            [
             0.6666666666666666,
             "#ed7953"
            ],
            [
             0.7777777777777778,
             "#fb9f3a"
            ],
            [
             0.8888888888888888,
             "#fdca26"
            ],
            [
             1,
             "#f0f921"
            ]
           ],
           "sequentialminus": [
            [
             0,
             "#0d0887"
            ],
            [
             0.1111111111111111,
             "#46039f"
            ],
            [
             0.2222222222222222,
             "#7201a8"
            ],
            [
             0.3333333333333333,
             "#9c179e"
            ],
            [
             0.4444444444444444,
             "#bd3786"
            ],
            [
             0.5555555555555556,
             "#d8576b"
            ],
            [
             0.6666666666666666,
             "#ed7953"
            ],
            [
             0.7777777777777778,
             "#fb9f3a"
            ],
            [
             0.8888888888888888,
             "#fdca26"
            ],
            [
             1,
             "#f0f921"
            ]
           ]
          },
          "colorway": [
           "#636efa",
           "#EF553B",
           "#00cc96",
           "#ab63fa",
           "#FFA15A",
           "#19d3f3",
           "#FF6692",
           "#B6E880",
           "#FF97FF",
           "#FECB52"
          ],
          "font": {
           "color": "#2a3f5f"
          },
          "geo": {
           "bgcolor": "white",
           "lakecolor": "white",
           "landcolor": "#E5ECF6",
           "showlakes": true,
           "showland": true,
           "subunitcolor": "white"
          },
          "hoverlabel": {
           "align": "left"
          },
          "hovermode": "closest",
          "mapbox": {
           "style": "light"
          },
          "paper_bgcolor": "white",
          "plot_bgcolor": "#E5ECF6",
          "polar": {
           "angularaxis": {
            "gridcolor": "white",
            "linecolor": "white",
            "ticks": ""
           },
           "bgcolor": "#E5ECF6",
           "radialaxis": {
            "gridcolor": "white",
            "linecolor": "white",
            "ticks": ""
           }
          },
          "scene": {
           "xaxis": {
            "backgroundcolor": "#E5ECF6",
            "gridcolor": "white",
            "gridwidth": 2,
            "linecolor": "white",
            "showbackground": true,
            "ticks": "",
            "zerolinecolor": "white"
           },
           "yaxis": {
            "backgroundcolor": "#E5ECF6",
            "gridcolor": "white",
            "gridwidth": 2,
            "linecolor": "white",
            "showbackground": true,
            "ticks": "",
            "zerolinecolor": "white"
           },
           "zaxis": {
            "backgroundcolor": "#E5ECF6",
            "gridcolor": "white",
            "gridwidth": 2,
            "linecolor": "white",
            "showbackground": true,
            "ticks": "",
            "zerolinecolor": "white"
           }
          },
          "shapedefaults": {
           "line": {
            "color": "#2a3f5f"
           }
          },
          "ternary": {
           "aaxis": {
            "gridcolor": "white",
            "linecolor": "white",
            "ticks": ""
           },
           "baxis": {
            "gridcolor": "white",
            "linecolor": "white",
            "ticks": ""
           },
           "bgcolor": "#E5ECF6",
           "caxis": {
            "gridcolor": "white",
            "linecolor": "white",
            "ticks": ""
           }
          },
          "title": {
           "x": 0.05
          },
          "xaxis": {
           "automargin": true,
           "gridcolor": "white",
           "linecolor": "white",
           "ticks": "",
           "title": {
            "standoff": 15
           },
           "zerolinecolor": "white",
           "zerolinewidth": 2
          },
          "yaxis": {
           "automargin": true,
           "gridcolor": "white",
           "linecolor": "white",
           "ticks": "",
           "title": {
            "standoff": 15
           },
           "zerolinecolor": "white",
           "zerolinewidth": 2
          }
         }
        },
        "title": {
         "text": "GDPPC by Country for Top 100 Countries Each Year",
         "x": 0.5
        },
        "xaxis": {
         "anchor": "y",
         "domain": [
          0,
          1
         ],
         "showticklabels": false
        },
        "xaxis2": {
         "anchor": "y2",
         "domain": [
          0,
          1
         ],
         "showticklabels": false
        },
        "xaxis3": {
         "anchor": "y3",
         "domain": [
          0,
          1
         ],
         "showticklabels": false
        },
        "xaxis4": {
         "anchor": "y4",
         "domain": [
          0,
          1
         ],
         "showticklabels": false
        },
        "xaxis5": {
         "anchor": "y5",
         "domain": [
          0,
          1
         ],
         "showticklabels": false
        },
        "yaxis": {
         "anchor": "x",
         "domain": [
          0.8400000000000001,
          1
         ],
         "title": {
          "standoff": 15,
          "text": "GDPPC"
         }
        },
        "yaxis2": {
         "anchor": "x2",
         "domain": [
          0.63,
          0.79
         ],
         "title": {
          "standoff": 15,
          "text": "GDPPC"
         }
        },
        "yaxis3": {
         "anchor": "x3",
         "domain": [
          0.42000000000000004,
          0.5800000000000001
         ],
         "title": {
          "standoff": 15,
          "text": "GDPPC"
         }
        },
        "yaxis4": {
         "anchor": "x4",
         "domain": [
          0.21000000000000002,
          0.37
         ],
         "title": {
          "standoff": 15,
          "text": "GDPPC"
         }
        },
        "yaxis5": {
         "anchor": "x5",
         "domain": [
          0,
          0.16
         ],
         "title": {
          "standoff": 15,
          "text": "GDPPC"
         }
        }
       }
      }
     },
     "metadata": {},
     "output_type": "display_data"
    }
   ],
   "source": [
    "fig = make_subplots(rows=5, cols=1, subplot_titles=('2015', '2016', '2017', '2018', '2019'), shared_xaxes=False, shared_yaxes=True, vertical_spacing=0.05)\n",
    "fig.add_trace(go.Scatter(x=list(df_2015.Country[0:100].str.capitalize()), y=list(df_2015.GDPPC[0:100]), mode='lines+markers', name='2015'), row=1, col=1)\n",
    "fig.add_trace(go.Scatter(x=list(df_2016.Country[0:100].str.capitalize()), y=list(df_2016.GDPPC[0:100]), mode='lines+markers', name='2016'), row=2, col=1)\n",
    "fig.add_trace(go.Scatter(x=list(df_2017.Country[0:100].str.capitalize()), y=list(df_2017.GDPPC[0:100]), mode='lines+markers', name='2017'), row=3, col=1)\n",
    "fig.add_trace(go.Scatter(x=list(df_2018.Country[0:100].str.capitalize()), y=list(df_2018.GDPPC[0:100]), mode='lines+markers', name='2018'), row=4, col=1)\n",
    "fig.add_trace(go.Scatter(x=list(df_2019.Country[0:100].str.capitalize()), y=list(df_2019.GDPPC[0:100]), mode='lines+markers', name='2019'), row=5, col=1)\n",
    "fig.update_layout(title='GDPPC by Country for Top 100 Countries Each Year', height=1000, title_x=0.5)\n",
    "fig.update_yaxes(title_text='GDPPC', title_standoff=15)\n",
    "fig.update_xaxes(showticklabels=False)\n",
    "fig.show()"
   ]
  },
  {
   "cell_type": "code",
   "execution_count": 52,
   "metadata": {},
   "outputs": [
    {
     "data": {
      "application/vnd.plotly.v1+json": {
       "config": {
        "plotlyServerURL": "https://plot.ly"
       },
       "data": [
        {
         "mode": "lines+markers",
         "name": "2015",
         "text": [
          "switzerland",
          "iceland",
          "denmark",
          "norway",
          "canada",
          "finland",
          "netherlands",
          "sweden",
          "new zealand",
          "australia",
          "israel",
          "costa rica",
          "austria",
          "mexico",
          "united states",
          "brazil",
          "luxembourg",
          "ireland",
          "belgium",
          "united kingdom",
          "venezuela",
          "singapore",
          "panama",
          "germany",
          "chile",
          "qatar",
          "france",
          "argentina",
          "czech republic",
          "uruguay",
          "colombia",
          "thailand",
          "saudi arabia",
          "spain",
          "malta",
          "kuwait",
          "el salvador",
          "guatemala",
          "uzbekistan",
          "slovakia",
          "japan",
          "south korea",
          "ecuador",
          "bahrain",
          "italy",
          "bolivia",
          "moldova",
          "paraguay",
          "kazakhstan",
          "slovenia",
          "lithuania",
          "nicaragua",
          "peru",
          "belarus",
          "poland",
          "malaysia",
          "croatia",
          "libya",
          "russia",
          "jamaica",
          "cyprus",
          "algeria",
          "kosovo",
          "turkmenistan",
          "mauritius",
          "estonia",
          "indonesia",
          "vietnam",
          "turkey",
          "kyrgyzstan",
          "nigeria",
          "bhutan",
          "azerbaijan",
          "pakistan",
          "jordan",
          "montenegro",
          "china",
          "zambia",
          "romania",
          "serbia",
          "portugal",
          "latvia",
          "philippines",
          "morocco",
          "albania",
          "bosnia and herzegovina",
          "dominican republic",
          "mongolia",
          "greece",
          "lebanon",
          "hungary",
          "honduras",
          "tajikistan",
          "tunisia",
          "palestinian territories",
          "bangladesh",
          "iran",
          "ukraine",
          "iraq",
          "south africa"
         ],
         "type": "scatter",
         "x": [
          7.587,
          7.561,
          7.527,
          7.522,
          7.427,
          7.406,
          7.378,
          7.364,
          7.286,
          7.284,
          7.278,
          7.226,
          7.2,
          7.187,
          7.119,
          6.983,
          6.946,
          6.94,
          6.937,
          6.867,
          6.81,
          6.798,
          6.786,
          6.75,
          6.67,
          6.611,
          6.575,
          6.574,
          6.505,
          6.485,
          6.477,
          6.455,
          6.411,
          6.329,
          6.302,
          6.295,
          6.13,
          6.123,
          6.003,
          5.995,
          5.987,
          5.984,
          5.975,
          5.96,
          5.948,
          5.89,
          5.889,
          5.878,
          5.855,
          5.848,
          5.833,
          5.828,
          5.824,
          5.813,
          5.791,
          5.77,
          5.759,
          5.754,
          5.716,
          5.709,
          5.689,
          5.605,
          5.589,
          5.548,
          5.477,
          5.429,
          5.399,
          5.36,
          5.332,
          5.286,
          5.268,
          5.253,
          5.212,
          5.194,
          5.192,
          5.192,
          5.14,
          5.129,
          5.124,
          5.123,
          5.102,
          5.098,
          5.073,
          5.013,
          4.959,
          4.949,
          4.885,
          4.874,
          4.857,
          4.839,
          4.8,
          4.788,
          4.786,
          4.739,
          4.715,
          4.694,
          4.686,
          4.681,
          4.677,
          4.642
         ],
         "xaxis": "x",
         "y": [
          1.39651,
          1.30232,
          1.32548,
          1.459,
          1.32629,
          1.29025,
          1.32944,
          1.33171,
          1.25018,
          1.33358,
          1.22857,
          0.95578,
          1.33723,
          1.02054,
          1.39451,
          0.98124,
          1.56391,
          1.33596,
          1.30782,
          1.26637,
          1.04424,
          1.52186,
          1.06353,
          1.32792,
          1.10715,
          1.69042,
          1.27778,
          1.05351,
          1.17898,
          1.06166,
          0.91861,
          0.9669,
          1.39541,
          1.23011,
          1.2074,
          1.55422,
          0.76454,
          0.74553,
          0.63244,
          1.16891,
          1.27074,
          1.24461,
          0.86402,
          1.32376,
          1.25114,
          0.68133,
          0.59448,
          0.75985,
          1.12254,
          1.18498,
          1.14723,
          0.59325,
          0.90019,
          1.03192,
          1.12555,
          1.12486,
          1.08254,
          1.13145,
          1.13764,
          0.81038,
          1.20813,
          0.93929,
          0.80148,
          0.95847,
          1.00761,
          1.15174,
          0.82827,
          0.63216,
          1.06098,
          0.47428,
          0.65435,
          0.77042,
          1.02389,
          0.59543,
          0.90198,
          0.97438,
          0.89012,
          0.47038,
          1.04345,
          0.92053,
          1.15991,
          1.11312,
          0.70532,
          0.73479,
          0.87867,
          0.83223,
          0.89537,
          0.82819,
          1.15406,
          1.02564,
          1.12094,
          0.59532,
          0.39047,
          0.88113,
          0.59867,
          0.39753,
          1.0088,
          0.79907,
          0.98549,
          0.92049
         ],
         "yaxis": "y"
        },
        {
         "mode": "lines+markers",
         "name": "2016",
         "text": [
          "denmark",
          "switzerland",
          "iceland",
          "norway",
          "finland",
          "canada",
          "netherlands",
          "new zealand",
          "australia",
          "sweden",
          "israel",
          "austria",
          "united states",
          "costa rica",
          "germany",
          "brazil",
          "belgium",
          "ireland",
          "luxembourg",
          "mexico",
          "singapore",
          "united kingdom",
          "chile",
          "panama",
          "argentina",
          "czech republic",
          "uruguay",
          "malta",
          "colombia",
          "france",
          "thailand",
          "saudi arabia",
          "qatar",
          "spain",
          "algeria",
          "guatemala",
          "kuwait",
          "bahrain",
          "venezuela",
          "slovakia",
          "el salvador",
          "malaysia",
          "nicaragua",
          "uzbekistan",
          "italy",
          "ecuador",
          "japan",
          "kazakhstan",
          "moldova",
          "russia",
          "poland",
          "south korea",
          "bolivia",
          "lithuania",
          "belarus",
          "slovenia",
          "peru",
          "turkmenistan",
          "mauritius",
          "libya",
          "latvia",
          "cyprus",
          "paraguay",
          "romania",
          "estonia",
          "jamaica",
          "croatia",
          "kosovo",
          "turkey",
          "indonesia",
          "jordan",
          "azerbaijan",
          "philippines",
          "china",
          "bhutan",
          "kyrgyzstan",
          "serbia",
          "bosnia and herzegovina",
          "montenegro",
          "dominican republic",
          "morocco",
          "hungary",
          "pakistan",
          "lebanon",
          "portugal",
          "vietnam",
          "tunisia",
          "greece",
          "tajikistan",
          "mongolia",
          "nigeria",
          "honduras",
          "iran",
          "zambia",
          "nepal",
          "palestinian territories",
          "albania",
          "bangladesh",
          "sierra leone",
          "iraq"
         ],
         "type": "scatter",
         "x": [
          7.526,
          7.509,
          7.501,
          7.498,
          7.413,
          7.404,
          7.339,
          7.334,
          7.313,
          7.291,
          7.267,
          7.119,
          7.104,
          7.087,
          6.994,
          6.952,
          6.929,
          6.907,
          6.871,
          6.778,
          6.739,
          6.725,
          6.705,
          6.701,
          6.65,
          6.596,
          6.545,
          6.488,
          6.481,
          6.478,
          6.474,
          6.379,
          6.375,
          6.361,
          6.355,
          6.324,
          6.239,
          6.218,
          6.084,
          6.078,
          6.068,
          6.005,
          5.992,
          5.987,
          5.977,
          5.976,
          5.921,
          5.919,
          5.897,
          5.856,
          5.835,
          5.835,
          5.822,
          5.813,
          5.802,
          5.768,
          5.743,
          5.658,
          5.648,
          5.615,
          5.56,
          5.546,
          5.538,
          5.528,
          5.517,
          5.51,
          5.488,
          5.401,
          5.389,
          5.314,
          5.303,
          5.291,
          5.279,
          5.245,
          5.196,
          5.185,
          5.177,
          5.163,
          5.161,
          5.155,
          5.151,
          5.145,
          5.132,
          5.129,
          5.123,
          5.061,
          5.045,
          5.033,
          4.996,
          4.907,
          4.875,
          4.871,
          4.813,
          4.795,
          4.793,
          4.754,
          4.655,
          4.643,
          4.635,
          4.575
         ],
         "xaxis": "x2",
         "y": [
          1.44178,
          1.52733,
          1.42666,
          1.57744,
          1.40598,
          1.44015,
          1.46468,
          1.36066,
          1.44443,
          1.45181,
          1.33766,
          1.45038,
          1.50796,
          1.06879,
          1.44787,
          1.08754,
          1.42539,
          1.48341,
          1.69752,
          1.11508,
          1.64555,
          1.40283,
          1.2167,
          1.18306,
          1.15137,
          1.30915,
          1.18157,
          1.30782,
          1.03032,
          1.39488,
          1.0893,
          1.48953,
          1.82427,
          1.34253,
          1.05266,
          0.83454,
          1.61714,
          1.44024,
          1.13367,
          1.27973,
          0.8737,
          1.25142,
          0.69384,
          0.73591,
          1.35495,
          0.97306,
          1.38007,
          1.22943,
          0.69177,
          1.23228,
          1.24585,
          1.35948,
          0.79422,
          1.2692,
          1.13062,
          1.29947,
          0.99602,
          1.08017,
          1.14372,
          1.06688,
          1.21788,
          1.31857,
          0.89373,
          1.1697,
          1.27964,
          0.89333,
          1.18649,
          0.90145,
          1.16492,
          0.95104,
          0.99673,
          1.12373,
          0.81217,
          1.0278,
          0.8527,
          0.56044,
          1.03437,
          0.93383,
          1.07838,
          1.02787,
          0.84058,
          1.24142,
          0.68816,
          1.12268,
          1.27607,
          0.74037,
          0.97724,
          1.24886,
          0.48835,
          0.98853,
          0.75216,
          0.69429,
          1.11758,
          0.61202,
          0.44626,
          0.67024,
          0.9553,
          0.54177,
          0.36485,
          1.07474
         ],
         "yaxis": "y2"
        },
        {
         "mode": "lines+markers",
         "name": "2017",
         "text": [
          "norway",
          "denmark",
          "iceland",
          "switzerland",
          "finland",
          "netherlands",
          "canada",
          "new zealand",
          "sweden",
          "australia",
          "israel",
          "costa rica",
          "austria",
          "united states",
          "ireland",
          "germany",
          "belgium",
          "luxembourg",
          "united kingdom",
          "chile",
          "brazil",
          "czech republic",
          "argentina",
          "mexico",
          "singapore",
          "malta",
          "uruguay",
          "guatemala",
          "panama",
          "france",
          "thailand",
          "spain",
          "qatar",
          "colombia",
          "saudi arabia",
          "kuwait",
          "slovakia",
          "bahrain",
          "malaysia",
          "nicaragua",
          "ecuador",
          "el salvador",
          "poland",
          "uzbekistan",
          "italy",
          "russia",
          "japan",
          "lithuania",
          "algeria",
          "latvia",
          "south korea",
          "moldova",
          "romania",
          "bolivia",
          "turkmenistan",
          "kazakhstan",
          "slovenia",
          "peru",
          "mauritius",
          "cyprus",
          "estonia",
          "belarus",
          "libya",
          "turkey",
          "paraguay",
          "philippines",
          "serbia",
          "jordan",
          "hungary",
          "jamaica",
          "croatia",
          "kosovo",
          "china",
          "pakistan",
          "indonesia",
          "venezuela",
          "montenegro",
          "morocco",
          "azerbaijan",
          "dominican republic",
          "greece",
          "lebanon",
          "portugal",
          "bosnia and herzegovina",
          "honduras",
          "vietnam",
          "nigeria",
          "tajikistan",
          "bhutan",
          "kyrgyzstan",
          "nepal",
          "mongolia",
          "south africa",
          "tunisia",
          "palestinian territories",
          "egypt",
          "bulgaria",
          "sierra leone",
          "cameroon",
          "iran"
         ],
         "type": "scatter",
         "x": [
          7.53700017929077,
          7.52199983596802,
          7.50400018692017,
          7.49399995803833,
          7.4689998626709,
          7.3769998550415,
          7.31599998474121,
          7.31400012969971,
          7.28399991989136,
          7.28399991989136,
          7.21299982070923,
          7.0789999961853,
          7.00600004196167,
          6.99300003051758,
          6.97700023651123,
          6.95100021362305,
          6.89099979400635,
          6.86299991607666,
          6.71400022506714,
          6.65199995040894,
          6.63500022888184,
          6.60900020599365,
          6.59899997711182,
          6.57800006866455,
          6.57200002670288,
          6.52699995040894,
          6.4539999961853,
          6.4539999961853,
          6.4520001411438,
          6.44199991226196,
          6.42399978637695,
          6.40299987792969,
          6.375,
          6.35699987411499,
          6.3439998626709,
          6.10500001907349,
          6.09800004959106,
          6.08699989318848,
          6.08400011062622,
          6.07100009918213,
          6.00799989700317,
          6.00299978256226,
          5.97300004959106,
          5.97100019454956,
          5.96400022506714,
          5.96299982070923,
          5.92000007629395,
          5.90199995040894,
          5.87200021743774,
          5.84999990463257,
          5.83799982070923,
          5.83799982070923,
          5.82499980926514,
          5.82299995422363,
          5.82200002670288,
          5.81899976730347,
          5.75799989700317,
          5.71500015258789,
          5.62900018692017,
          5.62099981307983,
          5.61100006103516,
          5.56899976730347,
          5.52500009536743,
          5.5,
          5.49300003051758,
          5.42999982833862,
          5.39499998092651,
          5.33599996566772,
          5.32399988174438,
          5.31099987030029,
          5.29300022125244,
          5.27899980545044,
          5.27299976348877,
          5.26900005340576,
          5.26200008392334,
          5.25,
          5.23699998855591,
          5.2350001335144,
          5.23400020599365,
          5.23000001907349,
          5.22700023651123,
          5.22499990463257,
          5.19500017166138,
          5.18200016021729,
          5.18100023269653,
          5.07399988174438,
          5.07399988174438,
          5.04099988937378,
          5.01100015640259,
          5.00400018692017,
          4.96199989318848,
          4.95499992370605,
          4.8289999961853,
          4.80499982833862,
          4.77500009536743,
          4.7350001335144,
          4.71400022506714,
          4.70900011062622,
          4.69500017166138,
          4.69199991226196
         ],
         "xaxis": "x3",
         "y": [
          1.61646318435669,
          1.48238301277161,
          1.480633020401,
          1.56497955322266,
          1.44357192516327,
          1.50394463539124,
          1.47920441627502,
          1.40570604801178,
          1.49438726902008,
          1.484414935112,
          1.37538242340088,
          1.10970628261566,
          1.48709726333618,
          1.54625928401947,
          1.53570663928986,
          1.48792338371277,
          1.46378076076508,
          1.74194359779358,
          1.44163393974304,
          1.25278460979462,
          1.10735321044922,
          1.35268235206604,
          1.18529546260834,
          1.15318381786346,
          1.69227766990662,
          1.34327983856201,
          1.21755969524384,
          0.872001945972443,
          1.23374843597412,
          1.43092346191406,
          1.12786877155304,
          1.38439786434174,
          1.87076568603516,
          1.07062232494354,
          1.53062355518341,
          1.63295245170593,
          1.32539355754852,
          1.48841226100922,
          1.29121541976929,
          0.737299203872681,
          1.00082039833069,
          0.909784495830536,
          1.29178786277771,
          0.786441087722778,
          1.39506661891937,
          1.28177809715271,
          1.41691517829895,
          1.31458234786987,
          1.09186446666718,
          1.26074862480164,
          1.40167844295502,
          0.728870630264282,
          1.21768391132355,
          0.833756566047668,
          1.13077676296234,
          1.28455626964569,
          1.3412059545517,
          1.03522527217865,
          1.18939554691315,
          1.35593807697296,
          1.32087934017181,
          1.15655755996704,
          1.10180306434631,
          1.19827437400818,
          0.932537317276001,
          0.85769921541214,
          1.06931757926941,
          0.991012394428253,
          1.2860119342804,
          0.925579309463501,
          1.22255623340607,
          0.951484382152557,
          1.08116579055786,
          0.72688353061676,
          0.995538592338562,
          1.12843120098114,
          1.12112903594971,
          0.878114581108093,
          1.15360176563263,
          1.07937383651733,
          1.28948748111725,
          1.07498753070831,
          1.3151752948761,
          0.982409417629242,
          0.730573117733002,
          0.788547575473785,
          0.783756256103516,
          0.524713635444641,
          0.885416388511658,
          0.596220076084137,
          0.479820191860199,
          1.02723586559296,
          1.05469870567322,
          1.00726580619812,
          0.716249227523804,
          0.989701807498932,
          1.1614590883255,
          0.36842092871666,
          0.564305365085602,
          1.15687310695648
         ],
         "yaxis": "y3"
        },
        {
         "mode": "lines+markers",
         "name": "2018",
         "text": [
          "finland",
          "norway",
          "denmark",
          "iceland",
          "switzerland",
          "netherlands",
          "canada",
          "new zealand",
          "sweden",
          "australia",
          "united kingdom",
          "austria",
          "costa rica",
          "ireland",
          "germany",
          "belgium",
          "luxembourg",
          "united states",
          "israel",
          "czech republic",
          "malta",
          "france",
          "mexico",
          "chile",
          "panama",
          "brazil",
          "argentina",
          "guatemala",
          "uruguay",
          "qatar",
          "saudi arabia",
          "singapore",
          "malaysia",
          "spain",
          "colombia",
          "slovakia",
          "el salvador",
          "nicaragua",
          "poland",
          "bahrain",
          "uzbekistan",
          "kuwait",
          "thailand",
          "italy",
          "ecuador",
          "lithuania",
          "slovenia",
          "romania",
          "latvia",
          "japan",
          "mauritius",
          "jamaica",
          "south korea",
          "russia",
          "kazakhstan",
          "cyprus",
          "bolivia",
          "estonia",
          "paraguay",
          "peru",
          "kosovo",
          "moldova",
          "turkmenistan",
          "hungary",
          "libya",
          "philippines",
          "honduras",
          "belarus",
          "turkey",
          "pakistan",
          "portugal",
          "serbia",
          "greece",
          "lebanon",
          "montenegro",
          "croatia",
          "dominican republic",
          "algeria",
          "morocco",
          "china",
          "azerbaijan",
          "tajikistan",
          "jordan",
          "nigeria",
          "kyrgyzstan",
          "bosnia and herzegovina",
          "mongolia",
          "vietnam",
          "indonesia",
          "bhutan",
          "cameroon",
          "bulgaria",
          "nepal",
          "venezuela",
          "gabon",
          "palestinian territories",
          "south africa",
          "iran",
          "ivory coast",
          "ghana"
         ],
         "type": "scatter",
         "x": [
          7.632,
          7.594,
          7.555,
          7.495,
          7.487,
          7.441,
          7.328,
          7.324,
          7.314,
          7.272,
          7.19,
          7.139,
          7.072,
          6.977,
          6.965,
          6.927,
          6.91,
          6.886,
          6.814,
          6.711,
          6.627,
          6.489,
          6.488,
          6.476,
          6.43,
          6.419,
          6.388,
          6.382,
          6.379,
          6.374,
          6.371,
          6.343,
          6.322,
          6.31,
          6.26,
          6.173,
          6.167,
          6.141,
          6.123,
          6.105,
          6.096,
          6.083,
          6.072,
          6,
          5.973,
          5.952,
          5.948,
          5.945,
          5.933,
          5.915,
          5.891,
          5.89,
          5.875,
          5.81,
          5.79,
          5.762,
          5.752,
          5.739,
          5.681,
          5.663,
          5.662,
          5.64,
          5.636,
          5.62,
          5.566,
          5.524,
          5.504,
          5.483,
          5.483,
          5.472,
          5.41,
          5.398,
          5.358,
          5.358,
          5.347,
          5.321,
          5.302,
          5.295,
          5.254,
          5.246,
          5.201,
          5.199,
          5.161,
          5.155,
          5.131,
          5.129,
          5.125,
          5.103,
          5.093,
          5.082,
          4.975,
          4.933,
          4.88,
          4.806,
          4.758,
          4.743,
          4.724,
          4.707,
          4.671,
          4.657
         ],
         "xaxis": "x4",
         "y": [
          1.305,
          1.456,
          1.351,
          1.343,
          1.42,
          1.361,
          1.33,
          1.268,
          1.355,
          1.34,
          1.244,
          1.341,
          1.01,
          1.448,
          1.34,
          1.324,
          1.576,
          1.398,
          1.301,
          1.233,
          1.27,
          1.293,
          1.038,
          1.131,
          1.112,
          0.986,
          1.073,
          0.781,
          1.093,
          1.649,
          1.379,
          1.529,
          1.161,
          1.251,
          0.96,
          1.21,
          0.806,
          0.668,
          1.176,
          1.338,
          0.719,
          1.474,
          1.016,
          1.264,
          0.889,
          1.197,
          1.219,
          1.116,
          1.148,
          1.294,
          1.09,
          0.819,
          1.266,
          1.151,
          1.143,
          1.229,
          0.751,
          1.2,
          0.835,
          0.934,
          0.855,
          0.657,
          1.016,
          1.171,
          0.985,
          0.775,
          0.62,
          1.039,
          1.148,
          0.652,
          1.188,
          0.975,
          1.154,
          0.965,
          1.017,
          1.115,
          0.982,
          0.979,
          0.779,
          0.989,
          1.024,
          0.474,
          0.822,
          0.689,
          0.53,
          0.915,
          0.914,
          0.715,
          0.899,
          0.796,
          0.535,
          1.054,
          0.425,
          0.996,
          1.036,
          0.642,
          0.94,
          1.059,
          0.541,
          0.592
         ],
         "yaxis": "y4"
        },
        {
         "mode": "lines+markers",
         "name": "2019",
         "text": [
          "finland",
          "denmark",
          "norway",
          "iceland",
          "netherlands",
          "switzerland",
          "sweden",
          "new zealand",
          "canada",
          "austria",
          "australia",
          "costa rica",
          "israel",
          "luxembourg",
          "united kingdom",
          "ireland",
          "germany",
          "belgium",
          "united states",
          "czech republic",
          "malta",
          "mexico",
          "france",
          "chile",
          "guatemala",
          "saudi arabia",
          "qatar",
          "spain",
          "panama",
          "brazil",
          "uruguay",
          "singapore",
          "el salvador",
          "italy",
          "bahrain",
          "slovakia",
          "poland",
          "uzbekistan",
          "lithuania",
          "colombia",
          "slovenia",
          "nicaragua",
          "kosovo",
          "argentina",
          "romania",
          "cyprus",
          "ecuador",
          "kuwait",
          "thailand",
          "latvia",
          "south korea",
          "estonia",
          "jamaica",
          "mauritius",
          "japan",
          "honduras",
          "kazakhstan",
          "bolivia",
          "hungary",
          "paraguay",
          "peru",
          "portugal",
          "pakistan",
          "russia",
          "philippines",
          "serbia",
          "moldova",
          "libya",
          "montenegro",
          "tajikistan",
          "croatia",
          "dominican republic",
          "bosnia and herzegovina",
          "turkey",
          "malaysia",
          "belarus",
          "greece",
          "mongolia",
          "nigeria",
          "kyrgyzstan",
          "turkmenistan",
          "algeria",
          "morocco",
          "azerbaijan",
          "lebanon",
          "indonesia",
          "china",
          "vietnam",
          "bhutan",
          "cameroon",
          "bulgaria",
          "ghana",
          "ivory coast",
          "nepal",
          "jordan",
          "benin",
          "congo (brazzaville)",
          "gabon",
          "south africa",
          "albania"
         ],
         "type": "scatter",
         "x": [
          7.769,
          7.6,
          7.554,
          7.494,
          7.488,
          7.48,
          7.343,
          7.307,
          7.278,
          7.246,
          7.228,
          7.167,
          7.139,
          7.09,
          7.054,
          7.021,
          6.985,
          6.923,
          6.892,
          6.852,
          6.726,
          6.595,
          6.592,
          6.444,
          6.436,
          6.375,
          6.374,
          6.354,
          6.321,
          6.3,
          6.293,
          6.262,
          6.253,
          6.223,
          6.199,
          6.198,
          6.182,
          6.174,
          6.149,
          6.125,
          6.118,
          6.105,
          6.1,
          6.086,
          6.07,
          6.046,
          6.028,
          6.021,
          6.008,
          5.94,
          5.895,
          5.893,
          5.89,
          5.888,
          5.886,
          5.86,
          5.809,
          5.779,
          5.758,
          5.743,
          5.697,
          5.693,
          5.653,
          5.648,
          5.631,
          5.603,
          5.529,
          5.525,
          5.523,
          5.467,
          5.432,
          5.425,
          5.386,
          5.373,
          5.339,
          5.323,
          5.287,
          5.285,
          5.265,
          5.261,
          5.247,
          5.211,
          5.208,
          5.208,
          5.197,
          5.192,
          5.191,
          5.175,
          5.082,
          5.044,
          5.011,
          4.996,
          4.944,
          4.913,
          4.906,
          4.883,
          4.812,
          4.799,
          4.722,
          4.719
         ],
         "xaxis": "x5",
         "y": [
          1.34,
          1.383,
          1.488,
          1.38,
          1.396,
          1.452,
          1.387,
          1.303,
          1.365,
          1.376,
          1.372,
          1.034,
          1.276,
          1.609,
          1.333,
          1.499,
          1.373,
          1.356,
          1.433,
          1.269,
          1.3,
          1.07,
          1.324,
          1.159,
          0.8,
          1.403,
          1.684,
          1.286,
          1.149,
          1.004,
          1.124,
          1.572,
          0.794,
          1.294,
          1.362,
          1.246,
          1.206,
          0.745,
          1.238,
          0.985,
          1.258,
          0.694,
          0.882,
          1.092,
          1.162,
          1.263,
          0.912,
          1.5,
          1.05,
          1.187,
          1.301,
          1.237,
          0.831,
          1.12,
          1.327,
          0.642,
          1.173,
          0.776,
          1.201,
          0.855,
          0.96,
          1.221,
          0.677,
          1.183,
          0.807,
          1.004,
          0.685,
          1.044,
          1.051,
          0.493,
          1.155,
          1.015,
          0.945,
          1.183,
          1.221,
          1.067,
          1.181,
          0.948,
          0.696,
          0.551,
          1.052,
          1.002,
          0.801,
          1.043,
          0.987,
          0.931,
          1.029,
          0.741,
          0.813,
          0.549,
          1.092,
          0.611,
          0.569,
          0.446,
          0.837,
          0.393,
          0.673,
          1.057,
          0.96,
          0.947
         ],
         "yaxis": "y5"
        }
       ],
       "layout": {
        "annotations": [
         {
          "font": {
           "size": 16
          },
          "showarrow": false,
          "text": "2015",
          "x": 0.5,
          "xanchor": "center",
          "xref": "paper",
          "y": 1,
          "yanchor": "bottom",
          "yref": "paper"
         },
         {
          "font": {
           "size": 16
          },
          "showarrow": false,
          "text": "2016",
          "x": 0.5,
          "xanchor": "center",
          "xref": "paper",
          "y": 0.794,
          "yanchor": "bottom",
          "yref": "paper"
         },
         {
          "font": {
           "size": 16
          },
          "showarrow": false,
          "text": "2017",
          "x": 0.5,
          "xanchor": "center",
          "xref": "paper",
          "y": 0.588,
          "yanchor": "bottom",
          "yref": "paper"
         },
         {
          "font": {
           "size": 16
          },
          "showarrow": false,
          "text": "2018",
          "x": 0.5,
          "xanchor": "center",
          "xref": "paper",
          "y": 0.382,
          "yanchor": "bottom",
          "yref": "paper"
         },
         {
          "font": {
           "size": 16
          },
          "showarrow": false,
          "text": "2019",
          "x": 0.5,
          "xanchor": "center",
          "xref": "paper",
          "y": 0.176,
          "yanchor": "bottom",
          "yref": "paper"
         }
        ],
        "height": 2000,
        "template": {
         "data": {
          "bar": [
           {
            "error_x": {
             "color": "#2a3f5f"
            },
            "error_y": {
             "color": "#2a3f5f"
            },
            "marker": {
             "line": {
              "color": "#E5ECF6",
              "width": 0.5
             },
             "pattern": {
              "fillmode": "overlay",
              "size": 10,
              "solidity": 0.2
             }
            },
            "type": "bar"
           }
          ],
          "barpolar": [
           {
            "marker": {
             "line": {
              "color": "#E5ECF6",
              "width": 0.5
             },
             "pattern": {
              "fillmode": "overlay",
              "size": 10,
              "solidity": 0.2
             }
            },
            "type": "barpolar"
           }
          ],
          "carpet": [
           {
            "aaxis": {
             "endlinecolor": "#2a3f5f",
             "gridcolor": "white",
             "linecolor": "white",
             "minorgridcolor": "white",
             "startlinecolor": "#2a3f5f"
            },
            "baxis": {
             "endlinecolor": "#2a3f5f",
             "gridcolor": "white",
             "linecolor": "white",
             "minorgridcolor": "white",
             "startlinecolor": "#2a3f5f"
            },
            "type": "carpet"
           }
          ],
          "choropleth": [
           {
            "colorbar": {
             "outlinewidth": 0,
             "ticks": ""
            },
            "type": "choropleth"
           }
          ],
          "contour": [
           {
            "colorbar": {
             "outlinewidth": 0,
             "ticks": ""
            },
            "colorscale": [
             [
              0,
              "#0d0887"
             ],
             [
              0.1111111111111111,
              "#46039f"
             ],
             [
              0.2222222222222222,
              "#7201a8"
             ],
             [
              0.3333333333333333,
              "#9c179e"
             ],
             [
              0.4444444444444444,
              "#bd3786"
             ],
             [
              0.5555555555555556,
              "#d8576b"
             ],
             [
              0.6666666666666666,
              "#ed7953"
             ],
             [
              0.7777777777777778,
              "#fb9f3a"
             ],
             [
              0.8888888888888888,
              "#fdca26"
             ],
             [
              1,
              "#f0f921"
             ]
            ],
            "type": "contour"
           }
          ],
          "contourcarpet": [
           {
            "colorbar": {
             "outlinewidth": 0,
             "ticks": ""
            },
            "type": "contourcarpet"
           }
          ],
          "heatmap": [
           {
            "colorbar": {
             "outlinewidth": 0,
             "ticks": ""
            },
            "colorscale": [
             [
              0,
              "#0d0887"
             ],
             [
              0.1111111111111111,
              "#46039f"
             ],
             [
              0.2222222222222222,
              "#7201a8"
             ],
             [
              0.3333333333333333,
              "#9c179e"
             ],
             [
              0.4444444444444444,
              "#bd3786"
             ],
             [
              0.5555555555555556,
              "#d8576b"
             ],
             [
              0.6666666666666666,
              "#ed7953"
             ],
             [
              0.7777777777777778,
              "#fb9f3a"
             ],
             [
              0.8888888888888888,
              "#fdca26"
             ],
             [
              1,
              "#f0f921"
             ]
            ],
            "type": "heatmap"
           }
          ],
          "histogram": [
           {
            "marker": {
             "pattern": {
              "fillmode": "overlay",
              "size": 10,
              "solidity": 0.2
             }
            },
            "type": "histogram"
           }
          ],
          "histogram2d": [
           {
            "colorbar": {
             "outlinewidth": 0,
             "ticks": ""
            },
            "colorscale": [
             [
              0,
              "#0d0887"
             ],
             [
              0.1111111111111111,
              "#46039f"
             ],
             [
              0.2222222222222222,
              "#7201a8"
             ],
             [
              0.3333333333333333,
              "#9c179e"
             ],
             [
              0.4444444444444444,
              "#bd3786"
             ],
             [
              0.5555555555555556,
              "#d8576b"
             ],
             [
              0.6666666666666666,
              "#ed7953"
             ],
             [
              0.7777777777777778,
              "#fb9f3a"
             ],
             [
              0.8888888888888888,
              "#fdca26"
             ],
             [
              1,
              "#f0f921"
             ]
            ],
            "type": "histogram2d"
           }
          ],
          "histogram2dcontour": [
           {
            "colorbar": {
             "outlinewidth": 0,
             "ticks": ""
            },
            "colorscale": [
             [
              0,
              "#0d0887"
             ],
             [
              0.1111111111111111,
              "#46039f"
             ],
             [
              0.2222222222222222,
              "#7201a8"
             ],
             [
              0.3333333333333333,
              "#9c179e"
             ],
             [
              0.4444444444444444,
              "#bd3786"
             ],
             [
              0.5555555555555556,
              "#d8576b"
             ],
             [
              0.6666666666666666,
              "#ed7953"
             ],
             [
              0.7777777777777778,
              "#fb9f3a"
             ],
             [
              0.8888888888888888,
              "#fdca26"
             ],
             [
              1,
              "#f0f921"
             ]
            ],
            "type": "histogram2dcontour"
           }
          ],
          "mesh3d": [
           {
            "colorbar": {
             "outlinewidth": 0,
             "ticks": ""
            },
            "type": "mesh3d"
           }
          ],
          "parcoords": [
           {
            "line": {
             "colorbar": {
              "outlinewidth": 0,
              "ticks": ""
             }
            },
            "type": "parcoords"
           }
          ],
          "pie": [
           {
            "automargin": true,
            "type": "pie"
           }
          ],
          "scatter": [
           {
            "fillpattern": {
             "fillmode": "overlay",
             "size": 10,
             "solidity": 0.2
            },
            "type": "scatter"
           }
          ],
          "scatter3d": [
           {
            "line": {
             "colorbar": {
              "outlinewidth": 0,
              "ticks": ""
             }
            },
            "marker": {
             "colorbar": {
              "outlinewidth": 0,
              "ticks": ""
             }
            },
            "type": "scatter3d"
           }
          ],
          "scattercarpet": [
           {
            "marker": {
             "colorbar": {
              "outlinewidth": 0,
              "ticks": ""
             }
            },
            "type": "scattercarpet"
           }
          ],
          "scattergeo": [
           {
            "marker": {
             "colorbar": {
              "outlinewidth": 0,
              "ticks": ""
             }
            },
            "type": "scattergeo"
           }
          ],
          "scattergl": [
           {
            "marker": {
             "colorbar": {
              "outlinewidth": 0,
              "ticks": ""
             }
            },
            "type": "scattergl"
           }
          ],
          "scattermap": [
           {
            "marker": {
             "colorbar": {
              "outlinewidth": 0,
              "ticks": ""
             }
            },
            "type": "scattermap"
           }
          ],
          "scattermapbox": [
           {
            "marker": {
             "colorbar": {
              "outlinewidth": 0,
              "ticks": ""
             }
            },
            "type": "scattermapbox"
           }
          ],
          "scatterpolar": [
           {
            "marker": {
             "colorbar": {
              "outlinewidth": 0,
              "ticks": ""
             }
            },
            "type": "scatterpolar"
           }
          ],
          "scatterpolargl": [
           {
            "marker": {
             "colorbar": {
              "outlinewidth": 0,
              "ticks": ""
             }
            },
            "type": "scatterpolargl"
           }
          ],
          "scatterternary": [
           {
            "marker": {
             "colorbar": {
              "outlinewidth": 0,
              "ticks": ""
             }
            },
            "type": "scatterternary"
           }
          ],
          "surface": [
           {
            "colorbar": {
             "outlinewidth": 0,
             "ticks": ""
            },
            "colorscale": [
             [
              0,
              "#0d0887"
             ],
             [
              0.1111111111111111,
              "#46039f"
             ],
             [
              0.2222222222222222,
              "#7201a8"
             ],
             [
              0.3333333333333333,
              "#9c179e"
             ],
             [
              0.4444444444444444,
              "#bd3786"
             ],
             [
              0.5555555555555556,
              "#d8576b"
             ],
             [
              0.6666666666666666,
              "#ed7953"
             ],
             [
              0.7777777777777778,
              "#fb9f3a"
             ],
             [
              0.8888888888888888,
              "#fdca26"
             ],
             [
              1,
              "#f0f921"
             ]
            ],
            "type": "surface"
           }
          ],
          "table": [
           {
            "cells": {
             "fill": {
              "color": "#EBF0F8"
             },
             "line": {
              "color": "white"
             }
            },
            "header": {
             "fill": {
              "color": "#C8D4E3"
             },
             "line": {
              "color": "white"
             }
            },
            "type": "table"
           }
          ]
         },
         "layout": {
          "annotationdefaults": {
           "arrowcolor": "#2a3f5f",
           "arrowhead": 0,
           "arrowwidth": 1
          },
          "autotypenumbers": "strict",
          "coloraxis": {
           "colorbar": {
            "outlinewidth": 0,
            "ticks": ""
           }
          },
          "colorscale": {
           "diverging": [
            [
             0,
             "#8e0152"
            ],
            [
             0.1,
             "#c51b7d"
            ],
            [
             0.2,
             "#de77ae"
            ],
            [
             0.3,
             "#f1b6da"
            ],
            [
             0.4,
             "#fde0ef"
            ],
            [
             0.5,
             "#f7f7f7"
            ],
            [
             0.6,
             "#e6f5d0"
            ],
            [
             0.7,
             "#b8e186"
            ],
            [
             0.8,
             "#7fbc41"
            ],
            [
             0.9,
             "#4d9221"
            ],
            [
             1,
             "#276419"
            ]
           ],
           "sequential": [
            [
             0,
             "#0d0887"
            ],
            [
             0.1111111111111111,
             "#46039f"
            ],
            [
             0.2222222222222222,
             "#7201a8"
            ],
            [
             0.3333333333333333,
             "#9c179e"
            ],
            [
             0.4444444444444444,
             "#bd3786"
            ],
            [
             0.5555555555555556,
             "#d8576b"
            ],
            [
             0.6666666666666666,
             "#ed7953"
            ],
            [
             0.7777777777777778,
             "#fb9f3a"
            ],
            [
             0.8888888888888888,
             "#fdca26"
            ],
            [
             1,
             "#f0f921"
            ]
           ],
           "sequentialminus": [
            [
             0,
             "#0d0887"
            ],
            [
             0.1111111111111111,
             "#46039f"
            ],
            [
             0.2222222222222222,
             "#7201a8"
            ],
            [
             0.3333333333333333,
             "#9c179e"
            ],
            [
             0.4444444444444444,
             "#bd3786"
            ],
            [
             0.5555555555555556,
             "#d8576b"
            ],
            [
             0.6666666666666666,
             "#ed7953"
            ],
            [
             0.7777777777777778,
             "#fb9f3a"
            ],
            [
             0.8888888888888888,
             "#fdca26"
            ],
            [
             1,
             "#f0f921"
            ]
           ]
          },
          "colorway": [
           "#636efa",
           "#EF553B",
           "#00cc96",
           "#ab63fa",
           "#FFA15A",
           "#19d3f3",
           "#FF6692",
           "#B6E880",
           "#FF97FF",
           "#FECB52"
          ],
          "font": {
           "color": "#2a3f5f"
          },
          "geo": {
           "bgcolor": "white",
           "lakecolor": "white",
           "landcolor": "#E5ECF6",
           "showlakes": true,
           "showland": true,
           "subunitcolor": "white"
          },
          "hoverlabel": {
           "align": "left"
          },
          "hovermode": "closest",
          "mapbox": {
           "style": "light"
          },
          "paper_bgcolor": "white",
          "plot_bgcolor": "#E5ECF6",
          "polar": {
           "angularaxis": {
            "gridcolor": "white",
            "linecolor": "white",
            "ticks": ""
           },
           "bgcolor": "#E5ECF6",
           "radialaxis": {
            "gridcolor": "white",
            "linecolor": "white",
            "ticks": ""
           }
          },
          "scene": {
           "xaxis": {
            "backgroundcolor": "#E5ECF6",
            "gridcolor": "white",
            "gridwidth": 2,
            "linecolor": "white",
            "showbackground": true,
            "ticks": "",
            "zerolinecolor": "white"
           },
           "yaxis": {
            "backgroundcolor": "#E5ECF6",
            "gridcolor": "white",
            "gridwidth": 2,
            "linecolor": "white",
            "showbackground": true,
            "ticks": "",
            "zerolinecolor": "white"
           },
           "zaxis": {
            "backgroundcolor": "#E5ECF6",
            "gridcolor": "white",
            "gridwidth": 2,
            "linecolor": "white",
            "showbackground": true,
            "ticks": "",
            "zerolinecolor": "white"
           }
          },
          "shapedefaults": {
           "line": {
            "color": "#2a3f5f"
           }
          },
          "ternary": {
           "aaxis": {
            "gridcolor": "white",
            "linecolor": "white",
            "ticks": ""
           },
           "baxis": {
            "gridcolor": "white",
            "linecolor": "white",
            "ticks": ""
           },
           "bgcolor": "#E5ECF6",
           "caxis": {
            "gridcolor": "white",
            "linecolor": "white",
            "ticks": ""
           }
          },
          "title": {
           "x": 0.05
          },
          "xaxis": {
           "automargin": true,
           "gridcolor": "white",
           "linecolor": "white",
           "ticks": "",
           "title": {
            "standoff": 15
           },
           "zerolinecolor": "white",
           "zerolinewidth": 2
          },
          "yaxis": {
           "automargin": true,
           "gridcolor": "white",
           "linecolor": "white",
           "ticks": "",
           "title": {
            "standoff": 15
           },
           "zerolinecolor": "white",
           "zerolinewidth": 2
          }
         }
        },
        "title": {
         "text": "GDPPC by Score for Top 100 Countries Each Year",
         "x": 0.5
        },
        "xaxis": {
         "anchor": "y",
         "domain": [
          0,
          1
         ]
        },
        "xaxis2": {
         "anchor": "y2",
         "domain": [
          0,
          1
         ]
        },
        "xaxis3": {
         "anchor": "y3",
         "domain": [
          0,
          1
         ]
        },
        "xaxis4": {
         "anchor": "y4",
         "domain": [
          0,
          1
         ]
        },
        "xaxis5": {
         "anchor": "y5",
         "domain": [
          0,
          1
         ]
        },
        "yaxis": {
         "anchor": "x",
         "domain": [
          0.824,
          1
         ],
         "title": {
          "standoff": 25,
          "text": "GDPPC"
         }
        },
        "yaxis2": {
         "anchor": "x2",
         "domain": [
          0.618,
          0.794
         ],
         "title": {
          "standoff": 25,
          "text": "GDPPC"
         }
        },
        "yaxis3": {
         "anchor": "x3",
         "domain": [
          0.412,
          0.588
         ],
         "title": {
          "standoff": 25,
          "text": "GDPPC"
         }
        },
        "yaxis4": {
         "anchor": "x4",
         "domain": [
          0.206,
          0.382
         ],
         "title": {
          "standoff": 25,
          "text": "GDPPC"
         }
        },
        "yaxis5": {
         "anchor": "x5",
         "domain": [
          0,
          0.176
         ],
         "title": {
          "standoff": 25,
          "text": "GDPPC"
         }
        }
       }
      }
     },
     "metadata": {},
     "output_type": "display_data"
    }
   ],
   "source": [
    "fig = make_subplots(rows=5, cols=1, subplot_titles=('2015', '2016', '2017', '2018', '2019'), shared_xaxes=False, shared_yaxes=True, vertical_spacing=0.03)\n",
    "fig.add_trace(go.Scatter(x=list(df_2015.Score[0:100]), y=list(df_2015.GDPPC[0:100]), mode='lines+markers', name='2015', text=list(df_2015.Country[0:100])), row=1, col=1)\n",
    "fig.add_trace(go.Scatter(x=list(df_2016.Score[0:100]), y=list(df_2016.GDPPC[0:100]), mode='lines+markers', name='2016', text=list(df_2016.Country[0:100])), row=2, col=1)\n",
    "fig.add_trace(go.Scatter(x=list(df_2017.Score[0:100]), y=list(df_2017.GDPPC[0:100]), mode='lines+markers', name='2017', text=list(df_2017.Country[0:100])), row=3, col=1)\n",
    "fig.add_trace(go.Scatter(x=list(df_2018.Score[0:100]), y=list(df_2018.GDPPC[0:100]), mode='lines+markers', name='2018', text=list(df_2018.Country[0:100])), row=4, col=1)\n",
    "fig.add_trace(go.Scatter(x=list(df_2019.Score[0:100]), y=list(df_2019.GDPPC[0:100]), mode='lines+markers', name='2019', text=list(df_2019.Country[0:100])), row=5, col=1)\n",
    "fig.update_layout(title='GDPPC by Score for Top 100 Countries Each Year', height=2000, title_x=0.5)\n",
    "fig.update_yaxes(title_text='GDPPC', title_standoff=25)\n",
    "fig.show()"
   ]
  },
  {
   "cell_type": "code",
   "execution_count": 53,
   "metadata": {},
   "outputs": [],
   "source": [
    "def zscore(df):\n",
    "    x_sum = 0\n",
    "    count = 0\n",
    "    \n",
    "    for i in df:\n",
    "        x_sum += i\n",
    "        count += 1\n",
    "\n",
    "    mean = x_sum / count\n",
    "    x_mean_sub = 0\n",
    "    \n",
    "    for i in df:\n",
    "        x_mean_sub += (i - mean)**2\n",
    "\n",
    "    sigma = (x_mean_sub / (count - 1)) ** 0.5\n",
    "    z_scores = []\n",
    "    \n",
    "    for i in df:\n",
    "        z_score = (i - mean) / sigma\n",
    "        z_scores.append(z_score)\n",
    "\n",
    "    return pd.DataFrame(z_scores)"
   ]
  },
  {
   "cell_type": "code",
   "execution_count": 54,
   "metadata": {},
   "outputs": [
    {
     "data": {
      "application/vnd.plotly.v1+json": {
       "config": {
        "plotlyServerURL": "https://plot.ly"
       },
       "data": [
        {
         "marker": {
          "size": {
           "bdata": "cYL29OMsNUC78oJON781QHIbBtXzVjVA0Dn8O8NbNUA=",
           "dtype": "f8"
          }
         },
         "mode": "markers",
         "text": [
          "qatar",
          "congo (kinshasa)",
          "malawi",
          "burundi"
         ],
         "type": "scatter",
         "x": {
          "bdata": "shGI1/UL+z8AAAAAAAAAALAbti3KbJA/S8gHPZtVjz8=",
          "dtype": "f8"
         },
         "xaxis": "x",
         "y": {
          "bdata": "i2zn+6lxGkDFILByaBESQF66SQwCKxFAPQrXo3A9B0A=",
          "dtype": "f8"
         },
         "yaxis": "y"
        },
        {
         "marker": {
          "size": {
           "bdata": "+t8AMChYNUBKGF6KwEM2QAg1flZAgzVAVrHl4TFjNEDhn0PAIAU1QMRbYu3b+TVA",
           "dtype": "f8"
          }
         },
         "mode": "markers",
         "text": [
          "qatar",
          "congo (kinshasa)",
          "malawi",
          "niger",
          "liberia",
          "burundi"
         ],
         "type": "scatter",
         "x": {
          "bdata": "xy5RvTUw/T95zEBl/PusPwgDz72HS7Y/B/AWSFD8wD/VsrW+SGi7P+lg/Z/DfLE/",
          "dtype": "f8"
         },
         "xaxis": "x2",
         "y": {
          "bdata": "AAAAAACAGUBKDAIrhxYRQDm0yHa+nxBADAIrhxbZDkBg5dAi2/kMQD0K16NwPQdA",
          "dtype": "f8"
         },
         "yaxis": "y2"
        },
        {
         "marker": {
          "size": {
           "bdata": "lFK6fUqENUARygm41lE2QHTjI+NNmTRAYPxBnN6nNUAFz7Sm3VQ2QA==",
           "dtype": "f8"
          }
         },
         "mode": "markers",
         "text": [
          "qatar",
          "congo (kinshasa)",
          "niger",
          "liberia",
          "burundi"
         ],
         "type": "scatter",
         "x": {
          "bdata": "EQAAAKju/T8CAAAABZS3PwgAACD4ucQ/DgAA4IV5vj8CAACgk3S3Pw==",
          "dtype": "f8"
         },
         "xaxis": "x3",
         "y": {
          "bdata": "AAAAAACAGUAAAABguB4RQAMAAACsHBBACgAAgJVDDED///+fcD0HQA==",
          "dtype": "f8"
         },
         "yaxis": "y3"
        },
        {
         "marker": {
          "size": {
           "bdata": "HlBBsrJENEB3JaXKDH82QKYzR2100TRA2D/xGoxONkDKU5TrnOY1QA==",
           "dtype": "f8"
          }
         },
         "mode": "markers",
         "text": [
          "qatar",
          "congo (kinshasa)",
          "niger",
          "liberia",
          "burundi"
         ],
         "type": "scatter",
         "x": {
          "bdata": "/Knx0k1i+j9Ei2zn+6mxP/hT46WbxMA/2/l+arx0sz+yne+nxku3Pw==",
          "dtype": "f8"
         },
         "xaxis": "x4",
         "y": {
          "bdata": "5dAi2/l+GUB7FK5H4foQQESLbOf7qRBA9ihcj8L1C0A9CtejcD0HQA==",
          "dtype": "f8"
         },
         "yaxis": "y4"
        },
        {
         "marker": {
          "size": {
           "bdata": "qhnA8FQCNECqFVGBLbE0QCKeFwC52TVAinZTZUFnNkDq1XvnOR03QA==",
           "dtype": "f8"
          }
         },
         "mode": "markers",
         "text": [
          "qatar",
          "niger",
          "congo (kinshasa)",
          "liberia",
          "burundi"
         ],
         "type": "scatter",
         "x": {
          "bdata": "i2zn+6nx+j9Ei2zn+6nBP6rx0k1iELg/46WbxCCwsj9aZDvfT42nPw==",
          "dtype": "f8"
         },
         "xaxis": "x5",
         "y": {
          "bdata": "5dAi2/l+GUBQjZduEoMSQHnpJjEIrBFAzczMzMzMD0AzMzMzMzMOQA==",
          "dtype": "f8"
         },
         "yaxis": "y5"
        }
       ],
       "layout": {
        "annotations": [
         {
          "font": {
           "size": 16
          },
          "showarrow": false,
          "text": "2015",
          "x": 0.14444444444444446,
          "xanchor": "center",
          "xref": "paper",
          "y": 1,
          "yanchor": "bottom",
          "yref": "paper"
         },
         {
          "font": {
           "size": 16
          },
          "showarrow": false,
          "text": "2016",
          "x": 0.5,
          "xanchor": "center",
          "xref": "paper",
          "y": 1,
          "yanchor": "bottom",
          "yref": "paper"
         },
         {
          "font": {
           "size": 16
          },
          "showarrow": false,
          "text": "2017",
          "x": 0.8555555555555556,
          "xanchor": "center",
          "xref": "paper",
          "y": 1,
          "yanchor": "bottom",
          "yref": "paper"
         },
         {
          "font": {
           "size": 16
          },
          "showarrow": false,
          "text": "2018",
          "x": 0.14444444444444446,
          "xanchor": "center",
          "xref": "paper",
          "y": 0.45,
          "yanchor": "bottom",
          "yref": "paper"
         },
         {
          "font": {
           "size": 16
          },
          "showarrow": false,
          "text": "2019",
          "x": 0.5,
          "xanchor": "center",
          "xref": "paper",
          "y": 0.45,
          "yanchor": "bottom",
          "yref": "paper"
         }
        ],
        "height": 1000,
        "template": {
         "data": {
          "bar": [
           {
            "error_x": {
             "color": "#2a3f5f"
            },
            "error_y": {
             "color": "#2a3f5f"
            },
            "marker": {
             "line": {
              "color": "#E5ECF6",
              "width": 0.5
             },
             "pattern": {
              "fillmode": "overlay",
              "size": 10,
              "solidity": 0.2
             }
            },
            "type": "bar"
           }
          ],
          "barpolar": [
           {
            "marker": {
             "line": {
              "color": "#E5ECF6",
              "width": 0.5
             },
             "pattern": {
              "fillmode": "overlay",
              "size": 10,
              "solidity": 0.2
             }
            },
            "type": "barpolar"
           }
          ],
          "carpet": [
           {
            "aaxis": {
             "endlinecolor": "#2a3f5f",
             "gridcolor": "white",
             "linecolor": "white",
             "minorgridcolor": "white",
             "startlinecolor": "#2a3f5f"
            },
            "baxis": {
             "endlinecolor": "#2a3f5f",
             "gridcolor": "white",
             "linecolor": "white",
             "minorgridcolor": "white",
             "startlinecolor": "#2a3f5f"
            },
            "type": "carpet"
           }
          ],
          "choropleth": [
           {
            "colorbar": {
             "outlinewidth": 0,
             "ticks": ""
            },
            "type": "choropleth"
           }
          ],
          "contour": [
           {
            "colorbar": {
             "outlinewidth": 0,
             "ticks": ""
            },
            "colorscale": [
             [
              0,
              "#0d0887"
             ],
             [
              0.1111111111111111,
              "#46039f"
             ],
             [
              0.2222222222222222,
              "#7201a8"
             ],
             [
              0.3333333333333333,
              "#9c179e"
             ],
             [
              0.4444444444444444,
              "#bd3786"
             ],
             [
              0.5555555555555556,
              "#d8576b"
             ],
             [
              0.6666666666666666,
              "#ed7953"
             ],
             [
              0.7777777777777778,
              "#fb9f3a"
             ],
             [
              0.8888888888888888,
              "#fdca26"
             ],
             [
              1,
              "#f0f921"
             ]
            ],
            "type": "contour"
           }
          ],
          "contourcarpet": [
           {
            "colorbar": {
             "outlinewidth": 0,
             "ticks": ""
            },
            "type": "contourcarpet"
           }
          ],
          "heatmap": [
           {
            "colorbar": {
             "outlinewidth": 0,
             "ticks": ""
            },
            "colorscale": [
             [
              0,
              "#0d0887"
             ],
             [
              0.1111111111111111,
              "#46039f"
             ],
             [
              0.2222222222222222,
              "#7201a8"
             ],
             [
              0.3333333333333333,
              "#9c179e"
             ],
             [
              0.4444444444444444,
              "#bd3786"
             ],
             [
              0.5555555555555556,
              "#d8576b"
             ],
             [
              0.6666666666666666,
              "#ed7953"
             ],
             [
              0.7777777777777778,
              "#fb9f3a"
             ],
             [
              0.8888888888888888,
              "#fdca26"
             ],
             [
              1,
              "#f0f921"
             ]
            ],
            "type": "heatmap"
           }
          ],
          "histogram": [
           {
            "marker": {
             "pattern": {
              "fillmode": "overlay",
              "size": 10,
              "solidity": 0.2
             }
            },
            "type": "histogram"
           }
          ],
          "histogram2d": [
           {
            "colorbar": {
             "outlinewidth": 0,
             "ticks": ""
            },
            "colorscale": [
             [
              0,
              "#0d0887"
             ],
             [
              0.1111111111111111,
              "#46039f"
             ],
             [
              0.2222222222222222,
              "#7201a8"
             ],
             [
              0.3333333333333333,
              "#9c179e"
             ],
             [
              0.4444444444444444,
              "#bd3786"
             ],
             [
              0.5555555555555556,
              "#d8576b"
             ],
             [
              0.6666666666666666,
              "#ed7953"
             ],
             [
              0.7777777777777778,
              "#fb9f3a"
             ],
             [
              0.8888888888888888,
              "#fdca26"
             ],
             [
              1,
              "#f0f921"
             ]
            ],
            "type": "histogram2d"
           }
          ],
          "histogram2dcontour": [
           {
            "colorbar": {
             "outlinewidth": 0,
             "ticks": ""
            },
            "colorscale": [
             [
              0,
              "#0d0887"
             ],
             [
              0.1111111111111111,
              "#46039f"
             ],
             [
              0.2222222222222222,
              "#7201a8"
             ],
             [
              0.3333333333333333,
              "#9c179e"
             ],
             [
              0.4444444444444444,
              "#bd3786"
             ],
             [
              0.5555555555555556,
              "#d8576b"
             ],
             [
              0.6666666666666666,
              "#ed7953"
             ],
             [
              0.7777777777777778,
              "#fb9f3a"
             ],
             [
              0.8888888888888888,
              "#fdca26"
             ],
             [
              1,
              "#f0f921"
             ]
            ],
            "type": "histogram2dcontour"
           }
          ],
          "mesh3d": [
           {
            "colorbar": {
             "outlinewidth": 0,
             "ticks": ""
            },
            "type": "mesh3d"
           }
          ],
          "parcoords": [
           {
            "line": {
             "colorbar": {
              "outlinewidth": 0,
              "ticks": ""
             }
            },
            "type": "parcoords"
           }
          ],
          "pie": [
           {
            "automargin": true,
            "type": "pie"
           }
          ],
          "scatter": [
           {
            "fillpattern": {
             "fillmode": "overlay",
             "size": 10,
             "solidity": 0.2
            },
            "type": "scatter"
           }
          ],
          "scatter3d": [
           {
            "line": {
             "colorbar": {
              "outlinewidth": 0,
              "ticks": ""
             }
            },
            "marker": {
             "colorbar": {
              "outlinewidth": 0,
              "ticks": ""
             }
            },
            "type": "scatter3d"
           }
          ],
          "scattercarpet": [
           {
            "marker": {
             "colorbar": {
              "outlinewidth": 0,
              "ticks": ""
             }
            },
            "type": "scattercarpet"
           }
          ],
          "scattergeo": [
           {
            "marker": {
             "colorbar": {
              "outlinewidth": 0,
              "ticks": ""
             }
            },
            "type": "scattergeo"
           }
          ],
          "scattergl": [
           {
            "marker": {
             "colorbar": {
              "outlinewidth": 0,
              "ticks": ""
             }
            },
            "type": "scattergl"
           }
          ],
          "scattermap": [
           {
            "marker": {
             "colorbar": {
              "outlinewidth": 0,
              "ticks": ""
             }
            },
            "type": "scattermap"
           }
          ],
          "scattermapbox": [
           {
            "marker": {
             "colorbar": {
              "outlinewidth": 0,
              "ticks": ""
             }
            },
            "type": "scattermapbox"
           }
          ],
          "scatterpolar": [
           {
            "marker": {
             "colorbar": {
              "outlinewidth": 0,
              "ticks": ""
             }
            },
            "type": "scatterpolar"
           }
          ],
          "scatterpolargl": [
           {
            "marker": {
             "colorbar": {
              "outlinewidth": 0,
              "ticks": ""
             }
            },
            "type": "scatterpolargl"
           }
          ],
          "scatterternary": [
           {
            "marker": {
             "colorbar": {
              "outlinewidth": 0,
              "ticks": ""
             }
            },
            "type": "scatterternary"
           }
          ],
          "surface": [
           {
            "colorbar": {
             "outlinewidth": 0,
             "ticks": ""
            },
            "colorscale": [
             [
              0,
              "#0d0887"
             ],
             [
              0.1111111111111111,
              "#46039f"
             ],
             [
              0.2222222222222222,
              "#7201a8"
             ],
             [
              0.3333333333333333,
              "#9c179e"
             ],
             [
              0.4444444444444444,
              "#bd3786"
             ],
             [
              0.5555555555555556,
              "#d8576b"
             ],
             [
              0.6666666666666666,
              "#ed7953"
             ],
             [
              0.7777777777777778,
              "#fb9f3a"
             ],
             [
              0.8888888888888888,
              "#fdca26"
             ],
             [
              1,
              "#f0f921"
             ]
            ],
            "type": "surface"
           }
          ],
          "table": [
           {
            "cells": {
             "fill": {
              "color": "#EBF0F8"
             },
             "line": {
              "color": "white"
             }
            },
            "header": {
             "fill": {
              "color": "#C8D4E3"
             },
             "line": {
              "color": "white"
             }
            },
            "type": "table"
           }
          ]
         },
         "layout": {
          "annotationdefaults": {
           "arrowcolor": "#2a3f5f",
           "arrowhead": 0,
           "arrowwidth": 1
          },
          "autotypenumbers": "strict",
          "coloraxis": {
           "colorbar": {
            "outlinewidth": 0,
            "ticks": ""
           }
          },
          "colorscale": {
           "diverging": [
            [
             0,
             "#8e0152"
            ],
            [
             0.1,
             "#c51b7d"
            ],
            [
             0.2,
             "#de77ae"
            ],
            [
             0.3,
             "#f1b6da"
            ],
            [
             0.4,
             "#fde0ef"
            ],
            [
             0.5,
             "#f7f7f7"
            ],
            [
             0.6,
             "#e6f5d0"
            ],
            [
             0.7,
             "#b8e186"
            ],
            [
             0.8,
             "#7fbc41"
            ],
            [
             0.9,
             "#4d9221"
            ],
            [
             1,
             "#276419"
            ]
           ],
           "sequential": [
            [
             0,
             "#0d0887"
            ],
            [
             0.1111111111111111,
             "#46039f"
            ],
            [
             0.2222222222222222,
             "#7201a8"
            ],
            [
             0.3333333333333333,
             "#9c179e"
            ],
            [
             0.4444444444444444,
             "#bd3786"
            ],
            [
             0.5555555555555556,
             "#d8576b"
            ],
            [
             0.6666666666666666,
             "#ed7953"
            ],
            [
             0.7777777777777778,
             "#fb9f3a"
            ],
            [
             0.8888888888888888,
             "#fdca26"
            ],
            [
             1,
             "#f0f921"
            ]
           ],
           "sequentialminus": [
            [
             0,
             "#0d0887"
            ],
            [
             0.1111111111111111,
             "#46039f"
            ],
            [
             0.2222222222222222,
             "#7201a8"
            ],
            [
             0.3333333333333333,
             "#9c179e"
            ],
            [
             0.4444444444444444,
             "#bd3786"
            ],
            [
             0.5555555555555556,
             "#d8576b"
            ],
            [
             0.6666666666666666,
             "#ed7953"
            ],
            [
             0.7777777777777778,
             "#fb9f3a"
            ],
            [
             0.8888888888888888,
             "#fdca26"
            ],
            [
             1,
             "#f0f921"
            ]
           ]
          },
          "colorway": [
           "#636efa",
           "#EF553B",
           "#00cc96",
           "#ab63fa",
           "#FFA15A",
           "#19d3f3",
           "#FF6692",
           "#B6E880",
           "#FF97FF",
           "#FECB52"
          ],
          "font": {
           "color": "#2a3f5f"
          },
          "geo": {
           "bgcolor": "white",
           "lakecolor": "white",
           "landcolor": "#E5ECF6",
           "showlakes": true,
           "showland": true,
           "subunitcolor": "white"
          },
          "hoverlabel": {
           "align": "left"
          },
          "hovermode": "closest",
          "mapbox": {
           "style": "light"
          },
          "paper_bgcolor": "white",
          "plot_bgcolor": "#E5ECF6",
          "polar": {
           "angularaxis": {
            "gridcolor": "white",
            "linecolor": "white",
            "ticks": ""
           },
           "bgcolor": "#E5ECF6",
           "radialaxis": {
            "gridcolor": "white",
            "linecolor": "white",
            "ticks": ""
           }
          },
          "scene": {
           "xaxis": {
            "backgroundcolor": "#E5ECF6",
            "gridcolor": "white",
            "gridwidth": 2,
            "linecolor": "white",
            "showbackground": true,
            "ticks": "",
            "zerolinecolor": "white"
           },
           "yaxis": {
            "backgroundcolor": "#E5ECF6",
            "gridcolor": "white",
            "gridwidth": 2,
            "linecolor": "white",
            "showbackground": true,
            "ticks": "",
            "zerolinecolor": "white"
           },
           "zaxis": {
            "backgroundcolor": "#E5ECF6",
            "gridcolor": "white",
            "gridwidth": 2,
            "linecolor": "white",
            "showbackground": true,
            "ticks": "",
            "zerolinecolor": "white"
           }
          },
          "shapedefaults": {
           "line": {
            "color": "#2a3f5f"
           }
          },
          "ternary": {
           "aaxis": {
            "gridcolor": "white",
            "linecolor": "white",
            "ticks": ""
           },
           "baxis": {
            "gridcolor": "white",
            "linecolor": "white",
            "ticks": ""
           },
           "bgcolor": "#E5ECF6",
           "caxis": {
            "gridcolor": "white",
            "linecolor": "white",
            "ticks": ""
           }
          },
          "title": {
           "x": 0.05
          },
          "xaxis": {
           "automargin": true,
           "gridcolor": "white",
           "linecolor": "white",
           "ticks": "",
           "title": {
            "standoff": 15
           },
           "zerolinecolor": "white",
           "zerolinewidth": 2
          },
          "yaxis": {
           "automargin": true,
           "gridcolor": "white",
           "linecolor": "white",
           "ticks": "",
           "title": {
            "standoff": 15
           },
           "zerolinecolor": "white",
           "zerolinewidth": 2
          }
         }
        },
        "title": {
         "text": "Outliers (Z-score Threshold 2)",
         "x": 0.5
        },
        "xaxis": {
         "anchor": "y",
         "domain": [
          0,
          0.2888888888888889
         ]
        },
        "xaxis2": {
         "anchor": "y2",
         "domain": [
          0.35555555555555557,
          0.6444444444444445
         ]
        },
        "xaxis3": {
         "anchor": "y3",
         "domain": [
          0.7111111111111111,
          1
         ]
        },
        "xaxis4": {
         "anchor": "y4",
         "domain": [
          0,
          0.2888888888888889
         ]
        },
        "xaxis5": {
         "anchor": "y5",
         "domain": [
          0.35555555555555557,
          0.6444444444444445
         ]
        },
        "xaxis6": {
         "anchor": "y6",
         "domain": [
          0.7111111111111111,
          1
         ]
        },
        "yaxis": {
         "anchor": "x",
         "domain": [
          0.55,
          1
         ]
        },
        "yaxis2": {
         "anchor": "x2",
         "domain": [
          0.55,
          1
         ]
        },
        "yaxis3": {
         "anchor": "x3",
         "domain": [
          0.55,
          1
         ]
        },
        "yaxis4": {
         "anchor": "x4",
         "domain": [
          0,
          0.45
         ]
        },
        "yaxis5": {
         "anchor": "x5",
         "domain": [
          0,
          0.45
         ]
        },
        "yaxis6": {
         "anchor": "x6",
         "domain": [
          0,
          0.45
         ]
        }
       }
      }
     },
     "metadata": {},
     "output_type": "display_data"
    }
   ],
   "source": [
    "# Visualize outliers\n",
    "\n",
    "fig = make_subplots(rows=2, cols=3, subplot_titles=('2015', '2016', '2017', '2018', '2019'), vertical_spacing=0.1)\n",
    "\n",
    "i = 1\n",
    "j = 1\n",
    "\n",
    "df_list = [df_2015, df_2016, df_2017, df_2018, df_2019]\n",
    "for df in df_list:\n",
    "    df['Z_score_GDP'] = zscore(df['GDPPC'])\n",
    "\n",
    "## Threshold for outliers\n",
    "threshold = 2\n",
    "\n",
    "outliers_list = [df[(df['Z_score_GDP'] > threshold) | (df['Z_score_GDP'] < -threshold)] for df in df_list]\n",
    "\n",
    "for outliers in outliers_list:\n",
    "    fig.add_trace(go.Scatter(x=outliers.GDPPC, y=outliers.Score, text=outliers.Country, mode='markers', marker=dict(size=outliers['Z_score_GDP'].abs()*10)), row=i, col=j)\n",
    "    j += 1\n",
    "    if j == 4:\n",
    "        j = 1\n",
    "        i += 1\n",
    "fig.update_layout(title=f'Outliers (Z-score Threshold {threshold})', height=1000, title_x=0.5)\n",
    "fig.show()"
   ]
  },
  {
   "cell_type": "code",
   "execution_count": 55,
   "metadata": {},
   "outputs": [
    {
     "data": {
      "application/vnd.plotly.v1+json": {
       "config": {
        "plotlyServerURL": "https://plot.ly"
       },
       "data": [
        {
         "hovertemplate": "x=%{x}<br>y=%{y}<extra></extra>",
         "legendgroup": "",
         "marker": {
          "color": "#636efa",
          "symbol": "circle"
         },
         "mode": "markers",
         "name": "",
         "orientation": "v",
         "showlegend": false,
         "type": "scatter",
         "x": {
          "bdata": "wi/186Yi1T8K3LqbpzrkP6kT0ETY8O4/D5wzorQ37D+g4GJFDabrP2iu00hLZfU/V2DI6lbP8T97ZkmAmlreP1Ist7QaEtE/5A8GnnsP3T8oYabtX1nRPxnKiXYVUvE/4UBIFjCB6j8XK2owDUP0PypSYWwhyN0/4C2QoPix8D/Zd0Xwv5XuP7MkQE0t2/A/9ODurN123T/Wi6GcaFfXP557D5ccd+g/GRwlr84x8D9NEHUfgFTzP38w8Nx7OPU/et/42jNLxj/gufdwyXH0P0vIBz2bVY8/3EYDeAsk8D8=",
          "dtype": "f8"
         },
         "xaxis": "x",
         "y": {
          "bdata": "ukkMAisHEkBxPQrXo3AVQFK4HoXr0RlALbKd76fGEEBmZmZmZuYXQM3MzMzMzBxAMQisHFpkFEC+nxov3SQVQN9PjZduEhJAWDm0yHa+EUDufD81XjoRQPCnxks3CRdAf2q8dJOYFUArhxbZzncbQD0K16NwPQ1A5dAi2/l+FECBlUOLbOccQLKd76fGSxpAWmQ730+NDkCTGARWDq0RQIXrUbgehRhArBxaZDvfEECoxks3icEWQGiR7Xw/tR1Ac2iR7Xw/DUDNzMzMzEwaQD0K16NwPQdAWDm0yHa+EkA=",
          "dtype": "f8"
         },
         "yaxis": "y"
        },
        {
         "hovertemplate": "<b>OLS trendline</b><br>y = 2.4427 * x + 3.3561<br>R<sup>2</sup>=0.605102<br><br>x=%{x}<br>y=%{y} <b>(trend)</b><extra></extra>",
         "legendgroup": "",
         "marker": {
          "color": "#636efa",
          "symbol": "circle"
         },
         "mode": "lines",
         "name": "",
         "showlegend": false,
         "type": "scatter",
         "x": {
          "bdata": "S8gHPZtVjz963/jaM0vGP1Ist7QaEtE/KGGm7V9Z0T/CL/XzpiLVP9aLoZxoV9c/5A8GnnsP3T/04O6s3XbdPypSYWwhyN0/e2ZJgJpa3j8K3LqbpzrkP557D5ccd+g/4UBIFjCB6j+g4GJFDabrPw+cM6K0N+w/2XdF8L+V7j+pE9BE2PDuP9xGA3gLJPA/GRwlr84x8D/gLZCg+LHwP7MkQE0t2/A/GcqJdhVS8T9XYMjqVs/xP00QdR+AVPM/FytqMA1D9D/gufdwyXH0P38w8Nx7OPU/aK7TSEtl9T8=",
          "dtype": "f8"
         },
         "xaxis": "x",
         "y": {
          "bdata": "/+cUmNYlC0BWygdDnEAOQNHtCAPUBxBAwh/JfbUSEEBdLTIDsKYQQNbvRIno/BBAO+4qVG3cEUB0VvnfNewRQFqmPPad+BFAACs8mvoOEkAANel/45kTQEXlUrkD5RRAha1wmWyEFUAYdCnC2N0VQBSFcwFSChZALroGXl7DFkDS/QjzLt8WQBxsOzP9RxdA4DYvvmRQF0Aohy38qJ4XQGZPfs7StxdAcYBP4W8AGEBzuhV77UwYQPKG7DGUOhlAm0FumkHMGUAsIkriy+gZQKXhacgiYhpAtMyMGoB9GkA=",
          "dtype": "f8"
         },
         "yaxis": "y"
        }
       ],
       "layout": {
        "legend": {
         "tracegroupgap": 0
        },
        "template": {
         "data": {
          "bar": [
           {
            "error_x": {
             "color": "#2a3f5f"
            },
            "error_y": {
             "color": "#2a3f5f"
            },
            "marker": {
             "line": {
              "color": "#E5ECF6",
              "width": 0.5
             },
             "pattern": {
              "fillmode": "overlay",
              "size": 10,
              "solidity": 0.2
             }
            },
            "type": "bar"
           }
          ],
          "barpolar": [
           {
            "marker": {
             "line": {
              "color": "#E5ECF6",
              "width": 0.5
             },
             "pattern": {
              "fillmode": "overlay",
              "size": 10,
              "solidity": 0.2
             }
            },
            "type": "barpolar"
           }
          ],
          "carpet": [
           {
            "aaxis": {
             "endlinecolor": "#2a3f5f",
             "gridcolor": "white",
             "linecolor": "white",
             "minorgridcolor": "white",
             "startlinecolor": "#2a3f5f"
            },
            "baxis": {
             "endlinecolor": "#2a3f5f",
             "gridcolor": "white",
             "linecolor": "white",
             "minorgridcolor": "white",
             "startlinecolor": "#2a3f5f"
            },
            "type": "carpet"
           }
          ],
          "choropleth": [
           {
            "colorbar": {
             "outlinewidth": 0,
             "ticks": ""
            },
            "type": "choropleth"
           }
          ],
          "contour": [
           {
            "colorbar": {
             "outlinewidth": 0,
             "ticks": ""
            },
            "colorscale": [
             [
              0,
              "#0d0887"
             ],
             [
              0.1111111111111111,
              "#46039f"
             ],
             [
              0.2222222222222222,
              "#7201a8"
             ],
             [
              0.3333333333333333,
              "#9c179e"
             ],
             [
              0.4444444444444444,
              "#bd3786"
             ],
             [
              0.5555555555555556,
              "#d8576b"
             ],
             [
              0.6666666666666666,
              "#ed7953"
             ],
             [
              0.7777777777777778,
              "#fb9f3a"
             ],
             [
              0.8888888888888888,
              "#fdca26"
             ],
             [
              1,
              "#f0f921"
             ]
            ],
            "type": "contour"
           }
          ],
          "contourcarpet": [
           {
            "colorbar": {
             "outlinewidth": 0,
             "ticks": ""
            },
            "type": "contourcarpet"
           }
          ],
          "heatmap": [
           {
            "colorbar": {
             "outlinewidth": 0,
             "ticks": ""
            },
            "colorscale": [
             [
              0,
              "#0d0887"
             ],
             [
              0.1111111111111111,
              "#46039f"
             ],
             [
              0.2222222222222222,
              "#7201a8"
             ],
             [
              0.3333333333333333,
              "#9c179e"
             ],
             [
              0.4444444444444444,
              "#bd3786"
             ],
             [
              0.5555555555555556,
              "#d8576b"
             ],
             [
              0.6666666666666666,
              "#ed7953"
             ],
             [
              0.7777777777777778,
              "#fb9f3a"
             ],
             [
              0.8888888888888888,
              "#fdca26"
             ],
             [
              1,
              "#f0f921"
             ]
            ],
            "type": "heatmap"
           }
          ],
          "histogram": [
           {
            "marker": {
             "pattern": {
              "fillmode": "overlay",
              "size": 10,
              "solidity": 0.2
             }
            },
            "type": "histogram"
           }
          ],
          "histogram2d": [
           {
            "colorbar": {
             "outlinewidth": 0,
             "ticks": ""
            },
            "colorscale": [
             [
              0,
              "#0d0887"
             ],
             [
              0.1111111111111111,
              "#46039f"
             ],
             [
              0.2222222222222222,
              "#7201a8"
             ],
             [
              0.3333333333333333,
              "#9c179e"
             ],
             [
              0.4444444444444444,
              "#bd3786"
             ],
             [
              0.5555555555555556,
              "#d8576b"
             ],
             [
              0.6666666666666666,
              "#ed7953"
             ],
             [
              0.7777777777777778,
              "#fb9f3a"
             ],
             [
              0.8888888888888888,
              "#fdca26"
             ],
             [
              1,
              "#f0f921"
             ]
            ],
            "type": "histogram2d"
           }
          ],
          "histogram2dcontour": [
           {
            "colorbar": {
             "outlinewidth": 0,
             "ticks": ""
            },
            "colorscale": [
             [
              0,
              "#0d0887"
             ],
             [
              0.1111111111111111,
              "#46039f"
             ],
             [
              0.2222222222222222,
              "#7201a8"
             ],
             [
              0.3333333333333333,
              "#9c179e"
             ],
             [
              0.4444444444444444,
              "#bd3786"
             ],
             [
              0.5555555555555556,
              "#d8576b"
             ],
             [
              0.6666666666666666,
              "#ed7953"
             ],
             [
              0.7777777777777778,
              "#fb9f3a"
             ],
             [
              0.8888888888888888,
              "#fdca26"
             ],
             [
              1,
              "#f0f921"
             ]
            ],
            "type": "histogram2dcontour"
           }
          ],
          "mesh3d": [
           {
            "colorbar": {
             "outlinewidth": 0,
             "ticks": ""
            },
            "type": "mesh3d"
           }
          ],
          "parcoords": [
           {
            "line": {
             "colorbar": {
              "outlinewidth": 0,
              "ticks": ""
             }
            },
            "type": "parcoords"
           }
          ],
          "pie": [
           {
            "automargin": true,
            "type": "pie"
           }
          ],
          "scatter": [
           {
            "fillpattern": {
             "fillmode": "overlay",
             "size": 10,
             "solidity": 0.2
            },
            "type": "scatter"
           }
          ],
          "scatter3d": [
           {
            "line": {
             "colorbar": {
              "outlinewidth": 0,
              "ticks": ""
             }
            },
            "marker": {
             "colorbar": {
              "outlinewidth": 0,
              "ticks": ""
             }
            },
            "type": "scatter3d"
           }
          ],
          "scattercarpet": [
           {
            "marker": {
             "colorbar": {
              "outlinewidth": 0,
              "ticks": ""
             }
            },
            "type": "scattercarpet"
           }
          ],
          "scattergeo": [
           {
            "marker": {
             "colorbar": {
              "outlinewidth": 0,
              "ticks": ""
             }
            },
            "type": "scattergeo"
           }
          ],
          "scattergl": [
           {
            "marker": {
             "colorbar": {
              "outlinewidth": 0,
              "ticks": ""
             }
            },
            "type": "scattergl"
           }
          ],
          "scattermap": [
           {
            "marker": {
             "colorbar": {
              "outlinewidth": 0,
              "ticks": ""
             }
            },
            "type": "scattermap"
           }
          ],
          "scattermapbox": [
           {
            "marker": {
             "colorbar": {
              "outlinewidth": 0,
              "ticks": ""
             }
            },
            "type": "scattermapbox"
           }
          ],
          "scatterpolar": [
           {
            "marker": {
             "colorbar": {
              "outlinewidth": 0,
              "ticks": ""
             }
            },
            "type": "scatterpolar"
           }
          ],
          "scatterpolargl": [
           {
            "marker": {
             "colorbar": {
              "outlinewidth": 0,
              "ticks": ""
             }
            },
            "type": "scatterpolargl"
           }
          ],
          "scatterternary": [
           {
            "marker": {
             "colorbar": {
              "outlinewidth": 0,
              "ticks": ""
             }
            },
            "type": "scatterternary"
           }
          ],
          "surface": [
           {
            "colorbar": {
             "outlinewidth": 0,
             "ticks": ""
            },
            "colorscale": [
             [
              0,
              "#0d0887"
             ],
             [
              0.1111111111111111,
              "#46039f"
             ],
             [
              0.2222222222222222,
              "#7201a8"
             ],
             [
              0.3333333333333333,
              "#9c179e"
             ],
             [
              0.4444444444444444,
              "#bd3786"
             ],
             [
              0.5555555555555556,
              "#d8576b"
             ],
             [
              0.6666666666666666,
              "#ed7953"
             ],
             [
              0.7777777777777778,
              "#fb9f3a"
             ],
             [
              0.8888888888888888,
              "#fdca26"
             ],
             [
              1,
              "#f0f921"
             ]
            ],
            "type": "surface"
           }
          ],
          "table": [
           {
            "cells": {
             "fill": {
              "color": "#EBF0F8"
             },
             "line": {
              "color": "white"
             }
            },
            "header": {
             "fill": {
              "color": "#C8D4E3"
             },
             "line": {
              "color": "white"
             }
            },
            "type": "table"
           }
          ]
         },
         "layout": {
          "annotationdefaults": {
           "arrowcolor": "#2a3f5f",
           "arrowhead": 0,
           "arrowwidth": 1
          },
          "autotypenumbers": "strict",
          "coloraxis": {
           "colorbar": {
            "outlinewidth": 0,
            "ticks": ""
           }
          },
          "colorscale": {
           "diverging": [
            [
             0,
             "#8e0152"
            ],
            [
             0.1,
             "#c51b7d"
            ],
            [
             0.2,
             "#de77ae"
            ],
            [
             0.3,
             "#f1b6da"
            ],
            [
             0.4,
             "#fde0ef"
            ],
            [
             0.5,
             "#f7f7f7"
            ],
            [
             0.6,
             "#e6f5d0"
            ],
            [
             0.7,
             "#b8e186"
            ],
            [
             0.8,
             "#7fbc41"
            ],
            [
             0.9,
             "#4d9221"
            ],
            [
             1,
             "#276419"
            ]
           ],
           "sequential": [
            [
             0,
             "#0d0887"
            ],
            [
             0.1111111111111111,
             "#46039f"
            ],
            [
             0.2222222222222222,
             "#7201a8"
            ],
            [
             0.3333333333333333,
             "#9c179e"
            ],
            [
             0.4444444444444444,
             "#bd3786"
            ],
            [
             0.5555555555555556,
             "#d8576b"
            ],
            [
             0.6666666666666666,
             "#ed7953"
            ],
            [
             0.7777777777777778,
             "#fb9f3a"
            ],
            [
             0.8888888888888888,
             "#fdca26"
            ],
            [
             1,
             "#f0f921"
            ]
           ],
           "sequentialminus": [
            [
             0,
             "#0d0887"
            ],
            [
             0.1111111111111111,
             "#46039f"
            ],
            [
             0.2222222222222222,
             "#7201a8"
            ],
            [
             0.3333333333333333,
             "#9c179e"
            ],
            [
             0.4444444444444444,
             "#bd3786"
            ],
            [
             0.5555555555555556,
             "#d8576b"
            ],
            [
             0.6666666666666666,
             "#ed7953"
            ],
            [
             0.7777777777777778,
             "#fb9f3a"
            ],
            [
             0.8888888888888888,
             "#fdca26"
            ],
            [
             1,
             "#f0f921"
            ]
           ]
          },
          "colorway": [
           "#636efa",
           "#EF553B",
           "#00cc96",
           "#ab63fa",
           "#FFA15A",
           "#19d3f3",
           "#FF6692",
           "#B6E880",
           "#FF97FF",
           "#FECB52"
          ],
          "font": {
           "color": "#2a3f5f"
          },
          "geo": {
           "bgcolor": "white",
           "lakecolor": "white",
           "landcolor": "#E5ECF6",
           "showlakes": true,
           "showland": true,
           "subunitcolor": "white"
          },
          "hoverlabel": {
           "align": "left"
          },
          "hovermode": "closest",
          "mapbox": {
           "style": "light"
          },
          "paper_bgcolor": "white",
          "plot_bgcolor": "#E5ECF6",
          "polar": {
           "angularaxis": {
            "gridcolor": "white",
            "linecolor": "white",
            "ticks": ""
           },
           "bgcolor": "#E5ECF6",
           "radialaxis": {
            "gridcolor": "white",
            "linecolor": "white",
            "ticks": ""
           }
          },
          "scene": {
           "xaxis": {
            "backgroundcolor": "#E5ECF6",
            "gridcolor": "white",
            "gridwidth": 2,
            "linecolor": "white",
            "showbackground": true,
            "ticks": "",
            "zerolinecolor": "white"
           },
           "yaxis": {
            "backgroundcolor": "#E5ECF6",
            "gridcolor": "white",
            "gridwidth": 2,
            "linecolor": "white",
            "showbackground": true,
            "ticks": "",
            "zerolinecolor": "white"
           },
           "zaxis": {
            "backgroundcolor": "#E5ECF6",
            "gridcolor": "white",
            "gridwidth": 2,
            "linecolor": "white",
            "showbackground": true,
            "ticks": "",
            "zerolinecolor": "white"
           }
          },
          "shapedefaults": {
           "line": {
            "color": "#2a3f5f"
           }
          },
          "ternary": {
           "aaxis": {
            "gridcolor": "white",
            "linecolor": "white",
            "ticks": ""
           },
           "baxis": {
            "gridcolor": "white",
            "linecolor": "white",
            "ticks": ""
           },
           "bgcolor": "#E5ECF6",
           "caxis": {
            "gridcolor": "white",
            "linecolor": "white",
            "ticks": ""
           }
          },
          "title": {
           "x": 0.05
          },
          "xaxis": {
           "automargin": true,
           "gridcolor": "white",
           "linecolor": "white",
           "ticks": "",
           "title": {
            "standoff": 15
           },
           "zerolinecolor": "white",
           "zerolinewidth": 2
          },
          "yaxis": {
           "automargin": true,
           "gridcolor": "white",
           "linecolor": "white",
           "ticks": "",
           "title": {
            "standoff": 15
           },
           "zerolinecolor": "white",
           "zerolinewidth": 2
          }
         }
        },
        "title": {
         "text": "GDP per capita vs Happiness Score 2015\t MSE: 0.57, R-squared: 0.60"
        },
        "xaxis": {
         "anchor": "y",
         "domain": [
          0,
          1
         ],
         "title": {
          "text": "x"
         }
        },
        "yaxis": {
         "anchor": "x",
         "domain": [
          0,
          1
         ],
         "title": {
          "text": "y"
         }
        }
       }
      }
     },
     "metadata": {},
     "output_type": "display_data"
    },
    {
     "data": {
      "application/vnd.plotly.v1+json": {
       "config": {
        "plotlyServerURL": "https://plot.ly"
       },
       "data": [
        {
         "hovertemplate": "x=%{x}<br>y=%{y}<extra></extra>",
         "legendgroup": "",
         "marker": {
          "color": "#636efa",
          "symbol": "circle"
         },
         "mode": "markers",
         "name": "",
         "orientation": "v",
         "showlegend": false,
         "type": "scatter",
         "x": {
          "bdata": "0jWTb7a54D+bVZ+rrdjsP/eSxmgd1fc/YWwhyEGJ8j8yA5Xx7zPmP43ROqqaIPg/6ZrJN9vc8z/JAiZw627uP6mHaHQHsec/yhr1EI3u6z94uYjvxKzoP3MuxVVl3+8/JH8w8Nz78j9lx0YgXtfxP9Wytb5IaLs/U5EKYwtB8T8UXKyowTT3PyLgEKrU7PQ/mbuWkA961D82k2+2uTHkP+TaUDHO3/k/CAPPvYdLtj9cPSe9b3zzPwJIbeLkfvY/dnEbDeAt3j+d9L7xtefyP2K+vAD76Oc/Ns07TtGR7j8=",
          "dtype": "f8"
         },
         "xaxis": "x",
         "y": {
          "bdata": "BoGVQ4tsEUC0yHa+n5oVQGq8dJMYhBlAlkOLbOd7EEArhxbZzvcXQNEi2/l+ahxAFK5H4XqUFECoxks3iUEVQARWDi2ynRFAsp3vp8ZLEUCLbOf7qfEQQEa28/3U+BZAwcqhRbbzFUDpJjEIrBwbQGDl0CLb+QxAvp8aL92kFEBg5dAi23kcQMHKoUW28xlAtvP91HjpDUC0yHa+nxoRQNv5fmq89BhAObTIdr6fEEA9CtejcD0WQPT91Hjpph1AhxbZzvdTDUCuR+F6FC4aQFpkO99PjQhAH4XrUbieEkA=",
          "dtype": "f8"
         },
         "yaxis": "y"
        },
        {
         "hovertemplate": "<b>OLS trendline</b><br>y = 2.30963 * x + 3.0273<br>R<sup>2</sup>=0.609755<br><br>x=%{x}<br>y=%{y} <b>(trend)</b><extra></extra>",
         "legendgroup": "",
         "marker": {
          "color": "#636efa",
          "symbol": "circle"
         },
         "mode": "lines",
         "name": "",
         "showlegend": false,
         "type": "scatter",
         "x": {
          "bdata": "CAPPvYdLtj/VsrW+SGi7P5m7lpAPetQ/dnEbDeAt3j/SNZNvtrngPzaTb7a5MeQ/MgOV8e8z5j+ph2h0B7HnP2K+vAD76Oc/eLmI78Ss6D/KGvUQje7rP5tVn6ut2Ow/yQImcOtu7j82zTtO0ZHuP3MuxVVl3+8/U5EKYwtB8T9lx0YgXtfxP2FsIchBifI/nfS+8bXn8j8kfzDw3PvyP1w9J71vfPM/6ZrJN9vc8z8i4BCq1Oz0PwJIbeLkfvY/FFysqME09z/3ksZoHdX3P43ROqqaIPg/5NpQMc7f+T8=",
          "dtype": "f8"
         },
         "xaxis": "x",
         "y": {
          "bdata": "qvE3JdnTCUBGXOMFTzIKQIHBjrRNIQ5AoV1s2TF3EEDCbxe3GPAQQFBd8Ax48BFAsFr3d+yEEkBoea498vISQA7q2n8ZAxNAa+t64J87E0C83WsZVywUQMNguAHvbxRAWtK5hjflFEAyad3DSu8UQL8+0OWYTxVAvE2ALmISFkAyN3liLmkWQHzf90zlzxZAOAuGGG8GF0CiN1zvERIXQDY/2ytPXBdAcsC8lfuTF0Bw9BnOBTEYQOvBq0ctGRlAACfIfC+CGUDiFDUOx94ZQN0X6pddChpAXXAKL5UMG0A=",
          "dtype": "f8"
         },
         "yaxis": "y"
        }
       ],
       "layout": {
        "legend": {
         "tracegroupgap": 0
        },
        "template": {
         "data": {
          "bar": [
           {
            "error_x": {
             "color": "#2a3f5f"
            },
            "error_y": {
             "color": "#2a3f5f"
            },
            "marker": {
             "line": {
              "color": "#E5ECF6",
              "width": 0.5
             },
             "pattern": {
              "fillmode": "overlay",
              "size": 10,
              "solidity": 0.2
             }
            },
            "type": "bar"
           }
          ],
          "barpolar": [
           {
            "marker": {
             "line": {
              "color": "#E5ECF6",
              "width": 0.5
             },
             "pattern": {
              "fillmode": "overlay",
              "size": 10,
              "solidity": 0.2
             }
            },
            "type": "barpolar"
           }
          ],
          "carpet": [
           {
            "aaxis": {
             "endlinecolor": "#2a3f5f",
             "gridcolor": "white",
             "linecolor": "white",
             "minorgridcolor": "white",
             "startlinecolor": "#2a3f5f"
            },
            "baxis": {
             "endlinecolor": "#2a3f5f",
             "gridcolor": "white",
             "linecolor": "white",
             "minorgridcolor": "white",
             "startlinecolor": "#2a3f5f"
            },
            "type": "carpet"
           }
          ],
          "choropleth": [
           {
            "colorbar": {
             "outlinewidth": 0,
             "ticks": ""
            },
            "type": "choropleth"
           }
          ],
          "contour": [
           {
            "colorbar": {
             "outlinewidth": 0,
             "ticks": ""
            },
            "colorscale": [
             [
              0,
              "#0d0887"
             ],
             [
              0.1111111111111111,
              "#46039f"
             ],
             [
              0.2222222222222222,
              "#7201a8"
             ],
             [
              0.3333333333333333,
              "#9c179e"
             ],
             [
              0.4444444444444444,
              "#bd3786"
             ],
             [
              0.5555555555555556,
              "#d8576b"
             ],
             [
              0.6666666666666666,
              "#ed7953"
             ],
             [
              0.7777777777777778,
              "#fb9f3a"
             ],
             [
              0.8888888888888888,
              "#fdca26"
             ],
             [
              1,
              "#f0f921"
             ]
            ],
            "type": "contour"
           }
          ],
          "contourcarpet": [
           {
            "colorbar": {
             "outlinewidth": 0,
             "ticks": ""
            },
            "type": "contourcarpet"
           }
          ],
          "heatmap": [
           {
            "colorbar": {
             "outlinewidth": 0,
             "ticks": ""
            },
            "colorscale": [
             [
              0,
              "#0d0887"
             ],
             [
              0.1111111111111111,
              "#46039f"
             ],
             [
              0.2222222222222222,
              "#7201a8"
             ],
             [
              0.3333333333333333,
              "#9c179e"
             ],
             [
              0.4444444444444444,
              "#bd3786"
             ],
             [
              0.5555555555555556,
              "#d8576b"
             ],
             [
              0.6666666666666666,
              "#ed7953"
             ],
             [
              0.7777777777777778,
              "#fb9f3a"
             ],
             [
              0.8888888888888888,
              "#fdca26"
             ],
             [
              1,
              "#f0f921"
             ]
            ],
            "type": "heatmap"
           }
          ],
          "histogram": [
           {
            "marker": {
             "pattern": {
              "fillmode": "overlay",
              "size": 10,
              "solidity": 0.2
             }
            },
            "type": "histogram"
           }
          ],
          "histogram2d": [
           {
            "colorbar": {
             "outlinewidth": 0,
             "ticks": ""
            },
            "colorscale": [
             [
              0,
              "#0d0887"
             ],
             [
              0.1111111111111111,
              "#46039f"
             ],
             [
              0.2222222222222222,
              "#7201a8"
             ],
             [
              0.3333333333333333,
              "#9c179e"
             ],
             [
              0.4444444444444444,
              "#bd3786"
             ],
             [
              0.5555555555555556,
              "#d8576b"
             ],
             [
              0.6666666666666666,
              "#ed7953"
             ],
             [
              0.7777777777777778,
              "#fb9f3a"
             ],
             [
              0.8888888888888888,
              "#fdca26"
             ],
             [
              1,
              "#f0f921"
             ]
            ],
            "type": "histogram2d"
           }
          ],
          "histogram2dcontour": [
           {
            "colorbar": {
             "outlinewidth": 0,
             "ticks": ""
            },
            "colorscale": [
             [
              0,
              "#0d0887"
             ],
             [
              0.1111111111111111,
              "#46039f"
             ],
             [
              0.2222222222222222,
              "#7201a8"
             ],
             [
              0.3333333333333333,
              "#9c179e"
             ],
             [
              0.4444444444444444,
              "#bd3786"
             ],
             [
              0.5555555555555556,
              "#d8576b"
             ],
             [
              0.6666666666666666,
              "#ed7953"
             ],
             [
              0.7777777777777778,
              "#fb9f3a"
             ],
             [
              0.8888888888888888,
              "#fdca26"
             ],
             [
              1,
              "#f0f921"
             ]
            ],
            "type": "histogram2dcontour"
           }
          ],
          "mesh3d": [
           {
            "colorbar": {
             "outlinewidth": 0,
             "ticks": ""
            },
            "type": "mesh3d"
           }
          ],
          "parcoords": [
           {
            "line": {
             "colorbar": {
              "outlinewidth": 0,
              "ticks": ""
             }
            },
            "type": "parcoords"
           }
          ],
          "pie": [
           {
            "automargin": true,
            "type": "pie"
           }
          ],
          "scatter": [
           {
            "fillpattern": {
             "fillmode": "overlay",
             "size": 10,
             "solidity": 0.2
            },
            "type": "scatter"
           }
          ],
          "scatter3d": [
           {
            "line": {
             "colorbar": {
              "outlinewidth": 0,
              "ticks": ""
             }
            },
            "marker": {
             "colorbar": {
              "outlinewidth": 0,
              "ticks": ""
             }
            },
            "type": "scatter3d"
           }
          ],
          "scattercarpet": [
           {
            "marker": {
             "colorbar": {
              "outlinewidth": 0,
              "ticks": ""
             }
            },
            "type": "scattercarpet"
           }
          ],
          "scattergeo": [
           {
            "marker": {
             "colorbar": {
              "outlinewidth": 0,
              "ticks": ""
             }
            },
            "type": "scattergeo"
           }
          ],
          "scattergl": [
           {
            "marker": {
             "colorbar": {
              "outlinewidth": 0,
              "ticks": ""
             }
            },
            "type": "scattergl"
           }
          ],
          "scattermap": [
           {
            "marker": {
             "colorbar": {
              "outlinewidth": 0,
              "ticks": ""
             }
            },
            "type": "scattermap"
           }
          ],
          "scattermapbox": [
           {
            "marker": {
             "colorbar": {
              "outlinewidth": 0,
              "ticks": ""
             }
            },
            "type": "scattermapbox"
           }
          ],
          "scatterpolar": [
           {
            "marker": {
             "colorbar": {
              "outlinewidth": 0,
              "ticks": ""
             }
            },
            "type": "scatterpolar"
           }
          ],
          "scatterpolargl": [
           {
            "marker": {
             "colorbar": {
              "outlinewidth": 0,
              "ticks": ""
             }
            },
            "type": "scatterpolargl"
           }
          ],
          "scatterternary": [
           {
            "marker": {
             "colorbar": {
              "outlinewidth": 0,
              "ticks": ""
             }
            },
            "type": "scatterternary"
           }
          ],
          "surface": [
           {
            "colorbar": {
             "outlinewidth": 0,
             "ticks": ""
            },
            "colorscale": [
             [
              0,
              "#0d0887"
             ],
             [
              0.1111111111111111,
              "#46039f"
             ],
             [
              0.2222222222222222,
              "#7201a8"
             ],
             [
              0.3333333333333333,
              "#9c179e"
             ],
             [
              0.4444444444444444,
              "#bd3786"
             ],
             [
              0.5555555555555556,
              "#d8576b"
             ],
             [
              0.6666666666666666,
              "#ed7953"
             ],
             [
              0.7777777777777778,
              "#fb9f3a"
             ],
             [
              0.8888888888888888,
              "#fdca26"
             ],
             [
              1,
              "#f0f921"
             ]
            ],
            "type": "surface"
           }
          ],
          "table": [
           {
            "cells": {
             "fill": {
              "color": "#EBF0F8"
             },
             "line": {
              "color": "white"
             }
            },
            "header": {
             "fill": {
              "color": "#C8D4E3"
             },
             "line": {
              "color": "white"
             }
            },
            "type": "table"
           }
          ]
         },
         "layout": {
          "annotationdefaults": {
           "arrowcolor": "#2a3f5f",
           "arrowhead": 0,
           "arrowwidth": 1
          },
          "autotypenumbers": "strict",
          "coloraxis": {
           "colorbar": {
            "outlinewidth": 0,
            "ticks": ""
           }
          },
          "colorscale": {
           "diverging": [
            [
             0,
             "#8e0152"
            ],
            [
             0.1,
             "#c51b7d"
            ],
            [
             0.2,
             "#de77ae"
            ],
            [
             0.3,
             "#f1b6da"
            ],
            [
             0.4,
             "#fde0ef"
            ],
            [
             0.5,
             "#f7f7f7"
            ],
            [
             0.6,
             "#e6f5d0"
            ],
            [
             0.7,
             "#b8e186"
            ],
            [
             0.8,
             "#7fbc41"
            ],
            [
             0.9,
             "#4d9221"
            ],
            [
             1,
             "#276419"
            ]
           ],
           "sequential": [
            [
             0,
             "#0d0887"
            ],
            [
             0.1111111111111111,
             "#46039f"
            ],
            [
             0.2222222222222222,
             "#7201a8"
            ],
            [
             0.3333333333333333,
             "#9c179e"
            ],
            [
             0.4444444444444444,
             "#bd3786"
            ],
            [
             0.5555555555555556,
             "#d8576b"
            ],
            [
             0.6666666666666666,
             "#ed7953"
            ],
            [
             0.7777777777777778,
             "#fb9f3a"
            ],
            [
             0.8888888888888888,
             "#fdca26"
            ],
            [
             1,
             "#f0f921"
            ]
           ],
           "sequentialminus": [
            [
             0,
             "#0d0887"
            ],
            [
             0.1111111111111111,
             "#46039f"
            ],
            [
             0.2222222222222222,
             "#7201a8"
            ],
            [
             0.3333333333333333,
             "#9c179e"
            ],
            [
             0.4444444444444444,
             "#bd3786"
            ],
            [
             0.5555555555555556,
             "#d8576b"
            ],
            [
             0.6666666666666666,
             "#ed7953"
            ],
            [
             0.7777777777777778,
             "#fb9f3a"
            ],
            [
             0.8888888888888888,
             "#fdca26"
            ],
            [
             1,
             "#f0f921"
            ]
           ]
          },
          "colorway": [
           "#636efa",
           "#EF553B",
           "#00cc96",
           "#ab63fa",
           "#FFA15A",
           "#19d3f3",
           "#FF6692",
           "#B6E880",
           "#FF97FF",
           "#FECB52"
          ],
          "font": {
           "color": "#2a3f5f"
          },
          "geo": {
           "bgcolor": "white",
           "lakecolor": "white",
           "landcolor": "#E5ECF6",
           "showlakes": true,
           "showland": true,
           "subunitcolor": "white"
          },
          "hoverlabel": {
           "align": "left"
          },
          "hovermode": "closest",
          "mapbox": {
           "style": "light"
          },
          "paper_bgcolor": "white",
          "plot_bgcolor": "#E5ECF6",
          "polar": {
           "angularaxis": {
            "gridcolor": "white",
            "linecolor": "white",
            "ticks": ""
           },
           "bgcolor": "#E5ECF6",
           "radialaxis": {
            "gridcolor": "white",
            "linecolor": "white",
            "ticks": ""
           }
          },
          "scene": {
           "xaxis": {
            "backgroundcolor": "#E5ECF6",
            "gridcolor": "white",
            "gridwidth": 2,
            "linecolor": "white",
            "showbackground": true,
            "ticks": "",
            "zerolinecolor": "white"
           },
           "yaxis": {
            "backgroundcolor": "#E5ECF6",
            "gridcolor": "white",
            "gridwidth": 2,
            "linecolor": "white",
            "showbackground": true,
            "ticks": "",
            "zerolinecolor": "white"
           },
           "zaxis": {
            "backgroundcolor": "#E5ECF6",
            "gridcolor": "white",
            "gridwidth": 2,
            "linecolor": "white",
            "showbackground": true,
            "ticks": "",
            "zerolinecolor": "white"
           }
          },
          "shapedefaults": {
           "line": {
            "color": "#2a3f5f"
           }
          },
          "ternary": {
           "aaxis": {
            "gridcolor": "white",
            "linecolor": "white",
            "ticks": ""
           },
           "baxis": {
            "gridcolor": "white",
            "linecolor": "white",
            "ticks": ""
           },
           "bgcolor": "#E5ECF6",
           "caxis": {
            "gridcolor": "white",
            "linecolor": "white",
            "ticks": ""
           }
          },
          "title": {
           "x": 0.05
          },
          "xaxis": {
           "automargin": true,
           "gridcolor": "white",
           "linecolor": "white",
           "ticks": "",
           "title": {
            "standoff": 15
           },
           "zerolinecolor": "white",
           "zerolinewidth": 2
          },
          "yaxis": {
           "automargin": true,
           "gridcolor": "white",
           "linecolor": "white",
           "ticks": "",
           "title": {
            "standoff": 15
           },
           "zerolinecolor": "white",
           "zerolinewidth": 2
          }
         }
        },
        "title": {
         "text": "GDP per capita vs Happiness Score 2016\t MSE: 0.59, R-squared: 0.59"
        },
        "xaxis": {
         "anchor": "y",
         "domain": [
          0,
          1
         ],
         "title": {
          "text": "x"
         }
        },
        "yaxis": {
         "anchor": "x",
         "domain": [
          0,
          1
         ],
         "title": {
          "text": "y"
         }
        }
       }
      }
     },
     "metadata": {},
     "output_type": "display_data"
    },
    {
     "data": {
      "application/vnd.plotly.v1+json": {
       "config": {
        "plotlyServerURL": "https://plot.ly"
       },
       "data": [
        {
         "hovertemplate": "x=%{x}<br>y=%{y}<extra></extra>",
         "legendgroup": "",
         "marker": {
          "color": "#636efa",
          "symbol": "circle"
         },
         "mode": "markers",
         "name": "",
         "orientation": "v",
         "showlegend": false,
         "type": "scatter",
         "x": {
          "bdata": "AwAA4AG21T/+//+fX7bvPxMAAGB+JvY//f//3+dZ5T8AAADAKav0P/n//38my/c/8///HyYz8T8AAACAWJ7tP/z//7//rN4/+f//n1go8D8CAAAACePpPw8AAGCUdfU/BAAAwOwb8T8PAADgZwv0P/z//x8S7+I/AwAAICd18j/5//9fW8HxPwMAAKBw5+s/+f//f82x2T/9//8/sNHsP/P//9/PNPU/BAAA4KhB4z/u//9fUiL1PwQAAODeGPc/CAAAgE+X1z8UAADgH3vzP/z//585W+A//v//H1aV8j8=",
          "dtype": "f8"
         },
         "xaxis": "x",
         "y": {
          "bdata": "/f//PwrXEUD7//9fEFgVQAMAAACsnBlA/v//P+F6EED7//8fWuQXQAAAAOAkBhxAAgAAYGbmFED9//+/dj4VQAEAAADXIxJAAQAAYI/CEUABAADg+ykRQPz//x8xCBdA/P//33qUFUAFAADgpZsaQAgAAMB2vgxA/f//v53vFED9//9f5VAcQP3//1/l0BlA9v//nxxaDkD+//8fBoERQPv//x9aZBhA/v//PwisEEAEAAAAqnEWQAIAAIBB4B1A+f//n/HSDED9//9f5dAZQAgAAIDAygpAAQAA4CLbEkA=",
          "dtype": "f8"
         },
         "yaxis": "y"
        },
        {
         "hovertemplate": "<b>OLS trendline</b><br>y = 2.71636 * x + 2.61721<br>R<sup>2</sup>=0.676131<br><br>x=%{x}<br>y=%{y} <b>(trend)</b><extra></extra>",
         "legendgroup": "",
         "marker": {
          "color": "#636efa",
          "symbol": "circle"
         },
         "mode": "lines",
         "name": "",
         "showlegend": false,
         "type": "scatter",
         "x": {
          "bdata": "AwAA4AG21T8IAACAT5fXP/n//3/Nsdk//P//v/+s3j/8//+fOVvgP/z//x8S7+I/BAAA4KhB4z/9///f51nlPwIAAAAJ4+k/AwAAoHDn6z/9//8/sNHsPwAAAIBYnu0//v//n1+27z/5//+fWCjwPwQAAMDsG/E/8///HyYz8T/5//9fW8HxPwMAACAndfI//v//H1aV8j8UAADgH3vzPw8AAOBnC/Q/AAAAwCmr9D/u//9fUiL1P/P//9/PNPU/DwAAYJR19T8TAABgfib2PwQAAODeGPc/+f//fybL9z8=",
          "dtype": "f8"
         },
         "xaxis": "x",
         "y": {
          "bdata": "IFGyxDpPDEDcFU5Jp/IMQHB0QN1+qQ1AzUOdRntaD0Dk7JbLxAUQQGfWsdXQ5RBAVVemvdsBEUC+j6IU8LcRQHX8mGgxQhNAVPn6EonxE0A76YPBEkEUQIXunEKQhhRAIq3AoJE8FUDH2XGM93AVQGKIpupgFhZAxDI0WyYmFkBSxj7EuIYWQNp2VrbRABdA8k5PuqwWF0A/+gmouLIXQHYLSH6zFBhAmIvnyzCBGEAEqAkoHNIYQOgN+Z+q3hhAvF43Q6YKGUDAvdA1yoIZQIRxZKxiJxpA2tQvDHSgGkA=",
          "dtype": "f8"
         },
         "yaxis": "y"
        }
       ],
       "layout": {
        "legend": {
         "tracegroupgap": 0
        },
        "template": {
         "data": {
          "bar": [
           {
            "error_x": {
             "color": "#2a3f5f"
            },
            "error_y": {
             "color": "#2a3f5f"
            },
            "marker": {
             "line": {
              "color": "#E5ECF6",
              "width": 0.5
             },
             "pattern": {
              "fillmode": "overlay",
              "size": 10,
              "solidity": 0.2
             }
            },
            "type": "bar"
           }
          ],
          "barpolar": [
           {
            "marker": {
             "line": {
              "color": "#E5ECF6",
              "width": 0.5
             },
             "pattern": {
              "fillmode": "overlay",
              "size": 10,
              "solidity": 0.2
             }
            },
            "type": "barpolar"
           }
          ],
          "carpet": [
           {
            "aaxis": {
             "endlinecolor": "#2a3f5f",
             "gridcolor": "white",
             "linecolor": "white",
             "minorgridcolor": "white",
             "startlinecolor": "#2a3f5f"
            },
            "baxis": {
             "endlinecolor": "#2a3f5f",
             "gridcolor": "white",
             "linecolor": "white",
             "minorgridcolor": "white",
             "startlinecolor": "#2a3f5f"
            },
            "type": "carpet"
           }
          ],
          "choropleth": [
           {
            "colorbar": {
             "outlinewidth": 0,
             "ticks": ""
            },
            "type": "choropleth"
           }
          ],
          "contour": [
           {
            "colorbar": {
             "outlinewidth": 0,
             "ticks": ""
            },
            "colorscale": [
             [
              0,
              "#0d0887"
             ],
             [
              0.1111111111111111,
              "#46039f"
             ],
             [
              0.2222222222222222,
              "#7201a8"
             ],
             [
              0.3333333333333333,
              "#9c179e"
             ],
             [
              0.4444444444444444,
              "#bd3786"
             ],
             [
              0.5555555555555556,
              "#d8576b"
             ],
             [
              0.6666666666666666,
              "#ed7953"
             ],
             [
              0.7777777777777778,
              "#fb9f3a"
             ],
             [
              0.8888888888888888,
              "#fdca26"
             ],
             [
              1,
              "#f0f921"
             ]
            ],
            "type": "contour"
           }
          ],
          "contourcarpet": [
           {
            "colorbar": {
             "outlinewidth": 0,
             "ticks": ""
            },
            "type": "contourcarpet"
           }
          ],
          "heatmap": [
           {
            "colorbar": {
             "outlinewidth": 0,
             "ticks": ""
            },
            "colorscale": [
             [
              0,
              "#0d0887"
             ],
             [
              0.1111111111111111,
              "#46039f"
             ],
             [
              0.2222222222222222,
              "#7201a8"
             ],
             [
              0.3333333333333333,
              "#9c179e"
             ],
             [
              0.4444444444444444,
              "#bd3786"
             ],
             [
              0.5555555555555556,
              "#d8576b"
             ],
             [
              0.6666666666666666,
              "#ed7953"
             ],
             [
              0.7777777777777778,
              "#fb9f3a"
             ],
             [
              0.8888888888888888,
              "#fdca26"
             ],
             [
              1,
              "#f0f921"
             ]
            ],
            "type": "heatmap"
           }
          ],
          "histogram": [
           {
            "marker": {
             "pattern": {
              "fillmode": "overlay",
              "size": 10,
              "solidity": 0.2
             }
            },
            "type": "histogram"
           }
          ],
          "histogram2d": [
           {
            "colorbar": {
             "outlinewidth": 0,
             "ticks": ""
            },
            "colorscale": [
             [
              0,
              "#0d0887"
             ],
             [
              0.1111111111111111,
              "#46039f"
             ],
             [
              0.2222222222222222,
              "#7201a8"
             ],
             [
              0.3333333333333333,
              "#9c179e"
             ],
             [
              0.4444444444444444,
              "#bd3786"
             ],
             [
              0.5555555555555556,
              "#d8576b"
             ],
             [
              0.6666666666666666,
              "#ed7953"
             ],
             [
              0.7777777777777778,
              "#fb9f3a"
             ],
             [
              0.8888888888888888,
              "#fdca26"
             ],
             [
              1,
              "#f0f921"
             ]
            ],
            "type": "histogram2d"
           }
          ],
          "histogram2dcontour": [
           {
            "colorbar": {
             "outlinewidth": 0,
             "ticks": ""
            },
            "colorscale": [
             [
              0,
              "#0d0887"
             ],
             [
              0.1111111111111111,
              "#46039f"
             ],
             [
              0.2222222222222222,
              "#7201a8"
             ],
             [
              0.3333333333333333,
              "#9c179e"
             ],
             [
              0.4444444444444444,
              "#bd3786"
             ],
             [
              0.5555555555555556,
              "#d8576b"
             ],
             [
              0.6666666666666666,
              "#ed7953"
             ],
             [
              0.7777777777777778,
              "#fb9f3a"
             ],
             [
              0.8888888888888888,
              "#fdca26"
             ],
             [
              1,
              "#f0f921"
             ]
            ],
            "type": "histogram2dcontour"
           }
          ],
          "mesh3d": [
           {
            "colorbar": {
             "outlinewidth": 0,
             "ticks": ""
            },
            "type": "mesh3d"
           }
          ],
          "parcoords": [
           {
            "line": {
             "colorbar": {
              "outlinewidth": 0,
              "ticks": ""
             }
            },
            "type": "parcoords"
           }
          ],
          "pie": [
           {
            "automargin": true,
            "type": "pie"
           }
          ],
          "scatter": [
           {
            "fillpattern": {
             "fillmode": "overlay",
             "size": 10,
             "solidity": 0.2
            },
            "type": "scatter"
           }
          ],
          "scatter3d": [
           {
            "line": {
             "colorbar": {
              "outlinewidth": 0,
              "ticks": ""
             }
            },
            "marker": {
             "colorbar": {
              "outlinewidth": 0,
              "ticks": ""
             }
            },
            "type": "scatter3d"
           }
          ],
          "scattercarpet": [
           {
            "marker": {
             "colorbar": {
              "outlinewidth": 0,
              "ticks": ""
             }
            },
            "type": "scattercarpet"
           }
          ],
          "scattergeo": [
           {
            "marker": {
             "colorbar": {
              "outlinewidth": 0,
              "ticks": ""
             }
            },
            "type": "scattergeo"
           }
          ],
          "scattergl": [
           {
            "marker": {
             "colorbar": {
              "outlinewidth": 0,
              "ticks": ""
             }
            },
            "type": "scattergl"
           }
          ],
          "scattermap": [
           {
            "marker": {
             "colorbar": {
              "outlinewidth": 0,
              "ticks": ""
             }
            },
            "type": "scattermap"
           }
          ],
          "scattermapbox": [
           {
            "marker": {
             "colorbar": {
              "outlinewidth": 0,
              "ticks": ""
             }
            },
            "type": "scattermapbox"
           }
          ],
          "scatterpolar": [
           {
            "marker": {
             "colorbar": {
              "outlinewidth": 0,
              "ticks": ""
             }
            },
            "type": "scatterpolar"
           }
          ],
          "scatterpolargl": [
           {
            "marker": {
             "colorbar": {
              "outlinewidth": 0,
              "ticks": ""
             }
            },
            "type": "scatterpolargl"
           }
          ],
          "scatterternary": [
           {
            "marker": {
             "colorbar": {
              "outlinewidth": 0,
              "ticks": ""
             }
            },
            "type": "scatterternary"
           }
          ],
          "surface": [
           {
            "colorbar": {
             "outlinewidth": 0,
             "ticks": ""
            },
            "colorscale": [
             [
              0,
              "#0d0887"
             ],
             [
              0.1111111111111111,
              "#46039f"
             ],
             [
              0.2222222222222222,
              "#7201a8"
             ],
             [
              0.3333333333333333,
              "#9c179e"
             ],
             [
              0.4444444444444444,
              "#bd3786"
             ],
             [
              0.5555555555555556,
              "#d8576b"
             ],
             [
              0.6666666666666666,
              "#ed7953"
             ],
             [
              0.7777777777777778,
              "#fb9f3a"
             ],
             [
              0.8888888888888888,
              "#fdca26"
             ],
             [
              1,
              "#f0f921"
             ]
            ],
            "type": "surface"
           }
          ],
          "table": [
           {
            "cells": {
             "fill": {
              "color": "#EBF0F8"
             },
             "line": {
              "color": "white"
             }
            },
            "header": {
             "fill": {
              "color": "#C8D4E3"
             },
             "line": {
              "color": "white"
             }
            },
            "type": "table"
           }
          ]
         },
         "layout": {
          "annotationdefaults": {
           "arrowcolor": "#2a3f5f",
           "arrowhead": 0,
           "arrowwidth": 1
          },
          "autotypenumbers": "strict",
          "coloraxis": {
           "colorbar": {
            "outlinewidth": 0,
            "ticks": ""
           }
          },
          "colorscale": {
           "diverging": [
            [
             0,
             "#8e0152"
            ],
            [
             0.1,
             "#c51b7d"
            ],
            [
             0.2,
             "#de77ae"
            ],
            [
             0.3,
             "#f1b6da"
            ],
            [
             0.4,
             "#fde0ef"
            ],
            [
             0.5,
             "#f7f7f7"
            ],
            [
             0.6,
             "#e6f5d0"
            ],
            [
             0.7,
             "#b8e186"
            ],
            [
             0.8,
             "#7fbc41"
            ],
            [
             0.9,
             "#4d9221"
            ],
            [
             1,
             "#276419"
            ]
           ],
           "sequential": [
            [
             0,
             "#0d0887"
            ],
            [
             0.1111111111111111,
             "#46039f"
            ],
            [
             0.2222222222222222,
             "#7201a8"
            ],
            [
             0.3333333333333333,
             "#9c179e"
            ],
            [
             0.4444444444444444,
             "#bd3786"
            ],
            [
             0.5555555555555556,
             "#d8576b"
            ],
            [
             0.6666666666666666,
             "#ed7953"
            ],
            [
             0.7777777777777778,
             "#fb9f3a"
            ],
            [
             0.8888888888888888,
             "#fdca26"
            ],
            [
             1,
             "#f0f921"
            ]
           ],
           "sequentialminus": [
            [
             0,
             "#0d0887"
            ],
            [
             0.1111111111111111,
             "#46039f"
            ],
            [
             0.2222222222222222,
             "#7201a8"
            ],
            [
             0.3333333333333333,
             "#9c179e"
            ],
            [
             0.4444444444444444,
             "#bd3786"
            ],
            [
             0.5555555555555556,
             "#d8576b"
            ],
            [
             0.6666666666666666,
             "#ed7953"
            ],
            [
             0.7777777777777778,
             "#fb9f3a"
            ],
            [
             0.8888888888888888,
             "#fdca26"
            ],
            [
             1,
             "#f0f921"
            ]
           ]
          },
          "colorway": [
           "#636efa",
           "#EF553B",
           "#00cc96",
           "#ab63fa",
           "#FFA15A",
           "#19d3f3",
           "#FF6692",
           "#B6E880",
           "#FF97FF",
           "#FECB52"
          ],
          "font": {
           "color": "#2a3f5f"
          },
          "geo": {
           "bgcolor": "white",
           "lakecolor": "white",
           "landcolor": "#E5ECF6",
           "showlakes": true,
           "showland": true,
           "subunitcolor": "white"
          },
          "hoverlabel": {
           "align": "left"
          },
          "hovermode": "closest",
          "mapbox": {
           "style": "light"
          },
          "paper_bgcolor": "white",
          "plot_bgcolor": "#E5ECF6",
          "polar": {
           "angularaxis": {
            "gridcolor": "white",
            "linecolor": "white",
            "ticks": ""
           },
           "bgcolor": "#E5ECF6",
           "radialaxis": {
            "gridcolor": "white",
            "linecolor": "white",
            "ticks": ""
           }
          },
          "scene": {
           "xaxis": {
            "backgroundcolor": "#E5ECF6",
            "gridcolor": "white",
            "gridwidth": 2,
            "linecolor": "white",
            "showbackground": true,
            "ticks": "",
            "zerolinecolor": "white"
           },
           "yaxis": {
            "backgroundcolor": "#E5ECF6",
            "gridcolor": "white",
            "gridwidth": 2,
            "linecolor": "white",
            "showbackground": true,
            "ticks": "",
            "zerolinecolor": "white"
           },
           "zaxis": {
            "backgroundcolor": "#E5ECF6",
            "gridcolor": "white",
            "gridwidth": 2,
            "linecolor": "white",
            "showbackground": true,
            "ticks": "",
            "zerolinecolor": "white"
           }
          },
          "shapedefaults": {
           "line": {
            "color": "#2a3f5f"
           }
          },
          "ternary": {
           "aaxis": {
            "gridcolor": "white",
            "linecolor": "white",
            "ticks": ""
           },
           "baxis": {
            "gridcolor": "white",
            "linecolor": "white",
            "ticks": ""
           },
           "bgcolor": "#E5ECF6",
           "caxis": {
            "gridcolor": "white",
            "linecolor": "white",
            "ticks": ""
           }
          },
          "title": {
           "x": 0.05
          },
          "xaxis": {
           "automargin": true,
           "gridcolor": "white",
           "linecolor": "white",
           "ticks": "",
           "title": {
            "standoff": 15
           },
           "zerolinecolor": "white",
           "zerolinewidth": 2
          },
          "yaxis": {
           "automargin": true,
           "gridcolor": "white",
           "linecolor": "white",
           "ticks": "",
           "title": {
            "standoff": 15
           },
           "zerolinecolor": "white",
           "zerolinewidth": 2
          }
         }
        },
        "title": {
         "text": "GDP per capita vs Happiness Score 2017\t MSE: 0.47, R-squared: 0.64"
        },
        "xaxis": {
         "anchor": "y",
         "domain": [
          0,
          1
         ],
         "title": {
          "text": "x"
         }
        },
        "yaxis": {
         "anchor": "x",
         "domain": [
          0,
          1
         ],
         "title": {
          "text": "y"
         }
        }
       }
      }
     },
     "metadata": {},
     "output_type": "display_data"
    },
    {
     "data": {
      "application/vnd.plotly.v1+json": {
       "config": {
        "plotlyServerURL": "https://plot.ly"
       },
       "data": [
        {
         "hovertemplate": "x=%{x}<br>y=%{y}<extra></extra>",
         "legendgroup": "",
         "marker": {
          "color": "#636efa",
          "symbol": "circle"
         },
         "mode": "markers",
         "name": "",
         "orientation": "v",
         "showlegend": false,
         "type": "scatter",
         "x": {
          "bdata": "rkfhehSu1z85tMh2vp/wPxBYObTIdvg/tvP91Hjp1j+oxks3iUHwPylcj8L1KPA/vHSTGARW3j93vp8aL93kP23n+6nx0uU/xSCwcmiR4T+WQ4ts5/vhP9V46SYxCOg/16NwPQrX4z/ufD81XrrzPwIrhxbZzsc/IbByaJHt6D/b+X5qvHT1P8uhRbbz/eg/arx0kxgE1j9/arx0kxjUP5huEoPAyuk/bef7qfHS5T9cj8L1KFzrP7gehetRuPY/EoPAyqFF8D9eukkMAivxPx+F61G4Ht0/FK5H4XoU7j8=",
          "dtype": "f8"
         },
         "xaxis": "x",
         "y": {
          "bdata": "fT81XrrJEUA730+Nl+4VQKwcWmQ7XxlATmIQWDk0EUB9PzVeukkYQH0/NV66SRxAsp3vp8bLFEAX2c73U+MVQCPb+X5qPBJACKwcWmS7EUA1XrpJDIIRQDVeukkMAhdAarx0kxgEFkDy0k1iENgaQBkEVg4tsgxAarx0kxgEFUB1kxgEVo4cQLpJDAIrhxlAg8DKoUW2D0AZBFYOLbIRQF66SQwCqxhACKwcWmQ7EUDZzvdT46UWQKabxCCw8h1AuB6F61G4DEBaZDvfT40ZQAaBlUOLbApATDeJQWDlEkA=",
          "dtype": "f8"
         },
         "yaxis": "y"
        },
        {
         "hovertemplate": "<b>OLS trendline</b><br>y = 2.51591 * x + 3.3272<br>R<sup>2</sup>=0.579680<br><br>x=%{x}<br>y=%{y} <b>(trend)</b><extra></extra>",
         "legendgroup": "",
         "marker": {
          "color": "#636efa",
          "symbol": "circle"
         },
         "mode": "lines",
         "name": "",
         "showlegend": false,
         "type": "scatter",
         "x": {
          "bdata": "AiuHFtnOxz9/arx0kxjUP2q8dJMYBNY/tvP91Hjp1j+uR+F6FK7XPx+F61G4Ht0/vHSTGARW3j/FILByaJHhP5ZDi2zn++E/16NwPQrX4z93vp8aL93kP23n+6nx0uU/bef7qfHS5T/VeOkmMQjoPyGwcmiR7eg/y6FFtvP96D+YbhKDwMrpP1yPwvUoXOs/FK5H4XoU7j8pXI/C9SjwP6jGSzeJQfA/EoPAyqFF8D85tMh2vp/wP166SQwCK/E/7nw/NV668z/b+X5qvHT1P7gehetRuPY/EFg5tMh2+D8=",
          "dtype": "f8"
         },
         "xaxis": "x",
         "y": {
          "bdata": "UmiPEHxcDkADcHrrAXgQQApUutRLxRBAluCTQV3pEEAyouCeRwgRQPFSwLND4xFA1Np5xzYUEkDllJmOb9USQPq7rHPt9hJAGLmfNlqME0AOaGwvy94TQBZMrBgVLBRAFkysGBUsFEBZpSWx2N0UQHG+2Ir7JRVAYIllmiIrFUARcsXcimsVQPrdvtnH6RVAuI6e7sPEFkB0Td4OG3kXQEKuhD2QiBdAuhNLxSOLF0ADzFdw0cMXQOlFsXhpGxhAurCwVJ63GUA6f2Oc280aQCrPnIJimRtAIgMWUjOyHEA=",
          "dtype": "f8"
         },
         "yaxis": "y"
        }
       ],
       "layout": {
        "legend": {
         "tracegroupgap": 0
        },
        "template": {
         "data": {
          "bar": [
           {
            "error_x": {
             "color": "#2a3f5f"
            },
            "error_y": {
             "color": "#2a3f5f"
            },
            "marker": {
             "line": {
              "color": "#E5ECF6",
              "width": 0.5
             },
             "pattern": {
              "fillmode": "overlay",
              "size": 10,
              "solidity": 0.2
             }
            },
            "type": "bar"
           }
          ],
          "barpolar": [
           {
            "marker": {
             "line": {
              "color": "#E5ECF6",
              "width": 0.5
             },
             "pattern": {
              "fillmode": "overlay",
              "size": 10,
              "solidity": 0.2
             }
            },
            "type": "barpolar"
           }
          ],
          "carpet": [
           {
            "aaxis": {
             "endlinecolor": "#2a3f5f",
             "gridcolor": "white",
             "linecolor": "white",
             "minorgridcolor": "white",
             "startlinecolor": "#2a3f5f"
            },
            "baxis": {
             "endlinecolor": "#2a3f5f",
             "gridcolor": "white",
             "linecolor": "white",
             "minorgridcolor": "white",
             "startlinecolor": "#2a3f5f"
            },
            "type": "carpet"
           }
          ],
          "choropleth": [
           {
            "colorbar": {
             "outlinewidth": 0,
             "ticks": ""
            },
            "type": "choropleth"
           }
          ],
          "contour": [
           {
            "colorbar": {
             "outlinewidth": 0,
             "ticks": ""
            },
            "colorscale": [
             [
              0,
              "#0d0887"
             ],
             [
              0.1111111111111111,
              "#46039f"
             ],
             [
              0.2222222222222222,
              "#7201a8"
             ],
             [
              0.3333333333333333,
              "#9c179e"
             ],
             [
              0.4444444444444444,
              "#bd3786"
             ],
             [
              0.5555555555555556,
              "#d8576b"
             ],
             [
              0.6666666666666666,
              "#ed7953"
             ],
             [
              0.7777777777777778,
              "#fb9f3a"
             ],
             [
              0.8888888888888888,
              "#fdca26"
             ],
             [
              1,
              "#f0f921"
             ]
            ],
            "type": "contour"
           }
          ],
          "contourcarpet": [
           {
            "colorbar": {
             "outlinewidth": 0,
             "ticks": ""
            },
            "type": "contourcarpet"
           }
          ],
          "heatmap": [
           {
            "colorbar": {
             "outlinewidth": 0,
             "ticks": ""
            },
            "colorscale": [
             [
              0,
              "#0d0887"
             ],
             [
              0.1111111111111111,
              "#46039f"
             ],
             [
              0.2222222222222222,
              "#7201a8"
             ],
             [
              0.3333333333333333,
              "#9c179e"
             ],
             [
              0.4444444444444444,
              "#bd3786"
             ],
             [
              0.5555555555555556,
              "#d8576b"
             ],
             [
              0.6666666666666666,
              "#ed7953"
             ],
             [
              0.7777777777777778,
              "#fb9f3a"
             ],
             [
              0.8888888888888888,
              "#fdca26"
             ],
             [
              1,
              "#f0f921"
             ]
            ],
            "type": "heatmap"
           }
          ],
          "histogram": [
           {
            "marker": {
             "pattern": {
              "fillmode": "overlay",
              "size": 10,
              "solidity": 0.2
             }
            },
            "type": "histogram"
           }
          ],
          "histogram2d": [
           {
            "colorbar": {
             "outlinewidth": 0,
             "ticks": ""
            },
            "colorscale": [
             [
              0,
              "#0d0887"
             ],
             [
              0.1111111111111111,
              "#46039f"
             ],
             [
              0.2222222222222222,
              "#7201a8"
             ],
             [
              0.3333333333333333,
              "#9c179e"
             ],
             [
              0.4444444444444444,
              "#bd3786"
             ],
             [
              0.5555555555555556,
              "#d8576b"
             ],
             [
              0.6666666666666666,
              "#ed7953"
             ],
             [
              0.7777777777777778,
              "#fb9f3a"
             ],
             [
              0.8888888888888888,
              "#fdca26"
             ],
             [
              1,
              "#f0f921"
             ]
            ],
            "type": "histogram2d"
           }
          ],
          "histogram2dcontour": [
           {
            "colorbar": {
             "outlinewidth": 0,
             "ticks": ""
            },
            "colorscale": [
             [
              0,
              "#0d0887"
             ],
             [
              0.1111111111111111,
              "#46039f"
             ],
             [
              0.2222222222222222,
              "#7201a8"
             ],
             [
              0.3333333333333333,
              "#9c179e"
             ],
             [
              0.4444444444444444,
              "#bd3786"
             ],
             [
              0.5555555555555556,
              "#d8576b"
             ],
             [
              0.6666666666666666,
              "#ed7953"
             ],
             [
              0.7777777777777778,
              "#fb9f3a"
             ],
             [
              0.8888888888888888,
              "#fdca26"
             ],
             [
              1,
              "#f0f921"
             ]
            ],
            "type": "histogram2dcontour"
           }
          ],
          "mesh3d": [
           {
            "colorbar": {
             "outlinewidth": 0,
             "ticks": ""
            },
            "type": "mesh3d"
           }
          ],
          "parcoords": [
           {
            "line": {
             "colorbar": {
              "outlinewidth": 0,
              "ticks": ""
             }
            },
            "type": "parcoords"
           }
          ],
          "pie": [
           {
            "automargin": true,
            "type": "pie"
           }
          ],
          "scatter": [
           {
            "fillpattern": {
             "fillmode": "overlay",
             "size": 10,
             "solidity": 0.2
            },
            "type": "scatter"
           }
          ],
          "scatter3d": [
           {
            "line": {
             "colorbar": {
              "outlinewidth": 0,
              "ticks": ""
             }
            },
            "marker": {
             "colorbar": {
              "outlinewidth": 0,
              "ticks": ""
             }
            },
            "type": "scatter3d"
           }
          ],
          "scattercarpet": [
           {
            "marker": {
             "colorbar": {
              "outlinewidth": 0,
              "ticks": ""
             }
            },
            "type": "scattercarpet"
           }
          ],
          "scattergeo": [
           {
            "marker": {
             "colorbar": {
              "outlinewidth": 0,
              "ticks": ""
             }
            },
            "type": "scattergeo"
           }
          ],
          "scattergl": [
           {
            "marker": {
             "colorbar": {
              "outlinewidth": 0,
              "ticks": ""
             }
            },
            "type": "scattergl"
           }
          ],
          "scattermap": [
           {
            "marker": {
             "colorbar": {
              "outlinewidth": 0,
              "ticks": ""
             }
            },
            "type": "scattermap"
           }
          ],
          "scattermapbox": [
           {
            "marker": {
             "colorbar": {
              "outlinewidth": 0,
              "ticks": ""
             }
            },
            "type": "scattermapbox"
           }
          ],
          "scatterpolar": [
           {
            "marker": {
             "colorbar": {
              "outlinewidth": 0,
              "ticks": ""
             }
            },
            "type": "scatterpolar"
           }
          ],
          "scatterpolargl": [
           {
            "marker": {
             "colorbar": {
              "outlinewidth": 0,
              "ticks": ""
             }
            },
            "type": "scatterpolargl"
           }
          ],
          "scatterternary": [
           {
            "marker": {
             "colorbar": {
              "outlinewidth": 0,
              "ticks": ""
             }
            },
            "type": "scatterternary"
           }
          ],
          "surface": [
           {
            "colorbar": {
             "outlinewidth": 0,
             "ticks": ""
            },
            "colorscale": [
             [
              0,
              "#0d0887"
             ],
             [
              0.1111111111111111,
              "#46039f"
             ],
             [
              0.2222222222222222,
              "#7201a8"
             ],
             [
              0.3333333333333333,
              "#9c179e"
             ],
             [
              0.4444444444444444,
              "#bd3786"
             ],
             [
              0.5555555555555556,
              "#d8576b"
             ],
             [
              0.6666666666666666,
              "#ed7953"
             ],
             [
              0.7777777777777778,
              "#fb9f3a"
             ],
             [
              0.8888888888888888,
              "#fdca26"
             ],
             [
              1,
              "#f0f921"
             ]
            ],
            "type": "surface"
           }
          ],
          "table": [
           {
            "cells": {
             "fill": {
              "color": "#EBF0F8"
             },
             "line": {
              "color": "white"
             }
            },
            "header": {
             "fill": {
              "color": "#C8D4E3"
             },
             "line": {
              "color": "white"
             }
            },
            "type": "table"
           }
          ]
         },
         "layout": {
          "annotationdefaults": {
           "arrowcolor": "#2a3f5f",
           "arrowhead": 0,
           "arrowwidth": 1
          },
          "autotypenumbers": "strict",
          "coloraxis": {
           "colorbar": {
            "outlinewidth": 0,
            "ticks": ""
           }
          },
          "colorscale": {
           "diverging": [
            [
             0,
             "#8e0152"
            ],
            [
             0.1,
             "#c51b7d"
            ],
            [
             0.2,
             "#de77ae"
            ],
            [
             0.3,
             "#f1b6da"
            ],
            [
             0.4,
             "#fde0ef"
            ],
            [
             0.5,
             "#f7f7f7"
            ],
            [
             0.6,
             "#e6f5d0"
            ],
            [
             0.7,
             "#b8e186"
            ],
            [
             0.8,
             "#7fbc41"
            ],
            [
             0.9,
             "#4d9221"
            ],
            [
             1,
             "#276419"
            ]
           ],
           "sequential": [
            [
             0,
             "#0d0887"
            ],
            [
             0.1111111111111111,
             "#46039f"
            ],
            [
             0.2222222222222222,
             "#7201a8"
            ],
            [
             0.3333333333333333,
             "#9c179e"
            ],
            [
             0.4444444444444444,
             "#bd3786"
            ],
            [
             0.5555555555555556,
             "#d8576b"
            ],
            [
             0.6666666666666666,
             "#ed7953"
            ],
            [
             0.7777777777777778,
             "#fb9f3a"
            ],
            [
             0.8888888888888888,
             "#fdca26"
            ],
            [
             1,
             "#f0f921"
            ]
           ],
           "sequentialminus": [
            [
             0,
             "#0d0887"
            ],
            [
             0.1111111111111111,
             "#46039f"
            ],
            [
             0.2222222222222222,
             "#7201a8"
            ],
            [
             0.3333333333333333,
             "#9c179e"
            ],
            [
             0.4444444444444444,
             "#bd3786"
            ],
            [
             0.5555555555555556,
             "#d8576b"
            ],
            [
             0.6666666666666666,
             "#ed7953"
            ],
            [
             0.7777777777777778,
             "#fb9f3a"
            ],
            [
             0.8888888888888888,
             "#fdca26"
            ],
            [
             1,
             "#f0f921"
            ]
           ]
          },
          "colorway": [
           "#636efa",
           "#EF553B",
           "#00cc96",
           "#ab63fa",
           "#FFA15A",
           "#19d3f3",
           "#FF6692",
           "#B6E880",
           "#FF97FF",
           "#FECB52"
          ],
          "font": {
           "color": "#2a3f5f"
          },
          "geo": {
           "bgcolor": "white",
           "lakecolor": "white",
           "landcolor": "#E5ECF6",
           "showlakes": true,
           "showland": true,
           "subunitcolor": "white"
          },
          "hoverlabel": {
           "align": "left"
          },
          "hovermode": "closest",
          "mapbox": {
           "style": "light"
          },
          "paper_bgcolor": "white",
          "plot_bgcolor": "#E5ECF6",
          "polar": {
           "angularaxis": {
            "gridcolor": "white",
            "linecolor": "white",
            "ticks": ""
           },
           "bgcolor": "#E5ECF6",
           "radialaxis": {
            "gridcolor": "white",
            "linecolor": "white",
            "ticks": ""
           }
          },
          "scene": {
           "xaxis": {
            "backgroundcolor": "#E5ECF6",
            "gridcolor": "white",
            "gridwidth": 2,
            "linecolor": "white",
            "showbackground": true,
            "ticks": "",
            "zerolinecolor": "white"
           },
           "yaxis": {
            "backgroundcolor": "#E5ECF6",
            "gridcolor": "white",
            "gridwidth": 2,
            "linecolor": "white",
            "showbackground": true,
            "ticks": "",
            "zerolinecolor": "white"
           },
           "zaxis": {
            "backgroundcolor": "#E5ECF6",
            "gridcolor": "white",
            "gridwidth": 2,
            "linecolor": "white",
            "showbackground": true,
            "ticks": "",
            "zerolinecolor": "white"
           }
          },
          "shapedefaults": {
           "line": {
            "color": "#2a3f5f"
           }
          },
          "ternary": {
           "aaxis": {
            "gridcolor": "white",
            "linecolor": "white",
            "ticks": ""
           },
           "baxis": {
            "gridcolor": "white",
            "linecolor": "white",
            "ticks": ""
           },
           "bgcolor": "#E5ECF6",
           "caxis": {
            "gridcolor": "white",
            "linecolor": "white",
            "ticks": ""
           }
          },
          "title": {
           "x": 0.05
          },
          "xaxis": {
           "automargin": true,
           "gridcolor": "white",
           "linecolor": "white",
           "ticks": "",
           "title": {
            "standoff": 15
           },
           "zerolinecolor": "white",
           "zerolinewidth": 2
          },
          "yaxis": {
           "automargin": true,
           "gridcolor": "white",
           "linecolor": "white",
           "ticks": "",
           "title": {
            "standoff": 15
           },
           "zerolinecolor": "white",
           "zerolinewidth": 2
          }
         }
        },
        "title": {
         "text": "GDP per capita vs Happiness Score 2018\t MSE: 0.58, R-squared: 0.55"
        },
        "xaxis": {
         "anchor": "y",
         "domain": [
          0,
          1
         ],
         "title": {
          "text": "x"
         }
        },
        "yaxis": {
         "anchor": "x",
         "domain": [
          0,
          1
         ],
         "title": {
          "text": "y"
         }
        }
       }
      }
     },
     "metadata": {},
     "output_type": "display_data"
    },
    {
     "data": {
      "application/vnd.plotly.v1+json": {
       "config": {
        "plotlyServerURL": "https://plot.ly"
       },
       "data": [
        {
         "hovertemplate": "x=%{x}<br>y=%{y}<extra></extra>",
         "legendgroup": "",
         "marker": {
          "color": "#636efa",
          "symbol": "circle"
         },
         "mode": "markers",
         "name": "",
         "orientation": "v",
         "showlegend": false,
         "type": "scatter",
         "x": {
          "bdata": "UrgehetR2D9OYhBYObTwP/T91HjpJvk/uB6F61G45j/TTWIQWDnsP9Ei2/l+avQ/1XjpJjEI8D9aZDvfT43fP0SLbOf7qcE/JzEIrBxa7D+WQ4ts5/vhP/hT46WbxPI/7FG4HoXr5T/n+6nx0k30P3npJjEIrNQ/EoPAyqFF5j8lBoGVQ4vwP/p+arx0k/Q/KVyPwvUo6D/8qfHSTWLgP7Kd76fGS/M/ke18PzVe7j+4HoXrUbjuP7x0kxgEVvY/BoGVQ4ts1z+LbOf7qfH6PxBYObTIdt4/8KfGSzeJ5T8=",
          "dtype": "f8"
         },
         "xaxis": "x",
         "y": {
          "bdata": "iUFg5dAiEkCamZmZmRkWQD81XrpJDBlAcT0K16NwEUBmZmZmZmYYQHWTGARWjhxA8tJNYhDYFECR7Xw/Nd4VQFCNl24SgxJA+n5qvHQTEkBt5/up8dIRQCPb+X5qPBdABFYOLbIdFkCcxCCwcmgbQC2yne+nxgxAj8L1KFwPFUBeukkMAqscQNEi2/l+ahlAj8L1KFwPEEDwp8ZLNwkSQO58PzVeuhhAEFg5tMh2EUB9PzVeuskWQMHKoUW28x1A5/up8dJNDUDl0CLb+X4ZQAwCK4cW2QlAc2iR7Xw/E0A=",
          "dtype": "f8"
         },
         "yaxis": "y"
        },
        {
         "hovertemplate": "<b>OLS trendline</b><br>y = 2.25975 * x + 3.35715<br>R<sup>2</sup>=0.602843<br><br>x=%{x}<br>y=%{y} <b>(trend)</b><extra></extra>",
         "legendgroup": "",
         "marker": {
          "color": "#636efa",
          "symbol": "circle"
         },
         "mode": "lines",
         "name": "",
         "showlegend": false,
         "type": "scatter",
         "x": {
          "bdata": "RIts5/upwT956SYxCKzUPwaBlUOLbNc/UrgehetR2D8QWDm0yHbeP1pkO99Pjd8//Knx0k1i4D+WQ4ts5/vhP/Cnxks3ieU/7FG4HoXr5T8Sg8DKoUXmP7gehetRuOY/KVyPwvUo6D/TTWIQWDnsPycxCKwcWuw/ke18PzVe7j+4HoXrUbjuP9V46SYxCPA/JQaBlUOL8D9OYhBYObTwP/hT46WbxPI/sp3vp8ZL8z/n+6nx0k30P9Ei2/l+avQ/+n5qvHST9D+8dJMYBFb2P/T91HjpJvk/i2zn+6nx+j8=",
          "dtype": "f8"
         },
         "xaxis": "x",
         "y": {
          "bdata": "30M5/BpaDUAc+eu6I1kQQKXCPg6kvBBASYH0XgndEECInInRLbsRQAYE1EWE4hFAwIaBfHsOEkCbLy94LoISQByXq5wIgxNAhDr+Ks2eE0BNUB9YQbgTQPEO1aim2BNAt/OKvsdAFEAXNSD2p2YVQJBr5nrpbxVAcEUYZrEBFkA6WzmTJRsWQCaXWoVVfBZA5kqMq2HGFkAS03t3hd0WQK4vdHEGCBhADHHX+GJUGEDtSgnkKuYYQD8qZIxd9hhAa7JTWIENGUBOjJ4bCwwaQOzor+1NoxtACt5dc3imHEA=",
          "dtype": "f8"
         },
         "yaxis": "y"
        }
       ],
       "layout": {
        "legend": {
         "tracegroupgap": 0
        },
        "template": {
         "data": {
          "bar": [
           {
            "error_x": {
             "color": "#2a3f5f"
            },
            "error_y": {
             "color": "#2a3f5f"
            },
            "marker": {
             "line": {
              "color": "#E5ECF6",
              "width": 0.5
             },
             "pattern": {
              "fillmode": "overlay",
              "size": 10,
              "solidity": 0.2
             }
            },
            "type": "bar"
           }
          ],
          "barpolar": [
           {
            "marker": {
             "line": {
              "color": "#E5ECF6",
              "width": 0.5
             },
             "pattern": {
              "fillmode": "overlay",
              "size": 10,
              "solidity": 0.2
             }
            },
            "type": "barpolar"
           }
          ],
          "carpet": [
           {
            "aaxis": {
             "endlinecolor": "#2a3f5f",
             "gridcolor": "white",
             "linecolor": "white",
             "minorgridcolor": "white",
             "startlinecolor": "#2a3f5f"
            },
            "baxis": {
             "endlinecolor": "#2a3f5f",
             "gridcolor": "white",
             "linecolor": "white",
             "minorgridcolor": "white",
             "startlinecolor": "#2a3f5f"
            },
            "type": "carpet"
           }
          ],
          "choropleth": [
           {
            "colorbar": {
             "outlinewidth": 0,
             "ticks": ""
            },
            "type": "choropleth"
           }
          ],
          "contour": [
           {
            "colorbar": {
             "outlinewidth": 0,
             "ticks": ""
            },
            "colorscale": [
             [
              0,
              "#0d0887"
             ],
             [
              0.1111111111111111,
              "#46039f"
             ],
             [
              0.2222222222222222,
              "#7201a8"
             ],
             [
              0.3333333333333333,
              "#9c179e"
             ],
             [
              0.4444444444444444,
              "#bd3786"
             ],
             [
              0.5555555555555556,
              "#d8576b"
             ],
             [
              0.6666666666666666,
              "#ed7953"
             ],
             [
              0.7777777777777778,
              "#fb9f3a"
             ],
             [
              0.8888888888888888,
              "#fdca26"
             ],
             [
              1,
              "#f0f921"
             ]
            ],
            "type": "contour"
           }
          ],
          "contourcarpet": [
           {
            "colorbar": {
             "outlinewidth": 0,
             "ticks": ""
            },
            "type": "contourcarpet"
           }
          ],
          "heatmap": [
           {
            "colorbar": {
             "outlinewidth": 0,
             "ticks": ""
            },
            "colorscale": [
             [
              0,
              "#0d0887"
             ],
             [
              0.1111111111111111,
              "#46039f"
             ],
             [
              0.2222222222222222,
              "#7201a8"
             ],
             [
              0.3333333333333333,
              "#9c179e"
             ],
             [
              0.4444444444444444,
              "#bd3786"
             ],
             [
              0.5555555555555556,
              "#d8576b"
             ],
             [
              0.6666666666666666,
              "#ed7953"
             ],
             [
              0.7777777777777778,
              "#fb9f3a"
             ],
             [
              0.8888888888888888,
              "#fdca26"
             ],
             [
              1,
              "#f0f921"
             ]
            ],
            "type": "heatmap"
           }
          ],
          "histogram": [
           {
            "marker": {
             "pattern": {
              "fillmode": "overlay",
              "size": 10,
              "solidity": 0.2
             }
            },
            "type": "histogram"
           }
          ],
          "histogram2d": [
           {
            "colorbar": {
             "outlinewidth": 0,
             "ticks": ""
            },
            "colorscale": [
             [
              0,
              "#0d0887"
             ],
             [
              0.1111111111111111,
              "#46039f"
             ],
             [
              0.2222222222222222,
              "#7201a8"
             ],
             [
              0.3333333333333333,
              "#9c179e"
             ],
             [
              0.4444444444444444,
              "#bd3786"
             ],
             [
              0.5555555555555556,
              "#d8576b"
             ],
             [
              0.6666666666666666,
              "#ed7953"
             ],
             [
              0.7777777777777778,
              "#fb9f3a"
             ],
             [
              0.8888888888888888,
              "#fdca26"
             ],
             [
              1,
              "#f0f921"
             ]
            ],
            "type": "histogram2d"
           }
          ],
          "histogram2dcontour": [
           {
            "colorbar": {
             "outlinewidth": 0,
             "ticks": ""
            },
            "colorscale": [
             [
              0,
              "#0d0887"
             ],
             [
              0.1111111111111111,
              "#46039f"
             ],
             [
              0.2222222222222222,
              "#7201a8"
             ],
             [
              0.3333333333333333,
              "#9c179e"
             ],
             [
              0.4444444444444444,
              "#bd3786"
             ],
             [
              0.5555555555555556,
              "#d8576b"
             ],
             [
              0.6666666666666666,
              "#ed7953"
             ],
             [
              0.7777777777777778,
              "#fb9f3a"
             ],
             [
              0.8888888888888888,
              "#fdca26"
             ],
             [
              1,
              "#f0f921"
             ]
            ],
            "type": "histogram2dcontour"
           }
          ],
          "mesh3d": [
           {
            "colorbar": {
             "outlinewidth": 0,
             "ticks": ""
            },
            "type": "mesh3d"
           }
          ],
          "parcoords": [
           {
            "line": {
             "colorbar": {
              "outlinewidth": 0,
              "ticks": ""
             }
            },
            "type": "parcoords"
           }
          ],
          "pie": [
           {
            "automargin": true,
            "type": "pie"
           }
          ],
          "scatter": [
           {
            "fillpattern": {
             "fillmode": "overlay",
             "size": 10,
             "solidity": 0.2
            },
            "type": "scatter"
           }
          ],
          "scatter3d": [
           {
            "line": {
             "colorbar": {
              "outlinewidth": 0,
              "ticks": ""
             }
            },
            "marker": {
             "colorbar": {
              "outlinewidth": 0,
              "ticks": ""
             }
            },
            "type": "scatter3d"
           }
          ],
          "scattercarpet": [
           {
            "marker": {
             "colorbar": {
              "outlinewidth": 0,
              "ticks": ""
             }
            },
            "type": "scattercarpet"
           }
          ],
          "scattergeo": [
           {
            "marker": {
             "colorbar": {
              "outlinewidth": 0,
              "ticks": ""
             }
            },
            "type": "scattergeo"
           }
          ],
          "scattergl": [
           {
            "marker": {
             "colorbar": {
              "outlinewidth": 0,
              "ticks": ""
             }
            },
            "type": "scattergl"
           }
          ],
          "scattermap": [
           {
            "marker": {
             "colorbar": {
              "outlinewidth": 0,
              "ticks": ""
             }
            },
            "type": "scattermap"
           }
          ],
          "scattermapbox": [
           {
            "marker": {
             "colorbar": {
              "outlinewidth": 0,
              "ticks": ""
             }
            },
            "type": "scattermapbox"
           }
          ],
          "scatterpolar": [
           {
            "marker": {
             "colorbar": {
              "outlinewidth": 0,
              "ticks": ""
             }
            },
            "type": "scatterpolar"
           }
          ],
          "scatterpolargl": [
           {
            "marker": {
             "colorbar": {
              "outlinewidth": 0,
              "ticks": ""
             }
            },
            "type": "scatterpolargl"
           }
          ],
          "scatterternary": [
           {
            "marker": {
             "colorbar": {
              "outlinewidth": 0,
              "ticks": ""
             }
            },
            "type": "scatterternary"
           }
          ],
          "surface": [
           {
            "colorbar": {
             "outlinewidth": 0,
             "ticks": ""
            },
            "colorscale": [
             [
              0,
              "#0d0887"
             ],
             [
              0.1111111111111111,
              "#46039f"
             ],
             [
              0.2222222222222222,
              "#7201a8"
             ],
             [
              0.3333333333333333,
              "#9c179e"
             ],
             [
              0.4444444444444444,
              "#bd3786"
             ],
             [
              0.5555555555555556,
              "#d8576b"
             ],
             [
              0.6666666666666666,
              "#ed7953"
             ],
             [
              0.7777777777777778,
              "#fb9f3a"
             ],
             [
              0.8888888888888888,
              "#fdca26"
             ],
             [
              1,
              "#f0f921"
             ]
            ],
            "type": "surface"
           }
          ],
          "table": [
           {
            "cells": {
             "fill": {
              "color": "#EBF0F8"
             },
             "line": {
              "color": "white"
             }
            },
            "header": {
             "fill": {
              "color": "#C8D4E3"
             },
             "line": {
              "color": "white"
             }
            },
            "type": "table"
           }
          ]
         },
         "layout": {
          "annotationdefaults": {
           "arrowcolor": "#2a3f5f",
           "arrowhead": 0,
           "arrowwidth": 1
          },
          "autotypenumbers": "strict",
          "coloraxis": {
           "colorbar": {
            "outlinewidth": 0,
            "ticks": ""
           }
          },
          "colorscale": {
           "diverging": [
            [
             0,
             "#8e0152"
            ],
            [
             0.1,
             "#c51b7d"
            ],
            [
             0.2,
             "#de77ae"
            ],
            [
             0.3,
             "#f1b6da"
            ],
            [
             0.4,
             "#fde0ef"
            ],
            [
             0.5,
             "#f7f7f7"
            ],
            [
             0.6,
             "#e6f5d0"
            ],
            [
             0.7,
             "#b8e186"
            ],
            [
             0.8,
             "#7fbc41"
            ],
            [
             0.9,
             "#4d9221"
            ],
            [
             1,
             "#276419"
            ]
           ],
           "sequential": [
            [
             0,
             "#0d0887"
            ],
            [
             0.1111111111111111,
             "#46039f"
            ],
            [
             0.2222222222222222,
             "#7201a8"
            ],
            [
             0.3333333333333333,
             "#9c179e"
            ],
            [
             0.4444444444444444,
             "#bd3786"
            ],
            [
             0.5555555555555556,
             "#d8576b"
            ],
            [
             0.6666666666666666,
             "#ed7953"
            ],
            [
             0.7777777777777778,
             "#fb9f3a"
            ],
            [
             0.8888888888888888,
             "#fdca26"
            ],
            [
             1,
             "#f0f921"
            ]
           ],
           "sequentialminus": [
            [
             0,
             "#0d0887"
            ],
            [
             0.1111111111111111,
             "#46039f"
            ],
            [
             0.2222222222222222,
             "#7201a8"
            ],
            [
             0.3333333333333333,
             "#9c179e"
            ],
            [
             0.4444444444444444,
             "#bd3786"
            ],
            [
             0.5555555555555556,
             "#d8576b"
            ],
            [
             0.6666666666666666,
             "#ed7953"
            ],
            [
             0.7777777777777778,
             "#fb9f3a"
            ],
            [
             0.8888888888888888,
             "#fdca26"
            ],
            [
             1,
             "#f0f921"
            ]
           ]
          },
          "colorway": [
           "#636efa",
           "#EF553B",
           "#00cc96",
           "#ab63fa",
           "#FFA15A",
           "#19d3f3",
           "#FF6692",
           "#B6E880",
           "#FF97FF",
           "#FECB52"
          ],
          "font": {
           "color": "#2a3f5f"
          },
          "geo": {
           "bgcolor": "white",
           "lakecolor": "white",
           "landcolor": "#E5ECF6",
           "showlakes": true,
           "showland": true,
           "subunitcolor": "white"
          },
          "hoverlabel": {
           "align": "left"
          },
          "hovermode": "closest",
          "mapbox": {
           "style": "light"
          },
          "paper_bgcolor": "white",
          "plot_bgcolor": "#E5ECF6",
          "polar": {
           "angularaxis": {
            "gridcolor": "white",
            "linecolor": "white",
            "ticks": ""
           },
           "bgcolor": "#E5ECF6",
           "radialaxis": {
            "gridcolor": "white",
            "linecolor": "white",
            "ticks": ""
           }
          },
          "scene": {
           "xaxis": {
            "backgroundcolor": "#E5ECF6",
            "gridcolor": "white",
            "gridwidth": 2,
            "linecolor": "white",
            "showbackground": true,
            "ticks": "",
            "zerolinecolor": "white"
           },
           "yaxis": {
            "backgroundcolor": "#E5ECF6",
            "gridcolor": "white",
            "gridwidth": 2,
            "linecolor": "white",
            "showbackground": true,
            "ticks": "",
            "zerolinecolor": "white"
           },
           "zaxis": {
            "backgroundcolor": "#E5ECF6",
            "gridcolor": "white",
            "gridwidth": 2,
            "linecolor": "white",
            "showbackground": true,
            "ticks": "",
            "zerolinecolor": "white"
           }
          },
          "shapedefaults": {
           "line": {
            "color": "#2a3f5f"
           }
          },
          "ternary": {
           "aaxis": {
            "gridcolor": "white",
            "linecolor": "white",
            "ticks": ""
           },
           "baxis": {
            "gridcolor": "white",
            "linecolor": "white",
            "ticks": ""
           },
           "bgcolor": "#E5ECF6",
           "caxis": {
            "gridcolor": "white",
            "linecolor": "white",
            "ticks": ""
           }
          },
          "title": {
           "x": 0.05
          },
          "xaxis": {
           "automargin": true,
           "gridcolor": "white",
           "linecolor": "white",
           "ticks": "",
           "title": {
            "standoff": 15
           },
           "zerolinecolor": "white",
           "zerolinewidth": 2
          },
          "yaxis": {
           "automargin": true,
           "gridcolor": "white",
           "linecolor": "white",
           "ticks": "",
           "title": {
            "standoff": 15
           },
           "zerolinecolor": "white",
           "zerolinewidth": 2
          }
         }
        },
        "title": {
         "text": "GDP per capita vs Happiness Score 2019\t MSE: 0.51, R-squared: 0.60"
        },
        "xaxis": {
         "anchor": "y",
         "domain": [
          0,
          1
         ],
         "title": {
          "text": "x"
         }
        },
        "yaxis": {
         "anchor": "x",
         "domain": [
          0,
          1
         ],
         "title": {
          "text": "y"
         }
        }
       }
      }
     },
     "metadata": {},
     "output_type": "display_data"
    }
   ],
   "source": [
    "from sklearn.model_selection import train_test_split\n",
    "from sklearn.linear_model import LinearRegression\n",
    "from sklearn.metrics import mean_squared_error, r2_score\n",
    "\n",
    "i = 1\n",
    "for df in [df_2015, df_2016, df_2017, df_2018, df_2019]:\n",
    "    X = df[['GDPPC']]\n",
    "    y = df['Score']\n",
    "    X_train, X_test, y_train, y_test = train_test_split(X, y, test_size=0.2, random_state=42)\n",
    "    regression_model = LinearRegression()\n",
    "    regression_model.fit(X_train, y_train)\n",
    "    y_pred = regression_model.predict(X_test)\n",
    "    mse = mean_squared_error(y_test, y_pred)\n",
    "    r2 = r2_score(y_test, y_pred)\n",
    "    fig = px.scatter(x=X_test.squeeze(), y=y_test, trendline=\"ols\", title=f\"GDP per capita vs Happiness Score {2014+i}\\t MSE: {mse:.2f}, R-squared: {r2:.2f}\")\n",
    "    fig.show()\n",
    "    i += 1"
   ]
  }
 ],
 "metadata": {
  "kernelspec": {
   "display_name": "Python 3",
   "language": "python",
   "name": "python3"
  },
  "language_info": {
   "codemirror_mode": {
    "name": "ipython",
    "version": 3
   },
   "file_extension": ".py",
   "mimetype": "text/x-python",
   "name": "python",
   "nbconvert_exporter": "python",
   "pygments_lexer": "ipython3",
   "version": "3.11.0"
  }
 },
 "nbformat": 4,
 "nbformat_minor": 2
}
